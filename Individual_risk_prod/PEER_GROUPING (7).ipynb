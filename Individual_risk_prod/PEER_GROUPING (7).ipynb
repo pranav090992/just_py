{
 "cells": [
  {
   "cell_type": "code",
   "execution_count": 1,
   "metadata": {
    "ExecuteTime": {
     "end_time": "2022-04-18T04:18:00.283275Z",
     "start_time": "2022-04-18T04:18:00.278287Z"
    }
   },
   "outputs": [],
   "source": [
    "import numpy as np\n",
    "import pandas as pd\n",
    "import matplotlib.pyplot as plt\n",
    "# import seaborn as sns\n",
    "import datetime\n",
    "from configparser import ConfigParser\n",
    "from sklearn.preprocessing import StandardScaler, MinMaxScaler, RobustScaler, LabelEncoder\n",
    "from scipy.spatial.distance import cdist\n",
    "from sklearn.cluster import KMeans\n",
    "from sklearn.metrics import silhouette_samples,silhouette_score\n",
    "from sklearn.metrics import davies_bouldin_score\n",
    "import operator\n",
    "import random\n",
    "from datetime import datetime\n",
    "from itertools import combinations\n",
    "from statistics import mode as mode\n",
    "from tqdm import tqdm \n",
    "# import import_ipynb\n",
    "# import Standardize_occupation as so\n",
    "import pyodbc\n",
    "import warnings\n",
    "warnings.filterwarnings(\"ignore\")"
   ]
  },
  {
   "cell_type": "code",
   "execution_count": 2,
   "metadata": {
    "ExecuteTime": {
     "end_time": "2022-04-13T10:48:11.994597Z",
     "start_time": "2022-04-13T10:48:11.991958Z"
    }
   },
   "outputs": [],
   "source": [
    "from sklearn.metrics import davies_bouldin_score as dbc"
   ]
  },
  {
   "cell_type": "code",
   "execution_count": 3,
   "metadata": {
    "ExecuteTime": {
     "end_time": "2022-04-18T04:18:16.671180Z",
     "start_time": "2022-04-18T04:18:16.667730Z"
    }
   },
   "outputs": [],
   "source": [
    "pd.set_option(\"display.max_column\",200)\n",
    "pd.set_option(\"display.float_format\",lambda x:'%.5f' %x)"
   ]
  },
  {
   "cell_type": "code",
   "execution_count": 4,
   "metadata": {},
   "outputs": [],
   "source": [
    "config = ConfigParser()\n",
    "config.read(r'/notebooks/notebooks/config.ini')\n",
    "connection_string = config.get('SERVER', 'connection')\n",
    "conn = pyodbc.connect(connection_string)\n",
    "cursor = conn.cursor()"
   ]
  },
  {
   "cell_type": "code",
   "execution_count": 5,
   "metadata": {},
   "outputs": [],
   "source": [
    "#Create dataframe using pyodbc\n",
    "# pyodbc.drivers()\n",
    "# # conn = pyodbc.connect('DRIVER=SQL SERVER;SERVER=172.16.33.27;PORT=1433;DATABASE=FINCORE_DB;UID=Fincore_App_USR;PWD=F!NCore@123;TDS_Version=7.2;')\n",
    "# conn = pyodbc.connect('DRIVER=SQL SERVER;SERVER=172.16.27.39;PORT=1433;DATABASE=HDM_FINCORE_DB;UID=FINCORE_ANALYTICS_USR;PWD=F!NCore@123;TDS_Version=7.2;')\n",
    "# # conn = pyodbc.connect('DRIVER=SQL SERVER;SERVER=172.16.27.39;PORT=1433;DATABASE=HDM_FINCORE_DB;UID=FINC_HDM_USR;PWD=#DM@2022;TDS_Version=7.2;')\n",
    "# # cursor1 = conn.cursor()\n",
    "# # cursor2 = conn.cursor()\n"
   ]
  },
  {
   "cell_type": "code",
   "execution_count": 6,
   "metadata": {},
   "outputs": [],
   "source": [
    "# et_risk_df_per = pd.read_sql_query(\"SELECT top 2000000 * FROM [Fincore_Analytics].[RISK_PERSON_SUMMARY_STG] with (nolock)\", conn)\n"
   ]
  },
  {
   "cell_type": "code",
   "execution_count": 7,
   "metadata": {},
   "outputs": [],
   "source": [
    "# et_risk_df_per = pd.read_sql_query(\"SELECT  PERSON_MASTER_ID,PEER_GROUP_ID,PAN,DIN,CKYC_NUMBER,FIRST_NAME,MIDDLE_NAME,LAST_NAME,DATE_OF_BIRTH,TRAN_AMNT,TRAN_AMNT_DEBIT,TRAN_AMNT_CREDIT,CBDT_INCOME_RANGE,PINCODE,OCCUPATION_BUSINESS  FROM [Fincore_DB].[Fincore_Analytics].[RISK_PERSON_SUMMARY_STG] with (nolock)\", conn)\n",
    "et_risk_df_per = pd.read_sql_query(\"SELECT  PERSON_MASTER_ID,CBDT_INCOME_RANGE,PEER_GROUP_AMNT,OCCUPATION_BUSINESS  FROM [Fincore_DB].[Fincore_Analytics].[RISK_PERSON_SUMMARY_STG] with (nolock)\", conn)\n",
    "# et_risk_df_org = pd.read_sql_query(\"SELECT * FROM [Fincore_Analytics].[RISK_ORGANIZATION_SUMMARY_STG]\", conn)\n",
    "\n",
    "# et_risk_df_per_rules = pd.read_sql_query(\"SELECT * FROM [Fincore_Analytics].[RISK_PERSON_SUMMARY_STG_RULES] where RULE_NO not in \"+str(stat_rules), conn)\n",
    "# et_risk_df_org_rules = pd.read_sql_query(\"SELECT * FROM [Fincore_Analytics].[RISK_ORGANIZATION_SUMMARY_STG_RULES]\", conn)\n"
   ]
  },
  {
   "cell_type": "code",
   "execution_count": 8,
   "metadata": {},
   "outputs": [
    {
     "data": {
      "text/html": [
       "<div>\n",
       "<style scoped>\n",
       "    .dataframe tbody tr th:only-of-type {\n",
       "        vertical-align: middle;\n",
       "    }\n",
       "\n",
       "    .dataframe tbody tr th {\n",
       "        vertical-align: top;\n",
       "    }\n",
       "\n",
       "    .dataframe thead th {\n",
       "        text-align: right;\n",
       "    }\n",
       "</style>\n",
       "<table border=\"1\" class=\"dataframe\">\n",
       "  <thead>\n",
       "    <tr style=\"text-align: right;\">\n",
       "      <th></th>\n",
       "      <th>PERSON_MASTER_ID</th>\n",
       "      <th>CBDT_INCOME_RANGE</th>\n",
       "      <th>PEER_GROUP_AMNT</th>\n",
       "      <th>OCCUPATION_BUSINESS</th>\n",
       "    </tr>\n",
       "  </thead>\n",
       "  <tbody>\n",
       "    <tr>\n",
       "      <th>0</th>\n",
       "      <td>1</td>\n",
       "      <td>nan</td>\n",
       "      <td>2264360596.00000</td>\n",
       "      <td>Government Sector</td>\n",
       "    </tr>\n",
       "    <tr>\n",
       "      <th>1</th>\n",
       "      <td>2</td>\n",
       "      <td>nan</td>\n",
       "      <td>566453534.00000</td>\n",
       "      <td>Government Sector</td>\n",
       "    </tr>\n",
       "    <tr>\n",
       "      <th>2</th>\n",
       "      <td>3</td>\n",
       "      <td>nan</td>\n",
       "      <td>565000000.00000</td>\n",
       "      <td>Government Sector</td>\n",
       "    </tr>\n",
       "    <tr>\n",
       "      <th>3</th>\n",
       "      <td>4</td>\n",
       "      <td>nan</td>\n",
       "      <td>566453536.00000</td>\n",
       "      <td>Government Sector</td>\n",
       "    </tr>\n",
       "    <tr>\n",
       "      <th>4</th>\n",
       "      <td>5</td>\n",
       "      <td>nan</td>\n",
       "      <td>566453537.00000</td>\n",
       "      <td>Government Sector</td>\n",
       "    </tr>\n",
       "  </tbody>\n",
       "</table>\n",
       "</div>"
      ],
      "text/plain": [
       "   PERSON_MASTER_ID  CBDT_INCOME_RANGE  PEER_GROUP_AMNT OCCUPATION_BUSINESS\n",
       "0                 1                nan 2264360596.00000   Government Sector\n",
       "1                 2                nan  566453534.00000   Government Sector\n",
       "2                 3                nan  565000000.00000   Government Sector\n",
       "3                 4                nan  566453536.00000   Government Sector\n",
       "4                 5                nan  566453537.00000   Government Sector"
      ]
     },
     "execution_count": 8,
     "metadata": {},
     "output_type": "execute_result"
    }
   ],
   "source": [
    "et_risk_df_per.head()"
   ]
  },
  {
   "cell_type": "code",
   "execution_count": 9,
   "metadata": {},
   "outputs": [],
   "source": [
    "no_of_records = len(et_risk_df_per)"
   ]
  },
  {
   "cell_type": "code",
   "execution_count": 10,
   "metadata": {},
   "outputs": [
    {
     "data": {
      "text/plain": [
       "346"
      ]
     },
     "execution_count": 10,
     "metadata": {},
     "output_type": "execute_result"
    }
   ],
   "source": [
    "no_of_records"
   ]
  },
  {
   "cell_type": "code",
   "execution_count": 11,
   "metadata": {},
   "outputs": [
    {
     "name": "stdout",
     "output_type": "stream",
     "text": [
      "Stored 'no_of_records' (int)\n"
     ]
    }
   ],
   "source": [
    "%store no_of_records"
   ]
  },
  {
   "cell_type": "code",
   "execution_count": 12,
   "metadata": {},
   "outputs": [],
   "source": [
    "# print(et_risk_df_per.shape,et_risk_df_org.shape)\n",
    "# # print(et_risk_df_per_rules.shape,et_risk_df_org_rules.shape)"
   ]
  },
  {
   "cell_type": "code",
   "execution_count": 13,
   "metadata": {
    "ExecuteTime": {
     "end_time": "2022-04-13T10:50:27.066226Z",
     "start_time": "2022-04-13T10:50:26.983593Z"
    }
   },
   "outputs": [],
   "source": [
    "# print(f\"There are {et_risk_df_per['OCCUPATION_BUSINESS'].nunique()} unique business in the person table\")\n",
    "# # print(f\"There are {et_risk_df_org['OCCUPATION_BUSINESS'].nunique()} unique business in the organization table\")"
   ]
  },
  {
   "cell_type": "code",
   "execution_count": 14,
   "metadata": {
    "ExecuteTime": {
     "end_time": "2022-04-13T10:50:27.188965Z",
     "start_time": "2022-04-13T10:50:27.068178Z"
    }
   },
   "outputs": [],
   "source": [
    "et_risk_df_per['OCCUPATION_BUSINESS'].isna().sum()\n",
    "#Replacing null values in occupation with Others\n",
    "et_risk_df_per['OCCUPATION_BUSINESS'].fillna(value = 'Others',inplace=True)\n",
    "et_risk_df_per['OCCUPATION_BUSINESS_CLEAN'] = et_risk_df_per['OCCUPATION_BUSINESS']\n",
    "# et_risk_df_per['OCCUPATION_BUSINESS_CLEAN'] = et_risk_df_per['OCCUPATION_BUSINESS'].apply(stand_occ)\n",
    "# et_risk_df_org['OCCUPATION_BUSINESS'].fillna(value = 'Others',inplace=True)\n",
    "\n",
    "#Replacing null lat and long values with 999\n",
    "# et_risk_df_per['LATITUDE'].fillna(value = 999,inplace=True)\n",
    "# et_risk_df_org['LATITUDE'].fillna(value = 999,inplace=True)\n",
    "\n",
    "# et_risk_df_per['LONGITUDE'].fillna(value = 999,inplace=True)\n",
    "# et_risk_df_org['LONGITUDE'].fillna(value = 999,inplace=True)\n",
    "\n",
    "#Replacing null Tran_Amnt with 0\n",
    "\n",
    "# et_risk_df_org['TRAN_AMNT'].fillna(value = 0,inplace=True)"
   ]
  },
  {
   "cell_type": "code",
   "execution_count": 15,
   "metadata": {},
   "outputs": [],
   "source": [
    "x = et_risk_df_per['OCCUPATION_BUSINESS_CLEAN']\n"
   ]
  },
  {
   "cell_type": "code",
   "execution_count": 16,
   "metadata": {},
   "outputs": [
    {
     "data": {
      "text/plain": [
       "Others               145\n",
       "Government Sector    113\n",
       "Private Sector        53\n",
       "Self Employed         18\n",
       "Professional           7\n",
       "Public Sector          3\n",
       "Retired                3\n",
       "Housewife              3\n",
       "Student                1\n",
       "Name: OCCUPATION_BUSINESS_CLEAN, dtype: int64"
      ]
     },
     "execution_count": 16,
     "metadata": {},
     "output_type": "execute_result"
    }
   ],
   "source": [
    "x.value_counts()"
   ]
  },
  {
   "cell_type": "code",
   "execution_count": 17,
   "metadata": {},
   "outputs": [],
   "source": [
    "# All the transaction value which are null are replaced with 0\n",
    "\n",
    "# et_risk_df_per['TRAN_AMNT'].fillna(value = 0,inplace=True)  #Remember to change\n",
    "# et_risk_df_per['CBDT_INCOME_RANGE'].fillna(value = 0,inplace=True)\n",
    "et_risk_df_per['PEER_GROUP_AMNT'].fillna(value = 0,inplace=True)"
   ]
  },
  {
   "cell_type": "code",
   "execution_count": 18,
   "metadata": {
    "ExecuteTime": {
     "end_time": "2022-04-13T10:50:30.677863Z",
     "start_time": "2022-04-13T10:50:27.190929Z"
    }
   },
   "outputs": [],
   "source": [
    "#Running the code to standardize occupation(old code)\n",
    "# et_risk_df_per['OCCUPATION_BUSINESS_CLEAN'] = et_risk_df_per['OCCUPATION_BUSINESS'].apply(so.stand_occ)\n",
    "# et_risk_df_org['OCCUPATION_BUSINESS_CLEAN'] = et_risk_df_org['OCCUPATION_BUSINESS'].apply(so.stand_occ)\n",
    "\n",
    "\n",
    "# et_risk_df_org['OCCUPATION_BUSINESS_CLEAN'] = et_risk_df_org['OCCUPATION_BUSINESS'].apply(stand_occ)"
   ]
  },
  {
   "cell_type": "code",
   "execution_count": 19,
   "metadata": {
    "ExecuteTime": {
     "end_time": "2022-04-13T10:50:31.199650Z",
     "start_time": "2022-04-13T10:50:31.195556Z"
    }
   },
   "outputs": [],
   "source": [
    "# th_col_per = ['PERSON_MASTER_ID','OCCUPATION_BUSINESS_CLEAN','CBDT_INCOME_RANGE']\n",
    "th_col_per = ['PERSON_MASTER_ID','OCCUPATION_BUSINESS_CLEAN','PEER_GROUP_AMNT']#Threshold Column for person(these columns are needed in the final dataframe)\n",
    "# th_col_per = ['PERSON_MASTER_ID','OCCUPATION_BUSINESS_CLEAN','TRAN_AMNT']\n",
    "\n",
    "#Uncomment to run on org\n",
    "# th_col_org = ['ORGANIZATION_MASTER_ID','OCCUPATION_BUSINESS_CLEAN','TRAN_AMNT','LATITUDE','LONGITUDE','O002001001','O002001018','O002001017','O002001024', 'O002001025', 'O002001026']\n"
   ]
  },
  {
   "cell_type": "code",
   "execution_count": 20,
   "metadata": {
    "ExecuteTime": {
     "end_time": "2022-04-13T10:50:31.468907Z",
     "start_time": "2022-04-13T10:50:31.379222Z"
    }
   },
   "outputs": [],
   "source": [
    "data_ind = et_risk_df_per\n",
    "#Uncomment to run on org\n",
    "# data_org = et_risk_df_org"
   ]
  },
  {
   "cell_type": "code",
   "execution_count": 21,
   "metadata": {
    "ExecuteTime": {
     "end_time": "2022-04-13T10:50:31.610268Z",
     "start_time": "2022-04-13T10:50:31.470977Z"
    }
   },
   "outputs": [],
   "source": [
    "data_ind_U = data_ind[th_col_per]\n",
    "#Uncomment to run on org\n",
    "# data_org_U = data_org[th_col_org]\n"
   ]
  },
  {
   "cell_type": "code",
   "execution_count": 22,
   "metadata": {
    "ExecuteTime": {
     "end_time": "2022-04-13T10:50:31.676659Z",
     "start_time": "2022-04-13T10:50:31.611980Z"
    }
   },
   "outputs": [
    {
     "data": {
      "text/plain": [
       "PERSON_MASTER_ID             0\n",
       "OCCUPATION_BUSINESS_CLEAN    0\n",
       "PEER_GROUP_AMNT              0\n",
       "dtype: int64"
      ]
     },
     "execution_count": 22,
     "metadata": {},
     "output_type": "execute_result"
    }
   ],
   "source": [
    "#Summary of NaN values in the person data\n",
    "data_ind_U.isna().sum()"
   ]
  },
  {
   "cell_type": "code",
   "execution_count": 23,
   "metadata": {
    "ExecuteTime": {
     "end_time": "2022-04-13T10:50:32.061012Z",
     "start_time": "2022-04-13T10:50:31.925562Z"
    }
   },
   "outputs": [],
   "source": [
    "# print(f\"Size before dropping NaN {data_ind_U.shape}\")\n",
    "# # print(f\"Size before dropping NaN {data_org_U.shape}\")\n",
    "# data_ind_U.dropna(inplace=True)\n",
    "# # data_org_U.dropna(inplace=True)\n",
    "# print(f\"Size after dropping NaN {data_ind_U.shape}\")\n",
    "# # print(f\"Size after dropping NaN {data_org_U.shape}\")"
   ]
  },
  {
   "cell_type": "code",
   "execution_count": 24,
   "metadata": {},
   "outputs": [],
   "source": [
    "data_ind_U.drop_duplicates(inplace=True)"
   ]
  },
  {
   "cell_type": "code",
   "execution_count": 25,
   "metadata": {},
   "outputs": [],
   "source": [
    "no_of_records = len(data_ind_U)"
   ]
  },
  {
   "cell_type": "code",
   "execution_count": 26,
   "metadata": {
    "ExecuteTime": {
     "end_time": "2022-04-13T10:50:32.217304Z",
     "start_time": "2022-04-13T10:50:32.184063Z"
    },
    "scrolled": true
   },
   "outputs": [],
   "source": [
    "# print(np.array(data_ind_U['TRAN_AMNT'].values).reshape(-1,1))"
   ]
  },
  {
   "cell_type": "code",
   "execution_count": 27,
   "metadata": {},
   "outputs": [
    {
     "data": {
      "text/plain": [
       "346"
      ]
     },
     "execution_count": 27,
     "metadata": {},
     "output_type": "execute_result"
    }
   ],
   "source": [
    "no_of_records"
   ]
  },
  {
   "cell_type": "code",
   "execution_count": 28,
   "metadata": {
    "ExecuteTime": {
     "end_time": "2022-04-13T10:50:32.307918Z",
     "start_time": "2022-04-13T10:50:32.220201Z"
    }
   },
   "outputs": [],
   "source": [
    "scaler = MinMaxScaler()\n",
    "# data_ind_U['Transaction_Amount_Scaled'] = scaler.fit_transform(np.array(data_ind_U['TRAN_AMNT'].values).reshape(-1,1))\n",
    "# data_ind_U['Income_Range_Scaled'] = scaler.fit_transform(np.array(data_ind_U['CBDT_INCOME_RANGE'].values).reshape(-1,1))\n",
    "data_ind_U['PEER_GROUP_AMNT_Scaled'] = scaler.fit_transform(np.array(data_ind_U['PEER_GROUP_AMNT'].values).reshape(-1,1))\n",
    "\n",
    "#Uncomment to run on org\n",
    "# data_org_U['Transaction_Amount_Scaled'] = scaler.fit_transform(np.array(data_org_U['TRAN_AMNT'].values).reshape(-1,1))\n"
   ]
  },
  {
   "cell_type": "code",
   "execution_count": 29,
   "metadata": {
    "ExecuteTime": {
     "end_time": "2022-04-13T10:50:32.522389Z",
     "start_time": "2022-04-13T10:50:32.317670Z"
    }
   },
   "outputs": [
    {
     "name": "stdout",
     "output_type": "stream",
     "text": [
      "0.0 1.0\n"
     ]
    }
   ],
   "source": [
    "# print(data_ind_U['Transaction_Amount_Scaled'].min(),data_ind_U['Transaction_Amount_Scaled'].max())\n",
    "\n",
    "print(data_ind_U['PEER_GROUP_AMNT_Scaled'].min(),data_ind_U['PEER_GROUP_AMNT_Scaled'].max())\n",
    "# print(data_ind_U['Income_Range_Scaled'].min(),data_ind_U['Income_Range_Scaled'].max())\n",
    "#Uncomment to run on org\n",
    "# print(data_org_U['Transaction_Amount_Scaled'].min(),data_org_U['Transaction_Amount_Scaled'].max())"
   ]
  },
  {
   "cell_type": "code",
   "execution_count": 30,
   "metadata": {
    "ExecuteTime": {
     "end_time": "2022-04-13T10:50:32.611010Z",
     "start_time": "2022-04-13T10:50:32.530406Z"
    }
   },
   "outputs": [],
   "source": [
    "#Uncomment this code when latitude and longitude comes\n",
    "# data_ind_U['LATITUDE_Scaled'] = scaler.fit_transform(np.array(data_ind_U['LATITUDE'].values).reshape(-1,1))\n",
    "#Uncomment to run on org\n",
    "# data_org_U['LATITUDE_Scaled'] = scaler.fit_transform(np.array(data_org_U['LATITUDE'].values).reshape(-1,1))\n",
    "\n",
    "# data_ind_U['LONGITUDE_Scaled'] = scaler.fit_transform(np.array(data_ind_U['LONGITUDE'].values).reshape(-1,1))\n",
    "#Uncomment to run on org\n",
    "# data_org_U['LONGITUDE_Scaled'] = scaler.fit_transform(np.array(data_org_U['LONGITUDE'].values).reshape(-1,1))\n"
   ]
  },
  {
   "cell_type": "code",
   "execution_count": 31,
   "metadata": {
    "ExecuteTime": {
     "end_time": "2022-04-13T10:50:32.682688Z",
     "start_time": "2022-04-13T10:50:32.613166Z"
    }
   },
   "outputs": [],
   "source": [
    "# data_ind_U['Location_Scaled'] = scaler.fit_transform(np.array(data_ind_U['Location_Encoded'].values).reshape(-1,1))\n",
    "# data_org_U['Location_Scaled'] = scaler.fit_transform(np.array(data_org_U['Location_Encoded'].values).reshape(-1,1))\n"
   ]
  },
  {
   "cell_type": "code",
   "execution_count": 32,
   "metadata": {
    "ExecuteTime": {
     "end_time": "2022-04-13T10:50:32.904419Z",
     "start_time": "2022-04-13T10:50:32.876224Z"
    }
   },
   "outputs": [],
   "source": [
    "#Columns we are using to perform clustering\n",
    "# cluster_cols = ['Transaction_Amount_Scaled','LATITUDE_Scaled','LONGITUDE_Scaled']\n",
    "# cluster_cols = ['Income_Range_Scaled']\n",
    "cluster_cols = ['PEER_GROUP_AMNT_Scaled']\n",
    "# cluster_cols = ['Transaction_Amount_Scaled']\n",
    "\n",
    "#Uncomment this code when geolocation comes\n",
    "# cluster_cols = ['Transaction_Amount_Scaled','LATITUDE_Scaled','LONGITUDE_Scaled']"
   ]
  },
  {
   "cell_type": "code",
   "execution_count": 33,
   "metadata": {
    "ExecuteTime": {
     "end_time": "2022-04-13T10:50:32.944512Z",
     "start_time": "2022-04-13T10:50:32.909012Z"
    }
   },
   "outputs": [],
   "source": [
    "# #BEST FEATURE SELECTION LOGIC\n",
    "# #Dictionary that stores column,number of clusters and their silhouette score\n",
    "# kmin = 2\n",
    "# kmax = 6\n",
    "# sil_score_dict = {}\n",
    "# sil_avg_list = {}\n",
    "# for i in range(kmin,kmax):    \n",
    "#     for j in range(2,len(cluster_cols)+1):\n",
    "#         comb = list(combinations(cluster_cols,j))\n",
    "#         for c in comb:\n",
    "#             if len(c) > 0:\n",
    "# #                 sil_score_dict[(list(c),i)] = {}\n",
    "#                 cluster_labels = KMeans(i).fit_predict(df[list(c)])\n",
    "#                 sil_avg = silhouette_score(df[list(c)],cluster_labels)\n",
    "#                 if sil_avg !=1:\n",
    "#                     sil_score_dict[c,i] = sil_avg\n"
   ]
  },
  {
   "cell_type": "code",
   "execution_count": 34,
   "metadata": {
    "ExecuteTime": {
     "end_time": "2022-04-13T10:50:32.982364Z",
     "start_time": "2022-04-13T10:50:32.949331Z"
    }
   },
   "outputs": [],
   "source": [
    "distortions_ind = {}\n",
    "inertias_ind = {}"
   ]
  },
  {
   "cell_type": "code",
   "execution_count": 35,
   "metadata": {},
   "outputs": [],
   "source": [
    "# class Model_Kmeans():\n",
    "#     def __init__(self,df):\n",
    "#         self.data = df\n",
    "    \n",
    "\n",
    "#     def cluster_data(self):\n",
    "\n",
    "#         for occ in self.data['OCCUPATION_BUSINESS_CLEAN'].unique():\n",
    "#             num_cluster = 4\n",
    "#             print(f\"Clustering for profession {occ} on \",)\n",
    "# #            \n",
    "#             km_final = KMeans(n_clusters=4)\n",
    "#             labels = km_final.fit_predict(self.data.loc[self.data['OCCUPATION_BUSINESS_CLEAN'] == occ,cluster_cols])\n",
    "# #             print(\"GETTING ERROR\")\n",
    "#             self.data.loc[self.data['OCCUPATION_BUSINESS_CLEAN'] == occ,'Cluster_labels'] = labels\n",
    "#         return self.data\n",
    "            \n",
    "# #         self.data.to_csv(\"/data/Synthetic_data_Clustered_\"+entity_type+\".csv\")"
   ]
  },
  {
   "cell_type": "code",
   "execution_count": 36,
   "metadata": {
    "ExecuteTime": {
     "end_time": "2022-04-13T10:50:33.079036Z",
     "start_time": "2022-04-13T10:50:33.054548Z"
    },
    "code_folding": [
     33
    ]
   },
   "outputs": [],
   "source": [
    "# class Model_Kmeans():\n",
    "#     def __init__(self,df):\n",
    "# #         print(\"I have been called\")\n",
    "#         self.data = df\n",
    "#     def silhouette_calculation(self):\n",
    "# #         print(\"And Rohaaan will answer\")\n",
    "#         init_time = datetime.now()\n",
    "#         n = 6\n",
    "#         self.sil_score_dict = {}\n",
    "#         for occ in self.data['OCCUPATION_BUSINESS_CLEAN'].unique():\n",
    "#             sil_avg_list = {}\n",
    "#             print(f\"Clustering for Profession {occ}\")\n",
    "#             distortions = {}\n",
    "#             inertias = {}\n",
    "#             self.sil_score_dict[occ] = {}\n",
    "#             for k in tqdm(range(1,6)):\n",
    "#                 time1 = datetime.now()\n",
    "#                 print(\"Working on \",occ,k)\n",
    "#                 try:\n",
    "#                     X = self.data.loc[self.data['OCCUPATION_BUSINESS_CLEAN'] == occ,cluster_cols] #getting desired columns of that occupation\n",
    "#                     print(len(X))\n",
    "#                     if len(X) < k: #checking if the number of rows in X is less than k(num clusters)\n",
    "#                         print(\"Try\",occ,'Length:',len(X),k)\n",
    "#                         continue\n",
    "#                     cluster_labels = KMeans(n_clusters = k).fit_predict(X)\n",
    "#                     sil_avg = silhouette_score(X,cluster_labels)\n",
    "#                     self.sil_score_dict[occ][k] = sil_avg\n",
    "\n",
    "#                 except ValueError:\n",
    "                    \n",
    "#                     sil_avg = -1 #making sil score -1 for num cluster = 1\n",
    "#                     self.sil_score_dict[occ][k] = sil_avg\n",
    "#                 print(\"Clustering done for\",k)\n",
    "#                 time2 = datetime.now()\n",
    "#                 time3 = time2-time1\n",
    "#                 print(f\"It took {time3/3600} hours to cluster {occ} in {k} clusters\")\n",
    "#                 print(time2)\n",
    "#         return self.sil_score_dict\n",
    "    \n",
    "#     def best_feature_selection(self):\n",
    "#         kmin = 2\n",
    "#         kmax = 6\n",
    "#         self.sil_score_dict = {}\n",
    "#         self.sil_avg_list = {}\n",
    "#         self.final_dict = {}\n",
    "#         for i in range(kmin,kmax):\n",
    "#             for occ in self.data['OCCUPATION_BUSINESS_CLEAN'].unique():\n",
    "#                 for j in range(2,len(cluster_cols)+1):\n",
    "#                     comb = list(combinations(cluster_cols,j))\n",
    "#                     for c in comb:\n",
    "#                         if len(c) > 0:\n",
    "#             #                 sil_score_dict[(list(c),i)] = {}\n",
    "#                             X = self.data.loc[self.data['OCCUPATION_BUSINESS_CLEAN'] == occ,list(c)]\n",
    "#                             cluster_labels = KMeans(i).fit_predict(X)\n",
    "#                             sil_avg = silhouette_score(X,cluster_labels)\n",
    "#                             if sil_avg !=1:\n",
    "#                                 sil_score_dict[c,i] = sil_avg\n",
    "#                 self.final_dict[occ] = sil_score_dict               \n",
    "#         return self.final_dict\n",
    "                \n",
    "#     def cluster_data(self):\n",
    "#         sil_data = self.silhouette_calculation()\n",
    "#         print(\"SHS\",sil_data)\n",
    "        \n",
    "# #         self.best_feature_selection()\n",
    "# #         print(\"SHS\",self.best_feature_selection())\n",
    "#         for occ in self.data['OCCUPATION_BUSINESS_CLEAN'].unique():\n",
    "#             num_cluster = max(self.sil_score_dict[occ].items(),key = operator.itemgetter(1))[0]\n",
    "#             print(f\"Clustering for profession {occ} on \",)\n",
    "# #             tuple_res = max(self.final_dict[occ].items(), key=operator.itemgetter(1))[0]\n",
    "# #             km_final = KMeans(n_clusters = tuple_res[1])\n",
    "# #             labels - km_final.fit_predict(self.data.loc[self.data['OCCUPATION_BUSINESS'] == occ,cluster_cols])\n",
    "\n",
    "#             #we will chose that k where silhouette score is maximum\n",
    "#             km_final = KMeans(n_clusters=max(self.sil_score_dict[occ].items(),key = operator.itemgetter(1))[0])\n",
    "#             labels = km_final.fit_predict(self.data.loc[self.data['OCCUPATION_BUSINESS_CLEAN'] == occ,cluster_cols])\n",
    "# #             print(\"GETTING ERROR\")\n",
    "#             self.data.loc[self.data['OCCUPATION_BUSINESS_CLEAN'] == occ,'Cluster_labels'] = labels\n",
    "#         return self.data\n",
    "            \n",
    "# #         self.data.to_csv(\"/data/Synthetic_data_Clustered_\"+entity_type+\".csv\")"
   ]
  },
  {
   "cell_type": "code",
   "execution_count": 37,
   "metadata": {},
   "outputs": [],
   "source": [
    "\n",
    "class Model_devies_bouldin_score():\n",
    "    def __init__(self,df):\n",
    "#         print(\"I have been called\")\n",
    "        self.data = df\n",
    "    def silhouette_calculation(self):\n",
    "#         print(\"And Rohaaan will answer\")\n",
    "        init_time = datetime.now()\n",
    "        n = 6\n",
    "        self.sil_score_dict = {}\n",
    "        for occ in self.data['OCCUPATION_BUSINESS_CLEAN'].unique():\n",
    "            sil_avg_list = {}\n",
    "            print(f\"Clustering for Profession {occ}\")\n",
    "            distortions = {}\n",
    "            inertias = {}\n",
    "            self.sil_score_dict[occ] = {}\n",
    "            for k in tqdm(range(1,6)):\n",
    "                time1 = datetime.now()\n",
    "                print(\"Working on \",occ,k)\n",
    "                try:\n",
    "                    X = self.data.loc[self.data['OCCUPATION_BUSINESS_CLEAN'] == occ,cluster_cols] #getting desired columns of that occupation\n",
    "                    print(\"lenX\",len(X))\n",
    "                    if len(X) < k: #checking if the number of rows in X is less than k(num clusters)\n",
    "                        print(\"Try\",occ,'Length:',len(X),k)\n",
    "                        continue\n",
    "                    cluster_labels = KMeans(n_clusters = k).fit_predict(X)\n",
    "                    sil_avg = dbc(X,cluster_labels)\n",
    "                    self.sil_score_dict[occ][k] = sil_avg\n",
    "\n",
    "                except ValueError:\n",
    "                    print(\"Value Error\")\n",
    "                    sil_avg = 1 #making sil score -1 for num cluster = 1\n",
    "                    self.sil_score_dict[occ][k] = sil_avg\n",
    "                print(\"Clustering done for\",k)\n",
    "                time2 = datetime.now()\n",
    "                time3 = time2-time1\n",
    "                print(f\"It took {time3/3600} hours to cluster {occ} in {k} clusters\")\n",
    "                print(time2)\n",
    "        return self.sil_score_dict\n",
    "    \n",
    "    def best_feature_selection(self):\n",
    "        kmin = 2\n",
    "        kmax = 6\n",
    "        self.sil_score_dict = {}\n",
    "        self.sil_avg_list = {}\n",
    "        self.final_dict = {}\n",
    "        for i in range(kmin,kmax):\n",
    "            for occ in self.data['OCCUPATION_BUSINESS_CLEAN'].unique():\n",
    "                for j in range(2,len(cluster_cols)+1):\n",
    "                    comb = list(combinations(cluster_cols,j))\n",
    "                    for c in comb:\n",
    "                        if len(c) > 0:\n",
    "            #                 sil_score_dict[(list(c),i)] = {}\n",
    "                            X = self.data.loc[self.data['OCCUPATION_BUSINESS_CLEAN'] == occ,list(c)]\n",
    "                            cluster_labels = KMeans(i).fit_predict(X)\n",
    "                            sil_avg = silhouette_score(X,cluster_labels)\n",
    "                            if sil_avg !=1:\n",
    "                                sil_score_dict[c,i] = sil_avg\n",
    "                self.final_dict[occ] = sil_score_dict               \n",
    "        return self.final_dict\n",
    "                \n",
    "    def cluster_data(self):\n",
    "        sil_data = self.silhouette_calculation()\n",
    "        print(\"SHS\",sil_data)\n",
    "        \n",
    "#         self.best_feature_selection()\n",
    "#         print(\"SHS\",self.best_feature_selection())\n",
    "        for occ in self.data['OCCUPATION_BUSINESS_CLEAN'].unique():\n",
    "            num_cluster = min(self.sil_score_dict[occ].items(),key = operator.itemgetter(1))[0]\n",
    "            print(f\"Clustering for profession {occ} on \",)\n",
    "#             tuple_res = max(self.final_dict[occ].items(), key=operator.itemgetter(1))[0]\n",
    "#             km_final = KMeans(n_clusters = tuple_res[1])\n",
    "#             labels - km_final.fit_predict(self.data.loc[self.data['OCCUPATION_BUSINESS'] == occ,cluster_cols])\n",
    "\n",
    "            #we will chose that k where silhouette score is maximum\n",
    "            km_final = KMeans(n_clusters=min(self.sil_score_dict[occ].items(),key = operator.itemgetter(1))[0])\n",
    "            labels = km_final.fit_predict(self.data.loc[self.data['OCCUPATION_BUSINESS_CLEAN'] == occ,cluster_cols])\n",
    "#             print(\"GETTING ERROR\")\n",
    "            self.data.loc[self.data['OCCUPATION_BUSINESS_CLEAN'] == occ,'Cluster_labels'] = labels\n",
    "        return self.data\n",
    "            \n",
    "#         self.data.to_csv(\"/data/Synthetic_data_Clustered_\"+entity_type+\".csv\")"
   ]
  },
  {
   "cell_type": "code",
   "execution_count": 38,
   "metadata": {},
   "outputs": [],
   "source": [
    "# class Model_Kmeans():\n",
    "#     def __init__(self,df):\n",
    "# #         print(\"I have been called\")\n",
    "#         self.data = df\n",
    "    \n",
    "#     def silhouette_calculation(self):\n",
    "#         self.sil_score_dict = {'Others': {1: -1, 2: -1, 3: -1, 4: -1, 5: -1}, 'Self Employed': {1: -1, 2: 0.9999593920358186, 3: 0.9999081074672636, 4: 0.9999114318550805, 5: 0.9994774670267123}, 'Government': {1: -1, 2: 0.9999858485218839, 3: 0.9999099000100459, 4: 0.9997469740690581, 5: 0.9982632105869318}, 'Business': {1: -1, 2: 0.999912764736669, 3: 0.999474159612679, 4: 0.998846602493587, 5: 0.998503250220317}, 'Not Declared': {1: -1, 2: 0.9994937746979228, 3: 0.9993869744959869, 4: 0.9970983438735268, 5: 0.9924803684859484}, 'Average Salaried': {1: -1, 2: 0.9999732584031886, 3: 0.999861685876604, 4: 0.9998618856043362, 5: 0.9996248244645971}, 'Housewife': {1: -1, 2: 0.9995854983478283, 3: 0.999103040610443, 4: 0.9980953473904257, 5: 0.9980955170271096}, 'Metal Business': {1: -1, 2: 0.9958263268965685, 3: 0.9786991738910085, 4: 0.9605213395065433, 5: 0.8393343279109037}, 'Doctor': {1: -1, 2: 0.9975240560232588, 3: 0.9914239802375339, 4: 0.7596732126987716, 5: 0.7585051360197337}, 'Agriculture': {1: -1, 2: 0.9991920064605758, 3: 0.9950297355530854, 4: 0.9950282799074055, 5: 0.9023982691786087}, 'Engineer': {1: -1, 2: 0.9934046106934756, 3: 0.8469890666623305, 4: 0.7448565341193297, 5: 0.7457902755941127}, 'Retired': {1: -1, 2: 0.9995601797287804, 3: 0.9994206016867495, 4: 0.997200828500462, 5: 0.993016252717963}, 'Student': {1: -1, 2: 0.9999892176143073, 3: 0.9999722658100986, 4: 0.999835482873445, 5: 0.999026286980271}, 'High Salaried': {1: -1, 2: 0.9999189251100865, 3: 0.9995699790680087, 4: 0.9981583015983165, 5: 0.9960161714215744}, 'Property Dealings': {1: -1, 2: 0.9999527654591881, 3: 0.9993250632194768, 4: 0.9974906328187055, 5: 0.997486177237193}, 'Helper': {1: -1, 2: 0.9983066627337424, 3: 0.9954451486496709, 4: 0.9954058900207182, 5: 0.8907002775599244}, 'Store Owner': {1: -1, 2: 0.9967168439707761, 3: 0.9204890628062787, 4: 0.8967999295265043, 5: 0.7484671691507707}, 'Manufacturer': {1: -1, 2: 0.9996550334703684, 3: 0.9978058225796215, 4: 0.9972326932482567, 5: 0.988892474008283}, 'Stock Trading': {1: -1, 2: 0.9991205970076172, 3: 0.9995758811769558, 4: 0.9987944936692964, 5: 0.99626681044861}, 'Gas Station': {1: -1, 2: 0.9948628503731004, 3: 0.7838871330977213, 4: 0.7063686314008618, 5: 0.7070008579183414}, 'Teacher': {1: -1, 2: 0.9993073934139635, 3: 0.9931758743103802, 4: 0.9791507122254794, 5: 0.9791997810194513}, 'Jeweller': {1: -1, 2: 0.9944775593742973, 3: 0.9940746701111378, 4: 0.9917108921152105, 5: 0.9851004747842613}, 'Manager': {1: -1, 2: 0.9995846189879848, 3: 0.997092852338378, 4: 0.9932910624326226, 5: 0.9931085979238667}, 'Contractor': {1: -1, 2: 0.854665858209764, 3: 0.8516212335452136, 4: 0.7423269718508302, 5: 0.7438299124286537}, 'Retailer': {1: -1, 2: 0.9986657505605661, 3: 0.9900409558170957, 4: 0.8732761152510514, 5: 0.8650810352759549}, 'Accounts and Finance': {1: -1, 2: 0.9997872406171219, 3: 0.9977663796508954, 4: 0.9758491592897138, 5: 0.9757071216616988}, 'Lawyer': {1: -1, 2: 0.9998590551059309, 3: 0.9989194279368487, 4: 0.8538687859476395, 5: 0.8509390461388446}, 'CEO': {1: -1, 2: 0.9977044915575652, 3: 0.9947337678706236, 4: 0.991101911772474, 5: 0.8636494302819995}, 'Mining': {1: -1, 2: 0.9898582418908489, 3: 0.8753521587107874, 4: 0.8285625606832285, 5: 0.7139413203615163}, 'Actor/Artist': {1: -1, 2: 0.991179448932345, 3: 0.8605895112938831, 4: 0.8547840473232179, 5: 0.7451095498927909}, 'Commision Agent': {1: -1, 2: 0.9974301761582647, 3: 0.9963375809164849, 4: 0.991868850324092, 5: 0.9771018244214416}, 'Director': {1: -1, 2: 0.9990312371813991, 3: 0.9986201325491484, 4: 0.9983140044995152, 5: 0.9945707102020963}, 'Trustee': {1: -1, 2: 0.9965864335007005, 3: 0.9912342023087024, 4: 0.9913280196111037, 5: 0.9912543650003244}, 'Consultant': {1: -1, 2: 0.9974199132274957, 3: 0.9882604561267236, 4: 0.8378740886686522, 5: 0.7543303473814116}, 'Secretary': {1: -1, 2: 0.8891848015799844, 3: 0.8674450383830701, 4: 0.7444219266025037, 5: 0.7425028818899574}, 'Import-Export': {1: -1, 2: 0.9992889452000588, 3: 0.9988811055491394, 4: 0.9971032444215038, 5: 0.9931261498813067}, 'Money Changer': {1: -1, 2: 0.9706098604813469, 3: 0.8147377028805535, 4: 0.8087377108669346, 5: 0.8251917324834793}, 'Politician': {1: -1, 2: 0.9896038022009277, 3: 0.9852148725656451, 4: 0.7994662057406815, 5: 0.7203955924839752}, 'Alcohol Business': {1: -1, 2: 0.9868118679065201, 3: 0.7835861374306422, 4: 0.7408611365951875, 5: 0.7229055195159397}, 'Tour & Travel': {1: -1, 2: 0.9951936772344347, 3: 0.9903697685904355, 4: 0.9745393804419599, 5: 0.9137041044349832}, 'Tobacco': {1: -1, 2: 0.9955327363981464, 3: 0.8542572195368762, 4: 0.738894704634517, 5: 0.7454878512485418}, 'Investment': {1: -1, 2: 0.9943961956513977, 3: 0.9845142875371372, 4: 0.8347279465542478, 5: 0.7372262992941542}, 'Auditing': {1: -1, 2: 0.969536531383986, 3: 0.8185405586439257, 4: 0.7639530786935524, 5: 0.81310298960249}, 'Chitfund': {1: -1, 2: 0.8834486579101468, 3: 0.7983138773204599, 4: 0.7663192992944874, 5: 0.8406346179224666}, 'Media/Entertainment': {1: -1, 2: 0.9777503555941491, 3: 0.8567743728965393, 4: 0.7364883352717038, 5: 0.7361659095331903}, 'Unemployed': {1: -1, 2: 0.9770616858061453, 3: 0.8626345576168749, 4: 0.8010578905766006, 5: 0.7973491228584628}, 'Cement Business': {1: -1, 2: 0.9904147421616074, 3: 0.8577356927525285, 4: 0.729775047636267, 5: 0.7338190549659772}, 'Bullion Dealer': {1: -1, 2: 0.9738856638613536, 3: 0.9614853927996325, 4: 0.7848619339224836, 5: 0.697089872055426}, 'Clerk': {1: -1, 2: 0.9056210640539609, 3: 0.7661498023675626, 4: 0.7861436144432657, 5: 0.8386360714546925}, 'Freelancing': {1: -1, 2: 0.7263948848450875, 3: 0.8033327252622381, 4: 0.8222879881348403, 5: 0.9548764700175146}}\n",
    "# # #         print(\"And Rohaaan will answer\")\n",
    "# #         init_time = datetime.now()\n",
    "# #         n = 6\n",
    "# #         self.sil_score_dict = {}\n",
    "# #         for occ in self.data['OCCUPATION_BUSINESS_CLEAN'].unique():\n",
    "# #             sil_avg_list = {}\n",
    "# #             print(f\"Clustering for Profession {occ}\")\n",
    "# #             distortions = {}\n",
    "# #             inertias = {}\n",
    "# #             self.sil_score_dict[occ] = {}\n",
    "# #             for k in range(1,6):\n",
    "# #                 time1 = datetime.now()\n",
    "# #                 print(\"Working on \",occ,k)\n",
    "# #                 try:\n",
    "# #                     X = self.data.loc[self.data['OCCUPATION_BUSINESS_CLEAN'] == occ,cluster_cols] #getting desired columns of that occupation\n",
    "# #                     print(len(X))\n",
    "# #                     if len(X) < k: #checking if the number of rows in X is less than k(num clusters)\n",
    "# #                         print(\"Try\",occ,'Length:',len(X),k)\n",
    "# #                         continue\n",
    "# #                     cluster_labels = KMeans(n_clusters = k).fit_predict(X)\n",
    "# #                     sil_avg = silhouette_score(X,cluster_labels)\n",
    "# #                     self.sil_score_dict[occ][k] = sil_avg\n",
    "\n",
    "# #                 except ValueError:\n",
    "                    \n",
    "# #                     sil_avg = -1 #making sil score -1 for num cluster = 1\n",
    "# #                     self.sil_score_dict[occ][k] = sil_avg\n",
    "# #                 print(\"Clustering done for\",k)\n",
    "# #                 time2 = datetime.now()\n",
    "# #                 time3 = time2-time1\n",
    "# #                 print(f\"It took {time3/3600} hours to cluster {occ} in {k} clusters\")\n",
    "#         return self.sil_score_dict\n",
    "    \n",
    "# #     def best_feature_selection(self):\n",
    "# #         kmin = 2\n",
    "# #         kmax = 6\n",
    "# #         self.sil_score_dict = {}\n",
    "# #         self.sil_avg_list = {}\n",
    "# #         self.final_dict = {}\n",
    "# #         for i in range(kmin,kmax):\n",
    "# #             for occ in self.data['OCCUPATION_BUSINESS_CLEAN'].unique():\n",
    "# #                 for j in range(2,len(cluster_cols)+1):\n",
    "# #                     comb = list(combinations(cluster_cols,j))\n",
    "# #                     for c in comb:\n",
    "# #                         if len(c) > 0:\n",
    "# #             #                 sil_score_dict[(list(c),i)] = {}\n",
    "# #                             X = self.data.loc[self.data['OCCUPATION_BUSINESS_CLEAN'] == occ,list(c)]\n",
    "# #                             cluster_labels = KMeans(i).fit_predict(X)\n",
    "# #                             sil_avg = silhouette_score(X,cluster_labels)\n",
    "# #                             if sil_avg !=1:\n",
    "# #                                 sil_score_dict[c,i] = sil_avg\n",
    "# #                 self.final_dict[occ] = sil_score_dict               \n",
    "# #         return self.final_dict\n",
    "                \n",
    "#     def cluster_data(self):\n",
    "#         sil_data = self.silhouette_calculation()\n",
    "# #         sil_score_dict = {'Others': {1: -1, 2: -1, 3: -1, 4: -1, 5: -1}, 'Self Employed': {1: -1, 2: 0.9999593920358186, 3: 0.9999081074672636, 4: 0.9999114318550805, 5: 0.9994774670267123}, 'Government': {1: -1, 2: 0.9999858485218839, 3: 0.9999099000100459, 4: 0.9997469740690581, 5: 0.9982632105869318}, 'Business': {1: -1, 2: 0.999912764736669, 3: 0.999474159612679, 4: 0.998846602493587, 5: 0.998503250220317}, 'Not Declared': {1: -1, 2: 0.9994937746979228, 3: 0.9993869744959869, 4: 0.9970983438735268, 5: 0.9924803684859484}, 'Average Salaried': {1: -1, 2: 0.9999732584031886, 3: 0.999861685876604, 4: 0.9998618856043362, 5: 0.9996248244645971}, 'Housewife': {1: -1, 2: 0.9995854983478283, 3: 0.999103040610443, 4: 0.9980953473904257, 5: 0.9980955170271096}, 'Metal Business': {1: -1, 2: 0.9958263268965685, 3: 0.9786991738910085, 4: 0.9605213395065433, 5: 0.8393343279109037}, 'Doctor': {1: -1, 2: 0.9975240560232588, 3: 0.9914239802375339, 4: 0.7596732126987716, 5: 0.7585051360197337}, 'Agriculture': {1: -1, 2: 0.9991920064605758, 3: 0.9950297355530854, 4: 0.9950282799074055, 5: 0.9023982691786087}, 'Engineer': {1: -1, 2: 0.9934046106934756, 3: 0.8469890666623305, 4: 0.7448565341193297, 5: 0.7457902755941127}, 'Retired': {1: -1, 2: 0.9995601797287804, 3: 0.9994206016867495, 4: 0.997200828500462, 5: 0.993016252717963}, 'Student': {1: -1, 2: 0.9999892176143073, 3: 0.9999722658100986, 4: 0.999835482873445, 5: 0.999026286980271}, 'High Salaried': {1: -1, 2: 0.9999189251100865, 3: 0.9995699790680087, 4: 0.9981583015983165, 5: 0.9960161714215744}, 'Property Dealings': {1: -1, 2: 0.9999527654591881, 3: 0.9993250632194768, 4: 0.9974906328187055, 5: 0.997486177237193}, 'Helper': {1: -1, 2: 0.9983066627337424, 3: 0.9954451486496709, 4: 0.9954058900207182, 5: 0.8907002775599244}, 'Store Owner': {1: -1, 2: 0.9967168439707761, 3: 0.9204890628062787, 4: 0.8967999295265043, 5: 0.7484671691507707}, 'Manufacturer': {1: -1, 2: 0.9996550334703684, 3: 0.9978058225796215, 4: 0.9972326932482567, 5: 0.988892474008283}, 'Stock Trading': {1: -1, 2: 0.9991205970076172, 3: 0.9995758811769558, 4: 0.9987944936692964, 5: 0.99626681044861}, 'Gas Station': {1: -1, 2: 0.9948628503731004, 3: 0.7838871330977213, 4: 0.7063686314008618, 5: 0.7070008579183414}, 'Teacher': {1: -1, 2: 0.9993073934139635, 3: 0.9931758743103802, 4: 0.9791507122254794, 5: 0.9791997810194513}, 'Jeweller': {1: -1, 2: 0.9944775593742973, 3: 0.9940746701111378, 4: 0.9917108921152105, 5: 0.9851004747842613}, 'Manager': {1: -1, 2: 0.9995846189879848, 3: 0.997092852338378, 4: 0.9932910624326226, 5: 0.9931085979238667}, 'Contractor': {1: -1, 2: 0.854665858209764, 3: 0.8516212335452136, 4: 0.7423269718508302, 5: 0.7438299124286537}, 'Retailer': {1: -1, 2: 0.9986657505605661, 3: 0.9900409558170957, 4: 0.8732761152510514, 5: 0.8650810352759549}, 'Accounts and Finance': {1: -1, 2: 0.9997872406171219, 3: 0.9977663796508954, 4: 0.9758491592897138, 5: 0.9757071216616988}, 'Lawyer': {1: -1, 2: 0.9998590551059309, 3: 0.9989194279368487, 4: 0.8538687859476395, 5: 0.8509390461388446}, 'CEO': {1: -1, 2: 0.9977044915575652, 3: 0.9947337678706236, 4: 0.991101911772474, 5: 0.8636494302819995}, 'Mining': {1: -1, 2: 0.9898582418908489, 3: 0.8753521587107874, 4: 0.8285625606832285, 5: 0.7139413203615163}, 'Actor/Artist': {1: -1, 2: 0.991179448932345, 3: 0.8605895112938831, 4: 0.8547840473232179, 5: 0.7451095498927909}, 'Commision Agent': {1: -1, 2: 0.9974301761582647, 3: 0.9963375809164849, 4: 0.991868850324092, 5: 0.9771018244214416}, 'Director': {1: -1, 2: 0.9990312371813991, 3: 0.9986201325491484, 4: 0.9983140044995152, 5: 0.9945707102020963}, 'Trustee': {1: -1, 2: 0.9965864335007005, 3: 0.9912342023087024, 4: 0.9913280196111037, 5: 0.9912543650003244}, 'Consultant': {1: -1, 2: 0.9974199132274957, 3: 0.9882604561267236, 4: 0.8378740886686522, 5: 0.7543303473814116}, 'Secretary': {1: -1, 2: 0.8891848015799844, 3: 0.8674450383830701, 4: 0.7444219266025037, 5: 0.7425028818899574}, 'Import-Export': {1: -1, 2: 0.9992889452000588, 3: 0.9988811055491394, 4: 0.9971032444215038, 5: 0.9931261498813067}, 'Money Changer': {1: -1, 2: 0.9706098604813469, 3: 0.8147377028805535, 4: 0.8087377108669346, 5: 0.8251917324834793}, 'Politician': {1: -1, 2: 0.9896038022009277, 3: 0.9852148725656451, 4: 0.7994662057406815, 5: 0.7203955924839752}, 'Alcohol Business': {1: -1, 2: 0.9868118679065201, 3: 0.7835861374306422, 4: 0.7408611365951875, 5: 0.7229055195159397}, 'Tour & Travel': {1: -1, 2: 0.9951936772344347, 3: 0.9903697685904355, 4: 0.9745393804419599, 5: 0.9137041044349832}, 'Tobacco': {1: -1, 2: 0.9955327363981464, 3: 0.8542572195368762, 4: 0.738894704634517, 5: 0.7454878512485418}, 'Investment': {1: -1, 2: 0.9943961956513977, 3: 0.9845142875371372, 4: 0.8347279465542478, 5: 0.7372262992941542}, 'Auditing': {1: -1, 2: 0.969536531383986, 3: 0.8185405586439257, 4: 0.7639530786935524, 5: 0.81310298960249}, 'Chitfund': {1: -1, 2: 0.8834486579101468, 3: 0.7983138773204599, 4: 0.7663192992944874, 5: 0.8406346179224666}, 'Media/Entertainment': {1: -1, 2: 0.9777503555941491, 3: 0.8567743728965393, 4: 0.7364883352717038, 5: 0.7361659095331903}, 'Unemployed': {1: -1, 2: 0.9770616858061453, 3: 0.8626345576168749, 4: 0.8010578905766006, 5: 0.7973491228584628}, 'Cement Business': {1: -1, 2: 0.9904147421616074, 3: 0.8577356927525285, 4: 0.729775047636267, 5: 0.7338190549659772}, 'Bullion Dealer': {1: -1, 2: 0.9738856638613536, 3: 0.9614853927996325, 4: 0.7848619339224836, 5: 0.697089872055426}, 'Clerk': {1: -1, 2: 0.9056210640539609, 3: 0.7661498023675626, 4: 0.7861436144432657, 5: 0.8386360714546925}, 'Freelancing': {1: -1, 2: 0.7263948848450875, 3: 0.8033327252622381, 4: 0.8222879881348403, 5: 0.9548764700175146}}\n",
    "#         print(\"SHS\",sil_data)\n",
    "        \n",
    "# #         self.best_feature_selection()\n",
    "# #         print(\"SHS\",self.best_feature_selection())\n",
    "#         for occ in self.data['OCCUPATION_BUSINESS_CLEAN'].unique():\n",
    "#             num_cluster = max(self.sil_score_dict[occ].items(),key = operator.itemgetter(1))[0]\n",
    "#             print(f\"Clustering for profession {occ} on \",)\n",
    "# #             tuple_res = max(self.final_dict[occ].items(), key=operator.itemgetter(1))[0]\n",
    "# #             km_final = KMeans(n_clusters = tuple_res[1])\n",
    "# #             labels - km_final.fit_predict(self.data.loc[self.data['OCCUPATION_BUSINESS'] == occ,cluster_cols])\n",
    "\n",
    "#             #we will chose that k where silhouette score is maximum\n",
    "#             km_final = KMeans(n_clusters=max(self.sil_score_dict[occ].items(),key = operator.itemgetter(1))[0])\n",
    "#             labels = km_final.fit_predict(self.data.loc[self.data['OCCUPATION_BUSINESS_CLEAN'] == occ,cluster_cols])\n",
    "# #             print(\"GETTING ERROR\")\n",
    "#             self.data.loc[self.data['OCCUPATION_BUSINESS_CLEAN'] == occ,'Cluster_labels'] = labels\n",
    "#         return self.data\n",
    "            \n",
    "# #         self.data.to_csv(\"/data/Synthetic_data_Clustered_\"+entity_type+\".csv\")"
   ]
  },
  {
   "cell_type": "code",
   "execution_count": 39,
   "metadata": {},
   "outputs": [
    {
     "name": "stdout",
     "output_type": "stream",
     "text": [
      "2023-02-21 14:12:45.424295\n"
     ]
    }
   ],
   "source": [
    "print(datetime.now())"
   ]
  },
  {
   "cell_type": "code",
   "execution_count": 40,
   "metadata": {
    "ExecuteTime": {
     "end_time": "2022-04-13T12:03:05.118171Z",
     "start_time": "2022-04-13T10:50:33.216234Z"
    },
    "scrolled": true
   },
   "outputs": [],
   "source": [
    "# ind_U = Model_Kmeans(data_ind_U)\n",
    "# ind_data_U = ind_U.cluster_data()\n",
    "# print()\n",
    "# print(\"*** Starting for Organization ***\")\n",
    "# print()\n",
    "# #Uncomment to run on org          \n",
    "# # org_U = Model_Kmeans(data_org_U)\n",
    "# # org_data_U = org_U.cluster_data()\n"
   ]
  },
  {
   "cell_type": "code",
   "execution_count": 41,
   "metadata": {},
   "outputs": [
    {
     "name": "stdout",
     "output_type": "stream",
     "text": [
      "2023-02-21 14:12:45.430250\n"
     ]
    }
   ],
   "source": [
    "print(datetime.now())"
   ]
  },
  {
   "cell_type": "code",
   "execution_count": 42,
   "metadata": {},
   "outputs": [
    {
     "data": {
      "text/html": [
       "<div>\n",
       "<style scoped>\n",
       "    .dataframe tbody tr th:only-of-type {\n",
       "        vertical-align: middle;\n",
       "    }\n",
       "\n",
       "    .dataframe tbody tr th {\n",
       "        vertical-align: top;\n",
       "    }\n",
       "\n",
       "    .dataframe thead th {\n",
       "        text-align: right;\n",
       "    }\n",
       "</style>\n",
       "<table border=\"1\" class=\"dataframe\">\n",
       "  <thead>\n",
       "    <tr style=\"text-align: right;\">\n",
       "      <th></th>\n",
       "      <th>PERSON_MASTER_ID</th>\n",
       "      <th>OCCUPATION_BUSINESS_CLEAN</th>\n",
       "      <th>PEER_GROUP_AMNT</th>\n",
       "      <th>PEER_GROUP_AMNT_Scaled</th>\n",
       "    </tr>\n",
       "  </thead>\n",
       "  <tbody>\n",
       "    <tr>\n",
       "      <th>177</th>\n",
       "      <td>229</td>\n",
       "      <td>Others</td>\n",
       "      <td>4767947886750.50000</td>\n",
       "      <td>1.00000</td>\n",
       "    </tr>\n",
       "  </tbody>\n",
       "</table>\n",
       "</div>"
      ],
      "text/plain": [
       "     PERSON_MASTER_ID OCCUPATION_BUSINESS_CLEAN     PEER_GROUP_AMNT  \\\n",
       "177               229                    Others 4767947886750.50000   \n",
       "\n",
       "     PEER_GROUP_AMNT_Scaled  \n",
       "177                 1.00000  "
      ]
     },
     "execution_count": 42,
     "metadata": {},
     "output_type": "execute_result"
    }
   ],
   "source": [
    "data_ind_U[data_ind_U['PERSON_MASTER_ID'] == 229]"
   ]
  },
  {
   "cell_type": "code",
   "execution_count": 43,
   "metadata": {},
   "outputs": [
    {
     "name": "stdout",
     "output_type": "stream",
     "text": [
      "Clustering for Profession Government Sector\n"
     ]
    },
    {
     "name": "stderr",
     "output_type": "stream",
     "text": [
      "\r",
      "  0%|          | 0/5 [00:00<?, ?it/s]"
     ]
    },
    {
     "name": "stdout",
     "output_type": "stream",
     "text": [
      "Working on  Government Sector 1\n",
      "lenX 113\n",
      "Value Error\n",
      "Clustering done for 1\n",
      "It took 0:00:00.000003 hours to cluster Government Sector in 1 clusters\n",
      "2023-02-21 14:12:45.453664\n",
      "Working on  Government Sector 2\n",
      "lenX 113\n",
      "Clustering done for 2\n",
      "It took 0:00:00.000004 hours to cluster Government Sector in 2 clusters\n",
      "2023-02-21 14:12:45.467586\n",
      "Working on  Government Sector 3\n",
      "lenX 113\n",
      "Clustering done for 3\n",
      "It took 0:00:00.000004 hours to cluster Government Sector in 3 clusters\n",
      "2023-02-21 14:12:45.483682\n",
      "Working on  Government Sector 4\n",
      "lenX 113\n",
      "Clustering done for 4\n",
      "It took 0:00:00.000005 hours to cluster Government Sector in 4 clusters\n",
      "2023-02-21 14:12:45.501940\n",
      "Working on  Government Sector 5\n",
      "lenX 113\n"
     ]
    },
    {
     "name": "stderr",
     "output_type": "stream",
     "text": [
      "100%|██████████| 5/5 [00:00<00:00, 63.13it/s]\n"
     ]
    },
    {
     "name": "stdout",
     "output_type": "stream",
     "text": [
      "Clustering done for 5\n",
      "It took 0:00:00.000006 hours to cluster Government Sector in 5 clusters\n",
      "2023-02-21 14:12:45.522807\n",
      "Clustering for Profession Self Employed\n"
     ]
    },
    {
     "name": "stderr",
     "output_type": "stream",
     "text": [
      "\r",
      "  0%|          | 0/5 [00:00<?, ?it/s]"
     ]
    },
    {
     "name": "stdout",
     "output_type": "stream",
     "text": [
      "Working on  Self Employed 1\n",
      "lenX 18\n",
      "Value Error\n",
      "Clustering done for 1\n",
      "It took 0:00:00.000003 hours to cluster Self Employed in 1 clusters\n",
      "2023-02-21 14:12:45.534864\n",
      "Working on  Self Employed 2\n",
      "lenX 18\n",
      "Clustering done for 2\n",
      "It took 0:00:00.000004 hours to cluster Self Employed in 2 clusters\n",
      "2023-02-21 14:12:45.547776\n",
      "Working on  Self Employed 3\n",
      "lenX 18\n",
      "Clustering done for 3\n",
      "It took 0:00:00.000004 hours to cluster Self Employed in 3 clusters\n",
      "2023-02-21 14:12:45.563324\n",
      "Working on  Self Employed 4\n",
      "lenX 18\n"
     ]
    },
    {
     "name": "stderr",
     "output_type": "stream",
     "text": [
      "100%|██████████| 5/5 [00:00<00:00, 63.32it/s]\n"
     ]
    },
    {
     "name": "stdout",
     "output_type": "stream",
     "text": [
      "Clustering done for 4\n",
      "It took 0:00:00.000005 hours to cluster Self Employed in 4 clusters\n",
      "2023-02-21 14:12:45.582071\n",
      "Working on  Self Employed 5\n",
      "lenX 18\n",
      "Clustering done for 5\n",
      "It took 0:00:00.000006 hours to cluster Self Employed in 5 clusters\n",
      "2023-02-21 14:12:45.603723\n",
      "Clustering for Profession Others\n"
     ]
    },
    {
     "name": "stderr",
     "output_type": "stream",
     "text": [
      "\r",
      "  0%|          | 0/5 [00:00<?, ?it/s]"
     ]
    },
    {
     "name": "stdout",
     "output_type": "stream",
     "text": [
      "Working on  Others 1\n",
      "lenX 145\n",
      "Value Error\n",
      "Clustering done for 1\n",
      "It took 0:00:00.000003 hours to cluster Others in 1 clusters\n",
      "2023-02-21 14:12:45.617925\n",
      "Working on  Others 2\n",
      "lenX 145\n",
      "Clustering done for 2\n",
      "It took 0:00:00.000004 hours to cluster Others in 2 clusters\n",
      "2023-02-21 14:12:45.631908\n",
      "Working on  Others 3\n",
      "lenX 145\n"
     ]
    },
    {
     "name": "stderr",
     "output_type": "stream",
     "text": [
      "100%|██████████| 5/5 [00:00<00:00, 58.13it/s]\n"
     ]
    },
    {
     "name": "stdout",
     "output_type": "stream",
     "text": [
      "Clustering done for 3\n",
      "It took 0:00:00.000005 hours to cluster Others in 3 clusters\n",
      "2023-02-21 14:12:45.649140\n",
      "Working on  Others 4\n",
      "lenX 145\n",
      "Clustering done for 4\n",
      "It took 0:00:00.000005 hours to cluster Others in 4 clusters\n",
      "2023-02-21 14:12:45.668683\n",
      "Working on  Others 5\n",
      "lenX 145\n",
      "Clustering done for 5\n",
      "It took 0:00:00.000006 hours to cluster Others in 5 clusters\n",
      "2023-02-21 14:12:45.691467\n",
      "Clustering for Profession Private Sector\n"
     ]
    },
    {
     "name": "stderr",
     "output_type": "stream",
     "text": [
      "\r",
      "  0%|          | 0/5 [00:00<?, ?it/s]"
     ]
    },
    {
     "name": "stdout",
     "output_type": "stream",
     "text": [
      "Working on  Private Sector 1\n",
      "lenX 53\n",
      "Value Error\n",
      "Clustering done for 1\n",
      "It took 0:00:00.000003 hours to cluster Private Sector in 1 clusters\n",
      "2023-02-21 14:12:45.705394\n",
      "Working on  Private Sector 2\n",
      "lenX 53\n",
      "Clustering done for 2\n",
      "It took 0:00:00.000003 hours to cluster Private Sector in 2 clusters\n",
      "2023-02-21 14:12:45.716289\n",
      "Working on  Private Sector 3\n",
      "lenX 53\n"
     ]
    },
    {
     "name": "stderr",
     "output_type": "stream",
     "text": [
      "100%|██████████| 5/5 [00:00<00:00, 66.15it/s]\n"
     ]
    },
    {
     "name": "stdout",
     "output_type": "stream",
     "text": [
      "Clustering done for 3\n",
      "It took 0:00:00.000004 hours to cluster Private Sector in 3 clusters\n",
      "2023-02-21 14:12:45.731277\n",
      "Working on  Private Sector 4\n",
      "lenX 53\n",
      "Clustering done for 4\n",
      "It took 0:00:00.000005 hours to cluster Private Sector in 4 clusters\n",
      "2023-02-21 14:12:45.748900\n",
      "Working on  Private Sector 5\n",
      "lenX 53\n",
      "Clustering done for 5\n",
      "It took 0:00:00.000005 hours to cluster Private Sector in 5 clusters\n",
      "2023-02-21 14:12:45.768710\n",
      "Clustering for Profession Public Sector\n"
     ]
    },
    {
     "name": "stderr",
     "output_type": "stream",
     "text": [
      "\r",
      "  0%|          | 0/5 [00:00<?, ?it/s]"
     ]
    },
    {
     "name": "stdout",
     "output_type": "stream",
     "text": [
      "Working on  Public Sector 1\n",
      "lenX 3\n",
      "Value Error\n",
      "Clustering done for 1\n",
      "It took 0:00:00.000003 hours to cluster Public Sector in 1 clusters\n",
      "2023-02-21 14:12:45.782307\n",
      "Working on  Public Sector 2\n",
      "lenX 3\n",
      "Clustering done for 2\n",
      "It took 0:00:00.000005 hours to cluster Public Sector in 2 clusters\n",
      "2023-02-21 14:12:45.801782\n",
      "Working on  Public Sector 3\n",
      "lenX 3\n"
     ]
    },
    {
     "name": "stderr",
     "output_type": "stream",
     "text": [
      "100%|██████████| 5/5 [00:00<00:00, 98.80it/s]\n"
     ]
    },
    {
     "name": "stdout",
     "output_type": "stream",
     "text": [
      "Value Error\n",
      "Clustering done for 3\n",
      "It took 0:00:00.000004 hours to cluster Public Sector in 3 clusters\n",
      "2023-02-21 14:12:45.817613\n",
      "Working on  Public Sector 4\n",
      "lenX 3\n",
      "Try Public Sector Length: 3 4\n",
      "Working on  Public Sector 5\n",
      "lenX 3\n",
      "Try Public Sector Length: 3 5\n",
      "Clustering for Profession Professional\n"
     ]
    },
    {
     "name": "stderr",
     "output_type": "stream",
     "text": [
      "\r",
      "  0%|          | 0/5 [00:00<?, ?it/s]"
     ]
    },
    {
     "name": "stdout",
     "output_type": "stream",
     "text": [
      "Working on  Professional 1\n",
      "lenX 7\n",
      "Value Error\n",
      "Clustering done for 1\n",
      "It took 0:00:00.000003 hours to cluster Professional in 1 clusters\n",
      "2023-02-21 14:12:45.834014\n",
      "Working on  Professional 2\n",
      "lenX 7\n",
      "Clustering done for 2\n",
      "It took 0:00:00.000003 hours to cluster Professional in 2 clusters\n",
      "2023-02-21 14:12:45.844739\n",
      "Working on  Professional 3\n",
      "lenX 7\n",
      "Clustering done for 3\n",
      "It took 0:00:00.000005 hours to cluster Professional in 3 clusters\n",
      "2023-02-21 14:12:45.864557\n",
      "Working on  Professional 4\n",
      "lenX 7\n",
      "Clustering done for 4\n",
      "It took 0:00:00.000006 hours to cluster Professional in 4 clusters\n",
      "2023-02-21 14:12:45.886103\n",
      "Working on  Professional 5\n",
      "lenX 7\n"
     ]
    },
    {
     "name": "stderr",
     "output_type": "stream",
     "text": [
      "100%|██████████| 5/5 [00:00<00:00, 59.87it/s]\n"
     ]
    },
    {
     "name": "stdout",
     "output_type": "stream",
     "text": [
      "Clustering done for 5\n",
      "It took 0:00:00.000006 hours to cluster Professional in 5 clusters\n",
      "2023-02-21 14:12:45.906365\n",
      "Clustering for Profession Student\n"
     ]
    },
    {
     "name": "stderr",
     "output_type": "stream",
     "text": [
      "100%|██████████| 5/5 [00:00<00:00, 386.61it/s]\n"
     ]
    },
    {
     "name": "stdout",
     "output_type": "stream",
     "text": [
      "Working on  Student 1\n",
      "lenX 1\n",
      "Value Error\n",
      "Clustering done for 1\n",
      "It took 0:00:00.000002 hours to cluster Student in 1 clusters\n",
      "2023-02-21 14:12:45.915120\n",
      "Working on  Student 2\n",
      "lenX 1\n",
      "Try Student Length: 1 2\n",
      "Working on  Student 3\n",
      "lenX 1\n",
      "Try Student Length: 1 3\n",
      "Working on  Student 4\n",
      "lenX 1\n",
      "Try Student Length: 1 4\n",
      "Working on  Student 5\n",
      "lenX 1\n",
      "Try Student Length: 1 5\n",
      "Clustering for Profession Housewife\n"
     ]
    },
    {
     "name": "stderr",
     "output_type": "stream",
     "text": [
      "\r",
      "  0%|          | 0/5 [00:00<?, ?it/s]"
     ]
    },
    {
     "name": "stdout",
     "output_type": "stream",
     "text": [
      "Working on  Housewife 1\n",
      "lenX 3\n",
      "Value Error\n",
      "Clustering done for 1\n",
      "It took 0:00:00.000002 hours to cluster Housewife in 1 clusters\n",
      "2023-02-21 14:12:45.929298\n",
      "Working on  Housewife 2\n",
      "lenX 3\n"
     ]
    },
    {
     "name": "stderr",
     "output_type": "stream",
     "text": [
      "\r",
      " 40%|████      | 2/5 [00:00<00:00,  4.25it/s]"
     ]
    },
    {
     "name": "stdout",
     "output_type": "stream",
     "text": [
      "Value Error\n",
      "Clustering done for 2\n",
      "It took 0:00:00.000129 hours to cluster Housewife in 2 clusters\n",
      "2023-02-21 14:12:46.393150\n",
      "Working on  Housewife 3\n",
      "lenX 3\n"
     ]
    },
    {
     "name": "stderr",
     "output_type": "stream",
     "text": [
      "100%|██████████| 5/5 [00:00<00:00,  5.32it/s]\n"
     ]
    },
    {
     "name": "stdout",
     "output_type": "stream",
     "text": [
      "Value Error\n",
      "Clustering done for 3\n",
      "It took 0:00:00.000129 hours to cluster Housewife in 3 clusters\n",
      "2023-02-21 14:12:46.857576\n",
      "Working on  Housewife 4\n",
      "lenX 3\n",
      "Try Housewife Length: 3 4\n",
      "Working on  Housewife 5\n",
      "lenX 3\n",
      "Try Housewife Length: 3 5\n",
      "Clustering for Profession Retired\n"
     ]
    },
    {
     "name": "stderr",
     "output_type": "stream",
     "text": [
      "100%|██████████| 5/5 [00:00<00:00, 134.23it/s]"
     ]
    },
    {
     "name": "stdout",
     "output_type": "stream",
     "text": [
      "Working on  Retired 1\n",
      "lenX 3\n",
      "Value Error\n",
      "Clustering done for 1\n",
      "It took 0:00:00.000003 hours to cluster Retired in 1 clusters\n",
      "2023-02-21 14:12:46.873591\n",
      "Working on  Retired 2\n",
      "lenX 3\n",
      "Clustering done for 2\n",
      "It took 0:00:00.000003 hours to cluster Retired in 2 clusters\n",
      "2023-02-21 14:12:46.884033\n",
      "Working on  Retired 3\n",
      "lenX 3\n",
      "Clustering done for 3\n",
      "It took 0:00:00.000004 hours to cluster Retired in 3 clusters\n",
      "2023-02-21 14:12:46.898076\n",
      "Working on  Retired 4\n",
      "lenX 3\n",
      "Try Retired Length: 3 4\n",
      "Working on  Retired 5\n",
      "lenX 3\n",
      "Try Retired Length: 3 5\n",
      "SHS {'Government Sector': {1: 1, 2: 0.44278098561806123, 3: 0.3742194389115319, 4: 0.15691172937125797, 5: 0.12611857213292738}, 'Self Employed': {1: 1, 2: 0.09651837706136346, 3: 0.17807900936723098, 4: 0.09023270836778849, 5: 0.07360922189740725}, 'Others': {1: 1, 2: 0.004757966393417318, 3: 0.03480417890044226, 4: 0.0005593028169293037, 5: 0.0008180941368600321}, 'Private Sector': {1: 1, 2: 0.0007608155790375941, 3: 0.2157457051920201, 4: 0.24669912613440115, 5: 0.28798194593182597}, 'Public Sector': {1: 1, 2: 0.0, 3: 1}, 'Professional': {1: 1, 2: 0.0, 3: 0.0, 4: 0.0, 5: 0.0}, 'Student': {1: 1}, 'Housewife': {1: 1, 2: 1, 3: 1}, 'Retired': {1: 1, 2: 0.0, 3: 0.0}}\n",
      "Clustering for profession Government Sector on \n",
      "Clustering for profession Self Employed on \n",
      "Clustering for profession Others on \n",
      "Clustering for profession Private Sector on \n",
      "Clustering for profession Public Sector on \n",
      "Clustering for profession Professional on \n",
      "Clustering for profession Student on \n",
      "Clustering for profession Housewife on \n",
      "Clustering for profession Retired on \n"
     ]
    },
    {
     "name": "stderr",
     "output_type": "stream",
     "text": [
      "\n"
     ]
    }
   ],
   "source": [
    "ind_U = Model_devies_bouldin_score(data_ind_U)\n",
    "ind_data_U = ind_U.cluster_data()"
   ]
  },
  {
   "cell_type": "code",
   "execution_count": 44,
   "metadata": {},
   "outputs": [
    {
     "name": "stdout",
     "output_type": "stream",
     "text": [
      "2023-02-21 14:12:47.008549\n"
     ]
    }
   ],
   "source": [
    "print(datetime.now())"
   ]
  },
  {
   "cell_type": "code",
   "execution_count": 45,
   "metadata": {
    "ExecuteTime": {
     "end_time": "2022-04-13T12:03:13.735113Z",
     "start_time": "2022-04-13T12:03:05.151273Z"
    }
   },
   "outputs": [],
   "source": [
    "ind_data_U['Cluster_labels'] = ind_data_U['Cluster_labels'].apply(lambda x:int(x))\n",
    "#Uncomment to run on org\n",
    "# org_data_U['Cluster_labels'] = org_data_U['Cluster_labels'].apply(lambda x:int(x))\n",
    "# ind_data_U.to_csv(r\"C:\\Users\\FIU\\Desktop\\EntityRisk_DEMO\\Synthetic_data_Clustered_individual_U.csv\",index=False)\n",
    "#Uncomment to run on org\n",
    "# org_data_U.to_csv(r\"C:\\Users\\FIU\\Desktop\\EntityRisk_DEMO\\Synthetic_data_Clustered_organization_U.csv\",index=False)\n"
   ]
  },
  {
   "cell_type": "code",
   "execution_count": 46,
   "metadata": {},
   "outputs": [],
   "source": [
    "ind_data_U['PEER_GROUP_ID'] = ind_data_U.apply(lambda row:row['OCCUPATION_BUSINESS_CLEAN']+\"_\"+str(row['Cluster_labels']),axis=1)"
   ]
  },
  {
   "cell_type": "code",
   "execution_count": 47,
   "metadata": {},
   "outputs": [],
   "source": [
    "y= ind_data_U['PEER_GROUP_ID'].value_counts().reset_index()"
   ]
  },
  {
   "cell_type": "code",
   "execution_count": 48,
   "metadata": {},
   "outputs": [],
   "source": [
    "binning_data = ind_data_U[ind_data_U['OCCUPATION_BUSINESS_CLEAN']=='Others']"
   ]
  },
  {
   "cell_type": "code",
   "execution_count": 49,
   "metadata": {},
   "outputs": [
    {
     "data": {
      "text/html": [
       "<div>\n",
       "<style scoped>\n",
       "    .dataframe tbody tr th:only-of-type {\n",
       "        vertical-align: middle;\n",
       "    }\n",
       "\n",
       "    .dataframe tbody tr th {\n",
       "        vertical-align: top;\n",
       "    }\n",
       "\n",
       "    .dataframe thead th {\n",
       "        text-align: right;\n",
       "    }\n",
       "</style>\n",
       "<table border=\"1\" class=\"dataframe\">\n",
       "  <thead>\n",
       "    <tr style=\"text-align: right;\">\n",
       "      <th></th>\n",
       "      <th>PERSON_MASTER_ID</th>\n",
       "      <th>OCCUPATION_BUSINESS_CLEAN</th>\n",
       "      <th>PEER_GROUP_AMNT</th>\n",
       "      <th>PEER_GROUP_AMNT_Scaled</th>\n",
       "      <th>Cluster_labels</th>\n",
       "      <th>PEER_GROUP_ID</th>\n",
       "    </tr>\n",
       "  </thead>\n",
       "  <tbody>\n",
       "    <tr>\n",
       "      <th>9</th>\n",
       "      <td>10</td>\n",
       "      <td>Others</td>\n",
       "      <td>0.00000</td>\n",
       "      <td>0.00000</td>\n",
       "      <td>0</td>\n",
       "      <td>Others_0</td>\n",
       "    </tr>\n",
       "    <tr>\n",
       "      <th>35</th>\n",
       "      <td>46</td>\n",
       "      <td>Others</td>\n",
       "      <td>0.00000</td>\n",
       "      <td>0.00000</td>\n",
       "      <td>0</td>\n",
       "      <td>Others_0</td>\n",
       "    </tr>\n",
       "    <tr>\n",
       "      <th>36</th>\n",
       "      <td>47</td>\n",
       "      <td>Others</td>\n",
       "      <td>0.00000</td>\n",
       "      <td>0.00000</td>\n",
       "      <td>0</td>\n",
       "      <td>Others_0</td>\n",
       "    </tr>\n",
       "    <tr>\n",
       "      <th>37</th>\n",
       "      <td>48</td>\n",
       "      <td>Others</td>\n",
       "      <td>775997555028.00000</td>\n",
       "      <td>0.16275</td>\n",
       "      <td>2</td>\n",
       "      <td>Others_2</td>\n",
       "    </tr>\n",
       "    <tr>\n",
       "      <th>38</th>\n",
       "      <td>49</td>\n",
       "      <td>Others</td>\n",
       "      <td>0.00000</td>\n",
       "      <td>0.00000</td>\n",
       "      <td>0</td>\n",
       "      <td>Others_0</td>\n",
       "    </tr>\n",
       "  </tbody>\n",
       "</table>\n",
       "</div>"
      ],
      "text/plain": [
       "    PERSON_MASTER_ID OCCUPATION_BUSINESS_CLEAN    PEER_GROUP_AMNT  \\\n",
       "9                 10                    Others            0.00000   \n",
       "35                46                    Others            0.00000   \n",
       "36                47                    Others            0.00000   \n",
       "37                48                    Others 775997555028.00000   \n",
       "38                49                    Others            0.00000   \n",
       "\n",
       "    PEER_GROUP_AMNT_Scaled  Cluster_labels PEER_GROUP_ID  \n",
       "9                  0.00000               0      Others_0  \n",
       "35                 0.00000               0      Others_0  \n",
       "36                 0.00000               0      Others_0  \n",
       "37                 0.16275               2      Others_2  \n",
       "38                 0.00000               0      Others_0  "
      ]
     },
     "execution_count": 49,
     "metadata": {},
     "output_type": "execute_result"
    }
   ],
   "source": [
    "binning_data.head()"
   ]
  },
  {
   "cell_type": "code",
   "execution_count": 50,
   "metadata": {},
   "outputs": [],
   "source": [
    "bins = [0,1,500000,1000000,2000000,3000000,4000000,5000000,7500000,10000000]\n",
    "labels = ['Others_0','Others_1','Others_2','Others_3','Others_4','Others_5','Others_6','Others_7','Others_8']\n",
    "cluster_labels = [0,1,2,3,4,5,6,7,8]"
   ]
  },
  {
   "cell_type": "code",
   "execution_count": 51,
   "metadata": {},
   "outputs": [],
   "source": [
    "binning_data['PEER_GROUP_ID'] = pd.cut(x = binning_data['PEER_GROUP_AMNT'], bins = bins, labels = labels, include_lowest = True)\n",
    "binning_data['Cluster_labels'] = pd.cut(x = binning_data['PEER_GROUP_AMNT'], bins = bins, labels = cluster_labels, include_lowest = True)\n"
   ]
  },
  {
   "cell_type": "code",
   "execution_count": 52,
   "metadata": {},
   "outputs": [],
   "source": [
    "binning_data['PEER_GROUP_ID'] = binning_data['PEER_GROUP_ID'].astype('str')\n",
    "binning_data['Cluster_labels'] = binning_data['Cluster_labels'].astype('float64')"
   ]
  },
  {
   "cell_type": "code",
   "execution_count": 53,
   "metadata": {},
   "outputs": [],
   "source": [
    "binning_data['PEER_GROUP_ID'].replace('nan','Others_9',inplace =  True)\n",
    "binning_data['Cluster_labels'].fillna(9,inplace = True)"
   ]
  },
  {
   "cell_type": "code",
   "execution_count": null,
   "metadata": {},
   "outputs": [],
   "source": []
  },
  {
   "cell_type": "code",
   "execution_count": 54,
   "metadata": {},
   "outputs": [
    {
     "data": {
      "text/html": [
       "<div>\n",
       "<style scoped>\n",
       "    .dataframe tbody tr th:only-of-type {\n",
       "        vertical-align: middle;\n",
       "    }\n",
       "\n",
       "    .dataframe tbody tr th {\n",
       "        vertical-align: top;\n",
       "    }\n",
       "\n",
       "    .dataframe thead th {\n",
       "        text-align: right;\n",
       "    }\n",
       "</style>\n",
       "<table border=\"1\" class=\"dataframe\">\n",
       "  <thead>\n",
       "    <tr style=\"text-align: right;\">\n",
       "      <th></th>\n",
       "      <th>PERSON_MASTER_ID</th>\n",
       "      <th>OCCUPATION_BUSINESS_CLEAN</th>\n",
       "      <th>PEER_GROUP_AMNT</th>\n",
       "      <th>PEER_GROUP_AMNT_Scaled</th>\n",
       "      <th>Cluster_labels</th>\n",
       "      <th>PEER_GROUP_ID</th>\n",
       "    </tr>\n",
       "  </thead>\n",
       "  <tbody>\n",
       "    <tr>\n",
       "      <th>177</th>\n",
       "      <td>229</td>\n",
       "      <td>Others</td>\n",
       "      <td>4767947886750.50000</td>\n",
       "      <td>1.00000</td>\n",
       "      <td>9.00000</td>\n",
       "      <td>Others_9</td>\n",
       "    </tr>\n",
       "  </tbody>\n",
       "</table>\n",
       "</div>"
      ],
      "text/plain": [
       "     PERSON_MASTER_ID OCCUPATION_BUSINESS_CLEAN     PEER_GROUP_AMNT  \\\n",
       "177               229                    Others 4767947886750.50000   \n",
       "\n",
       "     PEER_GROUP_AMNT_Scaled  Cluster_labels PEER_GROUP_ID  \n",
       "177                 1.00000         9.00000      Others_9  "
      ]
     },
     "execution_count": 54,
     "metadata": {},
     "output_type": "execute_result"
    }
   ],
   "source": [
    "binning_data[binning_data['PERSON_MASTER_ID']==229]"
   ]
  },
  {
   "cell_type": "code",
   "execution_count": 55,
   "metadata": {},
   "outputs": [],
   "source": [
    "binning_data['PEER_GROUP_ID'] = binning_data['PEER_GROUP_ID'].astype('str')\n",
    "binning_data['Cluster_labels'] = binning_data['Cluster_labels'].astype('int32')"
   ]
  },
  {
   "cell_type": "code",
   "execution_count": 56,
   "metadata": {},
   "outputs": [],
   "source": [
    "binning_data = binning_data[['PERSON_MASTER_ID','PEER_GROUP_ID','Cluster_labels']]"
   ]
  },
  {
   "cell_type": "code",
   "execution_count": null,
   "metadata": {},
   "outputs": [],
   "source": []
  },
  {
   "cell_type": "code",
   "execution_count": 57,
   "metadata": {},
   "outputs": [
    {
     "data": {
      "text/plain": [
       "Others_0    113\n",
       "Others_2     12\n",
       "Others_8     10\n",
       "Others_9      7\n",
       "Others_5      2\n",
       "Others_1      1\n",
       "Name: PEER_GROUP_ID, dtype: int64"
      ]
     },
     "execution_count": 57,
     "metadata": {},
     "output_type": "execute_result"
    }
   ],
   "source": [
    "binning_data['PEER_GROUP_ID'].value_counts()"
   ]
  },
  {
   "cell_type": "code",
   "execution_count": null,
   "metadata": {},
   "outputs": [],
   "source": []
  },
  {
   "cell_type": "code",
   "execution_count": 58,
   "metadata": {},
   "outputs": [
    {
     "data": {
      "text/html": [
       "<div>\n",
       "<style scoped>\n",
       "    .dataframe tbody tr th:only-of-type {\n",
       "        vertical-align: middle;\n",
       "    }\n",
       "\n",
       "    .dataframe tbody tr th {\n",
       "        vertical-align: top;\n",
       "    }\n",
       "\n",
       "    .dataframe thead th {\n",
       "        text-align: right;\n",
       "    }\n",
       "</style>\n",
       "<table border=\"1\" class=\"dataframe\">\n",
       "  <thead>\n",
       "    <tr style=\"text-align: right;\">\n",
       "      <th></th>\n",
       "      <th>PERSON_MASTER_ID</th>\n",
       "      <th>OCCUPATION_BUSINESS_CLEAN</th>\n",
       "      <th>PEER_GROUP_AMNT</th>\n",
       "      <th>PEER_GROUP_AMNT_Scaled</th>\n",
       "      <th>Cluster_labels</th>\n",
       "      <th>PEER_GROUP_ID</th>\n",
       "    </tr>\n",
       "  </thead>\n",
       "  <tbody>\n",
       "    <tr>\n",
       "      <th>0</th>\n",
       "      <td>1</td>\n",
       "      <td>Government Sector</td>\n",
       "      <td>2264360596.00000</td>\n",
       "      <td>0.00047</td>\n",
       "      <td>0</td>\n",
       "      <td>Government Sector_0</td>\n",
       "    </tr>\n",
       "    <tr>\n",
       "      <th>1</th>\n",
       "      <td>2</td>\n",
       "      <td>Government Sector</td>\n",
       "      <td>566453534.00000</td>\n",
       "      <td>0.00012</td>\n",
       "      <td>0</td>\n",
       "      <td>Government Sector_0</td>\n",
       "    </tr>\n",
       "    <tr>\n",
       "      <th>2</th>\n",
       "      <td>3</td>\n",
       "      <td>Government Sector</td>\n",
       "      <td>565000000.00000</td>\n",
       "      <td>0.00012</td>\n",
       "      <td>0</td>\n",
       "      <td>Government Sector_0</td>\n",
       "    </tr>\n",
       "    <tr>\n",
       "      <th>3</th>\n",
       "      <td>4</td>\n",
       "      <td>Government Sector</td>\n",
       "      <td>566453536.00000</td>\n",
       "      <td>0.00012</td>\n",
       "      <td>0</td>\n",
       "      <td>Government Sector_0</td>\n",
       "    </tr>\n",
       "    <tr>\n",
       "      <th>4</th>\n",
       "      <td>5</td>\n",
       "      <td>Government Sector</td>\n",
       "      <td>566453537.00000</td>\n",
       "      <td>0.00012</td>\n",
       "      <td>0</td>\n",
       "      <td>Government Sector_0</td>\n",
       "    </tr>\n",
       "  </tbody>\n",
       "</table>\n",
       "</div>"
      ],
      "text/plain": [
       "   PERSON_MASTER_ID OCCUPATION_BUSINESS_CLEAN  PEER_GROUP_AMNT  \\\n",
       "0                 1         Government Sector 2264360596.00000   \n",
       "1                 2         Government Sector  566453534.00000   \n",
       "2                 3         Government Sector  565000000.00000   \n",
       "3                 4         Government Sector  566453536.00000   \n",
       "4                 5         Government Sector  566453537.00000   \n",
       "\n",
       "   PEER_GROUP_AMNT_Scaled  Cluster_labels        PEER_GROUP_ID  \n",
       "0                 0.00047               0  Government Sector_0  \n",
       "1                 0.00012               0  Government Sector_0  \n",
       "2                 0.00012               0  Government Sector_0  \n",
       "3                 0.00012               0  Government Sector_0  \n",
       "4                 0.00012               0  Government Sector_0  "
      ]
     },
     "execution_count": 58,
     "metadata": {},
     "output_type": "execute_result"
    }
   ],
   "source": [
    "ind_data_U.head()"
   ]
  },
  {
   "cell_type": "code",
   "execution_count": 59,
   "metadata": {},
   "outputs": [],
   "source": [
    "ind_data_U = pd.merge(ind_data_U,binning_data,on='PERSON_MASTER_ID',how = 'left')"
   ]
  },
  {
   "cell_type": "code",
   "execution_count": 60,
   "metadata": {},
   "outputs": [],
   "source": [
    "ind_data_U['PEER_GROUP_ID'] = ind_data_U[['PEER_GROUP_ID_y','PEER_GROUP_ID_x']].bfill(axis=1).iloc[:, 0]\n"
   ]
  },
  {
   "cell_type": "code",
   "execution_count": 61,
   "metadata": {},
   "outputs": [],
   "source": [
    "ind_data_U['Cluster_labels_y'] = ind_data_U['Cluster_labels_y'].astype('float64')"
   ]
  },
  {
   "cell_type": "code",
   "execution_count": 62,
   "metadata": {},
   "outputs": [],
   "source": [
    "ind_data_U['Cluster_labels'] = ind_data_U[['Cluster_labels_y','Cluster_labels_x']].bfill(axis=1).iloc[:, 0]"
   ]
  },
  {
   "cell_type": "code",
   "execution_count": 63,
   "metadata": {},
   "outputs": [],
   "source": [
    "ind_data_U['Cluster_labels'] = ind_data_U['Cluster_labels'].astype('int32')"
   ]
  },
  {
   "cell_type": "code",
   "execution_count": 64,
   "metadata": {},
   "outputs": [],
   "source": [
    "ind_data_U.drop(columns= ['Cluster_labels_x','PEER_GROUP_ID_x','PEER_GROUP_ID_y','Cluster_labels_y'],inplace = True)"
   ]
  },
  {
   "cell_type": "code",
   "execution_count": 65,
   "metadata": {},
   "outputs": [],
   "source": [
    "config = ConfigParser()\n",
    "config.read(r'/notebooks/notebooks/config.ini')\n",
    "connection_string = config.get('SERVER', 'connection')\n",
    "conn = pyodbc.connect(connection_string)\n",
    "cursor = conn.cursor()"
   ]
  },
  {
   "cell_type": "code",
   "execution_count": 66,
   "metadata": {},
   "outputs": [],
   "source": [
    "from tqdm import tqdm"
   ]
  },
  {
   "cell_type": "code",
   "execution_count": null,
   "metadata": {},
   "outputs": [],
   "source": []
  },
  {
   "cell_type": "code",
   "execution_count": 67,
   "metadata": {},
   "outputs": [
    {
     "name": "stderr",
     "output_type": "stream",
     "text": [
      "346it [00:00, 1002.73it/s]\n"
     ]
    }
   ],
   "source": [
    "# pyodbc.drivers()\n",
    "# # conn = pyodbc.connect('DRIVER=SQL SERVER;SERVER=172.16.33.27;PORT=1433;DATABASE=FINCORE_DB;UID=Fincore_Analytics_USR;PWD=F!NCore@123;TDS_Version=7.2;')\n",
    "# conn = pyodbc.connect('DRIVER=SQL SERVER;SERVER=172.16.27.39;PORT=1433;DATABASE=HDM_FINCORE_DB;UID=FINC_HDM_USR;PWD=#DM@2022;TDS_Version=7.2;')\n",
    "# cursor = conn.cursor()\n",
    "# tmp = cursor.execute(\"SELECT * FROM fincore_analytics.RISK_PERSON_SUMMARY_STG ;\").fetchone()\n",
    "count = 1\n",
    "#Updating peer_group_id in original table where person_master_id is matching\n",
    "for ind,row in tqdm(ind_data_U.iterrows()):\n",
    "    if count%10000 == 0:\n",
    "        print(count,\" VALUES DONE\")\n",
    "    count+=1\n",
    "    cursor.execute(\"\"\"update fincore_db.fincore_analytics.RISK_PERSON_SUMMARY_STG \n",
    "    set PEER_GROUP_ID = '{}'\n",
    "    where PERSON_MASTER_ID = {} \"\"\".format(row['PEER_GROUP_ID'], row['PERSON_MASTER_ID']))\n",
    "    \n",
    "# count = 0\n",
    "# for ind,row in data_org_U.iterrows():\n",
    "#     if count%10000 == 0:\n",
    "#         print(count,\" VALUES DONE\")\n",
    "#     count+=1\n",
    "#     cursor.execute(\"\"\"update fincore_analytics.RISK_ORGANIZATION_SUMMARY_STG \n",
    "#     set RISK_ORGANIZATION_SUMMARY_STG.PEER_GROUP_ID = ?\n",
    "#     where RISK_ORGANIZATION_SUMMARY_STG.ORGANIZATION_MASTER_ID = ?\"\"\",(row['PEER_GROUP_ID'], row['ORGANIZATION_MASTER_ID']))\n",
    "    \n",
    "        \n",
    "\n",
    "conn.commit()\n",
    "conn.close()"
   ]
  },
  {
   "cell_type": "code",
   "execution_count": 68,
   "metadata": {},
   "outputs": [],
   "source": [
    "ind_data_U.to_csv(r\"/data/peer_updated.csv\",index = False)"
   ]
  },
  {
   "cell_type": "code",
   "execution_count": 69,
   "metadata": {},
   "outputs": [
    {
     "name": "stdout",
     "output_type": "stream",
     "text": [
      "Stored 'no_of_records' (int)\n"
     ]
    }
   ],
   "source": [
    "%store no_of_records"
   ]
  },
  {
   "cell_type": "code",
   "execution_count": null,
   "metadata": {},
   "outputs": [],
   "source": []
  },
  {
   "cell_type": "code",
   "execution_count": null,
   "metadata": {},
   "outputs": [],
   "source": []
  },
  {
   "cell_type": "code",
   "execution_count": null,
   "metadata": {},
   "outputs": [],
   "source": []
  },
  {
   "cell_type": "code",
   "execution_count": null,
   "metadata": {},
   "outputs": [],
   "source": []
  },
  {
   "cell_type": "code",
   "execution_count": 70,
   "metadata": {},
   "outputs": [],
   "source": [
    "config = ConfigParser()\n",
    "config.read(r'/notebooks/notebooks/config.ini')\n",
    "connection_string = config.get('SERVER', 'connection')\n",
    "conn = pyodbc.connect(connection_string)\n",
    "cursor = conn.cursor()"
   ]
  },
  {
   "cell_type": "code",
   "execution_count": 71,
   "metadata": {},
   "outputs": [],
   "source": [
    "# # pyodbc.drivers()\n",
    "# # # conn = pyodbc.connect('DRIVER=SQL SERVER;SERVER=172.16.33.27;PORT=1433;DATABASE=FINCORE_DB;UID=Fincore_App_USR;PWD=F!NCore@123;TDS_Version=7.2;')\n",
    "# # conn = pyodbc.connect('DRIVER=SQL SERVER;SERVER=172.16.27.39;PORT=1433;DATABASE=HDM_FINCORE_DB;UID=FINCORE_ANALYTICS_USR;PWD=F!NCore@123;TDS_Version=7.2;')\n",
    "# df = pd.read_sql_query(\"SELECT * FROM [Fincore_Analytics].[RISK_PERSON_SUMMARY_STG] with \", conn)\n",
    "# df1 = pd.read_sql_query(\"SELECT * FROM [Fincore_Analytics].[RISK_PERSON_SUMMARY_STG_RULES]\", conn)\n",
    "# # conn.close()\n"
   ]
  },
  {
   "cell_type": "code",
   "execution_count": 72,
   "metadata": {},
   "outputs": [],
   "source": [
    "# x = df[df['PEER_GROUP_ID'] == 'Government_0']['PERSON_MASTER_ID']\n",
    "# x= pd.DataFrame(x,columns = ['PERSON_MASTER_ID'])\n",
    "# # print(x)\n",
    "# df2 = x.merge(df1,how = 'inner',on ='PERSON_MASTER_ID' )\n",
    "\n",
    "# y = df2[df2['RULE_NO'] == 'P002001009']['RULE_VALUE'].astype('int64')\n",
    "\n",
    "# print(y.describe())\n",
    "# print(\"median = \",np.median(y))\n",
    "# print(mode(y))\n"
   ]
  },
  {
   "cell_type": "code",
   "execution_count": 73,
   "metadata": {},
   "outputs": [],
   "source": [
    "ind_data_U = pd.read_csv(r\"/data/peer_updated.csv\")"
   ]
  },
  {
   "cell_type": "code",
   "execution_count": 74,
   "metadata": {},
   "outputs": [
    {
     "data": {
      "text/html": [
       "<div>\n",
       "<style scoped>\n",
       "    .dataframe tbody tr th:only-of-type {\n",
       "        vertical-align: middle;\n",
       "    }\n",
       "\n",
       "    .dataframe tbody tr th {\n",
       "        vertical-align: top;\n",
       "    }\n",
       "\n",
       "    .dataframe thead th {\n",
       "        text-align: right;\n",
       "    }\n",
       "</style>\n",
       "<table border=\"1\" class=\"dataframe\">\n",
       "  <thead>\n",
       "    <tr style=\"text-align: right;\">\n",
       "      <th></th>\n",
       "      <th>PERSON_MASTER_ID</th>\n",
       "      <th>OCCUPATION_BUSINESS_CLEAN</th>\n",
       "      <th>PEER_GROUP_AMNT</th>\n",
       "      <th>PEER_GROUP_AMNT_Scaled</th>\n",
       "      <th>PEER_GROUP_ID</th>\n",
       "      <th>Cluster_labels</th>\n",
       "    </tr>\n",
       "  </thead>\n",
       "  <tbody>\n",
       "    <tr>\n",
       "      <th>0</th>\n",
       "      <td>1</td>\n",
       "      <td>Government Sector</td>\n",
       "      <td>2264360596.00000</td>\n",
       "      <td>0.00047</td>\n",
       "      <td>Government Sector_0</td>\n",
       "      <td>0</td>\n",
       "    </tr>\n",
       "    <tr>\n",
       "      <th>1</th>\n",
       "      <td>2</td>\n",
       "      <td>Government Sector</td>\n",
       "      <td>566453534.00000</td>\n",
       "      <td>0.00012</td>\n",
       "      <td>Government Sector_0</td>\n",
       "      <td>0</td>\n",
       "    </tr>\n",
       "    <tr>\n",
       "      <th>2</th>\n",
       "      <td>3</td>\n",
       "      <td>Government Sector</td>\n",
       "      <td>565000000.00000</td>\n",
       "      <td>0.00012</td>\n",
       "      <td>Government Sector_0</td>\n",
       "      <td>0</td>\n",
       "    </tr>\n",
       "    <tr>\n",
       "      <th>3</th>\n",
       "      <td>4</td>\n",
       "      <td>Government Sector</td>\n",
       "      <td>566453536.00000</td>\n",
       "      <td>0.00012</td>\n",
       "      <td>Government Sector_0</td>\n",
       "      <td>0</td>\n",
       "    </tr>\n",
       "    <tr>\n",
       "      <th>4</th>\n",
       "      <td>5</td>\n",
       "      <td>Government Sector</td>\n",
       "      <td>566453537.00000</td>\n",
       "      <td>0.00012</td>\n",
       "      <td>Government Sector_0</td>\n",
       "      <td>0</td>\n",
       "    </tr>\n",
       "    <tr>\n",
       "      <th>...</th>\n",
       "      <td>...</td>\n",
       "      <td>...</td>\n",
       "      <td>...</td>\n",
       "      <td>...</td>\n",
       "      <td>...</td>\n",
       "      <td>...</td>\n",
       "    </tr>\n",
       "    <tr>\n",
       "      <th>341</th>\n",
       "      <td>447</td>\n",
       "      <td>Private Sector</td>\n",
       "      <td>30000025.00000</td>\n",
       "      <td>0.00001</td>\n",
       "      <td>Private Sector_0</td>\n",
       "      <td>0</td>\n",
       "    </tr>\n",
       "    <tr>\n",
       "      <th>342</th>\n",
       "      <td>448</td>\n",
       "      <td>Private Sector</td>\n",
       "      <td>0.00000</td>\n",
       "      <td>0.00000</td>\n",
       "      <td>Private Sector_0</td>\n",
       "      <td>0</td>\n",
       "    </tr>\n",
       "    <tr>\n",
       "      <th>343</th>\n",
       "      <td>449</td>\n",
       "      <td>Private Sector</td>\n",
       "      <td>1200000.00000</td>\n",
       "      <td>0.00000</td>\n",
       "      <td>Private Sector_0</td>\n",
       "      <td>0</td>\n",
       "    </tr>\n",
       "    <tr>\n",
       "      <th>344</th>\n",
       "      <td>450</td>\n",
       "      <td>Private Sector</td>\n",
       "      <td>1200000.00000</td>\n",
       "      <td>0.00000</td>\n",
       "      <td>Private Sector_0</td>\n",
       "      <td>0</td>\n",
       "    </tr>\n",
       "    <tr>\n",
       "      <th>345</th>\n",
       "      <td>451</td>\n",
       "      <td>Others</td>\n",
       "      <td>0.00000</td>\n",
       "      <td>0.00000</td>\n",
       "      <td>Others_0</td>\n",
       "      <td>0</td>\n",
       "    </tr>\n",
       "  </tbody>\n",
       "</table>\n",
       "<p>346 rows × 6 columns</p>\n",
       "</div>"
      ],
      "text/plain": [
       "     PERSON_MASTER_ID OCCUPATION_BUSINESS_CLEAN  PEER_GROUP_AMNT  \\\n",
       "0                   1         Government Sector 2264360596.00000   \n",
       "1                   2         Government Sector  566453534.00000   \n",
       "2                   3         Government Sector  565000000.00000   \n",
       "3                   4         Government Sector  566453536.00000   \n",
       "4                   5         Government Sector  566453537.00000   \n",
       "..                ...                       ...              ...   \n",
       "341               447            Private Sector   30000025.00000   \n",
       "342               448            Private Sector          0.00000   \n",
       "343               449            Private Sector    1200000.00000   \n",
       "344               450            Private Sector    1200000.00000   \n",
       "345               451                    Others          0.00000   \n",
       "\n",
       "     PEER_GROUP_AMNT_Scaled        PEER_GROUP_ID  Cluster_labels  \n",
       "0                   0.00047  Government Sector_0               0  \n",
       "1                   0.00012  Government Sector_0               0  \n",
       "2                   0.00012  Government Sector_0               0  \n",
       "3                   0.00012  Government Sector_0               0  \n",
       "4                   0.00012  Government Sector_0               0  \n",
       "..                      ...                  ...             ...  \n",
       "341                 0.00001     Private Sector_0               0  \n",
       "342                 0.00000     Private Sector_0               0  \n",
       "343                 0.00000     Private Sector_0               0  \n",
       "344                 0.00000     Private Sector_0               0  \n",
       "345                 0.00000             Others_0               0  \n",
       "\n",
       "[346 rows x 6 columns]"
      ]
     },
     "execution_count": 74,
     "metadata": {},
     "output_type": "execute_result"
    }
   ],
   "source": [
    "ind_data_U"
   ]
  },
  {
   "cell_type": "code",
   "execution_count": 75,
   "metadata": {},
   "outputs": [],
   "source": [
    "x = ind_data_U.groupby('PEER_GROUP_ID').count()"
   ]
  },
  {
   "cell_type": "code",
   "execution_count": 76,
   "metadata": {},
   "outputs": [],
   "source": [
    "x ['COUNTS'] = x['PERSON_MASTER_ID'] "
   ]
  },
  {
   "cell_type": "code",
   "execution_count": 77,
   "metadata": {},
   "outputs": [],
   "source": [
    "# x.drop(columns = ['OCCUPATION_BUSINESS_CLEAN','TRAN_AMNT','PERSON_MASTER_ID','CBDT_INCOME_RANGE','Transaction_Amount_Scaled','Income_Range_Scaled','Income_Range_Scaled'],inplace = True)\n",
    "x.drop(columns = ['OCCUPATION_BUSINESS_CLEAN','PERSON_MASTER_ID','PEER_GROUP_AMNT','PEER_GROUP_AMNT_Scaled','Cluster_labels'],inplace = True)"
   ]
  },
  {
   "cell_type": "code",
   "execution_count": 78,
   "metadata": {},
   "outputs": [],
   "source": [
    "x.reset_index(inplace = True)"
   ]
  },
  {
   "cell_type": "code",
   "execution_count": 79,
   "metadata": {},
   "outputs": [],
   "source": [
    "# x.to_csv('results.csv')"
   ]
  },
  {
   "cell_type": "code",
   "execution_count": 80,
   "metadata": {},
   "outputs": [],
   "source": [
    "peer_chg = x[x['COUNTS'] < 30]"
   ]
  },
  {
   "cell_type": "code",
   "execution_count": 81,
   "metadata": {},
   "outputs": [],
   "source": [
    "peer_chg.reset_index(inplace = True)"
   ]
  },
  {
   "cell_type": "code",
   "execution_count": 82,
   "metadata": {},
   "outputs": [],
   "source": [
    "# x1 = ind_data_U.merge(peer_chg,how='inner',on='PEER_GROUP_ID')"
   ]
  },
  {
   "cell_type": "code",
   "execution_count": 83,
   "metadata": {},
   "outputs": [],
   "source": [
    "# x1  = x1['PERSON_MASTER_ID'].to_list()"
   ]
  },
  {
   "cell_type": "code",
   "execution_count": 84,
   "metadata": {},
   "outputs": [],
   "source": [
    "# x1"
   ]
  },
  {
   "cell_type": "code",
   "execution_count": 85,
   "metadata": {},
   "outputs": [],
   "source": [
    "peer_chg = peer_chg['PEER_GROUP_ID'].to_list()"
   ]
  },
  {
   "cell_type": "code",
   "execution_count": 86,
   "metadata": {},
   "outputs": [
    {
     "data": {
      "text/plain": [
       "['Government Sector_1',\n",
       " 'Government Sector_2',\n",
       " 'Government Sector_3',\n",
       " 'Government Sector_4',\n",
       " 'Housewife_0',\n",
       " 'Others_1',\n",
       " 'Others_2',\n",
       " 'Others_5',\n",
       " 'Others_8',\n",
       " 'Others_9',\n",
       " 'Private Sector_1',\n",
       " 'Professional_0',\n",
       " 'Professional_1',\n",
       " 'Public Sector_0',\n",
       " 'Public Sector_1',\n",
       " 'Retired_0',\n",
       " 'Retired_1',\n",
       " 'Self Employed_0',\n",
       " 'Self Employed_1',\n",
       " 'Self Employed_2',\n",
       " 'Self Employed_3',\n",
       " 'Self Employed_4',\n",
       " 'Student_0']"
      ]
     },
     "execution_count": 86,
     "metadata": {},
     "output_type": "execute_result"
    }
   ],
   "source": [
    "peer_chg"
   ]
  },
  {
   "cell_type": "code",
   "execution_count": 87,
   "metadata": {},
   "outputs": [],
   "source": [
    "# peer_chg = tuple(peer_chg)"
   ]
  },
  {
   "cell_type": "code",
   "execution_count": 88,
   "metadata": {},
   "outputs": [],
   "source": [
    "# from tqdm import tqdm"
   ]
  },
  {
   "cell_type": "code",
   "execution_count": 89,
   "metadata": {},
   "outputs": [],
   "source": [
    "# for ind,row in tqdm(ind_data_U.iterrows()):\n",
    "#     for peer in peer_chg:\n",
    "#         if (row['PEER_GROUP_ID']== peer):\n",
    "# #             print(row['PEER_GROUP_ID'],peer)\n",
    "# #             break\n",
    "#             ind_data_U['PEER_GROUP_ID'][ind] = 'Not_available' \n",
    "# #             row['PEER_GROUP_ID'] = 'Not_available'\n",
    "\n",
    "    "
   ]
  },
  {
   "cell_type": "code",
   "execution_count": 90,
   "metadata": {},
   "outputs": [],
   "source": [
    "# z = ind_data_U[ind_data_U['PEER_GROUP_ID'] == 'Accounts and Finance_0'].head(10)"
   ]
  },
  {
   "cell_type": "code",
   "execution_count": 91,
   "metadata": {},
   "outputs": [],
   "source": [
    "# z.to_csv('results2.csv')"
   ]
  },
  {
   "cell_type": "code",
   "execution_count": 92,
   "metadata": {},
   "outputs": [],
   "source": [
    "ind_data_U_temp = ind_data_U[ind_data_U['PEER_GROUP_ID'].isin(peer_chg)]"
   ]
  },
  {
   "cell_type": "code",
   "execution_count": 93,
   "metadata": {},
   "outputs": [
    {
     "data": {
      "text/html": [
       "<div>\n",
       "<style scoped>\n",
       "    .dataframe tbody tr th:only-of-type {\n",
       "        vertical-align: middle;\n",
       "    }\n",
       "\n",
       "    .dataframe tbody tr th {\n",
       "        vertical-align: top;\n",
       "    }\n",
       "\n",
       "    .dataframe thead th {\n",
       "        text-align: right;\n",
       "    }\n",
       "</style>\n",
       "<table border=\"1\" class=\"dataframe\">\n",
       "  <thead>\n",
       "    <tr style=\"text-align: right;\">\n",
       "      <th></th>\n",
       "      <th>PERSON_MASTER_ID</th>\n",
       "      <th>OCCUPATION_BUSINESS_CLEAN</th>\n",
       "      <th>PEER_GROUP_AMNT</th>\n",
       "      <th>PEER_GROUP_AMNT_Scaled</th>\n",
       "      <th>PEER_GROUP_ID</th>\n",
       "      <th>Cluster_labels</th>\n",
       "    </tr>\n",
       "  </thead>\n",
       "  <tbody>\n",
       "    <tr>\n",
       "      <th>5</th>\n",
       "      <td>6</td>\n",
       "      <td>Self Employed</td>\n",
       "      <td>0.00000</td>\n",
       "      <td>0.00000</td>\n",
       "      <td>Self Employed_0</td>\n",
       "      <td>0</td>\n",
       "    </tr>\n",
       "    <tr>\n",
       "      <th>6</th>\n",
       "      <td>7</td>\n",
       "      <td>Self Employed</td>\n",
       "      <td>15000000.00000</td>\n",
       "      <td>0.00000</td>\n",
       "      <td>Self Employed_3</td>\n",
       "      <td>3</td>\n",
       "    </tr>\n",
       "    <tr>\n",
       "      <th>32</th>\n",
       "      <td>43</td>\n",
       "      <td>Government Sector</td>\n",
       "      <td>1034801000000.00000</td>\n",
       "      <td>0.21703</td>\n",
       "      <td>Government Sector_4</td>\n",
       "      <td>4</td>\n",
       "    </tr>\n",
       "    <tr>\n",
       "      <th>33</th>\n",
       "      <td>44</td>\n",
       "      <td>Government Sector</td>\n",
       "      <td>1034800000000.00000</td>\n",
       "      <td>0.21703</td>\n",
       "      <td>Government Sector_4</td>\n",
       "      <td>4</td>\n",
       "    </tr>\n",
       "    <tr>\n",
       "      <th>37</th>\n",
       "      <td>48</td>\n",
       "      <td>Others</td>\n",
       "      <td>775997555028.00000</td>\n",
       "      <td>0.16275</td>\n",
       "      <td>Others_9</td>\n",
       "      <td>9</td>\n",
       "    </tr>\n",
       "    <tr>\n",
       "      <th>...</th>\n",
       "      <td>...</td>\n",
       "      <td>...</td>\n",
       "      <td>...</td>\n",
       "      <td>...</td>\n",
       "      <td>...</td>\n",
       "      <td>...</td>\n",
       "    </tr>\n",
       "    <tr>\n",
       "      <th>334</th>\n",
       "      <td>419</td>\n",
       "      <td>Others</td>\n",
       "      <td>10000000.00000</td>\n",
       "      <td>0.00000</td>\n",
       "      <td>Others_8</td>\n",
       "      <td>8</td>\n",
       "    </tr>\n",
       "    <tr>\n",
       "      <th>335</th>\n",
       "      <td>420</td>\n",
       "      <td>Self Employed</td>\n",
       "      <td>10000000.00000</td>\n",
       "      <td>0.00000</td>\n",
       "      <td>Self Employed_2</td>\n",
       "      <td>2</td>\n",
       "    </tr>\n",
       "    <tr>\n",
       "      <th>336</th>\n",
       "      <td>421</td>\n",
       "      <td>Others</td>\n",
       "      <td>10000000.00000</td>\n",
       "      <td>0.00000</td>\n",
       "      <td>Others_8</td>\n",
       "      <td>8</td>\n",
       "    </tr>\n",
       "    <tr>\n",
       "      <th>337</th>\n",
       "      <td>422</td>\n",
       "      <td>Self Employed</td>\n",
       "      <td>10000000.00000</td>\n",
       "      <td>0.00000</td>\n",
       "      <td>Self Employed_2</td>\n",
       "      <td>2</td>\n",
       "    </tr>\n",
       "    <tr>\n",
       "      <th>338</th>\n",
       "      <td>423</td>\n",
       "      <td>Others</td>\n",
       "      <td>10000000.00000</td>\n",
       "      <td>0.00000</td>\n",
       "      <td>Others_8</td>\n",
       "      <td>8</td>\n",
       "    </tr>\n",
       "  </tbody>\n",
       "</table>\n",
       "<p>80 rows × 6 columns</p>\n",
       "</div>"
      ],
      "text/plain": [
       "     PERSON_MASTER_ID OCCUPATION_BUSINESS_CLEAN     PEER_GROUP_AMNT  \\\n",
       "5                   6             Self Employed             0.00000   \n",
       "6                   7             Self Employed      15000000.00000   \n",
       "32                 43         Government Sector 1034801000000.00000   \n",
       "33                 44         Government Sector 1034800000000.00000   \n",
       "37                 48                    Others  775997555028.00000   \n",
       "..                ...                       ...                 ...   \n",
       "334               419                    Others      10000000.00000   \n",
       "335               420             Self Employed      10000000.00000   \n",
       "336               421                    Others      10000000.00000   \n",
       "337               422             Self Employed      10000000.00000   \n",
       "338               423                    Others      10000000.00000   \n",
       "\n",
       "     PEER_GROUP_AMNT_Scaled        PEER_GROUP_ID  Cluster_labels  \n",
       "5                   0.00000      Self Employed_0               0  \n",
       "6                   0.00000      Self Employed_3               3  \n",
       "32                  0.21703  Government Sector_4               4  \n",
       "33                  0.21703  Government Sector_4               4  \n",
       "37                  0.16275             Others_9               9  \n",
       "..                      ...                  ...             ...  \n",
       "334                 0.00000             Others_8               8  \n",
       "335                 0.00000      Self Employed_2               2  \n",
       "336                 0.00000             Others_8               8  \n",
       "337                 0.00000      Self Employed_2               2  \n",
       "338                 0.00000             Others_8               8  \n",
       "\n",
       "[80 rows x 6 columns]"
      ]
     },
     "execution_count": 93,
     "metadata": {},
     "output_type": "execute_result"
    }
   ],
   "source": [
    "ind_data_U_temp"
   ]
  },
  {
   "cell_type": "code",
   "execution_count": 94,
   "metadata": {},
   "outputs": [],
   "source": [
    "peer_chg = tuple(peer_chg)"
   ]
  },
  {
   "cell_type": "code",
   "execution_count": 95,
   "metadata": {},
   "outputs": [],
   "source": [
    "# peer_grp_1 = pd.read_sql_query(\"select PEER_GROUP_ID,CAST (avg(coalesce(TRAN_AMNT,0)) AS DECIMAL(20,2)) as TRAN_AMNT_MEAN,CAST (avg(coalesce(CBDT_INCOME_RANGE,0)) AS DECIMAL(20,2)) as CBDT_INCOME_RANGE_MEAN from FINCORE_DB.Fincore_Analytics.RISK_PERSON_SUMMARY_STG  where PEER_GROUP_ID is not null AND peer_group_id not in {} group by PEER_GROUP_ID order by PEER_GROUP_ID \".format(peer_chg),conn)"
   ]
  },
  {
   "cell_type": "code",
   "execution_count": null,
   "metadata": {},
   "outputs": [],
   "source": []
  },
  {
   "cell_type": "code",
   "execution_count": 96,
   "metadata": {},
   "outputs": [],
   "source": [
    "cursor.execute('''UPDATE FINCORE_DB.FINCORE_ANALYTICS.RISK_PERSON_SUMMARY_STG SET PEER_GROUP_ID = 'OTHERS_CHANGED' WHERE PEER_GROUP_ID IN {} '''.format(peer_chg))\n",
    "conn.commit()"
   ]
  },
  {
   "cell_type": "code",
   "execution_count": 97,
   "metadata": {},
   "outputs": [],
   "source": [
    "df = pd.read_sql_query('''select * from FINCORE_DB.FINCORE_ANALYTICS.RISK_PERSON_SUMMARY_STG with (nolock) where PEER_GROUP_ID = 'OTHERS_CHANGED' ''',conn)"
   ]
  },
  {
   "cell_type": "code",
   "execution_count": 98,
   "metadata": {},
   "outputs": [
    {
     "data": {
      "text/html": [
       "<div>\n",
       "<style scoped>\n",
       "    .dataframe tbody tr th:only-of-type {\n",
       "        vertical-align: middle;\n",
       "    }\n",
       "\n",
       "    .dataframe tbody tr th {\n",
       "        vertical-align: top;\n",
       "    }\n",
       "\n",
       "    .dataframe thead th {\n",
       "        text-align: right;\n",
       "    }\n",
       "</style>\n",
       "<table border=\"1\" class=\"dataframe\">\n",
       "  <thead>\n",
       "    <tr style=\"text-align: right;\">\n",
       "      <th></th>\n",
       "      <th>PERSON_MASTER_ID</th>\n",
       "      <th>PEER_GROUP_ID</th>\n",
       "      <th>PAN</th>\n",
       "      <th>DIN</th>\n",
       "      <th>CKYC_NUMBER</th>\n",
       "      <th>FULL_NAME</th>\n",
       "      <th>FATHER_NAME</th>\n",
       "      <th>MOTHER_NAME</th>\n",
       "      <th>DATE_OF_BIRTH</th>\n",
       "      <th>GENDER</th>\n",
       "      <th>CBDT_INCOME_RANGE</th>\n",
       "      <th>TRAN_AMNT_CREDIT</th>\n",
       "      <th>TRAN_AMNT_DEBIT</th>\n",
       "      <th>PEER_GROUP_AMNT</th>\n",
       "      <th>PINCODE</th>\n",
       "      <th>LATITUDE</th>\n",
       "      <th>LONGITUDE</th>\n",
       "      <th>OCCUPATION_BUSINESS</th>\n",
       "      <th>ACCOUNT_COUNT</th>\n",
       "      <th>ADDRESS_COUNT</th>\n",
       "      <th>MOBILE_COUNT</th>\n",
       "      <th>TELEPHONE_COUNT</th>\n",
       "      <th>EMAIL_COUNT</th>\n",
       "      <th>WATCHLIST_COUNT</th>\n",
       "      <th>LEA_REQUESTS_COUNT</th>\n",
       "      <th>LNK_REPORT_COUNT</th>\n",
       "      <th>STR_REPORT_COUNT</th>\n",
       "      <th>STR_AMOUNT_DEBIT</th>\n",
       "      <th>STR_AMOUNT_CREDIT</th>\n",
       "      <th>CTR_REPORT_COUNT</th>\n",
       "      <th>CTR_AMOUNT_DEBIT</th>\n",
       "      <th>CTR_AMOUNT_CREDIT</th>\n",
       "      <th>NTR_REPORT_COUNT</th>\n",
       "      <th>NTR_AMOUNT_DEBIT</th>\n",
       "      <th>NTR_AMOUNT_CREDIT</th>\n",
       "      <th>PTR_REPORT_COUNT</th>\n",
       "      <th>PTR_AMOUNT_DEBIT</th>\n",
       "      <th>PTR_AMOUNT_CREDIT</th>\n",
       "      <th>CBWTR_REPORT_COUNT</th>\n",
       "      <th>CBWTR_AMOUNT_DEBIT</th>\n",
       "      <th>CBWTR_AMOUNT_CREDIT</th>\n",
       "      <th>CCR_REPORT_COUNT</th>\n",
       "      <th>CCR_AMOUNT_DEBIT</th>\n",
       "      <th>CCR_AMOUNT_CREDIT</th>\n",
       "      <th>CREATE_DATE</th>\n",
       "      <th>UPDATE_DATE</th>\n",
       "    </tr>\n",
       "  </thead>\n",
       "  <tbody>\n",
       "    <tr>\n",
       "      <th>0</th>\n",
       "      <td>6</td>\n",
       "      <td>OTHERS_CHANGED</td>\n",
       "      <td>ACDPI6767U</td>\n",
       "      <td>None</td>\n",
       "      <td>65700000000000</td>\n",
       "      <td>Manoj Kumar Tripathi</td>\n",
       "      <td>Harish Tripathi</td>\n",
       "      <td>None</td>\n",
       "      <td>1981-09-15</td>\n",
       "      <td>Male</td>\n",
       "      <td>None</td>\n",
       "      <td>nan</td>\n",
       "      <td>nan</td>\n",
       "      <td>0.00000</td>\n",
       "      <td>201306.00000</td>\n",
       "      <td>None</td>\n",
       "      <td>None</td>\n",
       "      <td>Self Employed</td>\n",
       "      <td>None</td>\n",
       "      <td>None</td>\n",
       "      <td>1.00000</td>\n",
       "      <td>nan</td>\n",
       "      <td>1.00000</td>\n",
       "      <td>None</td>\n",
       "      <td>None</td>\n",
       "      <td>None</td>\n",
       "      <td>1.00000</td>\n",
       "      <td>15000000.00000</td>\n",
       "      <td>nan</td>\n",
       "      <td>nan</td>\n",
       "      <td>None</td>\n",
       "      <td>nan</td>\n",
       "      <td>nan</td>\n",
       "      <td>nan</td>\n",
       "      <td>nan</td>\n",
       "      <td>None</td>\n",
       "      <td>None</td>\n",
       "      <td>None</td>\n",
       "      <td>nan</td>\n",
       "      <td>None</td>\n",
       "      <td>None</td>\n",
       "      <td>None</td>\n",
       "      <td>None</td>\n",
       "      <td>None</td>\n",
       "      <td>None</td>\n",
       "      <td>None</td>\n",
       "    </tr>\n",
       "    <tr>\n",
       "      <th>1</th>\n",
       "      <td>7</td>\n",
       "      <td>OTHERS_CHANGED</td>\n",
       "      <td>BCDPI8788I</td>\n",
       "      <td>None</td>\n",
       "      <td>None</td>\n",
       "      <td>Monica Tripathi</td>\n",
       "      <td>Nitin Tiwari</td>\n",
       "      <td>None</td>\n",
       "      <td>1990-08-20</td>\n",
       "      <td>Female</td>\n",
       "      <td>None</td>\n",
       "      <td>nan</td>\n",
       "      <td>15000000.00000</td>\n",
       "      <td>15000000.00000</td>\n",
       "      <td>201306.00000</td>\n",
       "      <td>None</td>\n",
       "      <td>None</td>\n",
       "      <td>Self Employed</td>\n",
       "      <td>None</td>\n",
       "      <td>None</td>\n",
       "      <td>1.00000</td>\n",
       "      <td>nan</td>\n",
       "      <td>1.00000</td>\n",
       "      <td>None</td>\n",
       "      <td>None</td>\n",
       "      <td>None</td>\n",
       "      <td>1.00000</td>\n",
       "      <td>15000000.00000</td>\n",
       "      <td>nan</td>\n",
       "      <td>nan</td>\n",
       "      <td>None</td>\n",
       "      <td>nan</td>\n",
       "      <td>nan</td>\n",
       "      <td>nan</td>\n",
       "      <td>nan</td>\n",
       "      <td>None</td>\n",
       "      <td>None</td>\n",
       "      <td>None</td>\n",
       "      <td>nan</td>\n",
       "      <td>None</td>\n",
       "      <td>None</td>\n",
       "      <td>None</td>\n",
       "      <td>None</td>\n",
       "      <td>None</td>\n",
       "      <td>None</td>\n",
       "      <td>None</td>\n",
       "    </tr>\n",
       "    <tr>\n",
       "      <th>2</th>\n",
       "      <td>43</td>\n",
       "      <td>OTHERS_CHANGED</td>\n",
       "      <td>FNHPK5558K</td>\n",
       "      <td>54814125</td>\n",
       "      <td>None</td>\n",
       "      <td>Ranjan S Rupesh</td>\n",
       "      <td>Karamver</td>\n",
       "      <td>None</td>\n",
       "      <td>1985-11-07</td>\n",
       "      <td>Male</td>\n",
       "      <td>None</td>\n",
       "      <td>1034801000000.00000</td>\n",
       "      <td>nan</td>\n",
       "      <td>1034801000000.00000</td>\n",
       "      <td>560100.00000</td>\n",
       "      <td>None</td>\n",
       "      <td>None</td>\n",
       "      <td>Government Sector</td>\n",
       "      <td>None</td>\n",
       "      <td>None</td>\n",
       "      <td>1.00000</td>\n",
       "      <td>nan</td>\n",
       "      <td>2.00000</td>\n",
       "      <td>None</td>\n",
       "      <td>None</td>\n",
       "      <td>None</td>\n",
       "      <td>2.00000</td>\n",
       "      <td>nan</td>\n",
       "      <td>75401000000.00000</td>\n",
       "      <td>nan</td>\n",
       "      <td>None</td>\n",
       "      <td>nan</td>\n",
       "      <td>nan</td>\n",
       "      <td>nan</td>\n",
       "      <td>nan</td>\n",
       "      <td>None</td>\n",
       "      <td>None</td>\n",
       "      <td>None</td>\n",
       "      <td>nan</td>\n",
       "      <td>None</td>\n",
       "      <td>None</td>\n",
       "      <td>None</td>\n",
       "      <td>None</td>\n",
       "      <td>None</td>\n",
       "      <td>None</td>\n",
       "      <td>None</td>\n",
       "    </tr>\n",
       "    <tr>\n",
       "      <th>3</th>\n",
       "      <td>44</td>\n",
       "      <td>OTHERS_CHANGED</td>\n",
       "      <td>FJNPK5558K</td>\n",
       "      <td>None</td>\n",
       "      <td>None</td>\n",
       "      <td>Ramesh J Rajnikan</td>\n",
       "      <td>Kaluram</td>\n",
       "      <td>None</td>\n",
       "      <td>1979-10-23</td>\n",
       "      <td>Male</td>\n",
       "      <td>None</td>\n",
       "      <td>1034800000000.00000</td>\n",
       "      <td>nan</td>\n",
       "      <td>1034800000000.00000</td>\n",
       "      <td>560100.00000</td>\n",
       "      <td>None</td>\n",
       "      <td>None</td>\n",
       "      <td>Government Sector</td>\n",
       "      <td>None</td>\n",
       "      <td>None</td>\n",
       "      <td>1.00000</td>\n",
       "      <td>nan</td>\n",
       "      <td>1.00000</td>\n",
       "      <td>None</td>\n",
       "      <td>None</td>\n",
       "      <td>None</td>\n",
       "      <td>1.00000</td>\n",
       "      <td>nan</td>\n",
       "      <td>73600000000.00000</td>\n",
       "      <td>nan</td>\n",
       "      <td>None</td>\n",
       "      <td>nan</td>\n",
       "      <td>nan</td>\n",
       "      <td>nan</td>\n",
       "      <td>nan</td>\n",
       "      <td>None</td>\n",
       "      <td>None</td>\n",
       "      <td>None</td>\n",
       "      <td>nan</td>\n",
       "      <td>None</td>\n",
       "      <td>None</td>\n",
       "      <td>None</td>\n",
       "      <td>None</td>\n",
       "      <td>None</td>\n",
       "      <td>None</td>\n",
       "      <td>None</td>\n",
       "    </tr>\n",
       "    <tr>\n",
       "      <th>4</th>\n",
       "      <td>48</td>\n",
       "      <td>OTHERS_CHANGED</td>\n",
       "      <td>ABNPI0954B</td>\n",
       "      <td>None</td>\n",
       "      <td>None</td>\n",
       "      <td>Qrithi W Keehin</td>\n",
       "      <td>kales</td>\n",
       "      <td>None</td>\n",
       "      <td>1991-04-17</td>\n",
       "      <td>Male</td>\n",
       "      <td>None</td>\n",
       "      <td>775997555028.00000</td>\n",
       "      <td>nan</td>\n",
       "      <td>775997555028.00000</td>\n",
       "      <td>560103.00000</td>\n",
       "      <td>None</td>\n",
       "      <td>None</td>\n",
       "      <td>Others</td>\n",
       "      <td>None</td>\n",
       "      <td>None</td>\n",
       "      <td>1.00000</td>\n",
       "      <td>nan</td>\n",
       "      <td>nan</td>\n",
       "      <td>None</td>\n",
       "      <td>None</td>\n",
       "      <td>None</td>\n",
       "      <td>nan</td>\n",
       "      <td>nan</td>\n",
       "      <td>nan</td>\n",
       "      <td>nan</td>\n",
       "      <td>None</td>\n",
       "      <td>nan</td>\n",
       "      <td>nan</td>\n",
       "      <td>nan</td>\n",
       "      <td>nan</td>\n",
       "      <td>None</td>\n",
       "      <td>None</td>\n",
       "      <td>None</td>\n",
       "      <td>nan</td>\n",
       "      <td>None</td>\n",
       "      <td>None</td>\n",
       "      <td>None</td>\n",
       "      <td>None</td>\n",
       "      <td>None</td>\n",
       "      <td>None</td>\n",
       "      <td>None</td>\n",
       "    </tr>\n",
       "    <tr>\n",
       "      <th>...</th>\n",
       "      <td>...</td>\n",
       "      <td>...</td>\n",
       "      <td>...</td>\n",
       "      <td>...</td>\n",
       "      <td>...</td>\n",
       "      <td>...</td>\n",
       "      <td>...</td>\n",
       "      <td>...</td>\n",
       "      <td>...</td>\n",
       "      <td>...</td>\n",
       "      <td>...</td>\n",
       "      <td>...</td>\n",
       "      <td>...</td>\n",
       "      <td>...</td>\n",
       "      <td>...</td>\n",
       "      <td>...</td>\n",
       "      <td>...</td>\n",
       "      <td>...</td>\n",
       "      <td>...</td>\n",
       "      <td>...</td>\n",
       "      <td>...</td>\n",
       "      <td>...</td>\n",
       "      <td>...</td>\n",
       "      <td>...</td>\n",
       "      <td>...</td>\n",
       "      <td>...</td>\n",
       "      <td>...</td>\n",
       "      <td>...</td>\n",
       "      <td>...</td>\n",
       "      <td>...</td>\n",
       "      <td>...</td>\n",
       "      <td>...</td>\n",
       "      <td>...</td>\n",
       "      <td>...</td>\n",
       "      <td>...</td>\n",
       "      <td>...</td>\n",
       "      <td>...</td>\n",
       "      <td>...</td>\n",
       "      <td>...</td>\n",
       "      <td>...</td>\n",
       "      <td>...</td>\n",
       "      <td>...</td>\n",
       "      <td>...</td>\n",
       "      <td>...</td>\n",
       "      <td>...</td>\n",
       "      <td>...</td>\n",
       "    </tr>\n",
       "    <tr>\n",
       "      <th>75</th>\n",
       "      <td>419</td>\n",
       "      <td>OTHERS_CHANGED</td>\n",
       "      <td>DGFPY5814J</td>\n",
       "      <td>12545255</td>\n",
       "      <td>None</td>\n",
       "      <td>Sudarshan S Dake</td>\n",
       "      <td>None</td>\n",
       "      <td>None</td>\n",
       "      <td>1999-10-15</td>\n",
       "      <td>Male</td>\n",
       "      <td>None</td>\n",
       "      <td>nan</td>\n",
       "      <td>10000000.00000</td>\n",
       "      <td>10000000.00000</td>\n",
       "      <td>560100.00000</td>\n",
       "      <td>None</td>\n",
       "      <td>None</td>\n",
       "      <td>Others</td>\n",
       "      <td>None</td>\n",
       "      <td>None</td>\n",
       "      <td>1.00000</td>\n",
       "      <td>nan</td>\n",
       "      <td>nan</td>\n",
       "      <td>None</td>\n",
       "      <td>None</td>\n",
       "      <td>None</td>\n",
       "      <td>nan</td>\n",
       "      <td>nan</td>\n",
       "      <td>nan</td>\n",
       "      <td>nan</td>\n",
       "      <td>None</td>\n",
       "      <td>nan</td>\n",
       "      <td>1.00000</td>\n",
       "      <td>110000000.00000</td>\n",
       "      <td>nan</td>\n",
       "      <td>None</td>\n",
       "      <td>None</td>\n",
       "      <td>None</td>\n",
       "      <td>nan</td>\n",
       "      <td>None</td>\n",
       "      <td>None</td>\n",
       "      <td>None</td>\n",
       "      <td>None</td>\n",
       "      <td>None</td>\n",
       "      <td>None</td>\n",
       "      <td>None</td>\n",
       "    </tr>\n",
       "    <tr>\n",
       "      <th>76</th>\n",
       "      <td>420</td>\n",
       "      <td>OTHERS_CHANGED</td>\n",
       "      <td>DGFPY5815J</td>\n",
       "      <td>12545256</td>\n",
       "      <td>None</td>\n",
       "      <td>Varun G Dutt</td>\n",
       "      <td>None</td>\n",
       "      <td>None</td>\n",
       "      <td>1999-10-16</td>\n",
       "      <td>Male</td>\n",
       "      <td>None</td>\n",
       "      <td>nan</td>\n",
       "      <td>10000000.00000</td>\n",
       "      <td>10000000.00000</td>\n",
       "      <td>560100.00000</td>\n",
       "      <td>None</td>\n",
       "      <td>None</td>\n",
       "      <td>Self Employed</td>\n",
       "      <td>None</td>\n",
       "      <td>None</td>\n",
       "      <td>1.00000</td>\n",
       "      <td>nan</td>\n",
       "      <td>nan</td>\n",
       "      <td>None</td>\n",
       "      <td>None</td>\n",
       "      <td>None</td>\n",
       "      <td>nan</td>\n",
       "      <td>nan</td>\n",
       "      <td>nan</td>\n",
       "      <td>nan</td>\n",
       "      <td>None</td>\n",
       "      <td>nan</td>\n",
       "      <td>1.00000</td>\n",
       "      <td>110000000.00000</td>\n",
       "      <td>nan</td>\n",
       "      <td>None</td>\n",
       "      <td>None</td>\n",
       "      <td>None</td>\n",
       "      <td>nan</td>\n",
       "      <td>None</td>\n",
       "      <td>None</td>\n",
       "      <td>None</td>\n",
       "      <td>None</td>\n",
       "      <td>None</td>\n",
       "      <td>None</td>\n",
       "      <td>None</td>\n",
       "    </tr>\n",
       "    <tr>\n",
       "      <th>77</th>\n",
       "      <td>421</td>\n",
       "      <td>OTHERS_CHANGED</td>\n",
       "      <td>DGFPY5816J</td>\n",
       "      <td>12545257</td>\n",
       "      <td>None</td>\n",
       "      <td>Dalveer K Singh</td>\n",
       "      <td>None</td>\n",
       "      <td>None</td>\n",
       "      <td>1999-10-17</td>\n",
       "      <td>Male</td>\n",
       "      <td>None</td>\n",
       "      <td>nan</td>\n",
       "      <td>10000000.00000</td>\n",
       "      <td>10000000.00000</td>\n",
       "      <td>560100.00000</td>\n",
       "      <td>None</td>\n",
       "      <td>None</td>\n",
       "      <td>Others</td>\n",
       "      <td>None</td>\n",
       "      <td>None</td>\n",
       "      <td>1.00000</td>\n",
       "      <td>nan</td>\n",
       "      <td>nan</td>\n",
       "      <td>None</td>\n",
       "      <td>None</td>\n",
       "      <td>None</td>\n",
       "      <td>nan</td>\n",
       "      <td>nan</td>\n",
       "      <td>nan</td>\n",
       "      <td>nan</td>\n",
       "      <td>None</td>\n",
       "      <td>nan</td>\n",
       "      <td>1.00000</td>\n",
       "      <td>110000000.00000</td>\n",
       "      <td>nan</td>\n",
       "      <td>None</td>\n",
       "      <td>None</td>\n",
       "      <td>None</td>\n",
       "      <td>nan</td>\n",
       "      <td>None</td>\n",
       "      <td>None</td>\n",
       "      <td>None</td>\n",
       "      <td>None</td>\n",
       "      <td>None</td>\n",
       "      <td>None</td>\n",
       "      <td>None</td>\n",
       "    </tr>\n",
       "    <tr>\n",
       "      <th>78</th>\n",
       "      <td>422</td>\n",
       "      <td>OTHERS_CHANGED</td>\n",
       "      <td>DGFPY5817J</td>\n",
       "      <td>12545258</td>\n",
       "      <td>None</td>\n",
       "      <td>Eshita L Chatterjee</td>\n",
       "      <td>None</td>\n",
       "      <td>None</td>\n",
       "      <td>1999-10-18</td>\n",
       "      <td>Female</td>\n",
       "      <td>None</td>\n",
       "      <td>nan</td>\n",
       "      <td>10000000.00000</td>\n",
       "      <td>10000000.00000</td>\n",
       "      <td>560100.00000</td>\n",
       "      <td>None</td>\n",
       "      <td>None</td>\n",
       "      <td>Self Employed</td>\n",
       "      <td>None</td>\n",
       "      <td>None</td>\n",
       "      <td>1.00000</td>\n",
       "      <td>nan</td>\n",
       "      <td>nan</td>\n",
       "      <td>None</td>\n",
       "      <td>None</td>\n",
       "      <td>None</td>\n",
       "      <td>nan</td>\n",
       "      <td>nan</td>\n",
       "      <td>nan</td>\n",
       "      <td>nan</td>\n",
       "      <td>None</td>\n",
       "      <td>nan</td>\n",
       "      <td>1.00000</td>\n",
       "      <td>110000000.00000</td>\n",
       "      <td>nan</td>\n",
       "      <td>None</td>\n",
       "      <td>None</td>\n",
       "      <td>None</td>\n",
       "      <td>nan</td>\n",
       "      <td>None</td>\n",
       "      <td>None</td>\n",
       "      <td>None</td>\n",
       "      <td>None</td>\n",
       "      <td>None</td>\n",
       "      <td>None</td>\n",
       "      <td>None</td>\n",
       "    </tr>\n",
       "    <tr>\n",
       "      <th>79</th>\n",
       "      <td>423</td>\n",
       "      <td>OTHERS_CHANGED</td>\n",
       "      <td>DGFPY5818J</td>\n",
       "      <td>12545259</td>\n",
       "      <td>None</td>\n",
       "      <td>Sadique I Iqbal</td>\n",
       "      <td>None</td>\n",
       "      <td>None</td>\n",
       "      <td>1999-10-19</td>\n",
       "      <td>Male</td>\n",
       "      <td>None</td>\n",
       "      <td>nan</td>\n",
       "      <td>10000000.00000</td>\n",
       "      <td>10000000.00000</td>\n",
       "      <td>560100.00000</td>\n",
       "      <td>None</td>\n",
       "      <td>None</td>\n",
       "      <td>Others</td>\n",
       "      <td>None</td>\n",
       "      <td>None</td>\n",
       "      <td>1.00000</td>\n",
       "      <td>nan</td>\n",
       "      <td>nan</td>\n",
       "      <td>None</td>\n",
       "      <td>None</td>\n",
       "      <td>None</td>\n",
       "      <td>nan</td>\n",
       "      <td>nan</td>\n",
       "      <td>nan</td>\n",
       "      <td>nan</td>\n",
       "      <td>None</td>\n",
       "      <td>nan</td>\n",
       "      <td>1.00000</td>\n",
       "      <td>110000000.00000</td>\n",
       "      <td>nan</td>\n",
       "      <td>None</td>\n",
       "      <td>None</td>\n",
       "      <td>None</td>\n",
       "      <td>nan</td>\n",
       "      <td>None</td>\n",
       "      <td>None</td>\n",
       "      <td>None</td>\n",
       "      <td>None</td>\n",
       "      <td>None</td>\n",
       "      <td>None</td>\n",
       "      <td>None</td>\n",
       "    </tr>\n",
       "  </tbody>\n",
       "</table>\n",
       "<p>80 rows × 46 columns</p>\n",
       "</div>"
      ],
      "text/plain": [
       "    PERSON_MASTER_ID   PEER_GROUP_ID         PAN       DIN     CKYC_NUMBER  \\\n",
       "0                  6  OTHERS_CHANGED  ACDPI6767U      None  65700000000000   \n",
       "1                  7  OTHERS_CHANGED  BCDPI8788I      None            None   \n",
       "2                 43  OTHERS_CHANGED  FNHPK5558K  54814125            None   \n",
       "3                 44  OTHERS_CHANGED  FJNPK5558K      None            None   \n",
       "4                 48  OTHERS_CHANGED  ABNPI0954B      None            None   \n",
       "..               ...             ...         ...       ...             ...   \n",
       "75               419  OTHERS_CHANGED  DGFPY5814J  12545255            None   \n",
       "76               420  OTHERS_CHANGED  DGFPY5815J  12545256            None   \n",
       "77               421  OTHERS_CHANGED  DGFPY5816J  12545257            None   \n",
       "78               422  OTHERS_CHANGED  DGFPY5817J  12545258            None   \n",
       "79               423  OTHERS_CHANGED  DGFPY5818J  12545259            None   \n",
       "\n",
       "               FULL_NAME      FATHER_NAME MOTHER_NAME DATE_OF_BIRTH  GENDER  \\\n",
       "0   Manoj Kumar Tripathi  Harish Tripathi        None    1981-09-15    Male   \n",
       "1        Monica Tripathi     Nitin Tiwari        None    1990-08-20  Female   \n",
       "2        Ranjan S Rupesh         Karamver        None    1985-11-07    Male   \n",
       "3      Ramesh J Rajnikan          Kaluram        None    1979-10-23    Male   \n",
       "4        Qrithi W Keehin            kales        None    1991-04-17    Male   \n",
       "..                   ...              ...         ...           ...     ...   \n",
       "75      Sudarshan S Dake             None        None    1999-10-15    Male   \n",
       "76          Varun G Dutt             None        None    1999-10-16    Male   \n",
       "77       Dalveer K Singh             None        None    1999-10-17    Male   \n",
       "78   Eshita L Chatterjee             None        None    1999-10-18  Female   \n",
       "79       Sadique I Iqbal             None        None    1999-10-19    Male   \n",
       "\n",
       "   CBDT_INCOME_RANGE    TRAN_AMNT_CREDIT  TRAN_AMNT_DEBIT     PEER_GROUP_AMNT  \\\n",
       "0               None                 nan              nan             0.00000   \n",
       "1               None                 nan   15000000.00000      15000000.00000   \n",
       "2               None 1034801000000.00000              nan 1034801000000.00000   \n",
       "3               None 1034800000000.00000              nan 1034800000000.00000   \n",
       "4               None  775997555028.00000              nan  775997555028.00000   \n",
       "..               ...                 ...              ...                 ...   \n",
       "75              None                 nan   10000000.00000      10000000.00000   \n",
       "76              None                 nan   10000000.00000      10000000.00000   \n",
       "77              None                 nan   10000000.00000      10000000.00000   \n",
       "78              None                 nan   10000000.00000      10000000.00000   \n",
       "79              None                 nan   10000000.00000      10000000.00000   \n",
       "\n",
       "        PINCODE LATITUDE LONGITUDE OCCUPATION_BUSINESS ACCOUNT_COUNT  \\\n",
       "0  201306.00000     None      None       Self Employed          None   \n",
       "1  201306.00000     None      None       Self Employed          None   \n",
       "2  560100.00000     None      None   Government Sector          None   \n",
       "3  560100.00000     None      None   Government Sector          None   \n",
       "4  560103.00000     None      None              Others          None   \n",
       "..          ...      ...       ...                 ...           ...   \n",
       "75 560100.00000     None      None              Others          None   \n",
       "76 560100.00000     None      None       Self Employed          None   \n",
       "77 560100.00000     None      None              Others          None   \n",
       "78 560100.00000     None      None       Self Employed          None   \n",
       "79 560100.00000     None      None              Others          None   \n",
       "\n",
       "   ADDRESS_COUNT  MOBILE_COUNT  TELEPHONE_COUNT  EMAIL_COUNT WATCHLIST_COUNT  \\\n",
       "0           None       1.00000              nan      1.00000            None   \n",
       "1           None       1.00000              nan      1.00000            None   \n",
       "2           None       1.00000              nan      2.00000            None   \n",
       "3           None       1.00000              nan      1.00000            None   \n",
       "4           None       1.00000              nan          nan            None   \n",
       "..           ...           ...              ...          ...             ...   \n",
       "75          None       1.00000              nan          nan            None   \n",
       "76          None       1.00000              nan          nan            None   \n",
       "77          None       1.00000              nan          nan            None   \n",
       "78          None       1.00000              nan          nan            None   \n",
       "79          None       1.00000              nan          nan            None   \n",
       "\n",
       "   LEA_REQUESTS_COUNT LNK_REPORT_COUNT  STR_REPORT_COUNT  STR_AMOUNT_DEBIT  \\\n",
       "0                None             None           1.00000    15000000.00000   \n",
       "1                None             None           1.00000    15000000.00000   \n",
       "2                None             None           2.00000               nan   \n",
       "3                None             None           1.00000               nan   \n",
       "4                None             None               nan               nan   \n",
       "..                ...              ...               ...               ...   \n",
       "75               None             None               nan               nan   \n",
       "76               None             None               nan               nan   \n",
       "77               None             None               nan               nan   \n",
       "78               None             None               nan               nan   \n",
       "79               None             None               nan               nan   \n",
       "\n",
       "    STR_AMOUNT_CREDIT  CTR_REPORT_COUNT CTR_AMOUNT_DEBIT  CTR_AMOUNT_CREDIT  \\\n",
       "0                 nan               nan             None                nan   \n",
       "1                 nan               nan             None                nan   \n",
       "2   75401000000.00000               nan             None                nan   \n",
       "3   73600000000.00000               nan             None                nan   \n",
       "4                 nan               nan             None                nan   \n",
       "..                ...               ...              ...                ...   \n",
       "75                nan               nan             None                nan   \n",
       "76                nan               nan             None                nan   \n",
       "77                nan               nan             None                nan   \n",
       "78                nan               nan             None                nan   \n",
       "79                nan               nan             None                nan   \n",
       "\n",
       "    NTR_REPORT_COUNT  NTR_AMOUNT_DEBIT  NTR_AMOUNT_CREDIT PTR_REPORT_COUNT  \\\n",
       "0                nan               nan                nan             None   \n",
       "1                nan               nan                nan             None   \n",
       "2                nan               nan                nan             None   \n",
       "3                nan               nan                nan             None   \n",
       "4                nan               nan                nan             None   \n",
       "..               ...               ...                ...              ...   \n",
       "75           1.00000   110000000.00000                nan             None   \n",
       "76           1.00000   110000000.00000                nan             None   \n",
       "77           1.00000   110000000.00000                nan             None   \n",
       "78           1.00000   110000000.00000                nan             None   \n",
       "79           1.00000   110000000.00000                nan             None   \n",
       "\n",
       "   PTR_AMOUNT_DEBIT PTR_AMOUNT_CREDIT  CBWTR_REPORT_COUNT CBWTR_AMOUNT_DEBIT  \\\n",
       "0              None              None                 nan               None   \n",
       "1              None              None                 nan               None   \n",
       "2              None              None                 nan               None   \n",
       "3              None              None                 nan               None   \n",
       "4              None              None                 nan               None   \n",
       "..              ...               ...                 ...                ...   \n",
       "75             None              None                 nan               None   \n",
       "76             None              None                 nan               None   \n",
       "77             None              None                 nan               None   \n",
       "78             None              None                 nan               None   \n",
       "79             None              None                 nan               None   \n",
       "\n",
       "   CBWTR_AMOUNT_CREDIT CCR_REPORT_COUNT CCR_AMOUNT_DEBIT CCR_AMOUNT_CREDIT  \\\n",
       "0                 None             None             None              None   \n",
       "1                 None             None             None              None   \n",
       "2                 None             None             None              None   \n",
       "3                 None             None             None              None   \n",
       "4                 None             None             None              None   \n",
       "..                 ...              ...              ...               ...   \n",
       "75                None             None             None              None   \n",
       "76                None             None             None              None   \n",
       "77                None             None             None              None   \n",
       "78                None             None             None              None   \n",
       "79                None             None             None              None   \n",
       "\n",
       "   CREATE_DATE UPDATE_DATE  \n",
       "0         None        None  \n",
       "1         None        None  \n",
       "2         None        None  \n",
       "3         None        None  \n",
       "4         None        None  \n",
       "..         ...         ...  \n",
       "75        None        None  \n",
       "76        None        None  \n",
       "77        None        None  \n",
       "78        None        None  \n",
       "79        None        None  \n",
       "\n",
       "[80 rows x 46 columns]"
      ]
     },
     "execution_count": 98,
     "metadata": {},
     "output_type": "execute_result"
    }
   ],
   "source": [
    "df"
   ]
  },
  {
   "cell_type": "code",
   "execution_count": 99,
   "metadata": {},
   "outputs": [],
   "source": [
    "# df.loc[0,['CBDT_INCOME_RANGE']] = [100000000000]"
   ]
  },
  {
   "cell_type": "code",
   "execution_count": 100,
   "metadata": {},
   "outputs": [],
   "source": [
    "bins = [0,1,500000,1000000,2000000,3000000,4000000,5000000,7500000,10000000]\n",
    "labels = ['OTHERS_CHANGED_0','OTHERS_CHANGED_1','OTHERS_CHANGED_2','OTHERS_CHANGED_3','OTHERS_CHANGED_4','OTHERS_CHANGED_5','OTHERS_CHANGED_6','OTHERS_CHANGED_7','OTHERS_CHANGED_8']\n",
    "cluster_labels = [0,1,2,3,4,5,6,7,8]"
   ]
  },
  {
   "cell_type": "code",
   "execution_count": 101,
   "metadata": {},
   "outputs": [],
   "source": [
    "df['PEER_GROUP_ID'] = pd.cut(x = df['PEER_GROUP_AMNT'], bins = bins, labels = labels, include_lowest = True)\n",
    "df['Cluster_labels'] = pd.cut(x = df['PEER_GROUP_AMNT'], bins = bins, labels = cluster_labels, include_lowest = True)"
   ]
  },
  {
   "cell_type": "code",
   "execution_count": 102,
   "metadata": {},
   "outputs": [],
   "source": [
    "df['PEER_GROUP_ID'] = df['PEER_GROUP_ID'].astype('str')"
   ]
  },
  {
   "cell_type": "code",
   "execution_count": 103,
   "metadata": {},
   "outputs": [],
   "source": [
    "df['Cluster_labels'] = df['Cluster_labels'].astype(object)"
   ]
  },
  {
   "cell_type": "code",
   "execution_count": 104,
   "metadata": {},
   "outputs": [],
   "source": [
    "df['PEER_GROUP_ID'].replace('nan','OTHERS_CHANGED_9',inplace =  True)\n"
   ]
  },
  {
   "cell_type": "code",
   "execution_count": 105,
   "metadata": {},
   "outputs": [],
   "source": [
    "df['Cluster_labels'].fillna(9,inplace = True)\n",
    "df['Cluster_labels'] = df['Cluster_labels'].astype('int32')"
   ]
  },
  {
   "cell_type": "code",
   "execution_count": 106,
   "metadata": {},
   "outputs": [
    {
     "data": {
      "text/html": [
       "<div>\n",
       "<style scoped>\n",
       "    .dataframe tbody tr th:only-of-type {\n",
       "        vertical-align: middle;\n",
       "    }\n",
       "\n",
       "    .dataframe tbody tr th {\n",
       "        vertical-align: top;\n",
       "    }\n",
       "\n",
       "    .dataframe thead th {\n",
       "        text-align: right;\n",
       "    }\n",
       "</style>\n",
       "<table border=\"1\" class=\"dataframe\">\n",
       "  <thead>\n",
       "    <tr style=\"text-align: right;\">\n",
       "      <th></th>\n",
       "      <th>PERSON_MASTER_ID</th>\n",
       "      <th>PEER_GROUP_ID</th>\n",
       "      <th>PAN</th>\n",
       "      <th>DIN</th>\n",
       "      <th>CKYC_NUMBER</th>\n",
       "      <th>FULL_NAME</th>\n",
       "      <th>FATHER_NAME</th>\n",
       "      <th>MOTHER_NAME</th>\n",
       "      <th>DATE_OF_BIRTH</th>\n",
       "      <th>GENDER</th>\n",
       "      <th>CBDT_INCOME_RANGE</th>\n",
       "      <th>TRAN_AMNT_CREDIT</th>\n",
       "      <th>TRAN_AMNT_DEBIT</th>\n",
       "      <th>PEER_GROUP_AMNT</th>\n",
       "      <th>PINCODE</th>\n",
       "      <th>LATITUDE</th>\n",
       "      <th>LONGITUDE</th>\n",
       "      <th>OCCUPATION_BUSINESS</th>\n",
       "      <th>ACCOUNT_COUNT</th>\n",
       "      <th>ADDRESS_COUNT</th>\n",
       "      <th>MOBILE_COUNT</th>\n",
       "      <th>TELEPHONE_COUNT</th>\n",
       "      <th>EMAIL_COUNT</th>\n",
       "      <th>WATCHLIST_COUNT</th>\n",
       "      <th>LEA_REQUESTS_COUNT</th>\n",
       "      <th>LNK_REPORT_COUNT</th>\n",
       "      <th>STR_REPORT_COUNT</th>\n",
       "      <th>STR_AMOUNT_DEBIT</th>\n",
       "      <th>STR_AMOUNT_CREDIT</th>\n",
       "      <th>CTR_REPORT_COUNT</th>\n",
       "      <th>CTR_AMOUNT_DEBIT</th>\n",
       "      <th>CTR_AMOUNT_CREDIT</th>\n",
       "      <th>NTR_REPORT_COUNT</th>\n",
       "      <th>NTR_AMOUNT_DEBIT</th>\n",
       "      <th>NTR_AMOUNT_CREDIT</th>\n",
       "      <th>PTR_REPORT_COUNT</th>\n",
       "      <th>PTR_AMOUNT_DEBIT</th>\n",
       "      <th>PTR_AMOUNT_CREDIT</th>\n",
       "      <th>CBWTR_REPORT_COUNT</th>\n",
       "      <th>CBWTR_AMOUNT_DEBIT</th>\n",
       "      <th>CBWTR_AMOUNT_CREDIT</th>\n",
       "      <th>CCR_REPORT_COUNT</th>\n",
       "      <th>CCR_AMOUNT_DEBIT</th>\n",
       "      <th>CCR_AMOUNT_CREDIT</th>\n",
       "      <th>CREATE_DATE</th>\n",
       "      <th>UPDATE_DATE</th>\n",
       "      <th>Cluster_labels</th>\n",
       "    </tr>\n",
       "  </thead>\n",
       "  <tbody>\n",
       "    <tr>\n",
       "      <th>0</th>\n",
       "      <td>6</td>\n",
       "      <td>OTHERS_CHANGED_0</td>\n",
       "      <td>ACDPI6767U</td>\n",
       "      <td>None</td>\n",
       "      <td>65700000000000</td>\n",
       "      <td>Manoj Kumar Tripathi</td>\n",
       "      <td>Harish Tripathi</td>\n",
       "      <td>None</td>\n",
       "      <td>1981-09-15</td>\n",
       "      <td>Male</td>\n",
       "      <td>None</td>\n",
       "      <td>nan</td>\n",
       "      <td>nan</td>\n",
       "      <td>0.00000</td>\n",
       "      <td>201306.00000</td>\n",
       "      <td>None</td>\n",
       "      <td>None</td>\n",
       "      <td>Self Employed</td>\n",
       "      <td>None</td>\n",
       "      <td>None</td>\n",
       "      <td>1.00000</td>\n",
       "      <td>nan</td>\n",
       "      <td>1.00000</td>\n",
       "      <td>None</td>\n",
       "      <td>None</td>\n",
       "      <td>None</td>\n",
       "      <td>1.00000</td>\n",
       "      <td>15000000.00000</td>\n",
       "      <td>nan</td>\n",
       "      <td>nan</td>\n",
       "      <td>None</td>\n",
       "      <td>nan</td>\n",
       "      <td>nan</td>\n",
       "      <td>nan</td>\n",
       "      <td>nan</td>\n",
       "      <td>None</td>\n",
       "      <td>None</td>\n",
       "      <td>None</td>\n",
       "      <td>nan</td>\n",
       "      <td>None</td>\n",
       "      <td>None</td>\n",
       "      <td>None</td>\n",
       "      <td>None</td>\n",
       "      <td>None</td>\n",
       "      <td>None</td>\n",
       "      <td>None</td>\n",
       "      <td>0</td>\n",
       "    </tr>\n",
       "    <tr>\n",
       "      <th>1</th>\n",
       "      <td>7</td>\n",
       "      <td>OTHERS_CHANGED_9</td>\n",
       "      <td>BCDPI8788I</td>\n",
       "      <td>None</td>\n",
       "      <td>None</td>\n",
       "      <td>Monica Tripathi</td>\n",
       "      <td>Nitin Tiwari</td>\n",
       "      <td>None</td>\n",
       "      <td>1990-08-20</td>\n",
       "      <td>Female</td>\n",
       "      <td>None</td>\n",
       "      <td>nan</td>\n",
       "      <td>15000000.00000</td>\n",
       "      <td>15000000.00000</td>\n",
       "      <td>201306.00000</td>\n",
       "      <td>None</td>\n",
       "      <td>None</td>\n",
       "      <td>Self Employed</td>\n",
       "      <td>None</td>\n",
       "      <td>None</td>\n",
       "      <td>1.00000</td>\n",
       "      <td>nan</td>\n",
       "      <td>1.00000</td>\n",
       "      <td>None</td>\n",
       "      <td>None</td>\n",
       "      <td>None</td>\n",
       "      <td>1.00000</td>\n",
       "      <td>15000000.00000</td>\n",
       "      <td>nan</td>\n",
       "      <td>nan</td>\n",
       "      <td>None</td>\n",
       "      <td>nan</td>\n",
       "      <td>nan</td>\n",
       "      <td>nan</td>\n",
       "      <td>nan</td>\n",
       "      <td>None</td>\n",
       "      <td>None</td>\n",
       "      <td>None</td>\n",
       "      <td>nan</td>\n",
       "      <td>None</td>\n",
       "      <td>None</td>\n",
       "      <td>None</td>\n",
       "      <td>None</td>\n",
       "      <td>None</td>\n",
       "      <td>None</td>\n",
       "      <td>None</td>\n",
       "      <td>9</td>\n",
       "    </tr>\n",
       "    <tr>\n",
       "      <th>2</th>\n",
       "      <td>43</td>\n",
       "      <td>OTHERS_CHANGED_9</td>\n",
       "      <td>FNHPK5558K</td>\n",
       "      <td>54814125</td>\n",
       "      <td>None</td>\n",
       "      <td>Ranjan S Rupesh</td>\n",
       "      <td>Karamver</td>\n",
       "      <td>None</td>\n",
       "      <td>1985-11-07</td>\n",
       "      <td>Male</td>\n",
       "      <td>None</td>\n",
       "      <td>1034801000000.00000</td>\n",
       "      <td>nan</td>\n",
       "      <td>1034801000000.00000</td>\n",
       "      <td>560100.00000</td>\n",
       "      <td>None</td>\n",
       "      <td>None</td>\n",
       "      <td>Government Sector</td>\n",
       "      <td>None</td>\n",
       "      <td>None</td>\n",
       "      <td>1.00000</td>\n",
       "      <td>nan</td>\n",
       "      <td>2.00000</td>\n",
       "      <td>None</td>\n",
       "      <td>None</td>\n",
       "      <td>None</td>\n",
       "      <td>2.00000</td>\n",
       "      <td>nan</td>\n",
       "      <td>75401000000.00000</td>\n",
       "      <td>nan</td>\n",
       "      <td>None</td>\n",
       "      <td>nan</td>\n",
       "      <td>nan</td>\n",
       "      <td>nan</td>\n",
       "      <td>nan</td>\n",
       "      <td>None</td>\n",
       "      <td>None</td>\n",
       "      <td>None</td>\n",
       "      <td>nan</td>\n",
       "      <td>None</td>\n",
       "      <td>None</td>\n",
       "      <td>None</td>\n",
       "      <td>None</td>\n",
       "      <td>None</td>\n",
       "      <td>None</td>\n",
       "      <td>None</td>\n",
       "      <td>9</td>\n",
       "    </tr>\n",
       "    <tr>\n",
       "      <th>3</th>\n",
       "      <td>44</td>\n",
       "      <td>OTHERS_CHANGED_9</td>\n",
       "      <td>FJNPK5558K</td>\n",
       "      <td>None</td>\n",
       "      <td>None</td>\n",
       "      <td>Ramesh J Rajnikan</td>\n",
       "      <td>Kaluram</td>\n",
       "      <td>None</td>\n",
       "      <td>1979-10-23</td>\n",
       "      <td>Male</td>\n",
       "      <td>None</td>\n",
       "      <td>1034800000000.00000</td>\n",
       "      <td>nan</td>\n",
       "      <td>1034800000000.00000</td>\n",
       "      <td>560100.00000</td>\n",
       "      <td>None</td>\n",
       "      <td>None</td>\n",
       "      <td>Government Sector</td>\n",
       "      <td>None</td>\n",
       "      <td>None</td>\n",
       "      <td>1.00000</td>\n",
       "      <td>nan</td>\n",
       "      <td>1.00000</td>\n",
       "      <td>None</td>\n",
       "      <td>None</td>\n",
       "      <td>None</td>\n",
       "      <td>1.00000</td>\n",
       "      <td>nan</td>\n",
       "      <td>73600000000.00000</td>\n",
       "      <td>nan</td>\n",
       "      <td>None</td>\n",
       "      <td>nan</td>\n",
       "      <td>nan</td>\n",
       "      <td>nan</td>\n",
       "      <td>nan</td>\n",
       "      <td>None</td>\n",
       "      <td>None</td>\n",
       "      <td>None</td>\n",
       "      <td>nan</td>\n",
       "      <td>None</td>\n",
       "      <td>None</td>\n",
       "      <td>None</td>\n",
       "      <td>None</td>\n",
       "      <td>None</td>\n",
       "      <td>None</td>\n",
       "      <td>None</td>\n",
       "      <td>9</td>\n",
       "    </tr>\n",
       "    <tr>\n",
       "      <th>4</th>\n",
       "      <td>48</td>\n",
       "      <td>OTHERS_CHANGED_9</td>\n",
       "      <td>ABNPI0954B</td>\n",
       "      <td>None</td>\n",
       "      <td>None</td>\n",
       "      <td>Qrithi W Keehin</td>\n",
       "      <td>kales</td>\n",
       "      <td>None</td>\n",
       "      <td>1991-04-17</td>\n",
       "      <td>Male</td>\n",
       "      <td>None</td>\n",
       "      <td>775997555028.00000</td>\n",
       "      <td>nan</td>\n",
       "      <td>775997555028.00000</td>\n",
       "      <td>560103.00000</td>\n",
       "      <td>None</td>\n",
       "      <td>None</td>\n",
       "      <td>Others</td>\n",
       "      <td>None</td>\n",
       "      <td>None</td>\n",
       "      <td>1.00000</td>\n",
       "      <td>nan</td>\n",
       "      <td>nan</td>\n",
       "      <td>None</td>\n",
       "      <td>None</td>\n",
       "      <td>None</td>\n",
       "      <td>nan</td>\n",
       "      <td>nan</td>\n",
       "      <td>nan</td>\n",
       "      <td>nan</td>\n",
       "      <td>None</td>\n",
       "      <td>nan</td>\n",
       "      <td>nan</td>\n",
       "      <td>nan</td>\n",
       "      <td>nan</td>\n",
       "      <td>None</td>\n",
       "      <td>None</td>\n",
       "      <td>None</td>\n",
       "      <td>nan</td>\n",
       "      <td>None</td>\n",
       "      <td>None</td>\n",
       "      <td>None</td>\n",
       "      <td>None</td>\n",
       "      <td>None</td>\n",
       "      <td>None</td>\n",
       "      <td>None</td>\n",
       "      <td>9</td>\n",
       "    </tr>\n",
       "  </tbody>\n",
       "</table>\n",
       "</div>"
      ],
      "text/plain": [
       "   PERSON_MASTER_ID     PEER_GROUP_ID         PAN       DIN     CKYC_NUMBER  \\\n",
       "0                 6  OTHERS_CHANGED_0  ACDPI6767U      None  65700000000000   \n",
       "1                 7  OTHERS_CHANGED_9  BCDPI8788I      None            None   \n",
       "2                43  OTHERS_CHANGED_9  FNHPK5558K  54814125            None   \n",
       "3                44  OTHERS_CHANGED_9  FJNPK5558K      None            None   \n",
       "4                48  OTHERS_CHANGED_9  ABNPI0954B      None            None   \n",
       "\n",
       "              FULL_NAME      FATHER_NAME MOTHER_NAME DATE_OF_BIRTH  GENDER  \\\n",
       "0  Manoj Kumar Tripathi  Harish Tripathi        None    1981-09-15    Male   \n",
       "1       Monica Tripathi     Nitin Tiwari        None    1990-08-20  Female   \n",
       "2       Ranjan S Rupesh         Karamver        None    1985-11-07    Male   \n",
       "3     Ramesh J Rajnikan          Kaluram        None    1979-10-23    Male   \n",
       "4       Qrithi W Keehin            kales        None    1991-04-17    Male   \n",
       "\n",
       "  CBDT_INCOME_RANGE    TRAN_AMNT_CREDIT  TRAN_AMNT_DEBIT     PEER_GROUP_AMNT  \\\n",
       "0              None                 nan              nan             0.00000   \n",
       "1              None                 nan   15000000.00000      15000000.00000   \n",
       "2              None 1034801000000.00000              nan 1034801000000.00000   \n",
       "3              None 1034800000000.00000              nan 1034800000000.00000   \n",
       "4              None  775997555028.00000              nan  775997555028.00000   \n",
       "\n",
       "       PINCODE LATITUDE LONGITUDE OCCUPATION_BUSINESS ACCOUNT_COUNT  \\\n",
       "0 201306.00000     None      None       Self Employed          None   \n",
       "1 201306.00000     None      None       Self Employed          None   \n",
       "2 560100.00000     None      None   Government Sector          None   \n",
       "3 560100.00000     None      None   Government Sector          None   \n",
       "4 560103.00000     None      None              Others          None   \n",
       "\n",
       "  ADDRESS_COUNT  MOBILE_COUNT  TELEPHONE_COUNT  EMAIL_COUNT WATCHLIST_COUNT  \\\n",
       "0          None       1.00000              nan      1.00000            None   \n",
       "1          None       1.00000              nan      1.00000            None   \n",
       "2          None       1.00000              nan      2.00000            None   \n",
       "3          None       1.00000              nan      1.00000            None   \n",
       "4          None       1.00000              nan          nan            None   \n",
       "\n",
       "  LEA_REQUESTS_COUNT LNK_REPORT_COUNT  STR_REPORT_COUNT  STR_AMOUNT_DEBIT  \\\n",
       "0               None             None           1.00000    15000000.00000   \n",
       "1               None             None           1.00000    15000000.00000   \n",
       "2               None             None           2.00000               nan   \n",
       "3               None             None           1.00000               nan   \n",
       "4               None             None               nan               nan   \n",
       "\n",
       "   STR_AMOUNT_CREDIT  CTR_REPORT_COUNT CTR_AMOUNT_DEBIT  CTR_AMOUNT_CREDIT  \\\n",
       "0                nan               nan             None                nan   \n",
       "1                nan               nan             None                nan   \n",
       "2  75401000000.00000               nan             None                nan   \n",
       "3  73600000000.00000               nan             None                nan   \n",
       "4                nan               nan             None                nan   \n",
       "\n",
       "   NTR_REPORT_COUNT  NTR_AMOUNT_DEBIT  NTR_AMOUNT_CREDIT PTR_REPORT_COUNT  \\\n",
       "0               nan               nan                nan             None   \n",
       "1               nan               nan                nan             None   \n",
       "2               nan               nan                nan             None   \n",
       "3               nan               nan                nan             None   \n",
       "4               nan               nan                nan             None   \n",
       "\n",
       "  PTR_AMOUNT_DEBIT PTR_AMOUNT_CREDIT  CBWTR_REPORT_COUNT CBWTR_AMOUNT_DEBIT  \\\n",
       "0             None              None                 nan               None   \n",
       "1             None              None                 nan               None   \n",
       "2             None              None                 nan               None   \n",
       "3             None              None                 nan               None   \n",
       "4             None              None                 nan               None   \n",
       "\n",
       "  CBWTR_AMOUNT_CREDIT CCR_REPORT_COUNT CCR_AMOUNT_DEBIT CCR_AMOUNT_CREDIT  \\\n",
       "0                None             None             None              None   \n",
       "1                None             None             None              None   \n",
       "2                None             None             None              None   \n",
       "3                None             None             None              None   \n",
       "4                None             None             None              None   \n",
       "\n",
       "  CREATE_DATE UPDATE_DATE  Cluster_labels  \n",
       "0        None        None               0  \n",
       "1        None        None               9  \n",
       "2        None        None               9  \n",
       "3        None        None               9  \n",
       "4        None        None               9  "
      ]
     },
     "execution_count": 106,
     "metadata": {},
     "output_type": "execute_result"
    }
   ],
   "source": [
    "df.head()"
   ]
  },
  {
   "cell_type": "code",
   "execution_count": 107,
   "metadata": {},
   "outputs": [],
   "source": [
    "df['OCCUPATION_BUSINESS_CLEAN'] = 'OTHERS_CHANGED'"
   ]
  },
  {
   "cell_type": "code",
   "execution_count": 108,
   "metadata": {},
   "outputs": [
    {
     "data": {
      "text/html": [
       "<div>\n",
       "<style scoped>\n",
       "    .dataframe tbody tr th:only-of-type {\n",
       "        vertical-align: middle;\n",
       "    }\n",
       "\n",
       "    .dataframe tbody tr th {\n",
       "        vertical-align: top;\n",
       "    }\n",
       "\n",
       "    .dataframe thead th {\n",
       "        text-align: right;\n",
       "    }\n",
       "</style>\n",
       "<table border=\"1\" class=\"dataframe\">\n",
       "  <thead>\n",
       "    <tr style=\"text-align: right;\">\n",
       "      <th></th>\n",
       "      <th>PERSON_MASTER_ID</th>\n",
       "      <th>PEER_GROUP_ID</th>\n",
       "      <th>PAN</th>\n",
       "      <th>DIN</th>\n",
       "      <th>CKYC_NUMBER</th>\n",
       "      <th>FULL_NAME</th>\n",
       "      <th>FATHER_NAME</th>\n",
       "      <th>MOTHER_NAME</th>\n",
       "      <th>DATE_OF_BIRTH</th>\n",
       "      <th>GENDER</th>\n",
       "      <th>CBDT_INCOME_RANGE</th>\n",
       "      <th>TRAN_AMNT_CREDIT</th>\n",
       "      <th>TRAN_AMNT_DEBIT</th>\n",
       "      <th>PEER_GROUP_AMNT</th>\n",
       "      <th>PINCODE</th>\n",
       "      <th>LATITUDE</th>\n",
       "      <th>LONGITUDE</th>\n",
       "      <th>OCCUPATION_BUSINESS</th>\n",
       "      <th>ACCOUNT_COUNT</th>\n",
       "      <th>ADDRESS_COUNT</th>\n",
       "      <th>MOBILE_COUNT</th>\n",
       "      <th>TELEPHONE_COUNT</th>\n",
       "      <th>EMAIL_COUNT</th>\n",
       "      <th>WATCHLIST_COUNT</th>\n",
       "      <th>LEA_REQUESTS_COUNT</th>\n",
       "      <th>LNK_REPORT_COUNT</th>\n",
       "      <th>STR_REPORT_COUNT</th>\n",
       "      <th>STR_AMOUNT_DEBIT</th>\n",
       "      <th>STR_AMOUNT_CREDIT</th>\n",
       "      <th>CTR_REPORT_COUNT</th>\n",
       "      <th>CTR_AMOUNT_DEBIT</th>\n",
       "      <th>CTR_AMOUNT_CREDIT</th>\n",
       "      <th>NTR_REPORT_COUNT</th>\n",
       "      <th>NTR_AMOUNT_DEBIT</th>\n",
       "      <th>NTR_AMOUNT_CREDIT</th>\n",
       "      <th>PTR_REPORT_COUNT</th>\n",
       "      <th>PTR_AMOUNT_DEBIT</th>\n",
       "      <th>PTR_AMOUNT_CREDIT</th>\n",
       "      <th>CBWTR_REPORT_COUNT</th>\n",
       "      <th>CBWTR_AMOUNT_DEBIT</th>\n",
       "      <th>CBWTR_AMOUNT_CREDIT</th>\n",
       "      <th>CCR_REPORT_COUNT</th>\n",
       "      <th>CCR_AMOUNT_DEBIT</th>\n",
       "      <th>CCR_AMOUNT_CREDIT</th>\n",
       "      <th>CREATE_DATE</th>\n",
       "      <th>UPDATE_DATE</th>\n",
       "      <th>Cluster_labels</th>\n",
       "      <th>OCCUPATION_BUSINESS_CLEAN</th>\n",
       "    </tr>\n",
       "  </thead>\n",
       "  <tbody>\n",
       "    <tr>\n",
       "      <th>0</th>\n",
       "      <td>6</td>\n",
       "      <td>OTHERS_CHANGED_0</td>\n",
       "      <td>ACDPI6767U</td>\n",
       "      <td>None</td>\n",
       "      <td>65700000000000</td>\n",
       "      <td>Manoj Kumar Tripathi</td>\n",
       "      <td>Harish Tripathi</td>\n",
       "      <td>None</td>\n",
       "      <td>1981-09-15</td>\n",
       "      <td>Male</td>\n",
       "      <td>None</td>\n",
       "      <td>nan</td>\n",
       "      <td>nan</td>\n",
       "      <td>0.00000</td>\n",
       "      <td>201306.00000</td>\n",
       "      <td>None</td>\n",
       "      <td>None</td>\n",
       "      <td>Self Employed</td>\n",
       "      <td>None</td>\n",
       "      <td>None</td>\n",
       "      <td>1.00000</td>\n",
       "      <td>nan</td>\n",
       "      <td>1.00000</td>\n",
       "      <td>None</td>\n",
       "      <td>None</td>\n",
       "      <td>None</td>\n",
       "      <td>1.00000</td>\n",
       "      <td>15000000.00000</td>\n",
       "      <td>nan</td>\n",
       "      <td>nan</td>\n",
       "      <td>None</td>\n",
       "      <td>nan</td>\n",
       "      <td>nan</td>\n",
       "      <td>nan</td>\n",
       "      <td>nan</td>\n",
       "      <td>None</td>\n",
       "      <td>None</td>\n",
       "      <td>None</td>\n",
       "      <td>nan</td>\n",
       "      <td>None</td>\n",
       "      <td>None</td>\n",
       "      <td>None</td>\n",
       "      <td>None</td>\n",
       "      <td>None</td>\n",
       "      <td>None</td>\n",
       "      <td>None</td>\n",
       "      <td>0</td>\n",
       "      <td>OTHERS_CHANGED</td>\n",
       "    </tr>\n",
       "    <tr>\n",
       "      <th>1</th>\n",
       "      <td>7</td>\n",
       "      <td>OTHERS_CHANGED_9</td>\n",
       "      <td>BCDPI8788I</td>\n",
       "      <td>None</td>\n",
       "      <td>None</td>\n",
       "      <td>Monica Tripathi</td>\n",
       "      <td>Nitin Tiwari</td>\n",
       "      <td>None</td>\n",
       "      <td>1990-08-20</td>\n",
       "      <td>Female</td>\n",
       "      <td>None</td>\n",
       "      <td>nan</td>\n",
       "      <td>15000000.00000</td>\n",
       "      <td>15000000.00000</td>\n",
       "      <td>201306.00000</td>\n",
       "      <td>None</td>\n",
       "      <td>None</td>\n",
       "      <td>Self Employed</td>\n",
       "      <td>None</td>\n",
       "      <td>None</td>\n",
       "      <td>1.00000</td>\n",
       "      <td>nan</td>\n",
       "      <td>1.00000</td>\n",
       "      <td>None</td>\n",
       "      <td>None</td>\n",
       "      <td>None</td>\n",
       "      <td>1.00000</td>\n",
       "      <td>15000000.00000</td>\n",
       "      <td>nan</td>\n",
       "      <td>nan</td>\n",
       "      <td>None</td>\n",
       "      <td>nan</td>\n",
       "      <td>nan</td>\n",
       "      <td>nan</td>\n",
       "      <td>nan</td>\n",
       "      <td>None</td>\n",
       "      <td>None</td>\n",
       "      <td>None</td>\n",
       "      <td>nan</td>\n",
       "      <td>None</td>\n",
       "      <td>None</td>\n",
       "      <td>None</td>\n",
       "      <td>None</td>\n",
       "      <td>None</td>\n",
       "      <td>None</td>\n",
       "      <td>None</td>\n",
       "      <td>9</td>\n",
       "      <td>OTHERS_CHANGED</td>\n",
       "    </tr>\n",
       "    <tr>\n",
       "      <th>2</th>\n",
       "      <td>43</td>\n",
       "      <td>OTHERS_CHANGED_9</td>\n",
       "      <td>FNHPK5558K</td>\n",
       "      <td>54814125</td>\n",
       "      <td>None</td>\n",
       "      <td>Ranjan S Rupesh</td>\n",
       "      <td>Karamver</td>\n",
       "      <td>None</td>\n",
       "      <td>1985-11-07</td>\n",
       "      <td>Male</td>\n",
       "      <td>None</td>\n",
       "      <td>1034801000000.00000</td>\n",
       "      <td>nan</td>\n",
       "      <td>1034801000000.00000</td>\n",
       "      <td>560100.00000</td>\n",
       "      <td>None</td>\n",
       "      <td>None</td>\n",
       "      <td>Government Sector</td>\n",
       "      <td>None</td>\n",
       "      <td>None</td>\n",
       "      <td>1.00000</td>\n",
       "      <td>nan</td>\n",
       "      <td>2.00000</td>\n",
       "      <td>None</td>\n",
       "      <td>None</td>\n",
       "      <td>None</td>\n",
       "      <td>2.00000</td>\n",
       "      <td>nan</td>\n",
       "      <td>75401000000.00000</td>\n",
       "      <td>nan</td>\n",
       "      <td>None</td>\n",
       "      <td>nan</td>\n",
       "      <td>nan</td>\n",
       "      <td>nan</td>\n",
       "      <td>nan</td>\n",
       "      <td>None</td>\n",
       "      <td>None</td>\n",
       "      <td>None</td>\n",
       "      <td>nan</td>\n",
       "      <td>None</td>\n",
       "      <td>None</td>\n",
       "      <td>None</td>\n",
       "      <td>None</td>\n",
       "      <td>None</td>\n",
       "      <td>None</td>\n",
       "      <td>None</td>\n",
       "      <td>9</td>\n",
       "      <td>OTHERS_CHANGED</td>\n",
       "    </tr>\n",
       "    <tr>\n",
       "      <th>3</th>\n",
       "      <td>44</td>\n",
       "      <td>OTHERS_CHANGED_9</td>\n",
       "      <td>FJNPK5558K</td>\n",
       "      <td>None</td>\n",
       "      <td>None</td>\n",
       "      <td>Ramesh J Rajnikan</td>\n",
       "      <td>Kaluram</td>\n",
       "      <td>None</td>\n",
       "      <td>1979-10-23</td>\n",
       "      <td>Male</td>\n",
       "      <td>None</td>\n",
       "      <td>1034800000000.00000</td>\n",
       "      <td>nan</td>\n",
       "      <td>1034800000000.00000</td>\n",
       "      <td>560100.00000</td>\n",
       "      <td>None</td>\n",
       "      <td>None</td>\n",
       "      <td>Government Sector</td>\n",
       "      <td>None</td>\n",
       "      <td>None</td>\n",
       "      <td>1.00000</td>\n",
       "      <td>nan</td>\n",
       "      <td>1.00000</td>\n",
       "      <td>None</td>\n",
       "      <td>None</td>\n",
       "      <td>None</td>\n",
       "      <td>1.00000</td>\n",
       "      <td>nan</td>\n",
       "      <td>73600000000.00000</td>\n",
       "      <td>nan</td>\n",
       "      <td>None</td>\n",
       "      <td>nan</td>\n",
       "      <td>nan</td>\n",
       "      <td>nan</td>\n",
       "      <td>nan</td>\n",
       "      <td>None</td>\n",
       "      <td>None</td>\n",
       "      <td>None</td>\n",
       "      <td>nan</td>\n",
       "      <td>None</td>\n",
       "      <td>None</td>\n",
       "      <td>None</td>\n",
       "      <td>None</td>\n",
       "      <td>None</td>\n",
       "      <td>None</td>\n",
       "      <td>None</td>\n",
       "      <td>9</td>\n",
       "      <td>OTHERS_CHANGED</td>\n",
       "    </tr>\n",
       "    <tr>\n",
       "      <th>4</th>\n",
       "      <td>48</td>\n",
       "      <td>OTHERS_CHANGED_9</td>\n",
       "      <td>ABNPI0954B</td>\n",
       "      <td>None</td>\n",
       "      <td>None</td>\n",
       "      <td>Qrithi W Keehin</td>\n",
       "      <td>kales</td>\n",
       "      <td>None</td>\n",
       "      <td>1991-04-17</td>\n",
       "      <td>Male</td>\n",
       "      <td>None</td>\n",
       "      <td>775997555028.00000</td>\n",
       "      <td>nan</td>\n",
       "      <td>775997555028.00000</td>\n",
       "      <td>560103.00000</td>\n",
       "      <td>None</td>\n",
       "      <td>None</td>\n",
       "      <td>Others</td>\n",
       "      <td>None</td>\n",
       "      <td>None</td>\n",
       "      <td>1.00000</td>\n",
       "      <td>nan</td>\n",
       "      <td>nan</td>\n",
       "      <td>None</td>\n",
       "      <td>None</td>\n",
       "      <td>None</td>\n",
       "      <td>nan</td>\n",
       "      <td>nan</td>\n",
       "      <td>nan</td>\n",
       "      <td>nan</td>\n",
       "      <td>None</td>\n",
       "      <td>nan</td>\n",
       "      <td>nan</td>\n",
       "      <td>nan</td>\n",
       "      <td>nan</td>\n",
       "      <td>None</td>\n",
       "      <td>None</td>\n",
       "      <td>None</td>\n",
       "      <td>nan</td>\n",
       "      <td>None</td>\n",
       "      <td>None</td>\n",
       "      <td>None</td>\n",
       "      <td>None</td>\n",
       "      <td>None</td>\n",
       "      <td>None</td>\n",
       "      <td>None</td>\n",
       "      <td>9</td>\n",
       "      <td>OTHERS_CHANGED</td>\n",
       "    </tr>\n",
       "  </tbody>\n",
       "</table>\n",
       "</div>"
      ],
      "text/plain": [
       "   PERSON_MASTER_ID     PEER_GROUP_ID         PAN       DIN     CKYC_NUMBER  \\\n",
       "0                 6  OTHERS_CHANGED_0  ACDPI6767U      None  65700000000000   \n",
       "1                 7  OTHERS_CHANGED_9  BCDPI8788I      None            None   \n",
       "2                43  OTHERS_CHANGED_9  FNHPK5558K  54814125            None   \n",
       "3                44  OTHERS_CHANGED_9  FJNPK5558K      None            None   \n",
       "4                48  OTHERS_CHANGED_9  ABNPI0954B      None            None   \n",
       "\n",
       "              FULL_NAME      FATHER_NAME MOTHER_NAME DATE_OF_BIRTH  GENDER  \\\n",
       "0  Manoj Kumar Tripathi  Harish Tripathi        None    1981-09-15    Male   \n",
       "1       Monica Tripathi     Nitin Tiwari        None    1990-08-20  Female   \n",
       "2       Ranjan S Rupesh         Karamver        None    1985-11-07    Male   \n",
       "3     Ramesh J Rajnikan          Kaluram        None    1979-10-23    Male   \n",
       "4       Qrithi W Keehin            kales        None    1991-04-17    Male   \n",
       "\n",
       "  CBDT_INCOME_RANGE    TRAN_AMNT_CREDIT  TRAN_AMNT_DEBIT     PEER_GROUP_AMNT  \\\n",
       "0              None                 nan              nan             0.00000   \n",
       "1              None                 nan   15000000.00000      15000000.00000   \n",
       "2              None 1034801000000.00000              nan 1034801000000.00000   \n",
       "3              None 1034800000000.00000              nan 1034800000000.00000   \n",
       "4              None  775997555028.00000              nan  775997555028.00000   \n",
       "\n",
       "       PINCODE LATITUDE LONGITUDE OCCUPATION_BUSINESS ACCOUNT_COUNT  \\\n",
       "0 201306.00000     None      None       Self Employed          None   \n",
       "1 201306.00000     None      None       Self Employed          None   \n",
       "2 560100.00000     None      None   Government Sector          None   \n",
       "3 560100.00000     None      None   Government Sector          None   \n",
       "4 560103.00000     None      None              Others          None   \n",
       "\n",
       "  ADDRESS_COUNT  MOBILE_COUNT  TELEPHONE_COUNT  EMAIL_COUNT WATCHLIST_COUNT  \\\n",
       "0          None       1.00000              nan      1.00000            None   \n",
       "1          None       1.00000              nan      1.00000            None   \n",
       "2          None       1.00000              nan      2.00000            None   \n",
       "3          None       1.00000              nan      1.00000            None   \n",
       "4          None       1.00000              nan          nan            None   \n",
       "\n",
       "  LEA_REQUESTS_COUNT LNK_REPORT_COUNT  STR_REPORT_COUNT  STR_AMOUNT_DEBIT  \\\n",
       "0               None             None           1.00000    15000000.00000   \n",
       "1               None             None           1.00000    15000000.00000   \n",
       "2               None             None           2.00000               nan   \n",
       "3               None             None           1.00000               nan   \n",
       "4               None             None               nan               nan   \n",
       "\n",
       "   STR_AMOUNT_CREDIT  CTR_REPORT_COUNT CTR_AMOUNT_DEBIT  CTR_AMOUNT_CREDIT  \\\n",
       "0                nan               nan             None                nan   \n",
       "1                nan               nan             None                nan   \n",
       "2  75401000000.00000               nan             None                nan   \n",
       "3  73600000000.00000               nan             None                nan   \n",
       "4                nan               nan             None                nan   \n",
       "\n",
       "   NTR_REPORT_COUNT  NTR_AMOUNT_DEBIT  NTR_AMOUNT_CREDIT PTR_REPORT_COUNT  \\\n",
       "0               nan               nan                nan             None   \n",
       "1               nan               nan                nan             None   \n",
       "2               nan               nan                nan             None   \n",
       "3               nan               nan                nan             None   \n",
       "4               nan               nan                nan             None   \n",
       "\n",
       "  PTR_AMOUNT_DEBIT PTR_AMOUNT_CREDIT  CBWTR_REPORT_COUNT CBWTR_AMOUNT_DEBIT  \\\n",
       "0             None              None                 nan               None   \n",
       "1             None              None                 nan               None   \n",
       "2             None              None                 nan               None   \n",
       "3             None              None                 nan               None   \n",
       "4             None              None                 nan               None   \n",
       "\n",
       "  CBWTR_AMOUNT_CREDIT CCR_REPORT_COUNT CCR_AMOUNT_DEBIT CCR_AMOUNT_CREDIT  \\\n",
       "0                None             None             None              None   \n",
       "1                None             None             None              None   \n",
       "2                None             None             None              None   \n",
       "3                None             None             None              None   \n",
       "4                None             None             None              None   \n",
       "\n",
       "  CREATE_DATE UPDATE_DATE  Cluster_labels OCCUPATION_BUSINESS_CLEAN  \n",
       "0        None        None               0            OTHERS_CHANGED  \n",
       "1        None        None               9            OTHERS_CHANGED  \n",
       "2        None        None               9            OTHERS_CHANGED  \n",
       "3        None        None               9            OTHERS_CHANGED  \n",
       "4        None        None               9            OTHERS_CHANGED  "
      ]
     },
     "execution_count": 108,
     "metadata": {},
     "output_type": "execute_result"
    }
   ],
   "source": [
    "df.head()"
   ]
  },
  {
   "cell_type": "code",
   "execution_count": 109,
   "metadata": {},
   "outputs": [],
   "source": [
    "df = df[['PERSON_MASTER_ID','PEER_GROUP_ID','Cluster_labels','OCCUPATION_BUSINESS_CLEAN']]"
   ]
  },
  {
   "cell_type": "code",
   "execution_count": null,
   "metadata": {},
   "outputs": [],
   "source": []
  },
  {
   "cell_type": "code",
   "execution_count": 110,
   "metadata": {},
   "outputs": [],
   "source": [
    "for ind,row in df.iterrows():\n",
    "#     print(row['PERSON_MASTER_ID'])\n",
    "    cursor.execute(\"\"\"Update fincore_db.fincore_analytics.risk_person_summary_stg set peer_group_id ='{}' where person_master_id = {} \"\"\".format(row['PEER_GROUP_ID'],row['PERSON_MASTER_ID']))\n",
    "    conn.commit()\n",
    "conn.close()"
   ]
  },
  {
   "cell_type": "code",
   "execution_count": 111,
   "metadata": {},
   "outputs": [],
   "source": [
    "ind_data_U = ind_data_U.merge(df,how = 'left',on = 'PERSON_MASTER_ID')"
   ]
  },
  {
   "cell_type": "code",
   "execution_count": 112,
   "metadata": {},
   "outputs": [
    {
     "data": {
      "text/html": [
       "<div>\n",
       "<style scoped>\n",
       "    .dataframe tbody tr th:only-of-type {\n",
       "        vertical-align: middle;\n",
       "    }\n",
       "\n",
       "    .dataframe tbody tr th {\n",
       "        vertical-align: top;\n",
       "    }\n",
       "\n",
       "    .dataframe thead th {\n",
       "        text-align: right;\n",
       "    }\n",
       "</style>\n",
       "<table border=\"1\" class=\"dataframe\">\n",
       "  <thead>\n",
       "    <tr style=\"text-align: right;\">\n",
       "      <th></th>\n",
       "      <th>PERSON_MASTER_ID</th>\n",
       "      <th>PEER_GROUP_ID</th>\n",
       "      <th>Cluster_labels</th>\n",
       "      <th>OCCUPATION_BUSINESS_CLEAN</th>\n",
       "    </tr>\n",
       "  </thead>\n",
       "  <tbody>\n",
       "    <tr>\n",
       "      <th>0</th>\n",
       "      <td>6</td>\n",
       "      <td>OTHERS_CHANGED_0</td>\n",
       "      <td>0</td>\n",
       "      <td>OTHERS_CHANGED</td>\n",
       "    </tr>\n",
       "    <tr>\n",
       "      <th>1</th>\n",
       "      <td>7</td>\n",
       "      <td>OTHERS_CHANGED_9</td>\n",
       "      <td>9</td>\n",
       "      <td>OTHERS_CHANGED</td>\n",
       "    </tr>\n",
       "    <tr>\n",
       "      <th>2</th>\n",
       "      <td>43</td>\n",
       "      <td>OTHERS_CHANGED_9</td>\n",
       "      <td>9</td>\n",
       "      <td>OTHERS_CHANGED</td>\n",
       "    </tr>\n",
       "    <tr>\n",
       "      <th>3</th>\n",
       "      <td>44</td>\n",
       "      <td>OTHERS_CHANGED_9</td>\n",
       "      <td>9</td>\n",
       "      <td>OTHERS_CHANGED</td>\n",
       "    </tr>\n",
       "    <tr>\n",
       "      <th>4</th>\n",
       "      <td>48</td>\n",
       "      <td>OTHERS_CHANGED_9</td>\n",
       "      <td>9</td>\n",
       "      <td>OTHERS_CHANGED</td>\n",
       "    </tr>\n",
       "  </tbody>\n",
       "</table>\n",
       "</div>"
      ],
      "text/plain": [
       "   PERSON_MASTER_ID     PEER_GROUP_ID  Cluster_labels  \\\n",
       "0                 6  OTHERS_CHANGED_0               0   \n",
       "1                 7  OTHERS_CHANGED_9               9   \n",
       "2                43  OTHERS_CHANGED_9               9   \n",
       "3                44  OTHERS_CHANGED_9               9   \n",
       "4                48  OTHERS_CHANGED_9               9   \n",
       "\n",
       "  OCCUPATION_BUSINESS_CLEAN  \n",
       "0            OTHERS_CHANGED  \n",
       "1            OTHERS_CHANGED  \n",
       "2            OTHERS_CHANGED  \n",
       "3            OTHERS_CHANGED  \n",
       "4            OTHERS_CHANGED  "
      ]
     },
     "execution_count": 112,
     "metadata": {},
     "output_type": "execute_result"
    }
   ],
   "source": [
    "df.head()"
   ]
  },
  {
   "cell_type": "code",
   "execution_count": 113,
   "metadata": {},
   "outputs": [],
   "source": [
    "ind_data_U['PEER_GROUP_ID_y'].fillna(value = ind_data_U['PEER_GROUP_ID_x'],inplace = True)"
   ]
  },
  {
   "cell_type": "code",
   "execution_count": 114,
   "metadata": {},
   "outputs": [],
   "source": [
    "ind_data_U['Cluster_labels_y'].fillna(value = ind_data_U['Cluster_labels_x'],inplace = True)"
   ]
  },
  {
   "cell_type": "code",
   "execution_count": 115,
   "metadata": {},
   "outputs": [],
   "source": [
    "ind_data_U['OCCUPATION_BUSINESS_CLEAN_y'].fillna(value = ind_data_U['OCCUPATION_BUSINESS_CLEAN_x'],inplace = True)"
   ]
  },
  {
   "cell_type": "code",
   "execution_count": null,
   "metadata": {},
   "outputs": [],
   "source": []
  },
  {
   "cell_type": "code",
   "execution_count": 116,
   "metadata": {},
   "outputs": [],
   "source": [
    "ind_data_U.drop(columns = ['PEER_GROUP_ID_x'],inplace = True)"
   ]
  },
  {
   "cell_type": "code",
   "execution_count": 117,
   "metadata": {},
   "outputs": [],
   "source": [
    "ind_data_U.drop(columns = ['Cluster_labels_x'],inplace = True)"
   ]
  },
  {
   "cell_type": "code",
   "execution_count": 118,
   "metadata": {},
   "outputs": [],
   "source": [
    "ind_data_U.drop(columns = ['OCCUPATION_BUSINESS_CLEAN_x'],inplace = True)"
   ]
  },
  {
   "cell_type": "code",
   "execution_count": null,
   "metadata": {},
   "outputs": [],
   "source": []
  },
  {
   "cell_type": "code",
   "execution_count": 119,
   "metadata": {},
   "outputs": [],
   "source": [
    "ind_data_U.rename(columns = {'PEER_GROUP_ID_y':'PEER_GROUP_ID'}, inplace = True)"
   ]
  },
  {
   "cell_type": "code",
   "execution_count": 120,
   "metadata": {},
   "outputs": [],
   "source": [
    "ind_data_U.rename(columns = {'Cluster_labels_y':'Cluster_labels'}, inplace = True)"
   ]
  },
  {
   "cell_type": "code",
   "execution_count": 121,
   "metadata": {},
   "outputs": [],
   "source": [
    "ind_data_U.rename(columns = {'OCCUPATION_BUSINESS_CLEAN_y':'OCCUPATION_BUSINESS_CLEAN'}, inplace = True)"
   ]
  },
  {
   "cell_type": "code",
   "execution_count": 122,
   "metadata": {},
   "outputs": [],
   "source": [
    "# ind_data_U[ind_data_U['PERSON_MASTER_ID'] == 15046 ]"
   ]
  },
  {
   "cell_type": "code",
   "execution_count": null,
   "metadata": {},
   "outputs": [],
   "source": []
  },
  {
   "cell_type": "code",
   "execution_count": 123,
   "metadata": {},
   "outputs": [],
   "source": [
    "# BELOW IND_DATA_U NEEDS TO GO IN DATABASE "
   ]
  },
  {
   "cell_type": "code",
   "execution_count": null,
   "metadata": {},
   "outputs": [],
   "source": []
  },
  {
   "cell_type": "code",
   "execution_count": 124,
   "metadata": {},
   "outputs": [],
   "source": [
    "ind_data_U.to_csv(r\"/data/peer_updated.csv\",index=False)"
   ]
  },
  {
   "cell_type": "code",
   "execution_count": null,
   "metadata": {},
   "outputs": [],
   "source": []
  },
  {
   "cell_type": "code",
   "execution_count": 125,
   "metadata": {},
   "outputs": [],
   "source": [
    "# from tqdm import tqdm"
   ]
  },
  {
   "cell_type": "code",
   "execution_count": 126,
   "metadata": {},
   "outputs": [],
   "source": [
    "# for indO,rowO in tqdm(ind_data_U.iterrows()):\n",
    "#     for ind,row in tqdm(df.iterrows()):\n",
    "#         if (rowO['PERSON_MASTER_ID'] == row['PERSON_MASTER_ID']):\n",
    "# #             print(rowO['PERSON_MASTER_ID'],rowO['PEER_GROUP_ID'],row['PEER_GROUP_ID'])\n",
    "#             ind_data_U['PEER_GROUP_ID'][indO] = df['PEER_GROUP_ID'][ind]\n",
    "#             ind_data_U['OCCUPATION_BUSINESS_CLEAN'][indO] = 'OTHERS_CHANGED'\n",
    "#             break\n",
    "    \n",
    "        \n",
    "    "
   ]
  },
  {
   "cell_type": "code",
   "execution_count": 127,
   "metadata": {},
   "outputs": [],
   "source": [
    "config = ConfigParser()\n",
    "config.read(r'/notebooks/notebooks/config.ini')\n",
    "connection_string = config.get('SERVER', 'connection')\n",
    "conn = pyodbc.connect(connection_string)\n",
    "cursor = conn.cursor()"
   ]
  },
  {
   "cell_type": "code",
   "execution_count": 128,
   "metadata": {},
   "outputs": [],
   "source": [
    "RISK_LKP_PEER_GRP_ATTRIBUTES = '''\n",
    "\n",
    "insert into FINCORE_DB.Fincore_Analytics.RISK_LKP_PEER_GRP_ATTRIBUTES\n",
    "select PEER_GROUP_ID,\n",
    "'I' AS ENTITY_TYPE,\n",
    "COUNT(PERSON_MASTER_ID) AS RCD_CNT,\n",
    "MAX(CBDT_INCOME_RANGE) as CBDT_INCOME_RANGE_MAX,\n",
    "MIN(CBDT_INCOME_RANGE) as CBDT_INCOME_RANGE_MIN,\n",
    "\n",
    "MAX(STR_AMOUNT_DEBIT)  as  STR_AMOUNT_DEBIT_MAX,\n",
    "MIN(STR_AMOUNT_DEBIT)  as  STR_AMOUNT_DEBIT_MIN,\n",
    "MAX(STR_AMOUNT_CREDIT)  as STR_AMOUNT_CREDIT_MAX,\n",
    "MIN(STR_AMOUNT_CREDIT)  as STR_AMOUNT_CREDIT_MIN,\n",
    "\n",
    "MAX(CTR_AMOUNT_DEBIT)  as  CTR_AMOUNT_DEBIT_MAX,\n",
    "MIN(CTR_AMOUNT_DEBIT)  as  CTR_AMOUNT_DEBIT_MIN,\n",
    "MAX(CTR_AMOUNT_CREDIT)  as CTR_AMOUNT_CREDIT_MAX,\n",
    "MIN(CTR_AMOUNT_CREDIT)  as CTR_AMOUNT_CREDIT_MIN,\n",
    "\n",
    "MAX(NTR_AMOUNT_DEBIT)  as  NTR_AMOUNT_DEBIT_MAX,\n",
    "MIN(NTR_AMOUNT_DEBIT)  as  NTR_AMOUNT_DEBIT_MIN,\n",
    "MAX(NTR_AMOUNT_CREDIT)  as NTR_AMOUNT_CREDIT_MAX,\n",
    "MIN(NTR_AMOUNT_CREDIT)  as NTR_AMOUNT_CREDIT_MIN,\n",
    "\n",
    "MAX(PTR_AMOUNT_DEBIT)  as  PTR_AMOUNT_DEBIT_MAX,\n",
    "MIN(PTR_AMOUNT_DEBIT)  as  PTR_AMOUNT_DEBIT_MIN,\n",
    "MAX(PTR_AMOUNT_CREDIT)  as PTR_AMOUNT_CREDIT_MAX,\n",
    "MIN(PTR_AMOUNT_CREDIT)  as PTR_AMOUNT_CREDIT_MIN,\n",
    "\n",
    "MAX(CBWTR_AMOUNT_DEBIT)  as  CBWTR_AMOUNT_DEBIT_MAX,\n",
    "MIN(CBWTR_AMOUNT_DEBIT)  as  CBWTR_AMOUNT_DEBIT_MIN,\n",
    "MAX(CBWTR_AMOUNT_CREDIT)  as CBWTR_AMOUNT_CREDIT_MAX,\n",
    "MIN(CBWTR_AMOUNT_CREDIT)  as CBWTR_AMOUNT_CREDIT_MIN,\n",
    "\n",
    "MAX(CCR_AMOUNT_DEBIT)  as  CCR_AMOUNT_DEBIT_MAX,\n",
    "MIN(CCR_AMOUNT_DEBIT)  as  CCR_AMOUNT_DEBIT_MIN,\n",
    "MAX(CCR_AMOUNT_CREDIT)  as CCR_AMOUNT_CREDIT_MAX,\n",
    "MIN(CCR_AMOUNT_CREDIT)  as CCR_AMOUNT_CREDIT_MIN,\n",
    "GETDATE()\n",
    "\n",
    "from FINCORE_DB.FINCORE_ANALYTICS.RISK_PERSON_SUMMARY_STG GROUP BY PEER_GROUP_ID  \n",
    "'''\n",
    "\n",
    "\n",
    "cursor.execute(RISK_LKP_PEER_GRP_ATTRIBUTES)\n",
    "conn.commit()\n",
    "\n"
   ]
  },
  {
   "cell_type": "code",
   "execution_count": 129,
   "metadata": {},
   "outputs": [],
   "source": [
    "conn.close()"
   ]
  },
  {
   "cell_type": "code",
   "execution_count": 130,
   "metadata": {},
   "outputs": [],
   "source": [
    "# peer_grp_1.head()"
   ]
  },
  {
   "cell_type": "code",
   "execution_count": 131,
   "metadata": {},
   "outputs": [],
   "source": [
    "ind_data_U['Cluster_labels'] = ind_data_U['Cluster_labels'].astype('int32')"
   ]
  },
  {
   "cell_type": "code",
   "execution_count": 132,
   "metadata": {},
   "outputs": [],
   "source": [
    "ind_data_U.to_csv(r\"/data/peer_updated.csv\",index=False)"
   ]
  },
  {
   "cell_type": "code",
   "execution_count": null,
   "metadata": {},
   "outputs": [],
   "source": []
  },
  {
   "cell_type": "code",
   "execution_count": null,
   "metadata": {},
   "outputs": [],
   "source": []
  },
  {
   "cell_type": "code",
   "execution_count": null,
   "metadata": {},
   "outputs": [],
   "source": []
  },
  {
   "cell_type": "code",
   "execution_count": 133,
   "metadata": {},
   "outputs": [],
   "source": [
    "# for ind,row in ind_data_U_temp.iterrows():\n",
    "#     occ = row[1]\n",
    "#     print(occ)\n",
    "\n",
    "\n",
    "#     d = {}\n",
    "#     try:\n",
    "#     #     print(row['PERSON_MASTER_ID'])\n",
    "#         for indP,rowP in peer_grp_1.iterrows():\n",
    "#             if rowP[0].startswith(occ):\n",
    "#                 dis = math.sqrt(((rowP['TRAN_AMNT_MEAN'] - row['TRAN_AMNT'])**2)+((rowP['CBDT_INCOME_RANGE_MEAN'] - row['CBDT_INCOME_RANGE'])**2))\n",
    "#                 d[rowP[0]] = dis\n",
    "\n",
    "\n",
    "# #         cursor.execute(\"\"\"update fincore_analytics.RISK_PERSON_SUMMARY_STG \n",
    "# #         set RISK_PERSON_SUMMARY_STG.PEER_GROUP_ID = '{}'\n",
    "# #         where RISK_PERSON_SUMMARY_STG.PERSON_MASTER_ID = {}\"\"\".format( min(d), row['PERSON_MASTER_ID']))  \n",
    "#         ind_data_U_temp['Peer_group_changed'] = min(d)\n",
    "#     except ValueError:\n",
    "# #         cursor.execute(\"\"\"update fincore_analytics.RISK_PERSON_SUMMARY_STG \n",
    "# #         set RISK_PERSON_SUMMARY_STG.PEER_GROUP_ID = '{}'\n",
    "# #         where RISK_PERSON_SUMMARY_STG.PERSON_MASTER_ID = {}\"\"\".format(occ, row['PERSON_MASTER_ID'])) \n",
    "#         ind_data_U_temp['PEER_GROUP_ID_changed'] = occ\n",
    "        \n",
    "\n",
    "# # # conn.commit()\n",
    "# # # conn.close()\n",
    "            \n",
    "        \n",
    "    "
   ]
  },
  {
   "cell_type": "code",
   "execution_count": 134,
   "metadata": {},
   "outputs": [],
   "source": [
    "# for ind,row in ind_data_U_temp.iterrows():\n",
    "# #     print(row['PERSON_MASTER_ID'])\n",
    "#     occ = row[1]\n",
    "#     print(\"occ\",occ)\n",
    "# #     break\n",
    "\n",
    "#     d = {}\n",
    "\n",
    "#     try:\n",
    "#     #     print(row['PERSON_MASTER_ID'])\n",
    "#         for indP,rowP in peer_grp_1.iterrows():\n",
    "# #             print(rowP[0])\n",
    "#             if rowP[0].startswith(occ):\n",
    "#                 dis = math.sqrt(((rowP['TRAN_AMNT_MEAN'] - row['TRAN_AMNT'])**2)+((rowP['CBDT_INCOME_RANGE_MEAN'] - row['CBDT_INCOME_RANGE'])**2))\n",
    "#                 d[rowP[0]] = dis\n",
    "                \n",
    "                \n",
    "        \n",
    "            \n",
    "# #         cursor.execute(\"\"\"update fincore_analytics.RISK_PERSON_SUMMARY_STG \n",
    "# #         set RISK_PERSON_SUMMARY_STG.PEER_GROUP_ID = '{}'\n",
    "# #         where RISK_PERSON_SUMMARY_STG.PERSON_MASTER_ID = {}\"\"\".format( min(d), row['PERSON_MASTER_ID']))  \n",
    "#         Peer_group_changed = min(d)\n",
    "    \n",
    "#     except ValueError:\n",
    "# #         cursor.execute(\"\"\"update fincore_analytics.RISK_PERSON_SUMMARY_STG \n",
    "# #         set RISK_PERSON_SUMMARY_STG.PEER_GROUP_ID = '{}'\n",
    "# #         where RISK_PERSON_SUMMARY_STG.PERSON_MASTER_ID = {}\"\"\".format(occ, row['PERSON_MASTER_ID'])) \n",
    "#         Peer_group_changed = occ\n",
    "    \n",
    "    \n",
    "#     print(Peer_group_changed)\n",
    "    \n",
    "#     ind_data_U_temp['Peer_group_changed'][ind] = Peer_group_changed\n",
    "        \n",
    "     "
   ]
  },
  {
   "cell_type": "code",
   "execution_count": 135,
   "metadata": {},
   "outputs": [],
   "source": [
    "# ind_data_U_temp"
   ]
  },
  {
   "cell_type": "code",
   "execution_count": 136,
   "metadata": {},
   "outputs": [],
   "source": [
    "# ind_data_U_temp.to_csv('results1.csv')"
   ]
  },
  {
   "cell_type": "code",
   "execution_count": null,
   "metadata": {},
   "outputs": [],
   "source": []
  }
 ],
 "metadata": {
  "hide_input": false,
  "kernelspec": {
   "display_name": "Python 3",
   "language": "python",
   "name": "python3"
  },
  "language_info": {
   "codemirror_mode": {
    "name": "ipython",
    "version": 3
   },
   "file_extension": ".py",
   "mimetype": "text/x-python",
   "name": "python",
   "nbconvert_exporter": "python",
   "pygments_lexer": "ipython3",
   "version": "3.6.15"
  },
  "toc": {
   "base_numbering": 1,
   "nav_menu": {},
   "number_sections": true,
   "sideBar": true,
   "skip_h1_title": false,
   "title_cell": "Table of Contents",
   "title_sidebar": "Contents",
   "toc_cell": false,
   "toc_position": {},
   "toc_section_display": true,
   "toc_window_display": false
  },
  "varInspector": {
   "cols": {
    "lenName": 16,
    "lenType": 16,
    "lenVar": 40
   },
   "kernels_config": {
    "python": {
     "delete_cmd_postfix": "",
     "delete_cmd_prefix": "del ",
     "library": "var_list.py",
     "varRefreshCmd": "print(var_dic_list())"
    },
    "r": {
     "delete_cmd_postfix": ") ",
     "delete_cmd_prefix": "rm(",
     "library": "var_list.r",
     "varRefreshCmd": "cat(var_dic_list()) "
    }
   },
   "types_to_exclude": [
    "module",
    "function",
    "builtin_function_or_method",
    "instance",
    "_Feature"
   ],
   "window_display": false
  }
 },
 "nbformat": 4,
 "nbformat_minor": 4
}
