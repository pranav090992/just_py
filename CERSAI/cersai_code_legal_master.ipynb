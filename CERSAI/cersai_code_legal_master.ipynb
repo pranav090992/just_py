{
 "cells": [
  {
   "cell_type": "code",
   "execution_count": 1,
   "id": "20ed4952",
   "metadata": {},
   "outputs": [],
   "source": [
    "import numpy as np\n",
    "import pandas as pd\n",
    "import pyodbc\n",
    "import pandas as pd\n",
    "import numpy as np\n",
    "from pprint import pprint\n",
    "import datetime\n",
    "from configparser import ConfigParser\n",
    "import datetime\n",
    "import pandas as pd\n",
    "import sqlalchemy as sa"
   ]
  },
  {
   "cell_type": "code",
   "execution_count": 2,
   "id": "96aa68ea",
   "metadata": {},
   "outputs": [],
   "source": [
    "# C:\\Users\\FIU\\Desktop\\data_science_projects_detail-TEST"
   ]
  },
  {
   "cell_type": "code",
   "execution_count": 3,
   "id": "6542d3f6",
   "metadata": {},
   "outputs": [
    {
     "data": {
      "text/html": [
       "<style>.container { width:100% !important; }</style>"
      ],
      "text/plain": [
       "<IPython.core.display.HTML object>"
      ]
     },
     "metadata": {},
     "output_type": "display_data"
    }
   ],
   "source": [
    "from IPython.display import display, HTML\n",
    "display(HTML(\"<style>.container { width:100% !important; }</style>\"))"
   ]
  },
  {
   "cell_type": "code",
   "execution_count": 4,
   "id": "61e2ae79",
   "metadata": {},
   "outputs": [],
   "source": [
    "from configparser import ConfigParser\n",
    "import sqlalchemy\n",
    "import pyodbc\n",
    "import urllib\n",
    "from urllib.parse import quote\n",
    "from abc import ABC\n",
    "import logging\n",
    "import sys\n",
    "import re\n",
    "import pandas as pd\n",
    "import numpy as np\n",
    "config = ConfigParser()\n",
    "config.read('fingate_to_bridge_config.ini')\n",
    "#config.read('/notebooks/notebooks/fingate_to_bridge_config.ini')\n",
    "config_data=config['SERVER']\n",
    "import warnings\n",
    "warnings.filterwarnings('ignore')"
   ]
  },
  {
   "cell_type": "code",
   "execution_count": 5,
   "id": "916ee537",
   "metadata": {},
   "outputs": [],
   "source": [
    "conn = pyodbc.connect(config_data[\"fincore_bridge_read\"])\n",
    "cursor = conn.cursor()"
   ]
  },
  {
   "cell_type": "code",
   "execution_count": 6,
   "id": "ac135663",
   "metadata": {},
   "outputs": [],
   "source": [
    "col = pd.read_sql_query('''Select top 1 * from extl_db.CERSAI.CERSAI_KM_KYC_Legal_master_Sample with (nolock) ''',conn)\n",
    "col_df = col.columns.to_list()"
   ]
  },
  {
   "cell_type": "code",
   "execution_count": 7,
   "id": "872fc2a1",
   "metadata": {},
   "outputs": [],
   "source": [
    " files = ['km_KYC_Legal_master_Sample_2.csv']\n",
    " "
   ]
  },
  {
   "cell_type": "code",
   "execution_count": 8,
   "id": "c9f390b4",
   "metadata": {},
   "outputs": [
    {
     "data": {
      "text/plain": [
       "1"
      ]
     },
     "execution_count": 8,
     "metadata": {},
     "output_type": "execute_result"
    }
   ],
   "source": [
    "len(files)"
   ]
  },
  {
   "cell_type": "code",
   "execution_count": 9,
   "id": "37ebac80",
   "metadata": {},
   "outputs": [
    {
     "name": "stdout",
     "output_type": "stream",
     "text": [
      "km_KYC_Legal_master_Sample_2.csv\n"
     ]
    }
   ],
   "source": [
    "error_files = []\n",
    "for f in files:\n",
    "    print(f)\n",
    "    with open(f) as file:\n",
    "        data = file.read().splitlines()\n",
    "    d = pd.DataFrame(data,columns = ['DATA'])\n",
    "    d['COUNT'] = d['DATA'].apply(lambda x : x.count('|'))\n",
    "    \n",
    "#     if (len(d[d['COUNT']!= 8]) != 0 ):\n",
    "#         print(d[d['COUNT'] != 8 ])\n",
    "#           error_files.append(f)\n",
    "#           print(f,'is removed..')\n",
    "#           files.remove(f)\n",
    "\n",
    "    "
   ]
  },
  {
   "cell_type": "code",
   "execution_count": null,
   "id": "3307f2d3",
   "metadata": {},
   "outputs": [],
   "source": []
  },
  {
   "cell_type": "code",
   "execution_count": 10,
   "id": "691fcc35",
   "metadata": {},
   "outputs": [
    {
     "data": {
      "text/plain": [
       "[]"
      ]
     },
     "execution_count": 10,
     "metadata": {},
     "output_type": "execute_result"
    }
   ],
   "source": [
    "error_files"
   ]
  },
  {
   "cell_type": "code",
   "execution_count": 11,
   "id": "7695b7bb",
   "metadata": {},
   "outputs": [
    {
     "data": {
      "text/plain": [
       "['km_KYC_Legal_master_Sample_2.csv']"
      ]
     },
     "execution_count": 11,
     "metadata": {},
     "output_type": "execute_result"
    }
   ],
   "source": [
    "files"
   ]
  },
  {
   "cell_type": "code",
   "execution_count": 12,
   "id": "e27c3ed7",
   "metadata": {},
   "outputs": [],
   "source": [
    "pd.set_option(\"display.max_column\",200)\n",
    "pd.set_option(\"display.float_format\",lambda x:'%.5f' %x)"
   ]
  },
  {
   "cell_type": "code",
   "execution_count": 13,
   "id": "6af5a621",
   "metadata": {},
   "outputs": [
    {
     "data": {
      "text/html": [
       "<div>\n",
       "<style scoped>\n",
       "    .dataframe tbody tr th:only-of-type {\n",
       "        vertical-align: middle;\n",
       "    }\n",
       "\n",
       "    .dataframe tbody tr th {\n",
       "        vertical-align: top;\n",
       "    }\n",
       "\n",
       "    .dataframe thead th {\n",
       "        text-align: right;\n",
       "    }\n",
       "</style>\n",
       "<table border=\"1\" class=\"dataframe\">\n",
       "  <thead>\n",
       "    <tr style=\"text-align: right;\">\n",
       "      <th></th>\n",
       "      <th>km_reference_no</th>\n",
       "      <th>km_ckyc_no</th>\n",
       "      <th>km_FI_code</th>\n",
       "      <th>km_region_code</th>\n",
       "      <th>km_branch_code</th>\n",
       "      <th>km_cust_type</th>\n",
       "      <th>km_batch_no</th>\n",
       "      <th>km_kyc_category</th>\n",
       "      <th>km_resi_tax</th>\n",
       "      <th>km_no_of_control_persons</th>\n",
       "      <th>km_ident_prefix</th>\n",
       "      <th>km_ident_fname</th>\n",
       "      <th>km_ident_mname</th>\n",
       "      <th>km_ident_lname</th>\n",
       "      <th>km_ident_appl_name</th>\n",
       "      <th>km_ident_maiden_prefix</th>\n",
       "      <th>km_ident_maiden_fname</th>\n",
       "      <th>km_ident_maiden_mname</th>\n",
       "      <th>km_ident_maiden_lname</th>\n",
       "      <th>km_ident_maiden_name</th>\n",
       "      <th>km_ident_father_prefix</th>\n",
       "      <th>km_ident_father_fname</th>\n",
       "      <th>km_ident_father_mname</th>\n",
       "      <th>km_ident_father_lname</th>\n",
       "      <th>km_ident_father_name</th>\n",
       "      <th>km_ident_mother_prefix</th>\n",
       "      <th>km_ident_mother_fname</th>\n",
       "      <th>km_ident_mother_mname</th>\n",
       "      <th>km_ident_mother_lname</th>\n",
       "      <th>km_ident_mother_name</th>\n",
       "      <th>km_ident_gender</th>\n",
       "      <th>km_ident_marital_status</th>\n",
       "      <th>km_ident_occpation</th>\n",
       "      <th>km_ident_occutpationOthers</th>\n",
       "      <th>km_ident_dob</th>\n",
       "      <th>km_ident_JOR</th>\n",
       "      <th>km_ident_country</th>\n",
       "      <th>km_ident_cityOfBirth</th>\n",
       "      <th>km_ident_placeIncorporation</th>\n",
       "      <th>km_ident_date_busi_commence</th>\n",
       "      <th>km_ident_country_incorp</th>\n",
       "      <th>km_ident_TIN_country</th>\n",
       "      <th>km_ident_nationality</th>\n",
       "      <th>km_corres_Addr_type</th>\n",
       "      <th>km_corres_addr_build</th>\n",
       "      <th>km_corres_Addr_street</th>\n",
       "      <th>km_corres_Addr_landmark</th>\n",
       "      <th>km_corres_Addr_city_vill</th>\n",
       "      <th>km_corres_Addr_pin</th>\n",
       "      <th>km_corres_Addr_state</th>\n",
       "      <th>km_corres_Addr_state_others</th>\n",
       "      <th>km_corres_Addr_country</th>\n",
       "      <th>km_corres_Addr_POA</th>\n",
       "      <th>km_Addr_same_flag</th>\n",
       "      <th>km_perm_Addr_type</th>\n",
       "      <th>km_perm_addr_build</th>\n",
       "      <th>km_perm_Addr_street</th>\n",
       "      <th>km_perm_Addr_landmark</th>\n",
       "      <th>km_perm_Addr_city_vill</th>\n",
       "      <th>km_perm_Addr_pin</th>\n",
       "      <th>km_perm_Addr_state</th>\n",
       "      <th>km_perm_Addr_state_others</th>\n",
       "      <th>km_perm_Addr_country</th>\n",
       "      <th>km_perm_Addr_TAXID</th>\n",
       "      <th>km_perm_Addr_POA</th>\n",
       "      <th>km_perm_Addr_POA_others</th>\n",
       "      <th>km_ident_resiPhone_code</th>\n",
       "      <th>km_ident_resiPhone</th>\n",
       "      <th>km_ident_offPhone_code</th>\n",
       "      <th>km_ident_offPhone</th>\n",
       "      <th>km_ident_mobile_code</th>\n",
       "      <th>km_ident_mobile</th>\n",
       "      <th>km_ident_fax_code</th>\n",
       "      <th>km_ident_fax</th>\n",
       "      <th>km_ident_email</th>\n",
       "      <th>km_ident_education</th>\n",
       "      <th>km_ident_incomerange</th>\n",
       "      <th>km_ident_networth</th>\n",
       "      <th>km_ident_nwDate</th>\n",
       "      <th>km_PEP</th>\n",
       "      <th>km_any_other_inform</th>\n",
       "      <th>km_date_of_decl</th>\n",
       "      <th>km_place_of_decl</th>\n",
       "      <th>km_date_of_activation</th>\n",
       "      <th>km_date_of_updation</th>\n",
       "      <th>km_remarks</th>\n",
       "      <th>km_IPV_flag</th>\n",
       "      <th>km_IPV_date</th>\n",
       "      <th>km_doc_proof</th>\n",
       "      <th>km_risk_category</th>\n",
       "      <th>km_IPV_name</th>\n",
       "      <th>km_IPV_desig</th>\n",
       "      <th>km_IPV_Branch</th>\n",
       "      <th>km_IPV_EMP</th>\n",
       "      <th>km_IPV_org</th>\n",
       "      <th>km_INST_name</th>\n",
       "      <th>km_INST_code</th>\n",
       "      <th>km_no_related_people</th>\n",
       "      <th>km_no_of_local_addr</th>\n",
       "      <th>km_no_of_images</th>\n",
       "      <th>km_error_code</th>\n",
       "      <th>km_ident_PAN</th>\n",
       "      <th>km_ID_type</th>\n",
       "      <th>km_status</th>\n",
       "      <th>km_status_remarks</th>\n",
       "      <th>km_ID_XML_gen_flag</th>\n",
       "      <th>km_user_created</th>\n",
       "      <th>km_created_date</th>\n",
       "      <th>km_user_updated</th>\n",
       "      <th>km_updated_date</th>\n",
       "      <th>km_kyc_category_others</th>\n",
       "      <th>km_accnt_type</th>\n",
       "      <th>km_ident_JOR_flag</th>\n",
       "      <th>km_CorresPremJorAddr_flag</th>\n",
       "      <th>km_jor_Addr_type</th>\n",
       "      <th>km_jor_addr_build</th>\n",
       "      <th>km_jor_Addr_street</th>\n",
       "      <th>km_jor_Addr_landmark</th>\n",
       "      <th>km_jor_Addr_city_vill</th>\n",
       "      <th>km_jor_Addr_pin</th>\n",
       "      <th>km_jor_Addr_state</th>\n",
       "      <th>km_jor_Addr_state_others</th>\n",
       "      <th>km_jor_Addr_country</th>\n",
       "      <th>km_jor_Addr_POA</th>\n",
       "      <th>km_no_identity_details</th>\n",
       "      <th>km_refno_internal_bulk</th>\n",
       "      <th>km_accnt_holder_type</th>\n",
       "      <th>km_accnt_holder_type_flag</th>\n",
       "      <th>km_ident_father_spse_flag</th>\n",
       "      <th>km_bulk_ref_no</th>\n",
       "      <th>km_batch_mode</th>\n",
       "      <th>km_charge</th>\n",
       "      <th>km_corres_Addr_dist</th>\n",
       "      <th>km_perm_Addr_dist</th>\n",
       "      <th>km_billing_batch_no</th>\n",
       "      <th>km_lastIPVUpdated_FI</th>\n",
       "    </tr>\n",
       "  </thead>\n",
       "  <tbody>\n",
       "  </tbody>\n",
       "</table>\n",
       "</div>"
      ],
      "text/plain": [
       "Empty DataFrame\n",
       "Columns: [km_reference_no, km_ckyc_no, km_FI_code, km_region_code, km_branch_code, km_cust_type, km_batch_no, km_kyc_category, km_resi_tax, km_no_of_control_persons, km_ident_prefix, km_ident_fname, km_ident_mname, km_ident_lname, km_ident_appl_name, km_ident_maiden_prefix, km_ident_maiden_fname, km_ident_maiden_mname, km_ident_maiden_lname, km_ident_maiden_name, km_ident_father_prefix, km_ident_father_fname, km_ident_father_mname, km_ident_father_lname, km_ident_father_name, km_ident_mother_prefix, km_ident_mother_fname, km_ident_mother_mname, km_ident_mother_lname, km_ident_mother_name, km_ident_gender, km_ident_marital_status, km_ident_occpation, km_ident_occutpationOthers, km_ident_dob, km_ident_JOR, km_ident_country, km_ident_cityOfBirth, km_ident_placeIncorporation, km_ident_date_busi_commence, km_ident_country_incorp, km_ident_TIN_country, km_ident_nationality, km_corres_Addr_type, km_corres_addr_build, km_corres_Addr_street, km_corres_Addr_landmark, km_corres_Addr_city_vill, km_corres_Addr_pin, km_corres_Addr_state, km_corres_Addr_state_others, km_corres_Addr_country, km_corres_Addr_POA, km_Addr_same_flag, km_perm_Addr_type, km_perm_addr_build, km_perm_Addr_street, km_perm_Addr_landmark, km_perm_Addr_city_vill, km_perm_Addr_pin, km_perm_Addr_state, km_perm_Addr_state_others, km_perm_Addr_country, km_perm_Addr_TAXID, km_perm_Addr_POA, km_perm_Addr_POA_others, km_ident_resiPhone_code, km_ident_resiPhone, km_ident_offPhone_code, km_ident_offPhone, km_ident_mobile_code, km_ident_mobile, km_ident_fax_code, km_ident_fax, km_ident_email, km_ident_education, km_ident_incomerange, km_ident_networth, km_ident_nwDate, km_PEP, km_any_other_inform, km_date_of_decl, km_place_of_decl, km_date_of_activation, km_date_of_updation, km_remarks, km_IPV_flag, km_IPV_date, km_doc_proof, km_risk_category, km_IPV_name, km_IPV_desig, km_IPV_Branch, km_IPV_EMP, km_IPV_org, km_INST_name, km_INST_code, km_no_related_people, km_no_of_local_addr, km_no_of_images, ...]\n",
       "Index: []"
      ]
     },
     "execution_count": 13,
     "metadata": {},
     "output_type": "execute_result"
    }
   ],
   "source": [
    "col"
   ]
  },
  {
   "cell_type": "code",
   "execution_count": 14,
   "id": "d36b07bc",
   "metadata": {},
   "outputs": [],
   "source": [
    "col = pd.read_sql_query('''Select top 1 * from extl_db.CERSAI.CERSAI_KM_KYC_Legal_master_Sample with (nolock) ''',conn)\n",
    "col_df = col.columns.to_list()"
   ]
  },
  {
   "cell_type": "code",
   "execution_count": 15,
   "id": "bf198774",
   "metadata": {},
   "outputs": [],
   "source": [
    "# col_df.remove('Create_Date')\n",
    "# col_df.remove('Create_By')\n",
    "# col_df.remove('File_Name')"
   ]
  },
  {
   "cell_type": "code",
   "execution_count": 16,
   "id": "a9af46bf",
   "metadata": {},
   "outputs": [
    {
     "name": "stdout",
     "output_type": "stream",
     "text": [
      "2023-11-03 14:22:02.087222\n"
     ]
    }
   ],
   "source": [
    "print(str(datetime.datetime.now()))"
   ]
  },
  {
   "cell_type": "code",
   "execution_count": 17,
   "id": "27b63732",
   "metadata": {},
   "outputs": [],
   "source": [
    "config = ConfigParser()\n",
    "config.read(r'fingate_to_bridge_config.ini')\n",
    "connection_string = config.get('SERVER', 'fincore_bridge_read')\n",
    "conn = pyodbc.connect(connection_string)\n",
    "cursor = conn.cursor()\n",
    "\n",
    "connection_url = sa.engine.URL.create(\n",
    "    \"mssql+pyodbc\", \n",
    "    query=dict(odbc_connect=connection_string)\n",
    ")\n",
    "engine = sa.create_engine(connection_url, fast_executemany=True)"
   ]
  },
  {
   "cell_type": "code",
   "execution_count": null,
   "id": "0f5e3759",
   "metadata": {},
   "outputs": [],
   "source": []
  },
  {
   "cell_type": "code",
   "execution_count": 18,
   "id": "83141755",
   "metadata": {},
   "outputs": [],
   "source": [
    "def data_pop(f):\n",
    "    try:\n",
    "        data = pd.read_csv(f,sep = '|',names = col_df)\n",
    "        print(f,'dataframe created...')\n",
    "#         data['File_Name'] = f\n",
    "#         data['Create_Date'] = str(datetime.datetime.now())\n",
    "#         data['Create_By'] = 'HDM'\n",
    "#         data = data.sort_values('Pan')\n",
    "    \n",
    "    \n",
    "        config = ConfigParser()\n",
    "        config.read(r'fingate_to_bridge_config.ini')\n",
    "        connection_string = config.get('SERVER', 'fincore_bridge_read')\n",
    "        conn = pyodbc.connect(connection_string)\n",
    "        cursor = conn.cursor()\n",
    "\n",
    "        connection_url = sa.engine.URL.create(\n",
    "            \"mssql+pyodbc\", \n",
    "            query=dict(odbc_connect=connection_string)\n",
    "        )\n",
    "        engine = sa.create_engine(connection_url, fast_executemany=True)\n",
    "    \n",
    "    \n",
    "        df1 = data[:2500000]\n",
    "        df2 = data[2500000:4000000]\n",
    "        df3 = data[4000000:]\n",
    "\n",
    "    \n",
    "        # upload the DataFrame\n",
    "        c = 0\n",
    "        df1.to_sql(\"CERSAI_KM_KYC_Legal_master_Sample\", engine, schema=\"EXTL_db.CERSAI\", if_exists=\"append\", index=False,chunksize=1000)\n",
    "        c = 1\n",
    "        df2.to_sql(\"CERSAI_KM_KYC_Legal_master_Sample\", engine, schema=\"EXTL_db.CERSAI\", if_exists=\"append\", index=False,chunksize=1000)\n",
    "        c = 2\n",
    "        df3.to_sql(\"CERSAI_KM_KYC_Legal_master_Sample\", engine, schema=\"EXTL_db.CERSAI\", if_exists=\"append\", index=False,chunksize=1000)\n",
    "        c = 3\n",
    "        print(str(datetime.datetime.now()))\n",
    "    except:\n",
    "        \n",
    "        for i in range (5000):\n",
    "            print(\"TRY \",i)\n",
    "            try:\n",
    "        \n",
    "                if c == 0:\n",
    "                    c = 0\n",
    "                    df1.to_sql(\"CERSAI_KM_KYC_Legal_master_Sample\", engine, schema=\"EXTL_db.CERSAI\", if_exists=\"append\", index=False,chunksize=1000)\n",
    "                    c = 1\n",
    "                    df2.to_sql(\"CERSAI_KM_KYC_Legal_master_Sample\", engine, schema=\"EXTL_db.CERSAI\", if_exists=\"append\", index=False,chunksize=1000)\n",
    "                    c = 2\n",
    "                    df3.to_sql(\"CERSAI_KM_KYC_Legal_master_Sample\", engine, schema=\"EXTL_db.CERSAI\", if_exists=\"append\", index=False,chunksize=1000)\n",
    "                    c = 3\n",
    "                elif c == 1:\n",
    "                    c = 1\n",
    "                    df2.to_sql(\"CERSAI_KM_KYC_Legal_master_Sample\", engine, schema=\"EXTL_db.CERSAI\", if_exists=\"append\", index=False,chunksize=1000)\n",
    "                    c = 2\n",
    "                    df3.to_sql(\"CERSAI_KM_KYC_Legal_master_Sample\", engine, schema=\"EXTL_db.CERSAI\", if_exists=\"append\", index=False,chunksize=1000)\n",
    "                    c = 3\n",
    "                elif c == 2:\n",
    "                    df3.to_sql(\"CERSAI_KM_KYC_Legal_master_Sample\", engine, schema=\"EXTL_db.CERSAI\", if_exists=\"append\", index=False,chunksize=1000)\n",
    "                    c = 3\n",
    "                    \n",
    "            except Exception as error:\n",
    "                print(error)\n",
    "                pass\n",
    "            \n",
    "            \n",
    "\n",
    "\n",
    "\n",
    "    \n",
    "\n",
    "    "
   ]
  },
  {
   "cell_type": "code",
   "execution_count": 19,
   "id": "1b8be81c",
   "metadata": {},
   "outputs": [
    {
     "name": "stdout",
     "output_type": "stream",
     "text": [
      "km_KYC_Legal_master_Sample_2.csv\n",
      "km_KYC_Legal_master_Sample_2.csv dataframe created...\n",
      "2023-11-03 14:22:08.884530\n"
     ]
    }
   ],
   "source": [
    "i = 0\n",
    "while (i < len(files)):\n",
    "    print(files[i])\n",
    "    data_pop(files[i])\n",
    "    \n",
    "    i+=1\n",
    "    "
   ]
  },
  {
   "cell_type": "code",
   "execution_count": null,
   "id": "e337f1e8",
   "metadata": {},
   "outputs": [],
   "source": []
  }
 ],
 "metadata": {
  "kernelspec": {
   "display_name": "Python 3",
   "language": "python",
   "name": "python3"
  },
  "language_info": {
   "codemirror_mode": {
    "name": "ipython",
    "version": 3
   },
   "file_extension": ".py",
   "mimetype": "text/x-python",
   "name": "python",
   "nbconvert_exporter": "python",
   "pygments_lexer": "ipython3",
   "version": "3.8.8"
  }
 },
 "nbformat": 4,
 "nbformat_minor": 5
}
