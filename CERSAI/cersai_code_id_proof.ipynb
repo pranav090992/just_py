{
 "cells": [
  {
   "cell_type": "code",
   "execution_count": 2,
   "id": "20ed4952",
   "metadata": {},
   "outputs": [],
   "source": [
    "import numpy as np\n",
    "import pandas as pd\n",
    "import pyodbc\n",
    "import pandas as pd\n",
    "import numpy as np\n",
    "from pprint import pprint\n",
    "import datetime\n",
    "from configparser import ConfigParser\n",
    "import datetime\n",
    "import pandas as pd\n",
    "import sqlalchemy as sa"
   ]
  },
  {
   "cell_type": "code",
   "execution_count": 3,
   "id": "96aa68ea",
   "metadata": {},
   "outputs": [],
   "source": [
    "# C:\\Users\\FIU\\Desktop\\data_science_projects_detail-TEST"
   ]
  },
  {
   "cell_type": "code",
   "execution_count": 4,
   "id": "6542d3f6",
   "metadata": {},
   "outputs": [
    {
     "data": {
      "text/html": [
       "<style>.container { width:100% !important; }</style>"
      ],
      "text/plain": [
       "<IPython.core.display.HTML object>"
      ]
     },
     "metadata": {},
     "output_type": "display_data"
    }
   ],
   "source": [
    "from IPython.display import display, HTML\n",
    "display(HTML(\"<style>.container { width:100% !important; }</style>\"))"
   ]
  },
  {
   "cell_type": "code",
   "execution_count": 5,
   "id": "61e2ae79",
   "metadata": {},
   "outputs": [],
   "source": [
    "from configparser import ConfigParser\n",
    "import sqlalchemy\n",
    "import pyodbc\n",
    "import urllib\n",
    "from urllib.parse import quote\n",
    "from abc import ABC\n",
    "import logging\n",
    "import sys\n",
    "import re\n",
    "import pandas as pd\n",
    "import numpy as np\n",
    "config = ConfigParser()\n",
    "config.read('fingate_to_bridge_config.ini')\n",
    "#config.read('/notebooks/notebooks/fingate_to_bridge_config.ini')\n",
    "config_data=config['SERVER']\n",
    "import warnings\n",
    "warnings.filterwarnings('ignore')"
   ]
  },
  {
   "cell_type": "code",
   "execution_count": 6,
   "id": "916ee537",
   "metadata": {},
   "outputs": [],
   "source": [
    "conn = pyodbc.connect(config_data[\"fincore_bridge_read\"])\n",
    "cursor = conn.cursor()"
   ]
  },
  {
   "cell_type": "code",
   "execution_count": 7,
   "id": "ac135663",
   "metadata": {},
   "outputs": [],
   "source": [
    "col = pd.read_sql_query('''Select top 1 * from extl_db.CERSAI.CERSAI_KM_kYC_LEGAL_master with (nolock) ''',conn)\n",
    "col_df = col.columns.to_list()"
   ]
  },
  {
   "cell_type": "code",
   "execution_count": 30,
   "id": "872fc2a1",
   "metadata": {},
   "outputs": [],
   "source": [
    " files = ['KYC_Legal_relations.csv']\n",
    " "
   ]
  },
  {
   "cell_type": "code",
   "execution_count": 9,
   "id": "c9f390b4",
   "metadata": {},
   "outputs": [
    {
     "data": {
      "text/plain": [
       "1"
      ]
     },
     "execution_count": 9,
     "metadata": {},
     "output_type": "execute_result"
    }
   ],
   "source": [
    "len(files)"
   ]
  },
  {
   "cell_type": "code",
   "execution_count": null,
   "id": "011bd5d1",
   "metadata": {},
   "outputs": [],
   "source": [
    "df=pd.read_csv('KYC_Legal_relations.csv',sep = '|')"
   ]
  },
  {
   "cell_type": "code",
   "execution_count": null,
   "id": "8869922b",
   "metadata": {},
   "outputs": [],
   "source": [
    "df"
   ]
  },
  {
   "cell_type": "code",
   "execution_count": null,
   "id": "c87c4994",
   "metadata": {},
   "outputs": [],
   "source": []
  },
  {
   "cell_type": "code",
   "execution_count": 12,
   "id": "37ebac80",
   "metadata": {},
   "outputs": [
    {
     "name": "stdout",
     "output_type": "stream",
     "text": [
      "KYC_Legal_IDProof.csv\n"
     ]
    }
   ],
   "source": [
    "error_files = []\n",
    "for f in files:\n",
    "    print(f)\n",
    "    with open(f) as file:\n",
    "        data = file.read().splitlines()\n",
    "    d = pd.DataFrame(data,columns = ['DATA'])\n",
    "    d['COUNT'] = d['DATA'].apply(lambda x : x.count('|'))\n",
    "    \n",
    "#     if (len(d[d['COUNT']!= 8]) != 0 ):\n",
    "#         print(d[d['COUNT'] != 8 ])\n",
    "#           error_files.append(f)\n",
    "#           print(f,'is removed..')\n",
    "#           files.remove(f)\n",
    "\n",
    "    "
   ]
  },
  {
   "cell_type": "code",
   "execution_count": null,
   "id": "3307f2d3",
   "metadata": {},
   "outputs": [],
   "source": []
  },
  {
   "cell_type": "code",
   "execution_count": 13,
   "id": "691fcc35",
   "metadata": {},
   "outputs": [
    {
     "data": {
      "text/plain": [
       "[]"
      ]
     },
     "execution_count": 13,
     "metadata": {},
     "output_type": "execute_result"
    }
   ],
   "source": [
    "error_files"
   ]
  },
  {
   "cell_type": "code",
   "execution_count": 14,
   "id": "7695b7bb",
   "metadata": {},
   "outputs": [
    {
     "data": {
      "text/plain": [
       "['KYC_Legal_IDProof.csv']"
      ]
     },
     "execution_count": 14,
     "metadata": {},
     "output_type": "execute_result"
    }
   ],
   "source": [
    "files"
   ]
  },
  {
   "cell_type": "code",
   "execution_count": 15,
   "id": "e27c3ed7",
   "metadata": {},
   "outputs": [],
   "source": [
    "pd.set_option(\"display.max_column\",200)\n",
    "pd.set_option(\"display.float_format\",lambda x:'%.5f' %x)"
   ]
  },
  {
   "cell_type": "code",
   "execution_count": 16,
   "id": "6af5a621",
   "metadata": {},
   "outputs": [
    {
     "data": {
      "text/html": [
       "<div>\n",
       "<style scoped>\n",
       "    .dataframe tbody tr th:only-of-type {\n",
       "        vertical-align: middle;\n",
       "    }\n",
       "\n",
       "    .dataframe tbody tr th {\n",
       "        vertical-align: top;\n",
       "    }\n",
       "\n",
       "    .dataframe thead th {\n",
       "        text-align: right;\n",
       "    }\n",
       "</style>\n",
       "<table border=\"1\" class=\"dataframe\">\n",
       "  <thead>\n",
       "    <tr style=\"text-align: right;\">\n",
       "      <th></th>\n",
       "      <th>kid_kyc_no</th>\n",
       "      <th>kid_fi_code</th>\n",
       "      <th>kid_reg_code</th>\n",
       "      <th>kid_br_code</th>\n",
       "      <th>kid_ID_code</th>\n",
       "      <th>kid_ID_code_others</th>\n",
       "      <th>kid_ID_Number</th>\n",
       "      <th>kid_ID_Expiry_Date</th>\n",
       "      <th>kid_ID_Proof</th>\n",
       "      <th>kid_created_by</th>\n",
       "      <th>kid_created_date</th>\n",
       "      <th>kid_updated_by</th>\n",
       "      <th>kid_updated_date</th>\n",
       "      <th>kid_id_count</th>\n",
       "      <th>kid_add_del</th>\n",
       "      <th>kid_id_ver_status</th>\n",
       "      <th>kid_id_status</th>\n",
       "      <th>kid_id</th>\n",
       "    </tr>\n",
       "  </thead>\n",
       "  <tbody>\n",
       "  </tbody>\n",
       "</table>\n",
       "</div>"
      ],
      "text/plain": [
       "Empty DataFrame\n",
       "Columns: [kid_kyc_no, kid_fi_code, kid_reg_code, kid_br_code, kid_ID_code, kid_ID_code_others, kid_ID_Number, kid_ID_Expiry_Date, kid_ID_Proof, kid_created_by, kid_created_date, kid_updated_by, kid_updated_date, kid_id_count, kid_add_del, kid_id_ver_status, kid_id_status, kid_id]\n",
       "Index: []"
      ]
     },
     "execution_count": 16,
     "metadata": {},
     "output_type": "execute_result"
    }
   ],
   "source": [
    "col"
   ]
  },
  {
   "cell_type": "code",
   "execution_count": null,
   "id": "666f09a4",
   "metadata": {},
   "outputs": [],
   "source": []
  },
  {
   "cell_type": "code",
   "execution_count": null,
   "id": "31bef10b",
   "metadata": {},
   "outputs": [],
   "source": []
  },
  {
   "cell_type": "code",
   "execution_count": 17,
   "id": "d36b07bc",
   "metadata": {},
   "outputs": [],
   "source": [
    "col = pd.read_sql_query('''Select top 1 * from extl_db.CERSAI.CERSAI_KID_KYC_Legal_IDProof with (nolock) ''',conn)\n",
    "col_df = col.columns.to_list()"
   ]
  },
  {
   "cell_type": "code",
   "execution_count": 18,
   "id": "bf198774",
   "metadata": {},
   "outputs": [],
   "source": [
    "# col_df.remove('Create_Date')\n",
    "# col_df.remove('Create_By')\n",
    "# col_df.remove('File_Name')"
   ]
  },
  {
   "cell_type": "code",
   "execution_count": null,
   "id": "5f6fb447",
   "metadata": {},
   "outputs": [],
   "source": []
  },
  {
   "cell_type": "code",
   "execution_count": 19,
   "id": "a9af46bf",
   "metadata": {},
   "outputs": [
    {
     "name": "stdout",
     "output_type": "stream",
     "text": [
      "2023-11-04 14:31:53.545115\n"
     ]
    }
   ],
   "source": [
    "print(str(datetime.datetime.now()))"
   ]
  },
  {
   "cell_type": "code",
   "execution_count": 20,
   "id": "27b63732",
   "metadata": {},
   "outputs": [],
   "source": [
    "config = ConfigParser()\n",
    "config.read(r'fingate_to_bridge_config.ini')\n",
    "connection_string = config.get('SERVER', 'fincore_bridge_read')\n",
    "conn = pyodbc.connect(connection_string)\n",
    "cursor = conn.cursor()\n",
    "\n",
    "connection_url = sa.engine.URL.create(\n",
    "    \"mssql+pyodbc\", \n",
    "    query=dict(odbc_connect=connection_string)\n",
    ")\n",
    "engine = sa.create_engine(connection_url, fast_executemany=True)"
   ]
  },
  {
   "cell_type": "code",
   "execution_count": null,
   "id": "0f5e3759",
   "metadata": {},
   "outputs": [],
   "source": []
  },
  {
   "cell_type": "code",
   "execution_count": 21,
   "id": "83141755",
   "metadata": {},
   "outputs": [],
   "source": [
    "def data_pop(f):\n",
    "    try:\n",
    "        data = pd.read_csv(f,sep = '|',names = col_df)\n",
    "        print(f,'dataframe created...')\n",
    "#         data['File_Name'] = f\n",
    "#         data['Create_Date'] = str(datetime.datetime.now())\n",
    "#         data['Create_By'] = 'HDM'\n",
    "#         data = data.sort_values('Pan')\n",
    "    \n",
    "    \n",
    "        config = ConfigParser()\n",
    "        config.read(r'fingate_to_bridge_config.ini')\n",
    "        connection_string = config.get('SERVER', 'fincore_bridge_read')\n",
    "        conn = pyodbc.connect(connection_string)\n",
    "        cursor = conn.cursor()\n",
    "\n",
    "        connection_url = sa.engine.URL.create(\n",
    "            \"mssql+pyodbc\", \n",
    "            query=dict(odbc_connect=connection_string)\n",
    "        )\n",
    "        engine = sa.create_engine(connection_url, fast_executemany=True)\n",
    "    \n",
    "    \n",
    "        df1 = data[:2500000]\n",
    "        df2 = data[2500000:4000000]\n",
    "        df3 = data[4000000:]\n",
    "\n",
    "    \n",
    "        # upload the DataFrame\n",
    "        c = 0\n",
    "        df1.to_sql(\"CERSAI_KID_KYC_Legal_IDProof\", engine, schema=\"EXTL_db.CERSAI\", if_exists=\"append\", index=False,chunksize=1000)\n",
    "        c = 1\n",
    "        df2.to_sql(\"CERSAI_KID_KYC_Legal_IDProof\", engine, schema=\"EXTL_db.CERSAI\", if_exists=\"append\", index=False,chunksize=1000)\n",
    "        c = 2\n",
    "        df3.to_sql(\"CERSAI_KID_KYC_Legal_IDProof\", engine, schema=\"EXTL_db.CERSAI\", if_exists=\"append\", index=False,chunksize=1000)\n",
    "        c = 3\n",
    "        print(str(datetime.datetime.now()))\n",
    "    except:\n",
    "        \n",
    "        for i in range (5000):\n",
    "            print(\"TRY \",i)\n",
    "            try:\n",
    "        \n",
    "                if c == 0:\n",
    "                    c = 0\n",
    "                    df1.to_sql(\"CERSAI_KID_KYC_Legal_IDProof\", engine, schema=\"EXTL_db.CERSAI\", if_exists=\"append\", index=False,chunksize=1000)\n",
    "                    c = 1\n",
    "                    df2.to_sql(\"CERSAI_KID_KYC_Legal_IDProof\", engine, schema=\"EXTL_db.CERSAI\", if_exists=\"append\", index=False,chunksize=1000)\n",
    "                    c = 2\n",
    "                    df3.to_sql(\"CERSAI_KID_KYC_Legal_IDProof\", engine, schema=\"EXTL_db.CERSAI\", if_exists=\"append\", index=False,chunksize=1000)\n",
    "                    c = 3\n",
    "                elif c == 1:\n",
    "                    c = 1\n",
    "                    df2.to_sql(\"CERSAI_KID_KYC_Legal_IDProof\", engine, schema=\"EXTL_db.CERSAI\", if_exists=\"append\", index=False,chunksize=1000)\n",
    "                    c = 2\n",
    "                    df3.to_sql(\"CERSAI_KID_KYC_Legal_IDProof\", engine, schema=\"EXTL_db.CERSAI\", if_exists=\"append\", index=False,chunksize=1000)\n",
    "                    c = 3\n",
    "                elif c == 2:\n",
    "                    df3.to_sql(\"CERSAI_KID_KYC_Legal_IDProof_Sa\", engine, schema=\"EXTL_db.CERSAI\", if_exists=\"append\", index=False,chunksize=1000)\n",
    "                    c = 3\n",
    "                    \n",
    "            except Exception as error:\n",
    "                print(error)\n",
    "                pass\n",
    "            \n",
    "            \n",
    "\n",
    "\n",
    "\n",
    "    \n",
    "\n",
    "    "
   ]
  },
  {
   "cell_type": "code",
   "execution_count": 22,
   "id": "cd5e0038",
   "metadata": {},
   "outputs": [],
   "source": [
    "df=pd.read_csv('KYC_Legal_IDProof.csv')"
   ]
  },
  {
   "cell_type": "code",
   "execution_count": 23,
   "id": "80a47590",
   "metadata": {},
   "outputs": [
    {
     "data": {
      "text/html": [
       "<div>\n",
       "<style scoped>\n",
       "    .dataframe tbody tr th:only-of-type {\n",
       "        vertical-align: middle;\n",
       "    }\n",
       "\n",
       "    .dataframe tbody tr th {\n",
       "        vertical-align: top;\n",
       "    }\n",
       "\n",
       "    .dataframe thead th {\n",
       "        text-align: right;\n",
       "    }\n",
       "</style>\n",
       "<table border=\"1\" class=\"dataframe\">\n",
       "  <thead>\n",
       "    <tr style=\"text-align: right;\">\n",
       "      <th></th>\n",
       "      <th>kid_kyc_no         |kid_fi_code        |kid_reg_code       |kid_br_code        |kid_ID_code        |kid_ID_code_others |kid_ID_Number      |kid_ID_Expiry_Date |kid_ID_Proof       |kid_created_by     |kid_created_date   |kid_updated_by     |kid_updated_date   |kid_id_count       |kid_add_del        |kid_id_ver_status  |kid_id_status      |kid_id</th>\n",
       "      <th>Unnamed: 1</th>\n",
       "      <th>Unnamed: 2</th>\n",
       "    </tr>\n",
       "  </thead>\n",
       "  <tbody>\n",
       "    <tr>\n",
       "      <th>0</th>\n",
       "      <td>70000000017399|\"IN1395\"|\"CPUR001\"|\"CPUB001\"|\"0...</td>\n",
       "      <td>NaN</td>\n",
       "      <td>NaN</td>\n",
       "    </tr>\n",
       "    <tr>\n",
       "      <th>1</th>\n",
       "      <td>70000000035173|\"IN1519\"|\"2165\"|\"2011\"|\"03\"|\"\"|...</td>\n",
       "      <td>NaN</td>\n",
       "      <td>NaN</td>\n",
       "    </tr>\n",
       "    <tr>\n",
       "      <th>2</th>\n",
       "      <td>70000000035173|\"IN1519\"|\"2165\"|\"2011\"|\"09\"|\"\"|...</td>\n",
       "      <td>NaN</td>\n",
       "      <td>NaN</td>\n",
       "    </tr>\n",
       "    <tr>\n",
       "      <th>3</th>\n",
       "      <td>70000000035173|\"IN1519\"|\"2165\"|\"2011\"|\"10\"|\"\"|...</td>\n",
       "      <td>NaN</td>\n",
       "      <td>NaN</td>\n",
       "    </tr>\n",
       "    <tr>\n",
       "      <th>4</th>\n",
       "      <td>70000000049694|\"IN1144\"|\"IR0001\"|\"HO1\"|\"03\"|\"\"...</td>\n",
       "      <td>NaN</td>\n",
       "      <td>NaN</td>\n",
       "    </tr>\n",
       "    <tr>\n",
       "      <th>...</th>\n",
       "      <td>...</td>\n",
       "      <td>...</td>\n",
       "      <td>...</td>\n",
       "    </tr>\n",
       "    <tr>\n",
       "      <th>1048570</th>\n",
       "      <td>70031624252543|\"IN1445\"|\"SBIPROD\"|\"00014\"|\"06\"...</td>\n",
       "      <td>NaN</td>\n",
       "      <td>NaN</td>\n",
       "    </tr>\n",
       "    <tr>\n",
       "      <th>1048571</th>\n",
       "      <td>70031624253052|\"IN2438\"|\"MH\"|\"BR001\"|\"03\"|\"\"|\"...</td>\n",
       "      <td>NaN</td>\n",
       "      <td>NaN</td>\n",
       "    </tr>\n",
       "    <tr>\n",
       "      <th>1048572</th>\n",
       "      <td>70031624298488|\"IN2319\"|\"HOREGION\"|\"HOBRANCH\"|...</td>\n",
       "      <td>NaN</td>\n",
       "      <td>NaN</td>\n",
       "    </tr>\n",
       "    <tr>\n",
       "      <th>1048573</th>\n",
       "      <td>70031624325298|\"IN0860\"|\"002\"|\"2\"|\"03\"|\"\"|\"203...</td>\n",
       "      <td>NaN</td>\n",
       "      <td>NaN</td>\n",
       "    </tr>\n",
       "    <tr>\n",
       "      <th>1048574</th>\n",
       "      <td>70031624338621|\"IN1445\"|\"SBIPROD\"|\"00002\"|\"09\"...</td>\n",
       "      <td>NaN</td>\n",
       "      <td>NaN</td>\n",
       "    </tr>\n",
       "  </tbody>\n",
       "</table>\n",
       "<p>1048575 rows × 3 columns</p>\n",
       "</div>"
      ],
      "text/plain": [
       "        kid_kyc_no         |kid_fi_code        |kid_reg_code       |kid_br_code        |kid_ID_code        |kid_ID_code_others |kid_ID_Number      |kid_ID_Expiry_Date |kid_ID_Proof       |kid_created_by     |kid_created_date   |kid_updated_by     |kid_updated_date   |kid_id_count       |kid_add_del        |kid_id_ver_status  |kid_id_status      |kid_id  \\\n",
       "0        70000000017399|\"IN1395\"|\"CPUR001\"|\"CPUB001\"|\"0...                                                                                                                                                                                                                                                                                                           \n",
       "1        70000000035173|\"IN1519\"|\"2165\"|\"2011\"|\"03\"|\"\"|...                                                                                                                                                                                                                                                                                                           \n",
       "2        70000000035173|\"IN1519\"|\"2165\"|\"2011\"|\"09\"|\"\"|...                                                                                                                                                                                                                                                                                                           \n",
       "3        70000000035173|\"IN1519\"|\"2165\"|\"2011\"|\"10\"|\"\"|...                                                                                                                                                                                                                                                                                                           \n",
       "4        70000000049694|\"IN1144\"|\"IR0001\"|\"HO1\"|\"03\"|\"\"...                                                                                                                                                                                                                                                                                                           \n",
       "...                                                    ...                                                                                                                                                                                                                                                                                                           \n",
       "1048570  70031624252543|\"IN1445\"|\"SBIPROD\"|\"00014\"|\"06\"...                                                                                                                                                                                                                                                                                                           \n",
       "1048571  70031624253052|\"IN2438\"|\"MH\"|\"BR001\"|\"03\"|\"\"|\"...                                                                                                                                                                                                                                                                                                           \n",
       "1048572  70031624298488|\"IN2319\"|\"HOREGION\"|\"HOBRANCH\"|...                                                                                                                                                                                                                                                                                                           \n",
       "1048573  70031624325298|\"IN0860\"|\"002\"|\"2\"|\"03\"|\"\"|\"203...                                                                                                                                                                                                                                                                                                           \n",
       "1048574  70031624338621|\"IN1445\"|\"SBIPROD\"|\"00002\"|\"09\"...                                                                                                                                                                                                                                                                                                           \n",
       "\n",
       "        Unnamed: 1 Unnamed: 2  \n",
       "0              NaN        NaN  \n",
       "1              NaN        NaN  \n",
       "2              NaN        NaN  \n",
       "3              NaN        NaN  \n",
       "4              NaN        NaN  \n",
       "...            ...        ...  \n",
       "1048570        NaN        NaN  \n",
       "1048571        NaN        NaN  \n",
       "1048572        NaN        NaN  \n",
       "1048573        NaN        NaN  \n",
       "1048574        NaN        NaN  \n",
       "\n",
       "[1048575 rows x 3 columns]"
      ]
     },
     "execution_count": 23,
     "metadata": {},
     "output_type": "execute_result"
    }
   ],
   "source": [
    "df"
   ]
  },
  {
   "cell_type": "code",
   "execution_count": null,
   "id": "1b8be81c",
   "metadata": {},
   "outputs": [
    {
     "name": "stdout",
     "output_type": "stream",
     "text": [
      "KYC_Legal_IDProof.csv\n",
      "KYC_Legal_IDProof.csv dataframe created...\n",
      "TRY  0\n"
     ]
    }
   ],
   "source": [
    "i = 0\n",
    "while (i < len(files)):\n",
    "    print(files[i])\n",
    "    data_pop(files[i])\n",
    "    \n",
    "    i+=1\n",
    "    "
   ]
  },
  {
   "cell_type": "code",
   "execution_count": null,
   "id": "80a22182",
   "metadata": {},
   "outputs": [],
   "source": [
    "col = pd.read_sql_query('''Select top 1 * from extl_db.CERSAI.CERSAI_KID_KYC_Legal_IDProof with (nolock) ''',conn)\n",
    "col_df = col.columns.to_list()\n",
    "for columns in col_df:\n",
    "    cursor.execute('''update extl_db.CERSAI.CERSAI_KID_KYC_Legal_IDProof set {} = Null where {} = '\\N' '''.format(columns,columns))\n",
    "    conn.commit()\n",
    "    cursor.execute('''update extl_db.CERSAI.CERSAI_KID_KYC_Legal_IDProof set {} = trim({}) '''.format(columns,columns))\n",
    "    conn.commit()"
   ]
  },
  {
   "cell_type": "code",
   "execution_count": 29,
   "id": "64dc36d1",
   "metadata": {},
   "outputs": [
    {
     "name": "stdout",
     "output_type": "stream",
     "text": [
      "update extl_db.CERSAI.CERSAI_KID_KYC_Legal_IDProof set a = Null where a = '\\N' \n"
     ]
    }
   ],
   "source": [
    "print('''update extl_db.CERSAI.CERSAI_KID_KYC_Legal_IDProof set {} = Null where {} = '\\\\N' '''.format('a','a'))\n"
   ]
  },
  {
   "cell_type": "code",
   "execution_count": null,
   "id": "343b6e0f",
   "metadata": {},
   "outputs": [],
   "source": []
  }
 ],
 "metadata": {
  "kernelspec": {
   "display_name": "Python 3",
   "language": "python",
   "name": "python3"
  },
  "language_info": {
   "codemirror_mode": {
    "name": "ipython",
    "version": 3
   },
   "file_extension": ".py",
   "mimetype": "text/x-python",
   "name": "python",
   "nbconvert_exporter": "python",
   "pygments_lexer": "ipython3",
   "version": "3.8.8"
  }
 },
 "nbformat": 4,
 "nbformat_minor": 5
}
