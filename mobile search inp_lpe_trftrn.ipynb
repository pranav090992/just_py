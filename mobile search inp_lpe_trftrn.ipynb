{
 "cells": [
  {
   "cell_type": "code",
   "execution_count": 1,
   "metadata": {},
   "outputs": [],
   "source": [
    "import sqlalchemy\n",
    "import pyodbc\n",
    "from urllib.parse import quote\n",
    "import pandas as pd\n",
    "from tqdm import tqdm\n",
    "engine=sqlalchemy.create_engine('mssql+pyodbc://SAL_USR:%s@172.16.20.36:1433/HDM_DB?driver=ODBC+Driver+17+for+SQL+Server' % quote('Sal@read1'))"
   ]
  },
  {
   "cell_type": "code",
   "execution_count": 2,
   "metadata": {},
   "outputs": [],
   "source": [
    "mobiles = '7452887135|9504324572|9894974346|6353343865|7200803720|9413801830|9814017119|9811974783|9099916594|9899189300'\n",
    "mobiles_to_search = mobiles.split('|')"
   ]
  },
  {
   "cell_type": "code",
   "execution_count": 3,
   "metadata": {},
   "outputs": [
    {
     "data": {
      "text/plain": [
       "['7452887135',\n",
       " '9504324572',\n",
       " '9894974346',\n",
       " '6353343865',\n",
       " '7200803720',\n",
       " '9413801830',\n",
       " '9814017119',\n",
       " '9811974783',\n",
       " '9099916594',\n",
       " '9899189300']"
      ]
     },
     "execution_count": 3,
     "metadata": {},
     "output_type": "execute_result"
    }
   ],
   "source": [
    "mobiles_to_search"
   ]
  },
  {
   "cell_type": "code",
   "execution_count": 4,
   "metadata": {},
   "outputs": [],
   "source": [
    "import os"
   ]
  },
  {
   "cell_type": "code",
   "execution_count": 5,
   "metadata": {},
   "outputs": [
    {
     "name": "stderr",
     "output_type": "stream",
     "text": [
      "100%|█████████████████████████████████████████████████████████████████████████████████| 10/10 [47:45<00:00, 286.55s/it]\n"
     ]
    }
   ],
   "source": [
    "for mob in tqdm(mobiles_to_search):\n",
    "    sql = f\"with cte1 as(select distinct pan,batchid,rptsernum,CONCAT_WS('|',batchid,rptsernum) brn,ACCOUNTNUM,PERSONNAME,COMMADDRESS,'ARFINP' as source,mobile,TELEPHONE from [HDM_DB].[FINCORE_BACKUP_CC].[arfinp] where TELEPHONE like '%{mob}%' or MOBILE like '%{mob}%' and batchid>2104010000\\\n",
    "           union\\\n",
    "           select distinct pan,batchid,rptsernum,CONCAT_WS('|',batchid,rptsernum) brn,ACCOUNTNUM,PERSONNAME,COMMADDRESS,'ARFLPE' as source,mobile,TELEPHONE from [HDM_DB].[FINCORE_BACKUP_CC].[arfinp] where TELEPHONE like '%{mob}%' or MOBILE like '%{mob}%' and batchid>2104010000\\\n",
    "           union\\\n",
    "           select distinct pan,batchid,rptsernum,CONCAT_WS('|',batchid,rptsernum) brn,'null' AS ACCOUNTNUM,CUSTOMERNAME,ADDRESS,'TRFTRN' as source,mobile,TELEPHONE from [HDM_DB].[FINCORE_BACKUP_CC].[trftrn] where TELEPHONE like '%{mob}%' or MOBILE like '%{mob}%' and batchid>2104010000)\\\n",
    "            select batchid,rptsernum,CONCAT_WS('|',batchid,rptsernum) brn,CONCAT_WS('|',GROUNDSOFSUSP,DETAILSOFINVESTIGATIONS) gosdoi,MAINPERSONNAME,SOURCEOFALERT from [FINCORE_BACKUP_CC].[REPORT] (nolock) where CONCAT_WS('|',batchid,rptsernum) in (select brn from cte1)\"\n",
    "    result = pd.read_sql_query(sql,engine)\n",
    "    result.to_csv(os.path.join(r'C:\\Users\\SAL005\\Desktop\\adhoc request','mobiles_search_report.csv'), index = False, mode = 'a', header = not os.path.join(r'C:\\Users\\SAL005\\Desktop\\adhoc request','mobiles_search_report.csv')) "
   ]
  },
  {
   "cell_type": "code",
   "execution_count": null,
   "metadata": {},
   "outputs": [],
   "source": []
  }
 ],
 "metadata": {
  "kernelspec": {
   "display_name": "Python 3",
   "language": "python",
   "name": "python3"
  },
  "language_info": {
   "codemirror_mode": {
    "name": "ipython",
    "version": 3
   },
   "file_extension": ".py",
   "mimetype": "text/x-python",
   "name": "python",
   "nbconvert_exporter": "python",
   "pygments_lexer": "ipython3",
   "version": "3.8.5"
  }
 },
 "nbformat": 4,
 "nbformat_minor": 4
}
