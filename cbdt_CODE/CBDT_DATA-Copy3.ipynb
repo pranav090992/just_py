{
 "cells": [
  {
   "cell_type": "code",
   "execution_count": 1,
   "id": "20ed4952",
   "metadata": {},
   "outputs": [],
   "source": [
    "import numpy as np\n",
    "import pandas as pd\n",
    "import pyodbc\n",
    "import pandas as pd\n",
    "import numpy as np\n",
    "from pprint import pprint\n",
    "import datetime\n",
    "from configparser import ConfigParser\n",
    "import datetime\n",
    "import pandas as pd\n",
    "import sqlalchemy as sa"
   ]
  },
  {
   "cell_type": "code",
   "execution_count": 2,
   "id": "61e2ae79",
   "metadata": {},
   "outputs": [],
   "source": [
    "from configparser import ConfigParser\n",
    "import sqlalchemy\n",
    "import pyodbc\n",
    "import urllib\n",
    "from urllib.parse import quote\n",
    "from abc import ABC\n",
    "import logging\n",
    "import sys\n",
    "import re\n",
    "import pandas as pd\n",
    "import numpy as np\n",
    "config = ConfigParser()\n",
    "config.read('fingate_to_bridge_config.ini')\n",
    "#config.read('/notebooks/notebooks/fingate_to_bridge_config.ini')\n",
    "config_data=config['SERVER']\n",
    "import warnings\n",
    "warnings.filterwarnings('ignore')"
   ]
  },
  {
   "cell_type": "code",
   "execution_count": 3,
   "id": "916ee537",
   "metadata": {},
   "outputs": [],
   "source": [
    "conn = pyodbc.connect(config_data[\"fincore_bridge_read\"])\n",
    "cursor = conn.cursor()"
   ]
  },
  {
   "cell_type": "code",
   "execution_count": 4,
   "id": "ac135663",
   "metadata": {},
   "outputs": [],
   "source": [
    "col = pd.read_sql_query('''Select top 1 * from CBDT_DataLoad.CBDT.[Cbdt_Master_Data] with (nolock) ''',conn)\n",
    "col_df = col.columns.to_list()"
   ]
  },
  {
   "cell_type": "code",
   "execution_count": 5,
   "id": "09aee87f",
   "metadata": {},
   "outputs": [],
   "source": [
    "with open('PAN_data1_by') as file:\n",
    "    data = file.read().splitlines()"
   ]
  },
  {
   "cell_type": "code",
   "execution_count": 6,
   "id": "00fada0b",
   "metadata": {},
   "outputs": [],
   "source": [
    "d = pd.DataFrame(data,columns = ['DATA'])"
   ]
  },
  {
   "cell_type": "code",
   "execution_count": 7,
   "id": "77d7d061",
   "metadata": {},
   "outputs": [],
   "source": [
    "d['COUNT'] = d['DATA'].apply(lambda x : x.count('~'))"
   ]
  },
  {
   "cell_type": "code",
   "execution_count": 8,
   "id": "fe1ca91e",
   "metadata": {},
   "outputs": [
    {
     "data": {
      "text/html": [
       "<div>\n",
       "<style scoped>\n",
       "    .dataframe tbody tr th:only-of-type {\n",
       "        vertical-align: middle;\n",
       "    }\n",
       "\n",
       "    .dataframe tbody tr th {\n",
       "        vertical-align: top;\n",
       "    }\n",
       "\n",
       "    .dataframe thead th {\n",
       "        text-align: right;\n",
       "    }\n",
       "</style>\n",
       "<table border=\"1\" class=\"dataframe\">\n",
       "  <thead>\n",
       "    <tr style=\"text-align: right;\">\n",
       "      <th></th>\n",
       "      <th>DATA</th>\n",
       "      <th>COUNT</th>\n",
       "    </tr>\n",
       "  </thead>\n",
       "  <tbody>\n",
       "    <tr>\n",
       "      <th>0</th>\n",
       "      <td>\"BJMPK5453K\"~\"HARVINDRA  KOUR\"~\"MEHARBAAN  SIN...</td>\n",
       "      <td>8</td>\n",
       "    </tr>\n",
       "    <tr>\n",
       "      <th>1</th>\n",
       "      <td>\"AYTPJ8100B\"~\"SHITAL  JANA\"~\"KALI  GHOSH\"~\"F\"~...</td>\n",
       "      <td>8</td>\n",
       "    </tr>\n",
       "    <tr>\n",
       "      <th>2</th>\n",
       "      <td>\"AJQPK3960N\"~\"CHINTAMANI SAGARU KHUTARKAR\"~\"SA...</td>\n",
       "      <td>8</td>\n",
       "    </tr>\n",
       "    <tr>\n",
       "      <th>3</th>\n",
       "      <td>\"AAHPD6569L\"~\"VINCENT  DAVID\"~\"JOSEPH  DAVID\"~...</td>\n",
       "      <td>8</td>\n",
       "    </tr>\n",
       "    <tr>\n",
       "      <th>4</th>\n",
       "      <td>\"APNPP0567K\"~\"SUBODH  PANDEY\"~\"UMESH CHANDRA P...</td>\n",
       "      <td>8</td>\n",
       "    </tr>\n",
       "    <tr>\n",
       "      <th>...</th>\n",
       "      <td>...</td>\n",
       "      <td>...</td>\n",
       "    </tr>\n",
       "    <tr>\n",
       "      <th>4999995</th>\n",
       "      <td>\"APHPR0220D\"~\"RAJENDRA SINGH RUNDLA\"~\"RAMESHWA...</td>\n",
       "      <td>8</td>\n",
       "    </tr>\n",
       "    <tr>\n",
       "      <th>4999996</th>\n",
       "      <td>\"AWQPM3393N\"~\"SAMASER  MAHAMMAD\"~\"SAUKAT  MAHA...</td>\n",
       "      <td>8</td>\n",
       "    </tr>\n",
       "    <tr>\n",
       "      <th>4999997</th>\n",
       "      <td>\"AMOPD2190G\"~\"SUDHA SHYAMKANT DUKALE\"~\"DATTATR...</td>\n",
       "      <td>8</td>\n",
       "    </tr>\n",
       "    <tr>\n",
       "      <th>4999998</th>\n",
       "      <td>\"BTJPV1822L\"~\"MANDODARI SITARAM VAYAL\"~\"NAMDEV...</td>\n",
       "      <td>8</td>\n",
       "    </tr>\n",
       "    <tr>\n",
       "      <th>4999999</th>\n",
       "      <td>\"CHGPN7889B\"~\"PRAMOD RAMCHANDRA NAGOSE\"~\"RAMCH...</td>\n",
       "      <td>8</td>\n",
       "    </tr>\n",
       "  </tbody>\n",
       "</table>\n",
       "<p>5000000 rows × 2 columns</p>\n",
       "</div>"
      ],
      "text/plain": [
       "                                                      DATA  COUNT\n",
       "0        \"BJMPK5453K\"~\"HARVINDRA  KOUR\"~\"MEHARBAAN  SIN...      8\n",
       "1        \"AYTPJ8100B\"~\"SHITAL  JANA\"~\"KALI  GHOSH\"~\"F\"~...      8\n",
       "2        \"AJQPK3960N\"~\"CHINTAMANI SAGARU KHUTARKAR\"~\"SA...      8\n",
       "3        \"AAHPD6569L\"~\"VINCENT  DAVID\"~\"JOSEPH  DAVID\"~...      8\n",
       "4        \"APNPP0567K\"~\"SUBODH  PANDEY\"~\"UMESH CHANDRA P...      8\n",
       "...                                                    ...    ...\n",
       "4999995  \"APHPR0220D\"~\"RAJENDRA SINGH RUNDLA\"~\"RAMESHWA...      8\n",
       "4999996  \"AWQPM3393N\"~\"SAMASER  MAHAMMAD\"~\"SAUKAT  MAHA...      8\n",
       "4999997  \"AMOPD2190G\"~\"SUDHA SHYAMKANT DUKALE\"~\"DATTATR...      8\n",
       "4999998  \"BTJPV1822L\"~\"MANDODARI SITARAM VAYAL\"~\"NAMDEV...      8\n",
       "4999999  \"CHGPN7889B\"~\"PRAMOD RAMCHANDRA NAGOSE\"~\"RAMCH...      8\n",
       "\n",
       "[5000000 rows x 2 columns]"
      ]
     },
     "execution_count": 8,
     "metadata": {},
     "output_type": "execute_result"
    }
   ],
   "source": [
    "d"
   ]
  },
  {
   "cell_type": "code",
   "execution_count": 9,
   "id": "b3e3e3a2",
   "metadata": {},
   "outputs": [
    {
     "data": {
      "text/html": [
       "<div>\n",
       "<style scoped>\n",
       "    .dataframe tbody tr th:only-of-type {\n",
       "        vertical-align: middle;\n",
       "    }\n",
       "\n",
       "    .dataframe tbody tr th {\n",
       "        vertical-align: top;\n",
       "    }\n",
       "\n",
       "    .dataframe thead th {\n",
       "        text-align: right;\n",
       "    }\n",
       "</style>\n",
       "<table border=\"1\" class=\"dataframe\">\n",
       "  <thead>\n",
       "    <tr style=\"text-align: right;\">\n",
       "      <th></th>\n",
       "      <th>DATA</th>\n",
       "      <th>COUNT</th>\n",
       "    </tr>\n",
       "  </thead>\n",
       "  <tbody>\n",
       "  </tbody>\n",
       "</table>\n",
       "</div>"
      ],
      "text/plain": [
       "Empty DataFrame\n",
       "Columns: [DATA, COUNT]\n",
       "Index: []"
      ]
     },
     "execution_count": 9,
     "metadata": {},
     "output_type": "execute_result"
    }
   ],
   "source": [
    "d[d['COUNT'] != 8 ]"
   ]
  },
  {
   "cell_type": "code",
   "execution_count": null,
   "id": "972350e5",
   "metadata": {},
   "outputs": [],
   "source": []
  },
  {
   "cell_type": "code",
   "execution_count": 10,
   "id": "00245ae6",
   "metadata": {},
   "outputs": [],
   "source": [
    "if (len(d[d['COUNT']!= 8]) != 0 ):\n",
    "    raise SystemExit\n"
   ]
  },
  {
   "cell_type": "code",
   "execution_count": null,
   "id": "00451172",
   "metadata": {},
   "outputs": [],
   "source": []
  },
  {
   "cell_type": "code",
   "execution_count": 11,
   "id": "d36b07bc",
   "metadata": {},
   "outputs": [],
   "source": [
    "col = pd.read_sql_query('''Select top 1 * from CBDT_DataLoad.CBDT.[Cbdt_Master_Data] with (nolock) ''',conn)\n",
    "col_df = col.columns.to_list()"
   ]
  },
  {
   "cell_type": "code",
   "execution_count": 12,
   "id": "bf198774",
   "metadata": {},
   "outputs": [],
   "source": [
    "col_df.remove('Create_Date')\n",
    "col_df.remove('Create_By')\n",
    "col_df.remove('File_Name')"
   ]
  },
  {
   "cell_type": "code",
   "execution_count": 13,
   "id": "a9af46bf",
   "metadata": {},
   "outputs": [
    {
     "name": "stdout",
     "output_type": "stream",
     "text": [
      "2023-08-24 15:51:37.939724\n"
     ]
    }
   ],
   "source": [
    "print(str(datetime.datetime.now()))"
   ]
  },
  {
   "cell_type": "code",
   "execution_count": 14,
   "id": "224ba732",
   "metadata": {},
   "outputs": [],
   "source": [
    "data = pd.read_csv(r'PAN_data1_by',sep = '~',names = col_df)"
   ]
  },
  {
   "cell_type": "code",
   "execution_count": 15,
   "id": "962f867d",
   "metadata": {},
   "outputs": [],
   "source": [
    "data['File_Name'] = 'PAN_data1_by'"
   ]
  },
  {
   "cell_type": "code",
   "execution_count": 16,
   "id": "2db9bbb2",
   "metadata": {},
   "outputs": [],
   "source": [
    "data['Create_Date'] = str(datetime.datetime.now())"
   ]
  },
  {
   "cell_type": "code",
   "execution_count": 17,
   "id": "b0c0efc8",
   "metadata": {},
   "outputs": [],
   "source": [
    "data['Create_By'] = 'HDM'"
   ]
  },
  {
   "cell_type": "code",
   "execution_count": 25,
   "id": "30f1e5c3",
   "metadata": {},
   "outputs": [],
   "source": [
    "config = ConfigParser()\n",
    "config.read(r'fingate_to_bridge_config.ini')\n",
    "connection_string = config.get('SERVER', 'fincore_bridge_read')\n",
    "conn = pyodbc.connect(connection_string)\n",
    "cursor = conn.cursor()\n",
    "\n",
    "connection_url = sa.engine.URL.create(\n",
    "    \"mssql+pyodbc\", \n",
    "    query=dict(odbc_connect=connection_string)\n",
    ")\n",
    "engine = sa.create_engine(connection_url, fast_executemany=True)\n",
    "\n"
   ]
  },
  {
   "cell_type": "code",
   "execution_count": 26,
   "id": "45b1d976",
   "metadata": {},
   "outputs": [],
   "source": [
    "# # Deleting existing data in SQL Table:-\n",
    "# with engine.begin() as conn:\n",
    "#     conn.exec_driver_sql(\"DELETE FROM CBDT_DataLoad.CBDT.[Cbdt_Master_Data] \")"
   ]
  },
  {
   "cell_type": "code",
   "execution_count": 27,
   "id": "05ff83b8",
   "metadata": {},
   "outputs": [],
   "source": [
    "df1 = data[:2500000]\n",
    "df2 = data[2500000:4000000]\n",
    "df3 = data[4000000:]"
   ]
  },
  {
   "cell_type": "code",
   "execution_count": 29,
   "id": "a3768946",
   "metadata": {},
   "outputs": [
    {
     "ename": "DBAPIError",
     "evalue": "(pyodbc.Error) ('HY000', '[HY000] [Microsoft][ODBC SQL Server Driver]Unknown token received from SQL Server (0) (SQLExecute)')\n[SQL: INSERT INTO [CBDT_DataLoad].[CBDT].[Cbdt_Master_Data] ([Pan], [Entity_Name], [Father_Name], [Gender], [Dob_Or_Doi], [Residential_Address], [Communication_Address], [Email_Id], [Telephone_Number], [PRESENT], [File_Name], [Create_Date], [Create_By]) VALUES (?, ?, ?, ?, ?, ?, ?, ?, ?, ?, ?, ?, ?)]\n[parameters: (('CHMPA9698F', 'KANDOOR GANESH AITHAL', 'ANANTHAYYA  AITHAL', 'M', '1957-10-03', '1-93 CHOUKADA PALU HOUSE  MANCHI VILLAGE  MANCHI POST  BANTWAL TALUK  DAKSHINA KANNADA DISTRICT', '1-93 CHOUKADA PALU HOUSE  MANCHI VILLAGE  MANCHI POST  BANTWAL TALUK  DAKSHINA KANNADA DISTRICT', None, None, None, 'PAN_data1_by', '2023-08-24 15:52:20.411312', 'HDM'), ('CRUPG5919H', 'MD  GULZAR', 'MD NASIM UDDIN', 'M', '1969-01-01', 'MD NASIM UDDIN  WARD NO 03  ISMAILPUR  KHAGARIA', 'MD NASIM UDDIN  WARD NO 03  ISMAILPUR  KHAGARIA', None, None, None, 'PAN_data1_by', '2023-08-24 15:52:20.411312', 'HDM'), ('BARPV2254D', 'VINAY SAGAR', 'SHIVANAND', 'M', '1998-01-27', 'SHIVANAND  128/1 16TH CROSS  VIDYAGIRI  BAGALKOT  BAGALKOT', 'SHIVANAND  128/1 16TH CROSS  VIDYAGIRI  BAGALKOT  BAGALKOT', None, '91-91-7795688082', None, 'PAN_data1_by', '2023-08-24 15:52:20.411312', 'HDM'), ('ABUPG1139K', 'VIJAY KUMAR GUPTA', 'TULSI RAM GUPTA', 'M', '1974-11-30', 'G 21 A  SCHOOL ROAD  UTTAM NAGAR  NEW DELHI', 'D 4  SECTOR 3  NOIDA  GAUTAM BUDH NAGAR', None, '5636339', None, 'PAN_data1_by', '2023-08-24 15:52:20.411312', 'HDM'), ('CQLPA8941H', 'MD HAJARAT ALI', 'KALIMUDDIN  SHEIKH', 'M', '1968-10-01', 'C/O KALIMUDDIN SHEIKH  HUDUMKHATA NO 2  BHODEAGURI  GOSSAIGAON  KOKRAJHAR', 'C/O KALIMUDDIN SHEIKH  HUDUMKHATA NO 2  BHODEAGURI  GOSSAIGAON  KOKRAJHAR', None, None, None, 'PAN_data1_by', '2023-08-24 15:52:20.411312', 'HDM'), ('CNQPM4643G', 'AMIT  MONDAL', 'ASIT  MONDAL', 'M', '1989-05-04', 'CO ASIT MONDAL  VILL NILKURIYA  PO GANESHPUR  PS SHYAMPUR  HOWRAH', 'CO ASIT MONDAL  VILL NILKURIYA  PO GANESHPUR  PS SHYAMPUR  HOWRAH', None, '91-7407587953', None, 'PAN_data1_by', '2023-08-24 15:52:20.411312', 'HDM'), ('BLOPR6086B', 'ASHA SHANKER RANGLANI', 'MANGALDAS CHOITRAM CHHATANI', 'F', '1952-03-15', 'FLAT NO 301 3RD FLOOR  SAI COMPLEX  NR SWAMI SHANTI PRAKASH  ASHRAM  ULHASNAGAR', 'FLAT NO 301 3RD FLOOR  SAI COMPLEX  NR SWAMI SHANTI PRAKASH  ASHRAM  ULHASNAGAR', None, '91-93246309080', None, 'PAN_data1_by', '2023-08-24 15:52:20.411312', 'HDM'), ('ACCPV8703B', 'VILVALINGAM  VASANTHAKUMAR', 'SABAPATHY  VILAVALINGAM', 'M', '1940-08-06', '141  7TH STREET  RAM NAGAR  S S COLONY  MADURAI', '141  7TH STREET  RAM NAGAR  S S COLONY  MADURAI', None, '602674', None, 'PAN_data1_by', '2023-08-24 15:52:20.411312', 'HDM')  ... displaying 10 of 1000 total bound parameter sets ...  ('BEAPH2023D', 'HARISHANKAR', 'SHYAMA  PRASAD', 'M', '1975-01-01', 'S/O SHYAMA PRASAD  MAJHAGAWAN MANDA  MAJHAGAWAN BHARATAGANJ  MANDA KORAON  PRAYAGRAJ', 'S/O SHYAMA PRASAD  MAJHAGAWAN MANDA  MAJHAGAWAN BHARATAGANJ  MANDA KORAON  PRAYAGRAJ', None, None, None, 'PAN_data1_by', '2023-08-24 15:52:20.411312', 'HDM'), ('CNMPR6743L', 'MOHAMAD  RAJA', 'MOHAMAD BADREY ALAM', 'M', '1997-04-04', 'C/O SINGH RADIO  NEAR SBI BAGAHA BAZAR  BAGAHA-1  WEST CHAMPARAN', 'C/O SINGH RADIO  NEAR SBI BAGAHA BAZAR  BAGAHA-1  WEST CHAMPARAN', None, '91-9973997562', None, 'PAN_data1_by', '2023-08-24 15:52:20.411312', 'HDM'))]\n(Background on this error at: http://sqlalche.me/e/14/dbapi)",
     "output_type": "error",
     "traceback": [
      "\u001b[1;31m---------------------------------------------------------------------------\u001b[0m",
      "\u001b[1;31mError\u001b[0m                                     Traceback (most recent call last)",
      "\u001b[1;32m~\\anaconda3\\lib\\site-packages\\sqlalchemy\\engine\\base.py\u001b[0m in \u001b[0;36m_execute_context\u001b[1;34m(self, dialect, constructor, statement, parameters, execution_options, *args, **kw)\u001b[0m\n\u001b[0;32m   1684\u001b[0m                 \u001b[1;32mif\u001b[0m \u001b[1;32mnot\u001b[0m \u001b[0mevt_handled\u001b[0m\u001b[1;33m:\u001b[0m\u001b[1;33m\u001b[0m\u001b[1;33m\u001b[0m\u001b[0m\n\u001b[1;32m-> 1685\u001b[1;33m                     self.dialect.do_executemany(\n\u001b[0m\u001b[0;32m   1686\u001b[0m                         \u001b[0mcursor\u001b[0m\u001b[1;33m,\u001b[0m \u001b[0mstatement\u001b[0m\u001b[1;33m,\u001b[0m \u001b[0mparameters\u001b[0m\u001b[1;33m,\u001b[0m \u001b[0mcontext\u001b[0m\u001b[1;33m\u001b[0m\u001b[1;33m\u001b[0m\u001b[0m\n",
      "\u001b[1;32m~\\anaconda3\\lib\\site-packages\\sqlalchemy\\dialects\\mssql\\pyodbc.py\u001b[0m in \u001b[0;36mdo_executemany\u001b[1;34m(self, cursor, statement, parameters, context)\u001b[0m\n\u001b[0;32m    534\u001b[0m             \u001b[0mcursor\u001b[0m\u001b[1;33m.\u001b[0m\u001b[0mfast_executemany\u001b[0m \u001b[1;33m=\u001b[0m \u001b[1;32mTrue\u001b[0m\u001b[1;33m\u001b[0m\u001b[1;33m\u001b[0m\u001b[0m\n\u001b[1;32m--> 535\u001b[1;33m         super(MSDialect_pyodbc, self).do_executemany(\n\u001b[0m\u001b[0;32m    536\u001b[0m             \u001b[0mcursor\u001b[0m\u001b[1;33m,\u001b[0m \u001b[0mstatement\u001b[0m\u001b[1;33m,\u001b[0m \u001b[0mparameters\u001b[0m\u001b[1;33m,\u001b[0m \u001b[0mcontext\u001b[0m\u001b[1;33m=\u001b[0m\u001b[0mcontext\u001b[0m\u001b[1;33m\u001b[0m\u001b[1;33m\u001b[0m\u001b[0m\n",
      "\u001b[1;32m~\\anaconda3\\lib\\site-packages\\sqlalchemy\\engine\\default.py\u001b[0m in \u001b[0;36mdo_executemany\u001b[1;34m(self, cursor, statement, parameters, context)\u001b[0m\n\u001b[0;32m    688\u001b[0m     \u001b[1;32mdef\u001b[0m \u001b[0mdo_executemany\u001b[0m\u001b[1;33m(\u001b[0m\u001b[0mself\u001b[0m\u001b[1;33m,\u001b[0m \u001b[0mcursor\u001b[0m\u001b[1;33m,\u001b[0m \u001b[0mstatement\u001b[0m\u001b[1;33m,\u001b[0m \u001b[0mparameters\u001b[0m\u001b[1;33m,\u001b[0m \u001b[0mcontext\u001b[0m\u001b[1;33m=\u001b[0m\u001b[1;32mNone\u001b[0m\u001b[1;33m)\u001b[0m\u001b[1;33m:\u001b[0m\u001b[1;33m\u001b[0m\u001b[1;33m\u001b[0m\u001b[0m\n\u001b[1;32m--> 689\u001b[1;33m         \u001b[0mcursor\u001b[0m\u001b[1;33m.\u001b[0m\u001b[0mexecutemany\u001b[0m\u001b[1;33m(\u001b[0m\u001b[0mstatement\u001b[0m\u001b[1;33m,\u001b[0m \u001b[0mparameters\u001b[0m\u001b[1;33m)\u001b[0m\u001b[1;33m\u001b[0m\u001b[1;33m\u001b[0m\u001b[0m\n\u001b[0m\u001b[0;32m    690\u001b[0m \u001b[1;33m\u001b[0m\u001b[0m\n",
      "\u001b[1;31mError\u001b[0m: ('HY000', '[HY000] [Microsoft][ODBC SQL Server Driver]Unknown token received from SQL Server (0) (SQLExecute)')",
      "\nThe above exception was the direct cause of the following exception:\n",
      "\u001b[1;31mDBAPIError\u001b[0m                                Traceback (most recent call last)",
      "\u001b[1;32m<ipython-input-29-4802db27983c>\u001b[0m in \u001b[0;36m<module>\u001b[1;34m\u001b[0m\n\u001b[0;32m      1\u001b[0m \u001b[1;31m# upload the DataFrame\u001b[0m\u001b[1;33m\u001b[0m\u001b[1;33m\u001b[0m\u001b[1;33m\u001b[0m\u001b[0m\n\u001b[1;32m----> 2\u001b[1;33m \u001b[0mdf1\u001b[0m\u001b[1;33m.\u001b[0m\u001b[0mto_sql\u001b[0m\u001b[1;33m(\u001b[0m\u001b[1;34m\"Cbdt_Master_Data\"\u001b[0m\u001b[1;33m,\u001b[0m \u001b[0mengine\u001b[0m\u001b[1;33m,\u001b[0m \u001b[0mschema\u001b[0m\u001b[1;33m=\u001b[0m\u001b[1;34m\"CBDT_DataLoad.CBDT\"\u001b[0m\u001b[1;33m,\u001b[0m \u001b[0mif_exists\u001b[0m\u001b[1;33m=\u001b[0m\u001b[1;34m\"append\"\u001b[0m\u001b[1;33m,\u001b[0m \u001b[0mindex\u001b[0m\u001b[1;33m=\u001b[0m\u001b[1;32mFalse\u001b[0m\u001b[1;33m,\u001b[0m\u001b[0mchunksize\u001b[0m\u001b[1;33m=\u001b[0m\u001b[1;36m1000\u001b[0m\u001b[1;33m)\u001b[0m\u001b[1;33m\u001b[0m\u001b[1;33m\u001b[0m\u001b[0m\n\u001b[0m",
      "\u001b[1;32m~\\anaconda3\\lib\\site-packages\\pandas\\core\\generic.py\u001b[0m in \u001b[0;36mto_sql\u001b[1;34m(self, name, con, schema, if_exists, index, index_label, chunksize, dtype, method)\u001b[0m\n\u001b[0;32m   2777\u001b[0m         \u001b[1;32mfrom\u001b[0m \u001b[0mpandas\u001b[0m\u001b[1;33m.\u001b[0m\u001b[0mio\u001b[0m \u001b[1;32mimport\u001b[0m \u001b[0msql\u001b[0m\u001b[1;33m\u001b[0m\u001b[1;33m\u001b[0m\u001b[0m\n\u001b[0;32m   2778\u001b[0m \u001b[1;33m\u001b[0m\u001b[0m\n\u001b[1;32m-> 2779\u001b[1;33m         sql.to_sql(\n\u001b[0m\u001b[0;32m   2780\u001b[0m             \u001b[0mself\u001b[0m\u001b[1;33m,\u001b[0m\u001b[1;33m\u001b[0m\u001b[1;33m\u001b[0m\u001b[0m\n\u001b[0;32m   2781\u001b[0m             \u001b[0mname\u001b[0m\u001b[1;33m,\u001b[0m\u001b[1;33m\u001b[0m\u001b[1;33m\u001b[0m\u001b[0m\n",
      "\u001b[1;32m~\\anaconda3\\lib\\site-packages\\pandas\\io\\sql.py\u001b[0m in \u001b[0;36mto_sql\u001b[1;34m(frame, name, con, schema, if_exists, index, index_label, chunksize, dtype, method)\u001b[0m\n\u001b[0;32m    599\u001b[0m         )\n\u001b[0;32m    600\u001b[0m \u001b[1;33m\u001b[0m\u001b[0m\n\u001b[1;32m--> 601\u001b[1;33m     pandas_sql.to_sql(\n\u001b[0m\u001b[0;32m    602\u001b[0m         \u001b[0mframe\u001b[0m\u001b[1;33m,\u001b[0m\u001b[1;33m\u001b[0m\u001b[1;33m\u001b[0m\u001b[0m\n\u001b[0;32m    603\u001b[0m         \u001b[0mname\u001b[0m\u001b[1;33m,\u001b[0m\u001b[1;33m\u001b[0m\u001b[1;33m\u001b[0m\u001b[0m\n",
      "\u001b[1;32m~\\anaconda3\\lib\\site-packages\\pandas\\io\\sql.py\u001b[0m in \u001b[0;36mto_sql\u001b[1;34m(self, frame, name, if_exists, index, index_label, schema, chunksize, dtype, method)\u001b[0m\n\u001b[0;32m   1417\u001b[0m                 \u001b[1;32mraise\u001b[0m \u001b[0mValueError\u001b[0m\u001b[1;33m(\u001b[0m\u001b[1;34m\"inf cannot be used with MySQL\"\u001b[0m\u001b[1;33m)\u001b[0m \u001b[1;32mfrom\u001b[0m \u001b[0merr\u001b[0m\u001b[1;33m\u001b[0m\u001b[1;33m\u001b[0m\u001b[0m\n\u001b[0;32m   1418\u001b[0m             \u001b[1;32melse\u001b[0m\u001b[1;33m:\u001b[0m\u001b[1;33m\u001b[0m\u001b[1;33m\u001b[0m\u001b[0m\n\u001b[1;32m-> 1419\u001b[1;33m                 \u001b[1;32mraise\u001b[0m \u001b[0merr\u001b[0m\u001b[1;33m\u001b[0m\u001b[1;33m\u001b[0m\u001b[0m\n\u001b[0m\u001b[0;32m   1420\u001b[0m \u001b[1;33m\u001b[0m\u001b[0m\n\u001b[0;32m   1421\u001b[0m         \u001b[1;32mif\u001b[0m \u001b[1;32mnot\u001b[0m \u001b[0mname\u001b[0m\u001b[1;33m.\u001b[0m\u001b[0misdigit\u001b[0m\u001b[1;33m(\u001b[0m\u001b[1;33m)\u001b[0m \u001b[1;32mand\u001b[0m \u001b[1;32mnot\u001b[0m \u001b[0mname\u001b[0m\u001b[1;33m.\u001b[0m\u001b[0mislower\u001b[0m\u001b[1;33m(\u001b[0m\u001b[1;33m)\u001b[0m\u001b[1;33m:\u001b[0m\u001b[1;33m\u001b[0m\u001b[1;33m\u001b[0m\u001b[0m\n",
      "\u001b[1;32m~\\anaconda3\\lib\\site-packages\\pandas\\io\\sql.py\u001b[0m in \u001b[0;36mto_sql\u001b[1;34m(self, frame, name, if_exists, index, index_label, schema, chunksize, dtype, method)\u001b[0m\n\u001b[0;32m   1409\u001b[0m \u001b[1;33m\u001b[0m\u001b[0m\n\u001b[0;32m   1410\u001b[0m         \u001b[1;32mtry\u001b[0m\u001b[1;33m:\u001b[0m\u001b[1;33m\u001b[0m\u001b[1;33m\u001b[0m\u001b[0m\n\u001b[1;32m-> 1411\u001b[1;33m             \u001b[0mtable\u001b[0m\u001b[1;33m.\u001b[0m\u001b[0minsert\u001b[0m\u001b[1;33m(\u001b[0m\u001b[0mchunksize\u001b[0m\u001b[1;33m,\u001b[0m \u001b[0mmethod\u001b[0m\u001b[1;33m=\u001b[0m\u001b[0mmethod\u001b[0m\u001b[1;33m)\u001b[0m\u001b[1;33m\u001b[0m\u001b[1;33m\u001b[0m\u001b[0m\n\u001b[0m\u001b[0;32m   1412\u001b[0m         \u001b[1;32mexcept\u001b[0m \u001b[0mexc\u001b[0m\u001b[1;33m.\u001b[0m\u001b[0mSQLAlchemyError\u001b[0m \u001b[1;32mas\u001b[0m \u001b[0merr\u001b[0m\u001b[1;33m:\u001b[0m\u001b[1;33m\u001b[0m\u001b[1;33m\u001b[0m\u001b[0m\n\u001b[0;32m   1413\u001b[0m             \u001b[1;31m# GH34431\u001b[0m\u001b[1;33m\u001b[0m\u001b[1;33m\u001b[0m\u001b[1;33m\u001b[0m\u001b[0m\n",
      "\u001b[1;32m~\\anaconda3\\lib\\site-packages\\pandas\\io\\sql.py\u001b[0m in \u001b[0;36minsert\u001b[1;34m(self, chunksize, method)\u001b[0m\n\u001b[0;32m    843\u001b[0m \u001b[1;33m\u001b[0m\u001b[0m\n\u001b[0;32m    844\u001b[0m                 \u001b[0mchunk_iter\u001b[0m \u001b[1;33m=\u001b[0m \u001b[0mzip\u001b[0m\u001b[1;33m(\u001b[0m\u001b[1;33m*\u001b[0m\u001b[1;33m[\u001b[0m\u001b[0marr\u001b[0m\u001b[1;33m[\u001b[0m\u001b[0mstart_i\u001b[0m\u001b[1;33m:\u001b[0m\u001b[0mend_i\u001b[0m\u001b[1;33m]\u001b[0m \u001b[1;32mfor\u001b[0m \u001b[0marr\u001b[0m \u001b[1;32min\u001b[0m \u001b[0mdata_list\u001b[0m\u001b[1;33m]\u001b[0m\u001b[1;33m)\u001b[0m\u001b[1;33m\u001b[0m\u001b[1;33m\u001b[0m\u001b[0m\n\u001b[1;32m--> 845\u001b[1;33m                 \u001b[0mexec_insert\u001b[0m\u001b[1;33m(\u001b[0m\u001b[0mconn\u001b[0m\u001b[1;33m,\u001b[0m \u001b[0mkeys\u001b[0m\u001b[1;33m,\u001b[0m \u001b[0mchunk_iter\u001b[0m\u001b[1;33m)\u001b[0m\u001b[1;33m\u001b[0m\u001b[1;33m\u001b[0m\u001b[0m\n\u001b[0m\u001b[0;32m    846\u001b[0m \u001b[1;33m\u001b[0m\u001b[0m\n\u001b[0;32m    847\u001b[0m     def _query_iterator(\n",
      "\u001b[1;32m~\\anaconda3\\lib\\site-packages\\pandas\\io\\sql.py\u001b[0m in \u001b[0;36m_execute_insert\u001b[1;34m(self, conn, keys, data_iter)\u001b[0m\n\u001b[0;32m    760\u001b[0m         \"\"\"\n\u001b[0;32m    761\u001b[0m         \u001b[0mdata\u001b[0m \u001b[1;33m=\u001b[0m \u001b[1;33m[\u001b[0m\u001b[0mdict\u001b[0m\u001b[1;33m(\u001b[0m\u001b[0mzip\u001b[0m\u001b[1;33m(\u001b[0m\u001b[0mkeys\u001b[0m\u001b[1;33m,\u001b[0m \u001b[0mrow\u001b[0m\u001b[1;33m)\u001b[0m\u001b[1;33m)\u001b[0m \u001b[1;32mfor\u001b[0m \u001b[0mrow\u001b[0m \u001b[1;32min\u001b[0m \u001b[0mdata_iter\u001b[0m\u001b[1;33m]\u001b[0m\u001b[1;33m\u001b[0m\u001b[1;33m\u001b[0m\u001b[0m\n\u001b[1;32m--> 762\u001b[1;33m         \u001b[0mconn\u001b[0m\u001b[1;33m.\u001b[0m\u001b[0mexecute\u001b[0m\u001b[1;33m(\u001b[0m\u001b[0mself\u001b[0m\u001b[1;33m.\u001b[0m\u001b[0mtable\u001b[0m\u001b[1;33m.\u001b[0m\u001b[0minsert\u001b[0m\u001b[1;33m(\u001b[0m\u001b[1;33m)\u001b[0m\u001b[1;33m,\u001b[0m \u001b[0mdata\u001b[0m\u001b[1;33m)\u001b[0m\u001b[1;33m\u001b[0m\u001b[1;33m\u001b[0m\u001b[0m\n\u001b[0m\u001b[0;32m    763\u001b[0m \u001b[1;33m\u001b[0m\u001b[0m\n\u001b[0;32m    764\u001b[0m     \u001b[1;32mdef\u001b[0m \u001b[0m_execute_insert_multi\u001b[0m\u001b[1;33m(\u001b[0m\u001b[0mself\u001b[0m\u001b[1;33m,\u001b[0m \u001b[0mconn\u001b[0m\u001b[1;33m,\u001b[0m \u001b[0mkeys\u001b[0m\u001b[1;33m,\u001b[0m \u001b[0mdata_iter\u001b[0m\u001b[1;33m)\u001b[0m\u001b[1;33m:\u001b[0m\u001b[1;33m\u001b[0m\u001b[1;33m\u001b[0m\u001b[0m\n",
      "\u001b[1;32m~\\anaconda3\\lib\\site-packages\\sqlalchemy\\engine\\base.py\u001b[0m in \u001b[0;36mexecute\u001b[1;34m(self, statement, *multiparams, **params)\u001b[0m\n\u001b[0;32m   1198\u001b[0m             )\n\u001b[0;32m   1199\u001b[0m         \u001b[1;32melse\u001b[0m\u001b[1;33m:\u001b[0m\u001b[1;33m\u001b[0m\u001b[1;33m\u001b[0m\u001b[0m\n\u001b[1;32m-> 1200\u001b[1;33m             \u001b[1;32mreturn\u001b[0m \u001b[0mmeth\u001b[0m\u001b[1;33m(\u001b[0m\u001b[0mself\u001b[0m\u001b[1;33m,\u001b[0m \u001b[0mmultiparams\u001b[0m\u001b[1;33m,\u001b[0m \u001b[0mparams\u001b[0m\u001b[1;33m,\u001b[0m \u001b[0m_EMPTY_EXECUTION_OPTS\u001b[0m\u001b[1;33m)\u001b[0m\u001b[1;33m\u001b[0m\u001b[1;33m\u001b[0m\u001b[0m\n\u001b[0m\u001b[0;32m   1201\u001b[0m \u001b[1;33m\u001b[0m\u001b[0m\n\u001b[0;32m   1202\u001b[0m     \u001b[1;32mdef\u001b[0m \u001b[0m_execute_function\u001b[0m\u001b[1;33m(\u001b[0m\u001b[0mself\u001b[0m\u001b[1;33m,\u001b[0m \u001b[0mfunc\u001b[0m\u001b[1;33m,\u001b[0m \u001b[0mmultiparams\u001b[0m\u001b[1;33m,\u001b[0m \u001b[0mparams\u001b[0m\u001b[1;33m,\u001b[0m \u001b[0mexecution_options\u001b[0m\u001b[1;33m)\u001b[0m\u001b[1;33m:\u001b[0m\u001b[1;33m\u001b[0m\u001b[1;33m\u001b[0m\u001b[0m\n",
      "\u001b[1;32m~\\anaconda3\\lib\\site-packages\\sqlalchemy\\sql\\elements.py\u001b[0m in \u001b[0;36m_execute_on_connection\u001b[1;34m(self, connection, multiparams, params, execution_options, _force)\u001b[0m\n\u001b[0;32m    311\u001b[0m     ):\n\u001b[0;32m    312\u001b[0m         \u001b[1;32mif\u001b[0m \u001b[0m_force\u001b[0m \u001b[1;32mor\u001b[0m \u001b[0mself\u001b[0m\u001b[1;33m.\u001b[0m\u001b[0msupports_execution\u001b[0m\u001b[1;33m:\u001b[0m\u001b[1;33m\u001b[0m\u001b[1;33m\u001b[0m\u001b[0m\n\u001b[1;32m--> 313\u001b[1;33m             return connection._execute_clauseelement(\n\u001b[0m\u001b[0;32m    314\u001b[0m                 \u001b[0mself\u001b[0m\u001b[1;33m,\u001b[0m \u001b[0mmultiparams\u001b[0m\u001b[1;33m,\u001b[0m \u001b[0mparams\u001b[0m\u001b[1;33m,\u001b[0m \u001b[0mexecution_options\u001b[0m\u001b[1;33m\u001b[0m\u001b[1;33m\u001b[0m\u001b[0m\n\u001b[0;32m    315\u001b[0m             )\n",
      "\u001b[1;32m~\\anaconda3\\lib\\site-packages\\sqlalchemy\\engine\\base.py\u001b[0m in \u001b[0;36m_execute_clauseelement\u001b[1;34m(self, elem, multiparams, params, execution_options)\u001b[0m\n\u001b[0;32m   1387\u001b[0m             \u001b[0mlinting\u001b[0m\u001b[1;33m=\u001b[0m\u001b[0mself\u001b[0m\u001b[1;33m.\u001b[0m\u001b[0mdialect\u001b[0m\u001b[1;33m.\u001b[0m\u001b[0mcompiler_linting\u001b[0m \u001b[1;33m|\u001b[0m \u001b[0mcompiler\u001b[0m\u001b[1;33m.\u001b[0m\u001b[0mWARN_LINTING\u001b[0m\u001b[1;33m,\u001b[0m\u001b[1;33m\u001b[0m\u001b[1;33m\u001b[0m\u001b[0m\n\u001b[0;32m   1388\u001b[0m         )\n\u001b[1;32m-> 1389\u001b[1;33m         ret = self._execute_context(\n\u001b[0m\u001b[0;32m   1390\u001b[0m             \u001b[0mdialect\u001b[0m\u001b[1;33m,\u001b[0m\u001b[1;33m\u001b[0m\u001b[1;33m\u001b[0m\u001b[0m\n\u001b[0;32m   1391\u001b[0m             \u001b[0mdialect\u001b[0m\u001b[1;33m.\u001b[0m\u001b[0mexecution_ctx_cls\u001b[0m\u001b[1;33m.\u001b[0m\u001b[0m_init_compiled\u001b[0m\u001b[1;33m,\u001b[0m\u001b[1;33m\u001b[0m\u001b[1;33m\u001b[0m\u001b[0m\n",
      "\u001b[1;32m~\\anaconda3\\lib\\site-packages\\sqlalchemy\\engine\\base.py\u001b[0m in \u001b[0;36m_execute_context\u001b[1;34m(self, dialect, constructor, statement, parameters, execution_options, *args, **kw)\u001b[0m\n\u001b[0;32m   1746\u001b[0m \u001b[1;33m\u001b[0m\u001b[0m\n\u001b[0;32m   1747\u001b[0m         \u001b[1;32mexcept\u001b[0m \u001b[0mBaseException\u001b[0m \u001b[1;32mas\u001b[0m \u001b[0me\u001b[0m\u001b[1;33m:\u001b[0m\u001b[1;33m\u001b[0m\u001b[1;33m\u001b[0m\u001b[0m\n\u001b[1;32m-> 1748\u001b[1;33m             self._handle_dbapi_exception(\n\u001b[0m\u001b[0;32m   1749\u001b[0m                 \u001b[0me\u001b[0m\u001b[1;33m,\u001b[0m \u001b[0mstatement\u001b[0m\u001b[1;33m,\u001b[0m \u001b[0mparameters\u001b[0m\u001b[1;33m,\u001b[0m \u001b[0mcursor\u001b[0m\u001b[1;33m,\u001b[0m \u001b[0mcontext\u001b[0m\u001b[1;33m\u001b[0m\u001b[1;33m\u001b[0m\u001b[0m\n\u001b[0;32m   1750\u001b[0m             )\n",
      "\u001b[1;32m~\\anaconda3\\lib\\site-packages\\sqlalchemy\\engine\\base.py\u001b[0m in \u001b[0;36m_handle_dbapi_exception\u001b[1;34m(self, e, statement, parameters, cursor, context)\u001b[0m\n\u001b[0;32m   1927\u001b[0m                 \u001b[0mutil\u001b[0m\u001b[1;33m.\u001b[0m\u001b[0mraise_\u001b[0m\u001b[1;33m(\u001b[0m\u001b[0mnewraise\u001b[0m\u001b[1;33m,\u001b[0m \u001b[0mwith_traceback\u001b[0m\u001b[1;33m=\u001b[0m\u001b[0mexc_info\u001b[0m\u001b[1;33m[\u001b[0m\u001b[1;36m2\u001b[0m\u001b[1;33m]\u001b[0m\u001b[1;33m,\u001b[0m \u001b[0mfrom_\u001b[0m\u001b[1;33m=\u001b[0m\u001b[0me\u001b[0m\u001b[1;33m)\u001b[0m\u001b[1;33m\u001b[0m\u001b[1;33m\u001b[0m\u001b[0m\n\u001b[0;32m   1928\u001b[0m             \u001b[1;32melif\u001b[0m \u001b[0mshould_wrap\u001b[0m\u001b[1;33m:\u001b[0m\u001b[1;33m\u001b[0m\u001b[1;33m\u001b[0m\u001b[0m\n\u001b[1;32m-> 1929\u001b[1;33m                 util.raise_(\n\u001b[0m\u001b[0;32m   1930\u001b[0m                     \u001b[0msqlalchemy_exception\u001b[0m\u001b[1;33m,\u001b[0m \u001b[0mwith_traceback\u001b[0m\u001b[1;33m=\u001b[0m\u001b[0mexc_info\u001b[0m\u001b[1;33m[\u001b[0m\u001b[1;36m2\u001b[0m\u001b[1;33m]\u001b[0m\u001b[1;33m,\u001b[0m \u001b[0mfrom_\u001b[0m\u001b[1;33m=\u001b[0m\u001b[0me\u001b[0m\u001b[1;33m\u001b[0m\u001b[1;33m\u001b[0m\u001b[0m\n\u001b[0;32m   1931\u001b[0m                 )\n",
      "\u001b[1;32m~\\anaconda3\\lib\\site-packages\\sqlalchemy\\util\\compat.py\u001b[0m in \u001b[0;36mraise_\u001b[1;34m(***failed resolving arguments***)\u001b[0m\n\u001b[0;32m    209\u001b[0m \u001b[1;33m\u001b[0m\u001b[0m\n\u001b[0;32m    210\u001b[0m         \u001b[1;32mtry\u001b[0m\u001b[1;33m:\u001b[0m\u001b[1;33m\u001b[0m\u001b[1;33m\u001b[0m\u001b[0m\n\u001b[1;32m--> 211\u001b[1;33m             \u001b[1;32mraise\u001b[0m \u001b[0mexception\u001b[0m\u001b[1;33m\u001b[0m\u001b[1;33m\u001b[0m\u001b[0m\n\u001b[0m\u001b[0;32m    212\u001b[0m         \u001b[1;32mfinally\u001b[0m\u001b[1;33m:\u001b[0m\u001b[1;33m\u001b[0m\u001b[1;33m\u001b[0m\u001b[0m\n\u001b[0;32m    213\u001b[0m             \u001b[1;31m# credit to\u001b[0m\u001b[1;33m\u001b[0m\u001b[1;33m\u001b[0m\u001b[1;33m\u001b[0m\u001b[0m\n",
      "\u001b[1;32m~\\anaconda3\\lib\\site-packages\\sqlalchemy\\engine\\base.py\u001b[0m in \u001b[0;36m_execute_context\u001b[1;34m(self, dialect, constructor, statement, parameters, execution_options, *args, **kw)\u001b[0m\n\u001b[0;32m   1683\u001b[0m                             \u001b[1;32mbreak\u001b[0m\u001b[1;33m\u001b[0m\u001b[1;33m\u001b[0m\u001b[0m\n\u001b[0;32m   1684\u001b[0m                 \u001b[1;32mif\u001b[0m \u001b[1;32mnot\u001b[0m \u001b[0mevt_handled\u001b[0m\u001b[1;33m:\u001b[0m\u001b[1;33m\u001b[0m\u001b[1;33m\u001b[0m\u001b[0m\n\u001b[1;32m-> 1685\u001b[1;33m                     self.dialect.do_executemany(\n\u001b[0m\u001b[0;32m   1686\u001b[0m                         \u001b[0mcursor\u001b[0m\u001b[1;33m,\u001b[0m \u001b[0mstatement\u001b[0m\u001b[1;33m,\u001b[0m \u001b[0mparameters\u001b[0m\u001b[1;33m,\u001b[0m \u001b[0mcontext\u001b[0m\u001b[1;33m\u001b[0m\u001b[1;33m\u001b[0m\u001b[0m\n\u001b[0;32m   1687\u001b[0m                     )\n",
      "\u001b[1;32m~\\anaconda3\\lib\\site-packages\\sqlalchemy\\dialects\\mssql\\pyodbc.py\u001b[0m in \u001b[0;36mdo_executemany\u001b[1;34m(self, cursor, statement, parameters, context)\u001b[0m\n\u001b[0;32m    533\u001b[0m         \u001b[1;32mif\u001b[0m \u001b[0mself\u001b[0m\u001b[1;33m.\u001b[0m\u001b[0mfast_executemany\u001b[0m\u001b[1;33m:\u001b[0m\u001b[1;33m\u001b[0m\u001b[1;33m\u001b[0m\u001b[0m\n\u001b[0;32m    534\u001b[0m             \u001b[0mcursor\u001b[0m\u001b[1;33m.\u001b[0m\u001b[0mfast_executemany\u001b[0m \u001b[1;33m=\u001b[0m \u001b[1;32mTrue\u001b[0m\u001b[1;33m\u001b[0m\u001b[1;33m\u001b[0m\u001b[0m\n\u001b[1;32m--> 535\u001b[1;33m         super(MSDialect_pyodbc, self).do_executemany(\n\u001b[0m\u001b[0;32m    536\u001b[0m             \u001b[0mcursor\u001b[0m\u001b[1;33m,\u001b[0m \u001b[0mstatement\u001b[0m\u001b[1;33m,\u001b[0m \u001b[0mparameters\u001b[0m\u001b[1;33m,\u001b[0m \u001b[0mcontext\u001b[0m\u001b[1;33m=\u001b[0m\u001b[0mcontext\u001b[0m\u001b[1;33m\u001b[0m\u001b[1;33m\u001b[0m\u001b[0m\n\u001b[0;32m    537\u001b[0m         )\n",
      "\u001b[1;32m~\\anaconda3\\lib\\site-packages\\sqlalchemy\\engine\\default.py\u001b[0m in \u001b[0;36mdo_executemany\u001b[1;34m(self, cursor, statement, parameters, context)\u001b[0m\n\u001b[0;32m    687\u001b[0m \u001b[1;33m\u001b[0m\u001b[0m\n\u001b[0;32m    688\u001b[0m     \u001b[1;32mdef\u001b[0m \u001b[0mdo_executemany\u001b[0m\u001b[1;33m(\u001b[0m\u001b[0mself\u001b[0m\u001b[1;33m,\u001b[0m \u001b[0mcursor\u001b[0m\u001b[1;33m,\u001b[0m \u001b[0mstatement\u001b[0m\u001b[1;33m,\u001b[0m \u001b[0mparameters\u001b[0m\u001b[1;33m,\u001b[0m \u001b[0mcontext\u001b[0m\u001b[1;33m=\u001b[0m\u001b[1;32mNone\u001b[0m\u001b[1;33m)\u001b[0m\u001b[1;33m:\u001b[0m\u001b[1;33m\u001b[0m\u001b[1;33m\u001b[0m\u001b[0m\n\u001b[1;32m--> 689\u001b[1;33m         \u001b[0mcursor\u001b[0m\u001b[1;33m.\u001b[0m\u001b[0mexecutemany\u001b[0m\u001b[1;33m(\u001b[0m\u001b[0mstatement\u001b[0m\u001b[1;33m,\u001b[0m \u001b[0mparameters\u001b[0m\u001b[1;33m)\u001b[0m\u001b[1;33m\u001b[0m\u001b[1;33m\u001b[0m\u001b[0m\n\u001b[0m\u001b[0;32m    690\u001b[0m \u001b[1;33m\u001b[0m\u001b[0m\n\u001b[0;32m    691\u001b[0m     \u001b[1;32mdef\u001b[0m \u001b[0mdo_execute\u001b[0m\u001b[1;33m(\u001b[0m\u001b[0mself\u001b[0m\u001b[1;33m,\u001b[0m \u001b[0mcursor\u001b[0m\u001b[1;33m,\u001b[0m \u001b[0mstatement\u001b[0m\u001b[1;33m,\u001b[0m \u001b[0mparameters\u001b[0m\u001b[1;33m,\u001b[0m \u001b[0mcontext\u001b[0m\u001b[1;33m=\u001b[0m\u001b[1;32mNone\u001b[0m\u001b[1;33m)\u001b[0m\u001b[1;33m:\u001b[0m\u001b[1;33m\u001b[0m\u001b[1;33m\u001b[0m\u001b[0m\n",
      "\u001b[1;31mDBAPIError\u001b[0m: (pyodbc.Error) ('HY000', '[HY000] [Microsoft][ODBC SQL Server Driver]Unknown token received from SQL Server (0) (SQLExecute)')\n[SQL: INSERT INTO [CBDT_DataLoad].[CBDT].[Cbdt_Master_Data] ([Pan], [Entity_Name], [Father_Name], [Gender], [Dob_Or_Doi], [Residential_Address], [Communication_Address], [Email_Id], [Telephone_Number], [PRESENT], [File_Name], [Create_Date], [Create_By]) VALUES (?, ?, ?, ?, ?, ?, ?, ?, ?, ?, ?, ?, ?)]\n[parameters: (('CHMPA9698F', 'KANDOOR GANESH AITHAL', 'ANANTHAYYA  AITHAL', 'M', '1957-10-03', '1-93 CHOUKADA PALU HOUSE  MANCHI VILLAGE  MANCHI POST  BANTWAL TALUK  DAKSHINA KANNADA DISTRICT', '1-93 CHOUKADA PALU HOUSE  MANCHI VILLAGE  MANCHI POST  BANTWAL TALUK  DAKSHINA KANNADA DISTRICT', None, None, None, 'PAN_data1_by', '2023-08-24 15:52:20.411312', 'HDM'), ('CRUPG5919H', 'MD  GULZAR', 'MD NASIM UDDIN', 'M', '1969-01-01', 'MD NASIM UDDIN  WARD NO 03  ISMAILPUR  KHAGARIA', 'MD NASIM UDDIN  WARD NO 03  ISMAILPUR  KHAGARIA', None, None, None, 'PAN_data1_by', '2023-08-24 15:52:20.411312', 'HDM'), ('BARPV2254D', 'VINAY SAGAR', 'SHIVANAND', 'M', '1998-01-27', 'SHIVANAND  128/1 16TH CROSS  VIDYAGIRI  BAGALKOT  BAGALKOT', 'SHIVANAND  128/1 16TH CROSS  VIDYAGIRI  BAGALKOT  BAGALKOT', None, '91-91-7795688082', None, 'PAN_data1_by', '2023-08-24 15:52:20.411312', 'HDM'), ('ABUPG1139K', 'VIJAY KUMAR GUPTA', 'TULSI RAM GUPTA', 'M', '1974-11-30', 'G 21 A  SCHOOL ROAD  UTTAM NAGAR  NEW DELHI', 'D 4  SECTOR 3  NOIDA  GAUTAM BUDH NAGAR', None, '5636339', None, 'PAN_data1_by', '2023-08-24 15:52:20.411312', 'HDM'), ('CQLPA8941H', 'MD HAJARAT ALI', 'KALIMUDDIN  SHEIKH', 'M', '1968-10-01', 'C/O KALIMUDDIN SHEIKH  HUDUMKHATA NO 2  BHODEAGURI  GOSSAIGAON  KOKRAJHAR', 'C/O KALIMUDDIN SHEIKH  HUDUMKHATA NO 2  BHODEAGURI  GOSSAIGAON  KOKRAJHAR', None, None, None, 'PAN_data1_by', '2023-08-24 15:52:20.411312', 'HDM'), ('CNQPM4643G', 'AMIT  MONDAL', 'ASIT  MONDAL', 'M', '1989-05-04', 'CO ASIT MONDAL  VILL NILKURIYA  PO GANESHPUR  PS SHYAMPUR  HOWRAH', 'CO ASIT MONDAL  VILL NILKURIYA  PO GANESHPUR  PS SHYAMPUR  HOWRAH', None, '91-7407587953', None, 'PAN_data1_by', '2023-08-24 15:52:20.411312', 'HDM'), ('BLOPR6086B', 'ASHA SHANKER RANGLANI', 'MANGALDAS CHOITRAM CHHATANI', 'F', '1952-03-15', 'FLAT NO 301 3RD FLOOR  SAI COMPLEX  NR SWAMI SHANTI PRAKASH  ASHRAM  ULHASNAGAR', 'FLAT NO 301 3RD FLOOR  SAI COMPLEX  NR SWAMI SHANTI PRAKASH  ASHRAM  ULHASNAGAR', None, '91-93246309080', None, 'PAN_data1_by', '2023-08-24 15:52:20.411312', 'HDM'), ('ACCPV8703B', 'VILVALINGAM  VASANTHAKUMAR', 'SABAPATHY  VILAVALINGAM', 'M', '1940-08-06', '141  7TH STREET  RAM NAGAR  S S COLONY  MADURAI', '141  7TH STREET  RAM NAGAR  S S COLONY  MADURAI', None, '602674', None, 'PAN_data1_by', '2023-08-24 15:52:20.411312', 'HDM')  ... displaying 10 of 1000 total bound parameter sets ...  ('BEAPH2023D', 'HARISHANKAR', 'SHYAMA  PRASAD', 'M', '1975-01-01', 'S/O SHYAMA PRASAD  MAJHAGAWAN MANDA  MAJHAGAWAN BHARATAGANJ  MANDA KORAON  PRAYAGRAJ', 'S/O SHYAMA PRASAD  MAJHAGAWAN MANDA  MAJHAGAWAN BHARATAGANJ  MANDA KORAON  PRAYAGRAJ', None, None, None, 'PAN_data1_by', '2023-08-24 15:52:20.411312', 'HDM'), ('CNMPR6743L', 'MOHAMAD  RAJA', 'MOHAMAD BADREY ALAM', 'M', '1997-04-04', 'C/O SINGH RADIO  NEAR SBI BAGAHA BAZAR  BAGAHA-1  WEST CHAMPARAN', 'C/O SINGH RADIO  NEAR SBI BAGAHA BAZAR  BAGAHA-1  WEST CHAMPARAN', None, '91-9973997562', None, 'PAN_data1_by', '2023-08-24 15:52:20.411312', 'HDM'))]\n(Background on this error at: http://sqlalche.me/e/14/dbapi)"
     ]
    }
   ],
   "source": [
    "# upload the DataFrame\n",
    "df1.to_sql(\"Cbdt_Master_Data\", engine, schema=\"CBDT_DataLoad.CBDT\", if_exists=\"append\", index=False,chunksize=1000)"
   ]
  },
  {
   "cell_type": "code",
   "execution_count": null,
   "id": "404bc6d2",
   "metadata": {},
   "outputs": [],
   "source": [
    "df2.to_sql(\"Cbdt_Master_Data\", engine, schema=\"CBDT_DataLoad.CBDT\", if_exists=\"append\", index=False,chunksize=1000)"
   ]
  },
  {
   "cell_type": "code",
   "execution_count": null,
   "id": "99309a60",
   "metadata": {},
   "outputs": [],
   "source": [
    "df3.to_sql(\"Cbdt_Master_Data\", engine, schema=\"CBDT_DataLoad.CBDT\", if_exists=\"append\", index=False,chunksize=1000)"
   ]
  },
  {
   "cell_type": "code",
   "execution_count": null,
   "id": "baf5e6ad",
   "metadata": {},
   "outputs": [],
   "source": [
    "print(str(datetime.datetime.now()))"
   ]
  },
  {
   "cell_type": "code",
   "execution_count": null,
   "id": "42b9f607",
   "metadata": {},
   "outputs": [],
   "source": [
    "cursor.execute('''\n",
    "update CBDT_DATALOAD.CBDT.[CBDT_MASTER_DATA] set  present = 'Y' from \n",
    "CBDT_DATALOAD.CBDT.[CBDT_MASTER_DATA] A (NOLOCK)\n",
    "inner JOIN \n",
    "EXTL_DB.CBDT.[CBDT_MASTER_DATA] B (NOLOCK)\n",
    "ON A.PAN = B.PAN\n",
    "''')\n",
    "conn.commit()"
   ]
  },
  {
   "cell_type": "code",
   "execution_count": null,
   "id": "dc62757e",
   "metadata": {},
   "outputs": [],
   "source": [
    "cursor.execute('''UPDATE CBDT_DATALOAD.CBDT.[CBDT_MASTER_DATA]  SET PRESENT = 'N' WHERE PRESENT IS NULL''')\n",
    "conn.commit()"
   ]
  },
  {
   "cell_type": "code",
   "execution_count": null,
   "id": "fbe73f91",
   "metadata": {},
   "outputs": [],
   "source": []
  },
  {
   "cell_type": "code",
   "execution_count": null,
   "id": "6dc3b573",
   "metadata": {},
   "outputs": [],
   "source": [
    "cursor.execute('''\n",
    "insert into CBDT_DATALOAD.CBDT.CBDT_MASTER_DATA_FINAL\n",
    "from \n",
    "SELECT * FROM CBDT_DATALOAD.CBDT.CBDT_MASTER_DATA\n",
    "''')\n",
    "conn.commit()"
   ]
  },
  {
   "cell_type": "code",
   "execution_count": null,
   "id": "76223716",
   "metadata": {},
   "outputs": [],
   "source": [
    "cursor.execute('''delete from CBDT_DATALOAD.CBDT.CBDT_MASTER_DATA where PRESENT = 'Y' ''')\n",
    "conn.commit()"
   ]
  },
  {
   "cell_type": "code",
   "execution_count": null,
   "id": "bdbbdd5b",
   "metadata": {},
   "outputs": [],
   "source": [
    "cursor.execute('''INSERT INTO EXTL_DB.CBDT.CBDT_MASTER_DATA \n",
    "SELECT PAN,ENTITY_NAME,FATHER_NAME,GENDER,DOB_OR_DOI,RESIDENTIAL_ADDRESS,COMMUNICATION_ADDRESS,EMAIL_ID,TELEPHONE_NUMBER,FILE_NAME,CREATE_DATE,CREATE_BY\n",
    "FROM CBDT_DATALOAD.CBDT.CBDT_MASTER_DATA''')\n",
    "conn.commit()"
   ]
  },
  {
   "cell_type": "code",
   "execution_count": null,
   "id": "3a540c77",
   "metadata": {},
   "outputs": [],
   "source": []
  },
  {
   "cell_type": "code",
   "execution_count": null,
   "id": "9e9c66d2",
   "metadata": {},
   "outputs": [],
   "source": []
  },
  {
   "cell_type": "code",
   "execution_count": null,
   "id": "3a231c58",
   "metadata": {},
   "outputs": [],
   "source": []
  },
  {
   "cell_type": "code",
   "execution_count": null,
   "id": "b8b96c07",
   "metadata": {},
   "outputs": [],
   "source": []
  },
  {
   "cell_type": "code",
   "execution_count": null,
   "id": "5d6fac89",
   "metadata": {},
   "outputs": [],
   "source": []
  }
 ],
 "metadata": {
  "kernelspec": {
   "display_name": "Python 3",
   "language": "python",
   "name": "python3"
  },
  "language_info": {
   "codemirror_mode": {
    "name": "ipython",
    "version": 3
   },
   "file_extension": ".py",
   "mimetype": "text/x-python",
   "name": "python",
   "nbconvert_exporter": "python",
   "pygments_lexer": "ipython3",
   "version": "3.8.8"
  }
 },
 "nbformat": 4,
 "nbformat_minor": 5
}
