{
 "cells": [
  {
   "cell_type": "code",
   "execution_count": null,
   "id": "2fbecfb9",
   "metadata": {},
   "outputs": [],
   "source": [
    "import numpy as np\n",
    "import pandas as pd\n",
    "import pyodbc\n",
    "import pandas as pd\n",
    "import numpy as np\n",
    "from pprint import pprint\n",
    "import datetime\n",
    "from configparser import ConfigParser\n",
    "import datetime\n",
    "import pandas as pd\n",
    "import sqlalchemy as sa"
   ]
  },
  {
   "cell_type": "code",
   "execution_count": null,
   "id": "ae2682db",
   "metadata": {},
   "outputs": [],
   "source": [
    "from configparser import ConfigParser\n",
    "import sqlalchemy\n",
    "import pyodbc\n",
    "import urllib\n",
    "from urllib.parse import quote\n",
    "from abc import ABC\n",
    "import logging\n",
    "import sys\n",
    "import re\n",
    "import pandas as pd\n",
    "import numpy as np\n",
    "config = ConfigParser()\n",
    "config.read('fingate_to_bridge_config.ini')\n",
    "#config.read('/notebooks/notebooks/fingate_to_bridge_config.ini')\n",
    "config_data=config['SERVER']\n",
    "import warnings\n",
    "warnings.filterwarnings('ignore')"
   ]
  },
  {
   "cell_type": "code",
   "execution_count": null,
   "id": "6eb9205c",
   "metadata": {},
   "outputs": [],
   "source": [
    "from IPython.display import display, HTML\n",
    "display(HTML(\"<style>.container { width:100% !important; }</style>\"))"
   ]
  },
  {
   "cell_type": "code",
   "execution_count": null,
   "id": "3c798d04",
   "metadata": {},
   "outputs": [],
   "source": [
    "conn = pyodbc.connect(config_data[\"fincore_bridge_read\"])\n",
    "cursor = conn.cursor()"
   ]
  },
  {
   "cell_type": "code",
   "execution_count": null,
   "id": "f4a45e53",
   "metadata": {},
   "outputs": [],
   "source": [
    "pd.set_option(\"display.max_column\",200)\n",
    "pd.set_option(\"display.float_format\",lambda x:'%.5f' %x)"
   ]
  },
  {
   "cell_type": "code",
   "execution_count": null,
   "id": "4f876844",
   "metadata": {},
   "outputs": [],
   "source": [
    "DF = pd.read_excel('Book1.xlsx', index_col=0)"
   ]
  },
  {
   "cell_type": "code",
   "execution_count": null,
   "id": "7a7833b1",
   "metadata": {},
   "outputs": [],
   "source": [
    "DF.columns  = DF.columns.astype('str')"
   ]
  },
  {
   "cell_type": "code",
   "execution_count": null,
   "id": "d58d1519",
   "metadata": {},
   "outputs": [],
   "source": [
    "DF.columns"
   ]
  },
  {
   "cell_type": "code",
   "execution_count": null,
   "id": "1d6b9773",
   "metadata": {},
   "outputs": [],
   "source": [
    "DF.to_sql(\"ABC_test\", engine, schema=\"Fincore_db.fincore_analytics\", if_exists=\"append\", index=False)"
   ]
  },
  {
   "cell_type": "code",
   "execution_count": null,
   "id": "b8600598",
   "metadata": {},
   "outputs": [],
   "source": [
    "conn.close()"
   ]
  }
 ],
 "metadata": {
  "kernelspec": {
   "display_name": "Python 3",
   "language": "python",
   "name": "python3"
  },
  "language_info": {
   "codemirror_mode": {
    "name": "ipython",
    "version": 3
   },
   "file_extension": ".py",
   "mimetype": "text/x-python",
   "name": "python",
   "nbconvert_exporter": "python",
   "pygments_lexer": "ipython3",
   "version": "3.8.8"
  }
 },
 "nbformat": 4,
 "nbformat_minor": 5
}
