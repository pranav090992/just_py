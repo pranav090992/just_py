{
 "cells": [
  {
   "cell_type": "code",
   "execution_count": 1,
   "id": "7ac2c4df",
   "metadata": {},
   "outputs": [],
   "source": [
    "import pandas as pd\n",
    "import numpy as np\n",
    "import psycopg2\n",
    "from glob import glob\n",
    "from sqlalchemy import create_engine\n",
    "from urllib.parse import quote\n",
    "import tqdm\n",
    "import os"
   ]
  },
  {
   "cell_type": "markdown",
   "id": "00f6d1c6",
   "metadata": {},
   "source": [
    "* #### Reading the occupation file with the verbatim count"
   ]
  },
  {
   "cell_type": "code",
   "execution_count": 2,
   "id": "780e821d",
   "metadata": {},
   "outputs": [],
   "source": [
    "df_occupation_count = pd.read_csv(r\"C:\\Users\\FIU\\Desktop\\EFT_MCA\\occupation\\occupation_list_15_11_22.csv\", delimiter='\\t')"
   ]
  },
  {
   "cell_type": "code",
   "execution_count": 3,
   "id": "d10e3313",
   "metadata": {},
   "outputs": [
    {
     "data": {
      "text/html": [
       "<div>\n",
       "<style scoped>\n",
       "    .dataframe tbody tr th:only-of-type {\n",
       "        vertical-align: middle;\n",
       "    }\n",
       "\n",
       "    .dataframe tbody tr th {\n",
       "        vertical-align: top;\n",
       "    }\n",
       "\n",
       "    .dataframe thead th {\n",
       "        text-align: right;\n",
       "    }\n",
       "</style>\n",
       "<table border=\"1\" class=\"dataframe\">\n",
       "  <thead>\n",
       "    <tr style=\"text-align: right;\">\n",
       "      <th></th>\n",
       "      <th>occupation</th>\n",
       "      <th>Count</th>\n",
       "    </tr>\n",
       "  </thead>\n",
       "  <tbody>\n",
       "    <tr>\n",
       "      <th>0</th>\n",
       "      <td>NaN</td>\n",
       "      <td>10750337.0</td>\n",
       "    </tr>\n",
       "    <tr>\n",
       "      <th>1</th>\n",
       "      <td>BUSINESS</td>\n",
       "      <td>2746051.0</td>\n",
       "    </tr>\n",
       "    <tr>\n",
       "      <th>2</th>\n",
       "      <td>OTHERS</td>\n",
       "      <td>2356190.0</td>\n",
       "    </tr>\n",
       "    <tr>\n",
       "      <th>3</th>\n",
       "      <td>BANKING</td>\n",
       "      <td>1251374.0</td>\n",
       "    </tr>\n",
       "    <tr>\n",
       "      <th>4</th>\n",
       "      <td>OTHER</td>\n",
       "      <td>611961.0</td>\n",
       "    </tr>\n",
       "    <tr>\n",
       "      <th>...</th>\n",
       "      <td>...</td>\n",
       "      <td>...</td>\n",
       "    </tr>\n",
       "    <tr>\n",
       "      <th>13042</th>\n",
       "      <td>HOTEL K ROASE</td>\n",
       "      <td>1.0</td>\n",
       "    </tr>\n",
       "    <tr>\n",
       "      <th>13043</th>\n",
       "      <td>CHEMICAL TESTING AND CONSULTANCY</td>\n",
       "      <td>1.0</td>\n",
       "    </tr>\n",
       "    <tr>\n",
       "      <th>13044</th>\n",
       "      <td>BUSINESS - SELF EMPLOYED</td>\n",
       "      <td>1.0</td>\n",
       "    </tr>\n",
       "    <tr>\n",
       "      <th>13045</th>\n",
       "      <td>OBSOLETE  IT RELATED</td>\n",
       "      <td>1.0</td>\n",
       "    </tr>\n",
       "    <tr>\n",
       "      <th>13046</th>\n",
       "      <td>STAFF, RETIRED</td>\n",
       "      <td>1.0</td>\n",
       "    </tr>\n",
       "  </tbody>\n",
       "</table>\n",
       "<p>13047 rows × 2 columns</p>\n",
       "</div>"
      ],
      "text/plain": [
       "                             occupation       Count\n",
       "0                                   NaN  10750337.0\n",
       "1                              BUSINESS   2746051.0\n",
       "2                                OTHERS   2356190.0\n",
       "3                               BANKING   1251374.0\n",
       "4                                 OTHER    611961.0\n",
       "...                                 ...         ...\n",
       "13042                     HOTEL K ROASE         1.0\n",
       "13043  CHEMICAL TESTING AND CONSULTANCY         1.0\n",
       "13044          BUSINESS - SELF EMPLOYED         1.0\n",
       "13045              OBSOLETE  IT RELATED         1.0\n",
       "13046                    STAFF, RETIRED         1.0\n",
       "\n",
       "[13047 rows x 2 columns]"
      ]
     },
     "execution_count": 3,
     "metadata": {},
     "output_type": "execute_result"
    }
   ],
   "source": [
    "df_occupation_count"
   ]
  },
  {
   "cell_type": "code",
   "execution_count": 4,
   "id": "01452321",
   "metadata": {},
   "outputs": [],
   "source": [
    "df_occupation_amount = pd.read_csv(r\"C:\\Users\\FIU\\Desktop\\EFT_MCA\\occupation\\occupation_all_inward_outward_15_11_22_final.csv\", delimiter='\\t')"
   ]
  },
  {
   "cell_type": "code",
   "execution_count": 5,
   "id": "1739ffb5",
   "metadata": {},
   "outputs": [
    {
     "data": {
      "text/html": [
       "<div>\n",
       "<style scoped>\n",
       "    .dataframe tbody tr th:only-of-type {\n",
       "        vertical-align: middle;\n",
       "    }\n",
       "\n",
       "    .dataframe tbody tr th {\n",
       "        vertical-align: top;\n",
       "    }\n",
       "\n",
       "    .dataframe thead th {\n",
       "        text-align: right;\n",
       "    }\n",
       "</style>\n",
       "<table border=\"1\" class=\"dataframe\">\n",
       "  <thead>\n",
       "    <tr style=\"text-align: right;\">\n",
       "      <th></th>\n",
       "      <th>occupation</th>\n",
       "      <th>outward_amount</th>\n",
       "      <th>inward_amount</th>\n",
       "      <th>outward_count</th>\n",
       "      <th>inward_count</th>\n",
       "    </tr>\n",
       "  </thead>\n",
       "  <tbody>\n",
       "    <tr>\n",
       "      <th>0</th>\n",
       "      <td>PROPRIETOR OF CAREER ZONE CONSULTING</td>\n",
       "      <td>1.597425e+06</td>\n",
       "      <td>NaN</td>\n",
       "      <td>3.0</td>\n",
       "      <td>NaN</td>\n",
       "    </tr>\n",
       "    <tr>\n",
       "      <th>1</th>\n",
       "      <td>PARTNER IN PROFESSIO</td>\n",
       "      <td>3.714535e+07</td>\n",
       "      <td>NaN</td>\n",
       "      <td>7.0</td>\n",
       "      <td>NaN</td>\n",
       "    </tr>\n",
       "    <tr>\n",
       "      <th>2</th>\n",
       "      <td>V L</td>\n",
       "      <td>1.566072e+07</td>\n",
       "      <td>NaN</td>\n",
       "      <td>4.0</td>\n",
       "      <td>NaN</td>\n",
       "    </tr>\n",
       "    <tr>\n",
       "      <th>3</th>\n",
       "      <td>TELEVISION PROGRAMMING AND BROADCASTING ACTIVI...</td>\n",
       "      <td>2.344583e+10</td>\n",
       "      <td>244589661.0</td>\n",
       "      <td>533.0</td>\n",
       "      <td>68.0</td>\n",
       "    </tr>\n",
       "    <tr>\n",
       "      <th>4</th>\n",
       "      <td>BUELT</td>\n",
       "      <td>3.483976e+07</td>\n",
       "      <td>3674047.0</td>\n",
       "      <td>30.0</td>\n",
       "      <td>2.0</td>\n",
       "    </tr>\n",
       "    <tr>\n",
       "      <th>...</th>\n",
       "      <td>...</td>\n",
       "      <td>...</td>\n",
       "      <td>...</td>\n",
       "      <td>...</td>\n",
       "      <td>...</td>\n",
       "    </tr>\n",
       "    <tr>\n",
       "      <th>13042</th>\n",
       "      <td>PARTSANDACCESSORIESFORMETALWORKINGMACHIN</td>\n",
       "      <td>2.255088e+08</td>\n",
       "      <td>229133959.0</td>\n",
       "      <td>32.0</td>\n",
       "      <td>22.0</td>\n",
       "    </tr>\n",
       "    <tr>\n",
       "      <th>13043</th>\n",
       "      <td>CREATIVE, ARTS AND E</td>\n",
       "      <td>NaN</td>\n",
       "      <td>16157912.0</td>\n",
       "      <td>NaN</td>\n",
       "      <td>15.0</td>\n",
       "    </tr>\n",
       "    <tr>\n",
       "      <th>13044</th>\n",
       "      <td>MANUFACTURE OF FRUIT AND VEGETABLE PRESERVES</td>\n",
       "      <td>NaN</td>\n",
       "      <td>6784777.0</td>\n",
       "      <td>NaN</td>\n",
       "      <td>4.0</td>\n",
       "    </tr>\n",
       "    <tr>\n",
       "      <th>13045</th>\n",
       "      <td>REGIONAL MANAGER NORTH AT 3 M INDIA LTD</td>\n",
       "      <td>1.815083e+06</td>\n",
       "      <td>NaN</td>\n",
       "      <td>3.0</td>\n",
       "      <td>NaN</td>\n",
       "    </tr>\n",
       "    <tr>\n",
       "      <th>13046</th>\n",
       "      <td>RAILROAD ROLLING STOCK MF</td>\n",
       "      <td>1.392835e+10</td>\n",
       "      <td>1479339.0</td>\n",
       "      <td>1576.0</td>\n",
       "      <td>1.0</td>\n",
       "    </tr>\n",
       "  </tbody>\n",
       "</table>\n",
       "<p>13047 rows × 5 columns</p>\n",
       "</div>"
      ],
      "text/plain": [
       "                                              occupation  outward_amount  \\\n",
       "0                   PROPRIETOR OF CAREER ZONE CONSULTING    1.597425e+06   \n",
       "1                                   PARTNER IN PROFESSIO    3.714535e+07   \n",
       "2                                                    V L    1.566072e+07   \n",
       "3      TELEVISION PROGRAMMING AND BROADCASTING ACTIVI...    2.344583e+10   \n",
       "4                                                  BUELT    3.483976e+07   \n",
       "...                                                  ...             ...   \n",
       "13042           PARTSANDACCESSORIESFORMETALWORKINGMACHIN    2.255088e+08   \n",
       "13043                               CREATIVE, ARTS AND E             NaN   \n",
       "13044       MANUFACTURE OF FRUIT AND VEGETABLE PRESERVES             NaN   \n",
       "13045            REGIONAL MANAGER NORTH AT 3 M INDIA LTD    1.815083e+06   \n",
       "13046                          RAILROAD ROLLING STOCK MF    1.392835e+10   \n",
       "\n",
       "       inward_amount  outward_count  inward_count  \n",
       "0                NaN            3.0           NaN  \n",
       "1                NaN            7.0           NaN  \n",
       "2                NaN            4.0           NaN  \n",
       "3        244589661.0          533.0          68.0  \n",
       "4          3674047.0           30.0           2.0  \n",
       "...              ...            ...           ...  \n",
       "13042    229133959.0           32.0          22.0  \n",
       "13043     16157912.0            NaN          15.0  \n",
       "13044      6784777.0            NaN           4.0  \n",
       "13045            NaN            3.0           NaN  \n",
       "13046      1479339.0         1576.0           1.0  \n",
       "\n",
       "[13047 rows x 5 columns]"
      ]
     },
     "execution_count": 5,
     "metadata": {},
     "output_type": "execute_result"
    }
   ],
   "source": [
    "df_occupation_amount"
   ]
  },
  {
   "cell_type": "code",
   "execution_count": 6,
   "id": "2505d344",
   "metadata": {},
   "outputs": [],
   "source": [
    "# reading fuzzy_wuzzy_merged_file\n",
    "\n",
    "df_fuzzy_wuzzy = pd.read_csv(r\"C:\\Users\\FIU\\Desktop\\EFT_MCA\\occupation\\merged_fuzzy_wuzzy.csv\")"
   ]
  },
  {
   "cell_type": "code",
   "execution_count": 7,
   "id": "fe7d8935",
   "metadata": {},
   "outputs": [],
   "source": [
    "df_fuzzy_wuzzy.drop(\"Unnamed: 0\", axis = 1, inplace = True)"
   ]
  },
  {
   "cell_type": "code",
   "execution_count": 8,
   "id": "1a7d61a4",
   "metadata": {},
   "outputs": [],
   "source": [
    "# reading substring_merged_file\n",
    "\n",
    "df_sub_string = pd.read_csv(r\"C:\\Users\\FIU\\Desktop\\EFT_MCA\\occupation\\merged_with_substring.csv\")"
   ]
  },
  {
   "cell_type": "code",
   "execution_count": 9,
   "id": "cf0ce925",
   "metadata": {},
   "outputs": [],
   "source": [
    "# reading non_fuzzy_wuzzy_file\n",
    "\n",
    "df_not_fuzzy = pd.read_csv(r\"C:\\Users\\FIU\\Desktop\\EFT_MCA\\occupation\\mapped_occupations_without_fuzzy.csv\")"
   ]
  },
  {
   "cell_type": "code",
   "execution_count": 10,
   "id": "ff7dbc09",
   "metadata": {},
   "outputs": [
    {
     "data": {
      "text/html": [
       "<div>\n",
       "<style scoped>\n",
       "    .dataframe tbody tr th:only-of-type {\n",
       "        vertical-align: middle;\n",
       "    }\n",
       "\n",
       "    .dataframe tbody tr th {\n",
       "        vertical-align: top;\n",
       "    }\n",
       "\n",
       "    .dataframe thead th {\n",
       "        text-align: right;\n",
       "    }\n",
       "</style>\n",
       "<table border=\"1\" class=\"dataframe\">\n",
       "  <thead>\n",
       "    <tr style=\"text-align: right;\">\n",
       "      <th></th>\n",
       "      <th>OccupationDesc</th>\n",
       "      <th>Occupation</th>\n",
       "      <th>correct Form</th>\n",
       "    </tr>\n",
       "  </thead>\n",
       "  <tbody>\n",
       "    <tr>\n",
       "      <th>0</th>\n",
       "      <td>ACADEMIC</td>\n",
       "      <td>ACADEMIC</td>\n",
       "      <td>Student</td>\n",
       "    </tr>\n",
       "    <tr>\n",
       "      <th>1</th>\n",
       "      <td>ACADEMIC</td>\n",
       "      <td>ACADAMIC</td>\n",
       "      <td>NaN</td>\n",
       "    </tr>\n",
       "    <tr>\n",
       "      <th>2</th>\n",
       "      <td>ACADEMIC</td>\n",
       "      <td>ACADEMIC</td>\n",
       "      <td>NaN</td>\n",
       "    </tr>\n",
       "    <tr>\n",
       "      <th>3</th>\n",
       "      <td>ACADEMIC</td>\n",
       "      <td>ACADEMICIAN</td>\n",
       "      <td>NaN</td>\n",
       "    </tr>\n",
       "    <tr>\n",
       "      <th>4</th>\n",
       "      <td>ACCOUNTANT</td>\n",
       "      <td>ACCONT</td>\n",
       "      <td>salaried</td>\n",
       "    </tr>\n",
       "    <tr>\n",
       "      <th>...</th>\n",
       "      <td>...</td>\n",
       "      <td>...</td>\n",
       "      <td>...</td>\n",
       "    </tr>\n",
       "    <tr>\n",
       "      <th>4526</th>\n",
       "      <td>FACTORY</td>\n",
       "      <td>SUGAR FACTORIES</td>\n",
       "      <td>NaN</td>\n",
       "    </tr>\n",
       "    <tr>\n",
       "      <th>4527</th>\n",
       "      <td>POLICE</td>\n",
       "      <td>POLIC</td>\n",
       "      <td>NaN</td>\n",
       "    </tr>\n",
       "    <tr>\n",
       "      <th>4528</th>\n",
       "      <td>POLICE</td>\n",
       "      <td>POLICE</td>\n",
       "      <td>NaN</td>\n",
       "    </tr>\n",
       "    <tr>\n",
       "      <th>4529</th>\n",
       "      <td>POLICE</td>\n",
       "      <td>POLICE FORCES</td>\n",
       "      <td>NaN</td>\n",
       "    </tr>\n",
       "    <tr>\n",
       "      <th>4530</th>\n",
       "      <td>POLICE</td>\n",
       "      <td>POLICEMEN</td>\n",
       "      <td>NaN</td>\n",
       "    </tr>\n",
       "  </tbody>\n",
       "</table>\n",
       "<p>4531 rows × 3 columns</p>\n",
       "</div>"
      ],
      "text/plain": [
       "     OccupationDesc       Occupation correct Form\n",
       "0          ACADEMIC         ACADEMIC      Student\n",
       "1          ACADEMIC         ACADAMIC          NaN\n",
       "2          ACADEMIC         ACADEMIC          NaN\n",
       "3          ACADEMIC      ACADEMICIAN          NaN\n",
       "4        ACCOUNTANT           ACCONT     salaried\n",
       "...             ...              ...          ...\n",
       "4526        FACTORY  SUGAR FACTORIES          NaN\n",
       "4527         POLICE            POLIC          NaN\n",
       "4528         POLICE           POLICE          NaN\n",
       "4529         POLICE    POLICE FORCES          NaN\n",
       "4530         POLICE        POLICEMEN          NaN\n",
       "\n",
       "[4531 rows x 3 columns]"
      ]
     },
     "execution_count": 10,
     "metadata": {},
     "output_type": "execute_result"
    }
   ],
   "source": [
    "df_not_fuzzy"
   ]
  },
  {
   "cell_type": "code",
   "execution_count": 11,
   "id": "dcb6f42f",
   "metadata": {},
   "outputs": [],
   "source": [
    "df_sub_string.drop(\"Unnamed: 0\", axis = 1, inplace = True)"
   ]
  },
  {
   "cell_type": "code",
   "execution_count": 12,
   "id": "40993464",
   "metadata": {},
   "outputs": [],
   "source": [
    "df_sub_string.columns = ['OccupationDesc', 'Occupation']"
   ]
  },
  {
   "cell_type": "code",
   "execution_count": 13,
   "id": "843cc672",
   "metadata": {},
   "outputs": [
    {
     "data": {
      "text/html": [
       "<div>\n",
       "<style scoped>\n",
       "    .dataframe tbody tr th:only-of-type {\n",
       "        vertical-align: middle;\n",
       "    }\n",
       "\n",
       "    .dataframe tbody tr th {\n",
       "        vertical-align: top;\n",
       "    }\n",
       "\n",
       "    .dataframe thead th {\n",
       "        text-align: right;\n",
       "    }\n",
       "</style>\n",
       "<table border=\"1\" class=\"dataframe\">\n",
       "  <thead>\n",
       "    <tr style=\"text-align: right;\">\n",
       "      <th></th>\n",
       "      <th>OccupationDesc</th>\n",
       "      <th>Occupation</th>\n",
       "    </tr>\n",
       "  </thead>\n",
       "  <tbody>\n",
       "    <tr>\n",
       "      <th>0</th>\n",
       "      <td>ACADEMIC</td>\n",
       "      <td>ACADEMIC</td>\n",
       "    </tr>\n",
       "    <tr>\n",
       "      <th>1</th>\n",
       "      <td>ACADEMIC</td>\n",
       "      <td>ACADEMIC</td>\n",
       "    </tr>\n",
       "    <tr>\n",
       "      <th>2</th>\n",
       "      <td>ACADEMIC</td>\n",
       "      <td>ACADEMICIAN</td>\n",
       "    </tr>\n",
       "    <tr>\n",
       "      <th>3</th>\n",
       "      <td>ADMINISTRATION</td>\n",
       "      <td>ADMINISTRATION</td>\n",
       "    </tr>\n",
       "    <tr>\n",
       "      <th>4</th>\n",
       "      <td>ADMINISTRATION</td>\n",
       "      <td>ADMINISTRATION</td>\n",
       "    </tr>\n",
       "    <tr>\n",
       "      <th>...</th>\n",
       "      <td>...</td>\n",
       "      <td>...</td>\n",
       "    </tr>\n",
       "    <tr>\n",
       "      <th>310</th>\n",
       "      <td>TRADER</td>\n",
       "      <td>TRADE TRADERS</td>\n",
       "    </tr>\n",
       "    <tr>\n",
       "      <th>311</th>\n",
       "      <td>TRADER</td>\n",
       "      <td>TRADER</td>\n",
       "    </tr>\n",
       "    <tr>\n",
       "      <th>312</th>\n",
       "      <td>TRADER</td>\n",
       "      <td>TRADERS</td>\n",
       "    </tr>\n",
       "    <tr>\n",
       "      <th>313</th>\n",
       "      <td>VICE PRESIDENT</td>\n",
       "      <td>VICE PRESIDENT</td>\n",
       "    </tr>\n",
       "    <tr>\n",
       "      <th>314</th>\n",
       "      <td>WEALTH TRUSTEES</td>\n",
       "      <td>WEALTH TRUSTEES</td>\n",
       "    </tr>\n",
       "  </tbody>\n",
       "</table>\n",
       "<p>315 rows × 2 columns</p>\n",
       "</div>"
      ],
      "text/plain": [
       "      OccupationDesc       Occupation\n",
       "0           ACADEMIC         ACADEMIC\n",
       "1           ACADEMIC         ACADEMIC\n",
       "2           ACADEMIC      ACADEMICIAN\n",
       "3     ADMINISTRATION   ADMINISTRATION\n",
       "4     ADMINISTRATION   ADMINISTRATION\n",
       "..               ...              ...\n",
       "310           TRADER    TRADE TRADERS\n",
       "311           TRADER           TRADER\n",
       "312           TRADER          TRADERS\n",
       "313   VICE PRESIDENT   VICE PRESIDENT\n",
       "314  WEALTH TRUSTEES  WEALTH TRUSTEES\n",
       "\n",
       "[315 rows x 2 columns]"
      ]
     },
     "execution_count": 13,
     "metadata": {},
     "output_type": "execute_result"
    }
   ],
   "source": [
    "df_sub_string"
   ]
  },
  {
   "cell_type": "code",
   "execution_count": 14,
   "id": "2c8737ef",
   "metadata": {},
   "outputs": [],
   "source": [
    "df_fuzzy_wuzzy.columns = ['OccupationDesc', 'Occupation']"
   ]
  },
  {
   "cell_type": "code",
   "execution_count": 15,
   "id": "9386add2",
   "metadata": {
    "scrolled": true
   },
   "outputs": [
    {
     "data": {
      "text/html": [
       "<div>\n",
       "<style scoped>\n",
       "    .dataframe tbody tr th:only-of-type {\n",
       "        vertical-align: middle;\n",
       "    }\n",
       "\n",
       "    .dataframe tbody tr th {\n",
       "        vertical-align: top;\n",
       "    }\n",
       "\n",
       "    .dataframe thead th {\n",
       "        text-align: right;\n",
       "    }\n",
       "</style>\n",
       "<table border=\"1\" class=\"dataframe\">\n",
       "  <thead>\n",
       "    <tr style=\"text-align: right;\">\n",
       "      <th></th>\n",
       "      <th>OccupationDesc</th>\n",
       "      <th>Occupation</th>\n",
       "    </tr>\n",
       "  </thead>\n",
       "  <tbody>\n",
       "    <tr>\n",
       "      <th>0</th>\n",
       "      <td>ADMINISTRATION</td>\n",
       "      <td>ADMINISTRADOR</td>\n",
       "    </tr>\n",
       "    <tr>\n",
       "      <th>1</th>\n",
       "      <td>ADMINISTRATION</td>\n",
       "      <td>ADMINISTRATION</td>\n",
       "    </tr>\n",
       "    <tr>\n",
       "      <th>2</th>\n",
       "      <td>ADMINISTRATION</td>\n",
       "      <td>ADMINISTRATIVA</td>\n",
       "    </tr>\n",
       "    <tr>\n",
       "      <th>3</th>\n",
       "      <td>ADMINISTRATION</td>\n",
       "      <td>ADMINISTRATIVO</td>\n",
       "    </tr>\n",
       "    <tr>\n",
       "      <th>4</th>\n",
       "      <td>ADMINISTRATION</td>\n",
       "      <td>ADMINISTRATOR</td>\n",
       "    </tr>\n",
       "    <tr>\n",
       "      <th>...</th>\n",
       "      <td>...</td>\n",
       "      <td>...</td>\n",
       "    </tr>\n",
       "    <tr>\n",
       "      <th>370</th>\n",
       "      <td>WAITER</td>\n",
       "      <td>WATER</td>\n",
       "    </tr>\n",
       "    <tr>\n",
       "      <th>371</th>\n",
       "      <td>WAITER</td>\n",
       "      <td>WRITER</td>\n",
       "    </tr>\n",
       "    <tr>\n",
       "      <th>372</th>\n",
       "      <td>WEALTH TRUSTEES</td>\n",
       "      <td>WEALTH TRUST</td>\n",
       "    </tr>\n",
       "    <tr>\n",
       "      <th>373</th>\n",
       "      <td>WEALTH TRUSTEES</td>\n",
       "      <td>WEALTH TRUSTEES</td>\n",
       "    </tr>\n",
       "    <tr>\n",
       "      <th>374</th>\n",
       "      <td>WRITER</td>\n",
       "      <td>WRITERS</td>\n",
       "    </tr>\n",
       "  </tbody>\n",
       "</table>\n",
       "<p>375 rows × 2 columns</p>\n",
       "</div>"
      ],
      "text/plain": [
       "      OccupationDesc       Occupation\n",
       "0     ADMINISTRATION    ADMINISTRADOR\n",
       "1     ADMINISTRATION   ADMINISTRATION\n",
       "2     ADMINISTRATION   ADMINISTRATIVA\n",
       "3     ADMINISTRATION   ADMINISTRATIVO\n",
       "4     ADMINISTRATION    ADMINISTRATOR\n",
       "..               ...              ...\n",
       "370           WAITER            WATER\n",
       "371           WAITER           WRITER\n",
       "372  WEALTH TRUSTEES     WEALTH TRUST\n",
       "373  WEALTH TRUSTEES  WEALTH TRUSTEES\n",
       "374           WRITER          WRITERS\n",
       "\n",
       "[375 rows x 2 columns]"
      ]
     },
     "execution_count": 15,
     "metadata": {},
     "output_type": "execute_result"
    }
   ],
   "source": [
    "df_fuzzy_wuzzy"
   ]
  },
  {
   "cell_type": "code",
   "execution_count": 16,
   "id": "b725e9a2",
   "metadata": {},
   "outputs": [],
   "source": [
    "df_final_mapping = pd.concat([df_fuzzy_wuzzy, df_sub_string, df_not_fuzzy]).sort_values(by = 'OccupationDesc').reset_index()"
   ]
  },
  {
   "cell_type": "code",
   "execution_count": 17,
   "id": "5b377065",
   "metadata": {},
   "outputs": [],
   "source": [
    "df_final_mapping.drop('index', axis = 1, inplace = True)"
   ]
  },
  {
   "cell_type": "code",
   "execution_count": 18,
   "id": "7a6c16d1",
   "metadata": {},
   "outputs": [],
   "source": [
    "matches=[]\n",
    "for i,j in zip(df_final_mapping['OccupationDesc'], df_final_mapping['Occupation']):\n",
    "    if i == j:\n",
    "        matches.append('Exact Match')\n",
    "    else:\n",
    "        matches.append('Not Exact')"
   ]
  },
  {
   "cell_type": "code",
   "execution_count": 19,
   "id": "134380d0",
   "metadata": {},
   "outputs": [],
   "source": [
    "df_final_mapping['matches_type'] = matches"
   ]
  },
  {
   "cell_type": "code",
   "execution_count": 20,
   "id": "c2956be1",
   "metadata": {},
   "outputs": [
    {
     "data": {
      "text/plain": [
       "Not Exact      4883\n",
       "Exact Match     338\n",
       "Name: matches_type, dtype: int64"
      ]
     },
     "execution_count": 20,
     "metadata": {},
     "output_type": "execute_result"
    }
   ],
   "source": [
    "df_final_mapping['matches_type'].value_counts()"
   ]
  },
  {
   "cell_type": "code",
   "execution_count": 21,
   "id": "12e5b551",
   "metadata": {},
   "outputs": [],
   "source": [
    "df_grouped_mapping = df_final_mapping.groupby('OccupationDesc').aggregate({'Occupation': lambda x: ','.join(set(x))}).reset_index()"
   ]
  },
  {
   "cell_type": "code",
   "execution_count": 22,
   "id": "cb9f1cfd",
   "metadata": {},
   "outputs": [],
   "source": [
    "# pd.DataFrame.from_dict(dict(zip(df_grouped_mapping['OccupationDesc'], df_grouped_mapping['Occupation'])), orient='index').to_excel('dictionary_mapping.xlsx')"
   ]
  },
  {
   "cell_type": "markdown",
   "id": "3345a3a1",
   "metadata": {},
   "source": [
    "* **Mapping the identified occupation**"
   ]
  },
  {
   "cell_type": "code",
   "execution_count": 23,
   "id": "848e0d3c",
   "metadata": {},
   "outputs": [],
   "source": [
    "mapping_df = pd.read_excel(r\"C:\\Users\\FIU\\Desktop\\EFT_MCA\\occupation\\dictionary_mapping.xlsx\")"
   ]
  },
  {
   "cell_type": "code",
   "execution_count": 24,
   "id": "e9232b99",
   "metadata": {},
   "outputs": [],
   "source": [
    "mapping_df.columns = ['Occupation', 'Occupation_mapped']"
   ]
  },
  {
   "cell_type": "code",
   "execution_count": 25,
   "id": "10eabc35",
   "metadata": {},
   "outputs": [
    {
     "data": {
      "text/html": [
       "<div>\n",
       "<style scoped>\n",
       "    .dataframe tbody tr th:only-of-type {\n",
       "        vertical-align: middle;\n",
       "    }\n",
       "\n",
       "    .dataframe tbody tr th {\n",
       "        vertical-align: top;\n",
       "    }\n",
       "\n",
       "    .dataframe thead th {\n",
       "        text-align: right;\n",
       "    }\n",
       "</style>\n",
       "<table border=\"1\" class=\"dataframe\">\n",
       "  <thead>\n",
       "    <tr style=\"text-align: right;\">\n",
       "      <th></th>\n",
       "      <th>Occupation</th>\n",
       "      <th>Occupation_mapped</th>\n",
       "    </tr>\n",
       "  </thead>\n",
       "  <tbody>\n",
       "    <tr>\n",
       "      <th>0</th>\n",
       "      <td>ACADEMIC</td>\n",
       "      <td>ACADAMIC,ACADEMIC,ACADEMICIAN</td>\n",
       "    </tr>\n",
       "    <tr>\n",
       "      <th>1</th>\n",
       "      <td>ACCOUNTANT</td>\n",
       "      <td>ACOUNTTANT,ACTUARY,STAFF ACCO,ACOUNT,ACCOUNTAN...</td>\n",
       "    </tr>\n",
       "    <tr>\n",
       "      <th>2</th>\n",
       "      <td>ACTOR</td>\n",
       "      <td>BOLLYWOOD ACTOR,ACTOR ACTRESS,FILM ACTOR,ACTRE...</td>\n",
       "    </tr>\n",
       "    <tr>\n",
       "      <th>3</th>\n",
       "      <td>ADMINISTRATION</td>\n",
       "      <td>ADMINISTRATIVA,ADMINISTRATOR,ADMINISTRADORA,AD...</td>\n",
       "    </tr>\n",
       "    <tr>\n",
       "      <th>4</th>\n",
       "      <td>ADVOCATE</td>\n",
       "      <td>ADVOCATE,LOWYER,LAWYER,AVVOCATO,ADVOC,LWYRS,LA...</td>\n",
       "    </tr>\n",
       "    <tr>\n",
       "      <th>...</th>\n",
       "      <td>...</td>\n",
       "      <td>...</td>\n",
       "    </tr>\n",
       "    <tr>\n",
       "      <th>204</th>\n",
       "      <td>WAITER</td>\n",
       "      <td>WRITER,WATER,WAITRESS,WAITER</td>\n",
       "    </tr>\n",
       "    <tr>\n",
       "      <th>205</th>\n",
       "      <td>WATER CARRIER</td>\n",
       "      <td>WATER PURIFIER,WATER SUPPLY,WATER,WATER TRANSP...</td>\n",
       "    </tr>\n",
       "    <tr>\n",
       "      <th>206</th>\n",
       "      <td>WEALTH TRUSTEES</td>\n",
       "      <td>WEALTH TRUSTEES,WEALTH TRUST</td>\n",
       "    </tr>\n",
       "    <tr>\n",
       "      <th>207</th>\n",
       "      <td>WHOLESALER</td>\n",
       "      <td>WHOLESALERS,WHOLESALER,WHOLE,WHOLESALE,WHOLESA...</td>\n",
       "    </tr>\n",
       "    <tr>\n",
       "      <th>208</th>\n",
       "      <td>WRITER</td>\n",
       "      <td>WRITER,AUTHOR WRITER,ARTIST WRITER,ONLINE WRIT...</td>\n",
       "    </tr>\n",
       "  </tbody>\n",
       "</table>\n",
       "<p>209 rows × 2 columns</p>\n",
       "</div>"
      ],
      "text/plain": [
       "          Occupation                                  Occupation_mapped\n",
       "0           ACADEMIC                      ACADAMIC,ACADEMIC,ACADEMICIAN\n",
       "1         ACCOUNTANT  ACOUNTTANT,ACTUARY,STAFF ACCO,ACOUNT,ACCOUNTAN...\n",
       "2              ACTOR  BOLLYWOOD ACTOR,ACTOR ACTRESS,FILM ACTOR,ACTRE...\n",
       "3     ADMINISTRATION  ADMINISTRATIVA,ADMINISTRATOR,ADMINISTRADORA,AD...\n",
       "4           ADVOCATE  ADVOCATE,LOWYER,LAWYER,AVVOCATO,ADVOC,LWYRS,LA...\n",
       "..               ...                                                ...\n",
       "204           WAITER                       WRITER,WATER,WAITRESS,WAITER\n",
       "205    WATER CARRIER  WATER PURIFIER,WATER SUPPLY,WATER,WATER TRANSP...\n",
       "206  WEALTH TRUSTEES                       WEALTH TRUSTEES,WEALTH TRUST\n",
       "207       WHOLESALER  WHOLESALERS,WHOLESALER,WHOLE,WHOLESALE,WHOLESA...\n",
       "208           WRITER  WRITER,AUTHOR WRITER,ARTIST WRITER,ONLINE WRIT...\n",
       "\n",
       "[209 rows x 2 columns]"
      ]
     },
     "execution_count": 25,
     "metadata": {},
     "output_type": "execute_result"
    }
   ],
   "source": [
    "mapping_df"
   ]
  },
  {
   "cell_type": "code",
   "execution_count": 26,
   "id": "66441f6b",
   "metadata": {},
   "outputs": [],
   "source": [
    "mapping_df = mapping_df.set_index('Occupation')\\\n",
    ".Occupation_mapped.str.split(',', expand = True)\\\n",
    ".stack()\\\n",
    ".reset_index('Occupation')\\\n",
    ".rename(columns = {0: 'Occupation_to_be_mapped'})\\\n",
    ".sort_values('Occupation_to_be_mapped')[['Occupation', 'Occupation_to_be_mapped']]\\\n",
    ".reset_index()"
   ]
  },
  {
   "cell_type": "code",
   "execution_count": 27,
   "id": "b1fb3aea",
   "metadata": {},
   "outputs": [],
   "source": [
    "mapping_df.drop('index',axis = 1 ,inplace = True)"
   ]
  },
  {
   "cell_type": "code",
   "execution_count": 28,
   "id": "e14cf89c",
   "metadata": {},
   "outputs": [],
   "source": [
    "mapping_df.columns = ['Occupation_mapped_as','Occupation_to_be_mapped']"
   ]
  },
  {
   "cell_type": "code",
   "execution_count": 29,
   "id": "2347888b",
   "metadata": {},
   "outputs": [],
   "source": [
    "mapping_df['Occupation_mapped_as'] = mapping_df['Occupation_mapped_as'].str.upper()"
   ]
  },
  {
   "cell_type": "code",
   "execution_count": 30,
   "id": "4ffe4d14",
   "metadata": {},
   "outputs": [],
   "source": [
    "df_occupation_count.columns = df_occupation_count.columns.str.upper()"
   ]
  },
  {
   "cell_type": "code",
   "execution_count": 31,
   "id": "2652655a",
   "metadata": {},
   "outputs": [],
   "source": [
    "df_occupation_amount.columns = df_occupation_amount.columns.str.upper()"
   ]
  },
  {
   "cell_type": "code",
   "execution_count": 32,
   "id": "146829f4",
   "metadata": {},
   "outputs": [],
   "source": [
    "df_occupation_amount['OCCUPATION']  = df_occupation_amount['OCCUPATION'].fillna('Not-available')"
   ]
  },
  {
   "cell_type": "code",
   "execution_count": 33,
   "id": "4be2ea21",
   "metadata": {},
   "outputs": [],
   "source": [
    "df_occupation_count['OCCUPATION'] = df_occupation_count['OCCUPATION'].fillna('Not-available')"
   ]
  },
  {
   "cell_type": "code",
   "execution_count": 34,
   "id": "117d32f9",
   "metadata": {},
   "outputs": [
    {
     "data": {
      "text/plain": [
       "OCCUPATION           0\n",
       "OUTWARD_AMOUNT    2577\n",
       "INWARD_AMOUNT     3646\n",
       "OUTWARD_COUNT     2577\n",
       "INWARD_COUNT      3646\n",
       "dtype: int64"
      ]
     },
     "execution_count": 34,
     "metadata": {},
     "output_type": "execute_result"
    }
   ],
   "source": [
    "df_occupation_amount.isna().sum()"
   ]
  },
  {
   "cell_type": "code",
   "execution_count": 35,
   "id": "eb0ebebe",
   "metadata": {},
   "outputs": [
    {
     "data": {
      "text/plain": [
       "OCCUPATION    0\n",
       "COUNT         2\n",
       "dtype: int64"
      ]
     },
     "execution_count": 35,
     "metadata": {},
     "output_type": "execute_result"
    }
   ],
   "source": [
    "df_occupation_count.isna().sum()"
   ]
  },
  {
   "cell_type": "code",
   "execution_count": 36,
   "id": "103d3628",
   "metadata": {},
   "outputs": [],
   "source": [
    "df_occupation_count = df_occupation_count.groupby('OCCUPATION').aggregate({'COUNT':'sum'}).sort_values(by = 'COUNT', ascending=False).reset_index()"
   ]
  },
  {
   "cell_type": "code",
   "execution_count": 37,
   "id": "1f865a28",
   "metadata": {},
   "outputs": [],
   "source": [
    "df_occupation_amount = df_occupation_amount.groupby('OCCUPATION').aggregate({'OUTWARD_AMOUNT':'sum','INWARD_AMOUNT':'sum', 'OUTWARD_COUNT':'sum', 'INWARD_COUNT':'sum'}).reset_index()"
   ]
  },
  {
   "cell_type": "code",
   "execution_count": 38,
   "id": "79f6a4fd",
   "metadata": {},
   "outputs": [],
   "source": [
    "df_occupation_all = pd.merge(df_occupation_count, df_occupation_amount, on = 'OCCUPATION', how = 'inner')"
   ]
  },
  {
   "cell_type": "code",
   "execution_count": 39,
   "id": "38fe4aa2",
   "metadata": {},
   "outputs": [],
   "source": [
    "mapping_dic = dict(zip(mapping_df['Occupation_to_be_mapped'], mapping_df['Occupation_mapped_as']))"
   ]
  },
  {
   "cell_type": "code",
   "execution_count": 42,
   "id": "d822ac67",
   "metadata": {},
   "outputs": [],
   "source": [
    "pd.DataFrame.from_dict(mapping_dic, orient='index').reset_index().to_excel('mapping_dictionary.xlsx', index = False)"
   ]
  },
  {
   "cell_type": "code",
   "execution_count": null,
   "id": "f9199bad",
   "metadata": {},
   "outputs": [],
   "source": [
    "mapping_dic.update({'AIRCRAFT MFG': 'AIR'})"
   ]
  },
  {
   "cell_type": "code",
   "execution_count": null,
   "id": "3514e1e9",
   "metadata": {},
   "outputs": [],
   "source": [
    "df_occupation = df_occupation_all.copy()"
   ]
  },
  {
   "cell_type": "code",
   "execution_count": null,
   "id": "af14c946",
   "metadata": {},
   "outputs": [],
   "source": [
    "df_occupation.OCCUPATION = df_occupation.OCCUPATION.replace(mapping_dic)"
   ]
  },
  {
   "cell_type": "code",
   "execution_count": null,
   "id": "6a984b9d",
   "metadata": {},
   "outputs": [],
   "source": [
    "df_occupation.columns"
   ]
  },
  {
   "cell_type": "code",
   "execution_count": null,
   "id": "bcec8849",
   "metadata": {},
   "outputs": [],
   "source": [
    "df_occupation = df_occupation\\\n",
    ".groupby('OCCUPATION')\\\n",
    ".aggregate({'COUNT':'sum', 'OUTWARD_AMOUNT':'sum', 'INWARD_AMOUNT':'sum', 'OUTWARD_COUNT':'sum', 'INWARD_COUNT':'sum'})\\\n",
    ".sort_values(by = 'COUNT', ascending=False)"
   ]
  },
  {
   "cell_type": "code",
   "execution_count": null,
   "id": "9dc65e44",
   "metadata": {},
   "outputs": [],
   "source": [
    "df_occupation"
   ]
  },
  {
   "cell_type": "code",
   "execution_count": null,
   "id": "244ac314",
   "metadata": {},
   "outputs": [],
   "source": [
    "df_occupation_800 = df_occupation[:800]"
   ]
  },
  {
   "cell_type": "code",
   "execution_count": null,
   "id": "de6dfddf",
   "metadata": {},
   "outputs": [],
   "source": [
    "df_occupation_800_grouped = df_occupation_800.groupby('OCCUPATION').aggregate({'COUNT':'sum', 'OUTWARD_AMOUNT':'sum', 'INWARD_AMOUNT':'sum', 'OUTWARD_COUNT':'sum', 'INWARD_COUNT':'sum'}).sort_values(by = 'COUNT', ascending=False).reset_index()"
   ]
  },
  {
   "cell_type": "code",
   "execution_count": null,
   "id": "c27ef04c",
   "metadata": {},
   "outputs": [],
   "source": [
    "df_occupation_800_grouped"
   ]
  },
  {
   "cell_type": "code",
   "execution_count": null,
   "id": "a51b3b98",
   "metadata": {},
   "outputs": [],
   "source": [
    "df_occupation_500 = df_occupation_800_grouped[:500]"
   ]
  },
  {
   "cell_type": "code",
   "execution_count": null,
   "id": "2a61b32d",
   "metadata": {},
   "outputs": [],
   "source": [
    "df_occupation_500"
   ]
  },
  {
   "cell_type": "code",
   "execution_count": null,
   "id": "f0658c75",
   "metadata": {},
   "outputs": [],
   "source": [
    "from rapidfuzz import fuzz\n",
    "from rapidfuzz import process"
   ]
  },
  {
   "cell_type": "code",
   "execution_count": null,
   "id": "bbbcdd3c",
   "metadata": {},
   "outputs": [],
   "source": [
    "# empty lists for storing the\n",
    "# matches later\n",
    "mat1 = []\n",
    "mat2 = []\n",
    "mat3 = []"
   ]
  },
  {
   "cell_type": "code",
   "execution_count": null,
   "id": "4c9d52b4",
   "metadata": {},
   "outputs": [],
   "source": [
    "list1 = df_occupation_500['OCCUPATION']\n",
    "list2 = df_occupation_500['OCCUPATION']"
   ]
  },
  {
   "cell_type": "code",
   "execution_count": null,
   "id": "b419fce5",
   "metadata": {},
   "outputs": [],
   "source": [
    "dframe_500 = df_occupation_500.copy()"
   ]
  },
  {
   "cell_type": "code",
   "execution_count": null,
   "id": "15601196",
   "metadata": {},
   "outputs": [],
   "source": [
    "# iterating through list1 to extract \n",
    "# it's closest match from list2\n",
    "for i in list1:\n",
    "    mat1.append(process.extract(i, list2))\n",
    "dframe_500['matches'] = mat1"
   ]
  },
  {
   "cell_type": "code",
   "execution_count": null,
   "id": "e7260879",
   "metadata": {},
   "outputs": [],
   "source": [
    "dframe_500"
   ]
  },
  {
   "cell_type": "code",
   "execution_count": null,
   "id": "ca71a46d",
   "metadata": {},
   "outputs": [],
   "source": [
    "p = []\n",
    "l = []"
   ]
  },
  {
   "cell_type": "code",
   "execution_count": null,
   "id": "8e7b5f4e",
   "metadata": {},
   "outputs": [],
   "source": [
    "for j in dframe_500['matches']:\n",
    "    for k in j:\n",
    "        if k[1] >= 90:\n",
    "            p.append(k[0])\n",
    "            l.append(k[2])\n",
    "    mat2.append((p))\n",
    "    mat3.append(l)\n",
    "    p = []\n",
    "    l = []\n",
    "# storing the resultant matches \n",
    "# back to dframe1\n",
    "dframe_500['set_matches'] = mat2\n",
    "dframe_500['set_matches_index'] = mat3\n",
    "dframe_500"
   ]
  },
  {
   "cell_type": "code",
   "execution_count": null,
   "id": "31f70f19",
   "metadata": {},
   "outputs": [],
   "source": [
    "#set_matches_index\n",
    "dframe_500['set_matches_index_objct'] = dframe_500['set_matches_index'].apply(lambda x:sorted(x)).apply(lambda x: ''.join(str(x))).apply(lambda x: x.lstrip('[')).apply(lambda x: x.rstrip(']'))"
   ]
  },
  {
   "cell_type": "code",
   "execution_count": null,
   "id": "356bad24",
   "metadata": {},
   "outputs": [],
   "source": [
    "df_fuzzy = dframe_500.groupby('set_matches_index_objct').aggregate({'COUNT':'sum', 'OUTWARD_AMOUNT':'sum', 'INWARD_AMOUNT':'sum', 'OUTWARD_COUNT':'sum', 'INWARD_COUNT':'sum', 'set_matches': lambda x: ','.join(str(v) for v in x)}).sort_values(by = 'COUNT', ascending=False).reset_index()"
   ]
  },
  {
   "cell_type": "code",
   "execution_count": null,
   "id": "1c3a8fc2",
   "metadata": {},
   "outputs": [],
   "source": [
    "df_fuzzy"
   ]
  },
  {
   "cell_type": "code",
   "execution_count": null,
   "id": "1fe9e39f",
   "metadata": {},
   "outputs": [],
   "source": [
    "df_fuzzy.to_excel('df_fuzzy_15_11_2022_V1.0.xlsx', index = False)"
   ]
  },
  {
   "cell_type": "code",
   "execution_count": null,
   "id": "26a5b5ed",
   "metadata": {},
   "outputs": [],
   "source": []
  }
 ],
 "metadata": {
  "kernelspec": {
   "display_name": "Python 3 (ipykernel)",
   "language": "python",
   "name": "python3"
  },
  "language_info": {
   "codemirror_mode": {
    "name": "ipython",
    "version": 3
   },
   "file_extension": ".py",
   "mimetype": "text/x-python",
   "name": "python",
   "nbconvert_exporter": "python",
   "pygments_lexer": "ipython3",
   "version": "3.9.12"
  }
 },
 "nbformat": 4,
 "nbformat_minor": 5
}
