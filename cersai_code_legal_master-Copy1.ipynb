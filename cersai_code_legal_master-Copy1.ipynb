{
 "cells": [
  {
   "cell_type": "code",
   "execution_count": 1,
   "id": "20ed4952",
   "metadata": {},
   "outputs": [],
   "source": [
    "import numpy as np\n",
    "import pandas as pd\n",
    "import pyodbc\n",
    "import pandas as pd\n",
    "import numpy as np\n",
    "from pprint import pprint\n",
    "import datetime\n",
    "from configparser import ConfigParser\n",
    "import datetime\n",
    "import pandas as pd\n",
    "import sqlalchemy as sa\n",
    "import threading"
   ]
  },
  {
   "cell_type": "code",
   "execution_count": 2,
   "id": "6542d3f6",
   "metadata": {},
   "outputs": [
    {
     "data": {
      "text/html": [
       "<style>.container { width:100% !important; }</style>"
      ],
      "text/plain": [
       "<IPython.core.display.HTML object>"
      ]
     },
     "metadata": {},
     "output_type": "display_data"
    }
   ],
   "source": [
    "from IPython.display import display, HTML\n",
    "display(HTML(\"<style>.container { width:100% !important; }</style>\"))"
   ]
  },
  {
   "cell_type": "code",
   "execution_count": 3,
   "id": "61e2ae79",
   "metadata": {},
   "outputs": [],
   "source": [
    "from configparser import ConfigParser\n",
    "import sqlalchemy\n",
    "import pyodbc\n",
    "import urllib\n",
    "from urllib.parse import quote\n",
    "from abc import ABC\n",
    "import logging\n",
    "import sys\n",
    "import re\n",
    "import pandas as pd\n",
    "import numpy as np\n",
    "import warnings\n",
    "import time\n",
    "import threading\n",
    "warnings.filterwarnings('ignore')"
   ]
  },
  {
   "cell_type": "code",
   "execution_count": 4,
   "id": "ef444019",
   "metadata": {},
   "outputs": [],
   "source": [
    "# i=0\n",
    "# for df in pd.read_csv('KYC_Legal_relations.csv',sep = '|',error_bad_lines=False,chunksize=1000000):\n",
    "#     df.to_csv('KYC_Legal_relations'+repr(i)+'.csv')\n",
    "#     print(i)\n",
    "#     i+=1"
   ]
  },
  {
   "cell_type": "code",
   "execution_count": 6,
   "id": "d46938fc",
   "metadata": {},
   "outputs": [],
   "source": [
    "df=pd.read_csv('KYC_Legal_relations6.csv')\n",
    "df.drop(['Unnamed: 0'],axis=1,inplace=True)"
   ]
  },
  {
   "cell_type": "code",
   "execution_count": 7,
   "id": "5726ebe7",
   "metadata": {},
   "outputs": [],
   "source": [
    "def parallel_insert(df1):\n",
    "    config = ConfigParser()\n",
    "    config.read(r'config.ini')\n",
    "    connection_string = config.get('SERVER', 'connection')\n",
    "    conn = pyodbc.connect(connection_string)\n",
    "    cursor = conn.cursor()\n",
    "\n",
    "    connection_url = sa.engine.URL.create(\n",
    "        \"mssql+pyodbc\", \n",
    "        query=dict(odbc_connect=connection_string)\n",
    "    )\n",
    "    engine = sa.create_engine(connection_url, fast_executemany=True)\n",
    "    df1.to_sql(\"KYC_Legal_relations6\", engine, schema=\"cersai_db.dbo\", if_exists=\"append\", index=False,chunksize=1000)"
   ]
  },
  {
   "cell_type": "code",
   "execution_count": 8,
   "id": "10e37be4",
   "metadata": {},
   "outputs": [
    {
     "data": {
      "text/plain": [
       "(1000000, 114)"
      ]
     },
     "execution_count": 8,
     "metadata": {},
     "output_type": "execute_result"
    }
   ],
   "source": [
    "df.shape"
   ]
  },
  {
   "cell_type": "code",
   "execution_count": 9,
   "id": "e0f0c6fa",
   "metadata": {},
   "outputs": [],
   "source": [
    "temp1 = df[0:250000]\n",
    "temp2 = df[250000:500000] \n",
    "temp3 = df[500000:750000] \n",
    "temp4 = df[750000:] \n"
   ]
  },
  {
   "cell_type": "code",
   "execution_count": 10,
   "id": "a1864cf7",
   "metadata": {},
   "outputs": [],
   "source": [
    "one=threading.Thread(target=parallel_insert,args=(temp1,))\n",
    "two=threading.Thread(target=parallel_insert,args=(temp2,))\n",
    "three=threading.Thread(target=parallel_insert,args=(temp3,))\n",
    "four=threading.Thread(target=parallel_insert,args=(temp4,))\n",
    "\n",
    "one.start()\n",
    "two.start()\n",
    "three.start()\n",
    "four.start()\n",
    "\n",
    "one.join()\n",
    "two.join()\n",
    "three.join()\n",
    "four.join()\n"
   ]
  },
  {
   "cell_type": "code",
   "execution_count": null,
   "id": "7f6dc7b0",
   "metadata": {},
   "outputs": [],
   "source": [
    "temp5[:3]"
   ]
  },
  {
   "cell_type": "code",
   "execution_count": null,
   "id": "d641c344",
   "metadata": {},
   "outputs": [],
   "source": []
  }
 ],
 "metadata": {
  "kernelspec": {
   "display_name": "Python 3",
   "language": "python",
   "name": "python3"
  },
  "language_info": {
   "codemirror_mode": {
    "name": "ipython",
    "version": 3
   },
   "file_extension": ".py",
   "mimetype": "text/x-python",
   "name": "python",
   "nbconvert_exporter": "python",
   "pygments_lexer": "ipython3",
   "version": "3.8.8"
  }
 },
 "nbformat": 4,
 "nbformat_minor": 5
}
