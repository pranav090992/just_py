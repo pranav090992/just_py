{
 "cells": [
  {
   "cell_type": "code",
   "execution_count": 88,
   "id": "7d66238b",
   "metadata": {},
   "outputs": [],
   "source": [
    "df = pd.read_csv('0509_pranav_pincode.csv')"
   ]
  },
  {
   "cell_type": "code",
   "execution_count": 90,
   "id": "d2869255",
   "metadata": {},
   "outputs": [],
   "source": [
    "pincode_set = []\n",
    "for i in df['string_agg']:\n",
    "    pincode_set.append(i.split('||'))"
   ]
  },
  {
   "cell_type": "code",
   "execution_count": 91,
   "id": "f6e4c39b",
   "metadata": {},
   "outputs": [],
   "source": [
    "pincode_list = [item for sublist in pincode_set for item in sublist]"
   ]
  },
  {
   "cell_type": "code",
   "execution_count": 92,
   "id": "5e3532ff",
   "metadata": {},
   "outputs": [],
   "source": [
    "pincode_checklist = list(set(pincode_list))"
   ]
  },
  {
   "cell_type": "code",
   "execution_count": 94,
   "id": "9c625b66",
   "metadata": {},
   "outputs": [],
   "source": [
    "counter_dic = {}\n",
    "\n",
    "for i in pincode_checklist:\n",
    "    count = 0\n",
    "    for items in df['string_agg']:\n",
    "        if '||' in items:\n",
    "            items_list = items.split('||')\n",
    "        else:\n",
    "            items_list = items\n",
    "        if i in items_list:\n",
    "            count = count+1\n",
    "        counter_dic[i] = count"
   ]
  },
  {
   "cell_type": "code",
   "execution_count": 97,
   "id": "1e500d32",
   "metadata": {},
   "outputs": [],
   "source": [
    "new = pd.DataFrame(counter_dic.items(), columns=['Pincode', 'Pincode Count'])"
   ]
  },
  {
   "cell_type": "code",
   "execution_count": 101,
   "id": "e01ae5b2",
   "metadata": {},
   "outputs": [],
   "source": [
    "new=new.sort_values('Pincode Count',ascending=False)"
   ]
  },
  {
   "cell_type": "code",
   "execution_count": 103,
   "id": "52563a7a",
   "metadata": {},
   "outputs": [],
   "source": [
    "new = new.reset_index(drop=True)"
   ]
  },
  {
   "cell_type": "code",
   "execution_count": 105,
   "id": "70a29b74",
   "metadata": {},
   "outputs": [],
   "source": [
    "new.to_csv('new_pincode.csv')"
   ]
  },
  {
   "cell_type": "code",
   "execution_count": null,
   "id": "816ff587",
   "metadata": {},
   "outputs": [],
   "source": []
  }
 ],
 "metadata": {
  "kernelspec": {
   "display_name": "Python 3 (ipykernel)",
   "language": "python",
   "name": "python3"
  },
  "language_info": {
   "codemirror_mode": {
    "name": "ipython",
    "version": 3
   },
   "file_extension": ".py",
   "mimetype": "text/x-python",
   "name": "python",
   "nbconvert_exporter": "python",
   "pygments_lexer": "ipython3",
   "version": "3.9.12"
  }
 },
 "nbformat": 4,
 "nbformat_minor": 5
}
