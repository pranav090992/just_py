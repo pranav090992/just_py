{
 "cells": [
  {
   "cell_type": "code",
   "execution_count": 1,
   "id": "39e5b057",
   "metadata": {},
   "outputs": [],
   "source": [
    "import numpy as np\n",
    "import pandas as pd\n",
    "import pyodbc\n",
    "import pandas as pd\n",
    "import numpy as np\n",
    "from pprint import pprint\n",
    "import datetime\n",
    "from configparser import ConfigParser\n"
   ]
  },
  {
   "cell_type": "code",
   "execution_count": 2,
   "id": "33a0ee71",
   "metadata": {},
   "outputs": [],
   "source": [
    "config = ConfigParser()\n",
    "config.read(r'/notebooks/notebooks/config.ini')\n",
    "connection_string = config.get('SERVER', 'connection')\n",
    "conn = pyodbc.connect(connection_string)\n",
    "cursor = conn.cursor()"
   ]
  },
  {
   "cell_type": "code",
   "execution_count": 3,
   "id": "d4f27780",
   "metadata": {},
   "outputs": [],
   "source": [
    "# Code for Audit Integration\n",
    "cursor.execute(\"\"\"insert into FINCORE_DB.Fincore_Analytics.AUDIT_INTGN (JOB_RUN_ID,JOB_NAME,JOB_START_DATE,JOB_STATUS,TARGET_TBL,SOURCE_TBL,SOURCE_MAX_DATE) values(COALESCE((select (max(JOB_RUN_ID)+1) from FINCORE_DB.Fincore_Analytics.AUDIT_INTGN),1),'CASE_RISK',GETDATE(),'Error','RISK_CASE','CASE_MASTER',(SELECT MAX(T.MAX_DATE) FROM (select MAX(CREATE_DATE) AS MAX_DATE from FINCORE_DB.Fincore.CASE_MASTER UNION ALL select MAX(UPDATE_DATE) AS MAX_DATE from FINCORE_DB.Fincore.CASE_MASTER )T))\"\"\")\n",
    "\n",
    "job_id = pd.read_sql_query(\"select max(JOB_RUN_ID) as job_run_id from FINCORE_DB.Fincore_Analytics.AUDIT_INTGN with(nolock) where job_name = 'CASE_RISK' \",conn)\n",
    "job_id = job_id.iloc[0,0]\n",
    "conn.commit()"
   ]
  },
  {
   "cell_type": "code",
   "execution_count": 4,
   "id": "d5652ba9",
   "metadata": {},
   "outputs": [
    {
     "data": {
      "text/plain": [
       "91"
      ]
     },
     "execution_count": 4,
     "metadata": {},
     "output_type": "execute_result"
    }
   ],
   "source": [
    "job_id"
   ]
  },
  {
   "cell_type": "code",
   "execution_count": 5,
   "id": "c5262f47",
   "metadata": {},
   "outputs": [
    {
     "name": "stdout",
     "output_type": "stream",
     "text": [
      "Stored 'job_id' (int64)\n"
     ]
    }
   ],
   "source": [
    "%store job_id"
   ]
  },
  {
   "cell_type": "code",
   "execution_count": 5,
   "id": "fa41c151",
   "metadata": {},
   "outputs": [],
   "source": [
    "incremental_data = pd.read_sql_query(\"select * from FINCORE_DB.Fincore.Case_Master WHERE COALESCE (Update_Date,create_date) > COALESCE (( select MAX( SOURCE_MAX_DATE ) from FINCORE_DB.Fincore_Analytics.AUDIT_INTGN where JOB_STATUS='Success' and JOB_NAME='CASE_RISK' ),cast('1900-01-01 00:00:00.0000000' as datetime2))\",conn)"
   ]
  },
  {
   "cell_type": "code",
   "execution_count": 6,
   "id": "ce612a42",
   "metadata": {},
   "outputs": [],
   "source": [
    "no_of_records = len(incremental_data)"
   ]
  },
  {
   "cell_type": "code",
   "execution_count": 7,
   "id": "443fb8d0",
   "metadata": {},
   "outputs": [
    {
     "data": {
      "text/plain": [
       "0"
      ]
     },
     "execution_count": 7,
     "metadata": {},
     "output_type": "execute_result"
    }
   ],
   "source": [
    "no_of_records"
   ]
  },
  {
   "cell_type": "code",
   "execution_count": 8,
   "id": "8a01fdfd",
   "metadata": {},
   "outputs": [],
   "source": [
    "cursor.execute('''MERGE INTO FINCORE_DB.FINCORE_ANALYTICS.RISK_CASE AS TARGET USING(\n",
    "SELECT A.BATCH_ID,A.REPORT_ID,\n",
    "A.CASE_MASTER_ID,\n",
    "B.REPORT_TYPE,\n",
    "CASE WHEN (B.RISK_SCORE = 0 OR B.RISK_SCORE IS NULL) AND (C.RISK_SCORE = 0 OR C.RISK_SCORE IS NULL) THEN 0\n",
    "ELSE (SQUARE(COALESCE(B.RISK_SCORE,0))+SQUARE(COALESCE(C.RISK_SCORE,0)))/(COALESCE(B.RISK_SCORE,0)+COALESCE(C.RISK_SCORE,0)) \n",
    "END AS RISK_SCORE,\n",
    "GETDATE() AS CREATE_DATE,\n",
    "GETDATE() AS UPDATE_DATE \n",
    "FROM FINCORE_DB.FINCORE.CASE_MASTER A \n",
    "LEFT JOIN FINCORE_DB.FINCORE_ANALYTICS.RISK_REPORT B ON A.REPORT_ID = B.REPORT_ID \n",
    "LEFT JOIN FINCORE_DB.FINCORE_ANALYTICS.RISK_NETWORK C ON C.CASE_MASTER_ID = A.CASE_MASTER_ID\n",
    "WHERE COALESCE (A.Update_Date,A.create_date) > COALESCE (( select MAX( SOURCE_MAX_DATE )\n",
    "from FINCORE_DB.Fincore_Analytics.AUDIT_INTGN\n",
    "where JOB_STATUS='Success' and JOB_NAME='CASE_RISK' )\n",
    ",cast('1900-01-01 00:00:00.0000000' as datetime2))\n",
    "\n",
    ")\n",
    " AS SOURCE ON TARGET.BATCH_ID=SOURCE.BATCH_ID AND \n",
    " TARGET.REPORT_ID=SOURCE.REPORT_ID\n",
    " AND TARGET.CASE_MASTER_ID=SOURCE.CASE_MASTER_ID\n",
    " WHEN MATCHED THEN UPDATE SET TARGET.RISK_SCORE=SOURCE.RISK_SCORE,\n",
    " TARGET.UPDATE_DATE=SOURCE.UPDATE_DATE \n",
    " WHEN NOT MATCHED BY TARGET THEN INSERT(BATCH_ID,REPORT_ID,CASE_MASTER_ID,REPORT_TYPE,RISK_SCORE,CREATE_DATE,UPDATE_DATE)\n",
    " VALUES(SOURCE.BATCH_ID,SOURCE.REPORT_ID,SOURCE.CASE_MASTER_ID,SOURCE.REPORT_TYPE,SOURCE.RISK_SCORE,GETDATE(),GETDATE());''')\n",
    "conn.commit()\n",
    "\n",
    "\n"
   ]
  },
  {
   "cell_type": "code",
   "execution_count": 9,
   "id": "1484913e",
   "metadata": {},
   "outputs": [],
   "source": [
    "cursor.execute('''UPDATE FINCORE_DB.FINCORE_ANALYTICS.AUDIT_INTGN SET JOB_END_DATE = GETDATE() , JOB_STATUS = 'Success', no_of_record = {}  where job_run_id = {} '''.format(no_of_records,job_id))\n",
    "conn.commit()\n",
    "conn.close()"
   ]
  },
  {
   "cell_type": "code",
   "execution_count": null,
   "id": "240c3e91",
   "metadata": {},
   "outputs": [],
   "source": [
    "print(\"CASE RISK COMPLETED.\")"
   ]
  }
 ],
 "metadata": {
  "kernelspec": {
   "display_name": "Python 3",
   "language": "python",
   "name": "python3"
  },
  "language_info": {
   "codemirror_mode": {
    "name": "ipython",
    "version": 3
   },
   "file_extension": ".py",
   "mimetype": "text/x-python",
   "name": "python",
   "nbconvert_exporter": "python",
   "pygments_lexer": "ipython3",
   "version": "3.6.15"
  }
 },
 "nbformat": 4,
 "nbformat_minor": 5
}
