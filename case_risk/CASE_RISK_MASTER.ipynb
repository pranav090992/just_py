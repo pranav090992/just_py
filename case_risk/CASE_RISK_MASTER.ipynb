{
 "cells": [
  {
   "cell_type": "code",
   "execution_count": 17,
   "id": "d2efcea7",
   "metadata": {},
   "outputs": [],
   "source": [
    "from configparser import ConfigParser\n",
    "from datetime import datetime\n",
    "import pandas as pd\n",
    "import pyodbc"
   ]
  },
  {
   "cell_type": "code",
   "execution_count": 18,
   "id": "9111ec8f",
   "metadata": {},
   "outputs": [
    {
     "name": "stdout",
     "output_type": "stream",
     "text": [
      "/notebooks/notebooks\n"
     ]
    }
   ],
   "source": [
    "cd /notebooks/notebooks"
   ]
  },
  {
   "cell_type": "code",
   "execution_count": 19,
   "id": "3c0775b2",
   "metadata": {},
   "outputs": [],
   "source": [
    "# CurrentDate = str(datetime.now())\n",
    "\n",
    "# delimiter1 = \" \";\n",
    "# delimiter2 = \"-\";\n",
    "# CurrentDate = CurrentDate.replace(delimiter2, delimiter1);\n",
    "# CD = CurrentDate.split(delimiter1);\n",
    "# date = CD[2]\n",
    "# month = CD[1]\n",
    "# year = CD[0]"
   ]
  },
  {
   "cell_type": "code",
   "execution_count": 20,
   "id": "64ca2c4e",
   "metadata": {},
   "outputs": [],
   "source": [
    "config = ConfigParser()\n",
    "config.read(r'/notebooks/notebooks/config.ini')\n",
    "connection_string = config.get('SERVER', 'connection')\n",
    "conn = pyodbc.connect(connection_string)\n",
    "# conn.autocommit = False\n",
    "cursor = conn.cursor()"
   ]
  },
  {
   "cell_type": "code",
   "execution_count": 21,
   "id": "c4696157",
   "metadata": {},
   "outputs": [],
   "source": [
    "count_of_audit_ingt = pd.read_sql_query(\"select count(1) from FINCORE_DB.Fincore_Analytics.AUDIT_INTGN where JOB_NAME = 'CASE_RISK' and JOB_STATUS = 'Success'\",conn)"
   ]
  },
  {
   "cell_type": "code",
   "execution_count": 22,
   "id": "8a2fd4d4",
   "metadata": {},
   "outputs": [],
   "source": [
    "count_of_audit_ingt = count_of_audit_ingt.iloc[0,0]"
   ]
  },
  {
   "cell_type": "code",
   "execution_count": null,
   "id": "e4180451",
   "metadata": {},
   "outputs": [],
   "source": []
  },
  {
   "cell_type": "code",
   "execution_count": 23,
   "id": "3c6f718f",
   "metadata": {},
   "outputs": [
    {
     "name": "stdout",
     "output_type": "stream",
     "text": [
      "Stored 'job_id' (int64)\n",
      "CASE RISK COMPLETED.\n"
     ]
    }
   ],
   "source": [
    "try:\n",
    "    %run CASE_RISK.ipynb    \n",
    "    \n",
    "except Exception as error:\n",
    "    %store -r\n",
    "    error = str(error)\n",
    "    print(\"Here error\")\n",
    "    error = error.replace('\\'','')\n",
    "    error = error.replace('\\\"','')\n",
    "    print(\"Failed to update record to database rollback: {}\".format(error))\n",
    "    conn.rollback()\n",
    "    conn.execute(f'''update FINCORE_DB.Fincore_Analytics.AUDIT_INTGN set ERROR_DESC = '{error}'  where  JOB_RUN_ID = {job_id}''')\n",
    "    conn.commit()\n",
    "    conn.close()"
   ]
  },
  {
   "cell_type": "code",
   "execution_count": null,
   "id": "7381872e",
   "metadata": {},
   "outputs": [],
   "source": []
  },
  {
   "cell_type": "code",
   "execution_count": null,
   "id": "96745a06",
   "metadata": {},
   "outputs": [],
   "source": []
  }
 ],
 "metadata": {
  "kernelspec": {
   "display_name": "Python 3",
   "language": "python",
   "name": "python3"
  },
  "language_info": {
   "codemirror_mode": {
    "name": "ipython",
    "version": 3
   },
   "file_extension": ".py",
   "mimetype": "text/x-python",
   "name": "python",
   "nbconvert_exporter": "python",
   "pygments_lexer": "ipython3",
   "version": "3.6.15"
  }
 },
 "nbformat": 4,
 "nbformat_minor": 5
}
