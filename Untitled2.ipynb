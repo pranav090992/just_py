{
 "cells": [
  {
   "cell_type": "code",
   "execution_count": 1,
   "id": "b45988bc",
   "metadata": {},
   "outputs": [],
   "source": [
    "import sqlalchemy\n",
    "import pyodbc\n",
    "from urllib.parse import quote\n",
    "import pandas as pd\n",
    "from tqdm import tqdm\n",
    "import os\n",
    "engine=sqlalchemy.create_engine('mssql+pyodbc://SAL_USR:%s@172.16.20.46:1433/HDM_DB?driver=ODBC+Driver+17+for+SQL+Server' % quote('HDM@123_'))"
   ]
  },
  {
   "cell_type": "code",
   "execution_count": 2,
   "id": "aeb2b982",
   "metadata": {},
   "outputs": [],
   "source": [
    "def stream_sql_results():\n",
    "    engine=sqlalchemy.create_engine('mssql+pyodbc://SAL_USR:%s@172.16.20.46:1433/HDM_DB?driver=ODBC+Driver+17+for+SQL+Server' % quote('HDM@123_'))\n",
    "    conn = engine.connect().execution_options(stream_results=True)\n",
    "    return conn"
   ]
  },
  {
   "cell_type": "code",
   "execution_count": 4,
   "id": "2f672713",
   "metadata": {},
   "outputs": [],
   "source": [
    "df = pd.read_csv(r'C:\\Users\\SAL005\\Documents\\nnn.csv')"
   ]
  },
  {
   "cell_type": "code",
   "execution_count": 5,
   "id": "19b026de",
   "metadata": {},
   "outputs": [
    {
     "name": "stderr",
     "output_type": "stream",
     "text": [
      "\n",
      "KeyboardInterrupt\n",
      "\n"
     ]
    }
   ],
   "source": [
    "df=pd.read_csv(r'C:\\Users\\SAL005\\Desktop\\backup for 2 years from hdm\\ARFACC.csv', nrows = 21750005)"
   ]
  },
  {
   "cell_type": "code",
   "execution_count": null,
   "id": "ec7cc589",
   "metadata": {},
   "outputs": [],
   "source": [
    "df.to_csv('nnnn.csv')"
   ]
  }
 ],
 "metadata": {
  "kernelspec": {
   "display_name": "Python 3 (ipykernel)",
   "language": "python",
   "name": "python3"
  },
  "language_info": {
   "codemirror_mode": {
    "name": "ipython",
    "version": 3
   },
   "file_extension": ".py",
   "mimetype": "text/x-python",
   "name": "python",
   "nbconvert_exporter": "python",
   "pygments_lexer": "ipython3",
   "version": "3.9.12"
  }
 },
 "nbformat": 4,
 "nbformat_minor": 5
}
