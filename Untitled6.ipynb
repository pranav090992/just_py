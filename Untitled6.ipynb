{
 "cells": [
  {
   "cell_type": "code",
   "execution_count": 2,
   "metadata": {},
   "outputs": [],
   "source": [
    "import pandas as pd\n",
    "import numpy as np\n",
    "import tqdm,re"
   ]
  },
  {
   "cell_type": "code",
   "execution_count": 3,
   "metadata": {},
   "outputs": [],
   "source": [
    "def query_run(query,engine_,path_to_file, file_name,mode = 'a'):\n",
    "    '''\n",
    "    **query**: ('str') Enter the query \n",
    "    **engine_** : ('str') the function creates a connection with postgres server 172.16.20.36:1433/postgres as default,\n",
    "              other engines can be specified here as well\n",
    "    **mode**: ('str') mode is append by default, can be changed to simply write as well\n",
    "    **path_to_file**: ('str') path where the file to be saved\n",
    "    **filename**: ('str') name of the file, defaults get saved as csv\n",
    "    '''\n",
    "    if mode == 'a':\n",
    "        try:\n",
    "            print('--Engine Running--')\n",
    "            engine_ = engine_\n",
    "            conn = engine_.connect()\n",
    "            results = pd.read_sql(query,conn)\n",
    "            conn.close()\n",
    "            engine_.dispose()\n",
    "            print('--Engine Closing--')\n",
    "            print('Results_appending')\n",
    "            file_name = f'{file_name}.csv'\n",
    "            path = os.path.join(path_to_file,file_name)\n",
    "            results.to_csv(path, index = False, mode = mode, header= not os.path.exists(path))\n",
    "        except OperationalError as oe:\n",
    "            time.sleep(3000)\n",
    "            print('Reconnecting with Server')\n",
    "            print('--Engine Running--')\n",
    "            engine_ = engine_\n",
    "            conn = engine_.connect()\n",
    "            results = pd.read_sql(query,conn)\n",
    "            conn.close()\n",
    "            engine_.dispose()\n",
    "            print('--Engine Closing--')\n",
    "            print('Results_appending')\n",
    "            filename = f'{file_name}.csv'\n",
    "            path = os.path.join(path_to_file,file_name)\n",
    "            results.to_csv(path, index = False, mode = mode, header= not os.path.exists(path))\n",
    "    else:\n",
    "        print('--Engine Running--')\n",
    "        engine_ = engine_\n",
    "        conn = engine_.connect()\n",
    "        results = pd.read_sql(query,engine_)\n",
    "        conn.close()\n",
    "        engine_.dispose()\n",
    "        print('--Engine Closing--')\n",
    "        print('Results_appending')\n",
    "        file_name = f'{file_name}.csv'\n",
    "        path = os.path.join(path_to_file,file_name)\n",
    "        results.to_csv(path, index = False, mode = mode)"
   ]
  },
  {
   "cell_type": "code",
   "execution_count": null,
   "metadata": {},
   "outputs": [],
   "source": [
    "query_run()"
   ]
  }
 ],
 "metadata": {
  "kernelspec": {
   "display_name": "Python 3",
   "language": "python",
   "name": "python3"
  },
  "language_info": {
   "codemirror_mode": {
    "name": "ipython",
    "version": 3
   },
   "file_extension": ".py",
   "mimetype": "text/x-python",
   "name": "python",
   "nbconvert_exporter": "python",
   "pygments_lexer": "ipython3",
   "version": "3.8.5"
  }
 },
 "nbformat": 4,
 "nbformat_minor": 4
}
