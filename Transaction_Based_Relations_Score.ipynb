{
 "cells": [
  {
   "cell_type": "code",
   "execution_count": 2,
   "metadata": {
    "ExecuteTime": {
     "end_time": "2022-01-06T10:45:35.908321Z",
     "start_time": "2022-01-06T10:45:35.901901Z"
    }
   },
   "outputs": [],
   "source": [
    "import numpy as np\n",
    "import pandas as pd\n",
    "import matplotlib.pyplot as plt\n",
    "import seaborn as sns\n",
    "from sklearn.model_selection import train_test_split\n",
    "from sklearn.preprocessing import StandardScaler, MinMaxScaler, RobustScaler, LabelEncoder\n",
    "from sklearn.cluster import KMeans\n",
    "from sklearn.metrics import silhouette_samples,silhouette_score\n",
    "import operator\n",
    "import random\n",
    "from scipy.spatial.distance import cdist\n",
    "import datetime\n",
    "import warnings\n",
    "warnings.filterwarnings(\"ignore\")\n",
    "from connector.mosaicio import MosaicioConnector"
   ]
  },
  {
   "cell_type": "code",
   "execution_count": 3,
   "metadata": {
    "ExecuteTime": {
     "end_time": "2022-01-06T10:45:37.187743Z",
     "start_time": "2022-01-06T10:45:37.181583Z"
    },
    "code_folding": []
   },
   "outputs": [],
   "source": [
    "class Model():\n",
    "    \n",
    "    def __init__(self):\n",
    "        pass\n",
    "    \n",
    "    def get_data(self, name=None, row_count=-1, query=None):\n",
    "        ioConnector = MosaicioConnector()\n",
    "        dataset = ioConnector.getPandasDataFrame(name=name, row_count=row_count, query=query)\n",
    "        return dataset\n",
    "\n",
    "    def write_data(self, df=None, database=\"FINCORE_DB\", table=None, schema=\"Fincore_Analytics\", mode=\"append\"):\n",
    "        ioConnector = MosaicioConnector()\n",
    "        writer = {'WRITER': {'user': 'Fincore_Analytics_USR',\n",
    "                             'ipaddress': '172.16.33.27', \n",
    "                             \"database\": database,\n",
    "                             'password': 'F!NCore@123',\n",
    "                             'port':1433,\n",
    "        #                      'wareHouse': 'MOSAIC_DECISIONS_WH', \n",
    "                             'schema': schema, \n",
    "                             'tables': table, \n",
    "                             'host': '172.16.33.27', \n",
    "                             'type': 'RDBMS', \n",
    "                             'sub_type': 'SQLSERVER',\n",
    "                             'DATASET_WRITE_MODE': mode}}\n",
    "        #                      'cloudPlatform':'aws'}}\n",
    "\n",
    "        ioConnector.writePandasDataFrame(df, writer)"
   ]
  },
  {
   "cell_type": "code",
   "execution_count": 4,
   "metadata": {
    "ExecuteTime": {
     "end_time": "2022-01-06T10:45:38.830695Z",
     "start_time": "2022-01-06T10:45:38.205129Z"
    }
   },
   "outputs": [],
   "source": [
    "model = Model()\n",
    "tbt_df = model.get_data(name = 'Transaction_Based_Relation_Score',row_count=-1,query = '''SELECT * FROM [Fincore_Analytics].[Transaction_Based_Relation_Score]''')\n"
   ]
  },
  {
   "cell_type": "code",
   "execution_count": 5,
   "metadata": {
    "ExecuteTime": {
     "end_time": "2022-01-06T10:45:39.435821Z",
     "start_time": "2022-01-06T10:45:39.409889Z"
    }
   },
   "outputs": [
    {
     "data": {
      "text/html": [
       "<div>\n",
       "<style scoped>\n",
       "    .dataframe tbody tr th:only-of-type {\n",
       "        vertical-align: middle;\n",
       "    }\n",
       "\n",
       "    .dataframe tbody tr th {\n",
       "        vertical-align: top;\n",
       "    }\n",
       "\n",
       "    .dataframe thead th {\n",
       "        text-align: right;\n",
       "    }\n",
       "</style>\n",
       "<table border=\"1\" class=\"dataframe\">\n",
       "  <thead>\n",
       "    <tr style=\"text-align: right;\">\n",
       "      <th></th>\n",
       "      <th>Entity1_Master_Id</th>\n",
       "      <th>Entity2_Master_Id</th>\n",
       "      <th>Entity1_ID</th>\n",
       "      <th>Entity2_ID</th>\n",
       "      <th>Entity1_type_Id</th>\n",
       "      <th>Entity2_type_Id</th>\n",
       "      <th>Entity1_Id_Type</th>\n",
       "      <th>Entity2_Id_Type</th>\n",
       "      <th>Entity1_Full_Name</th>\n",
       "      <th>Entity2_Full_Name</th>\n",
       "      <th>Relationship_Atrribute_Id</th>\n",
       "      <th>Relationship_Source</th>\n",
       "      <th>Gross_Amount</th>\n",
       "      <th>Num_Of_Transaction</th>\n",
       "      <th>Latest_Transaction</th>\n",
       "      <th>Last_Transaction</th>\n",
       "    </tr>\n",
       "  </thead>\n",
       "  <tbody>\n",
       "    <tr>\n",
       "      <td>0</td>\n",
       "      <td>123</td>\n",
       "      <td>123</td>\n",
       "      <td>123A</td>\n",
       "      <td>123B</td>\n",
       "      <td>123</td>\n",
       "      <td>123</td>\n",
       "      <td>123</td>\n",
       "      <td>123</td>\n",
       "      <td>Saurabh</td>\n",
       "      <td>Saurabh</td>\n",
       "      <td>122</td>\n",
       "      <td>Transaction Based Relations</td>\n",
       "      <td>5168381.0</td>\n",
       "      <td>613</td>\n",
       "      <td>2022-01-06 09:02:37.1118080</td>\n",
       "      <td>2018-02-10 09:02:37.1118080</td>\n",
       "    </tr>\n",
       "    <tr>\n",
       "      <td>1</td>\n",
       "      <td>123</td>\n",
       "      <td>123</td>\n",
       "      <td>123A</td>\n",
       "      <td>123B</td>\n",
       "      <td>123</td>\n",
       "      <td>123</td>\n",
       "      <td>123</td>\n",
       "      <td>123</td>\n",
       "      <td>Pramod</td>\n",
       "      <td>Pramod</td>\n",
       "      <td>152</td>\n",
       "      <td>Transaction Based Relations</td>\n",
       "      <td>87868.0</td>\n",
       "      <td>127</td>\n",
       "      <td>2022-01-06 09:02:37.1118520</td>\n",
       "      <td>2011-06-29 09:02:37.1118520</td>\n",
       "    </tr>\n",
       "    <tr>\n",
       "      <td>2</td>\n",
       "      <td>123</td>\n",
       "      <td>123</td>\n",
       "      <td>123A</td>\n",
       "      <td>123B</td>\n",
       "      <td>123</td>\n",
       "      <td>123</td>\n",
       "      <td>123</td>\n",
       "      <td>123</td>\n",
       "      <td>Jyoti</td>\n",
       "      <td>Jyoti</td>\n",
       "      <td>142</td>\n",
       "      <td>Transaction Based Relations</td>\n",
       "      <td>7816409.0</td>\n",
       "      <td>947</td>\n",
       "      <td>2022-01-06 09:02:37.1115980</td>\n",
       "      <td>2017-01-11 09:02:37.1115980</td>\n",
       "    </tr>\n",
       "    <tr>\n",
       "      <td>3</td>\n",
       "      <td>123</td>\n",
       "      <td>123</td>\n",
       "      <td>123A</td>\n",
       "      <td>123B</td>\n",
       "      <td>123</td>\n",
       "      <td>123</td>\n",
       "      <td>123</td>\n",
       "      <td>123</td>\n",
       "      <td>Harish</td>\n",
       "      <td>Harish</td>\n",
       "      <td>126</td>\n",
       "      <td>Transaction Based Relations</td>\n",
       "      <td>3601260.0</td>\n",
       "      <td>186</td>\n",
       "      <td>2022-01-06 09:02:37.1116320</td>\n",
       "      <td>2004-08-17 09:02:37.1116320</td>\n",
       "    </tr>\n",
       "    <tr>\n",
       "      <td>4</td>\n",
       "      <td>123</td>\n",
       "      <td>123</td>\n",
       "      <td>123A</td>\n",
       "      <td>123B</td>\n",
       "      <td>123</td>\n",
       "      <td>123</td>\n",
       "      <td>123</td>\n",
       "      <td>123</td>\n",
       "      <td>Abhijeet</td>\n",
       "      <td>Abhijeet</td>\n",
       "      <td>151</td>\n",
       "      <td>Transaction Based Relations</td>\n",
       "      <td>6120425.0</td>\n",
       "      <td>835</td>\n",
       "      <td>2022-01-06 09:02:37.1119530</td>\n",
       "      <td>1998-10-13 09:02:37.1119530</td>\n",
       "    </tr>\n",
       "  </tbody>\n",
       "</table>\n",
       "</div>"
      ],
      "text/plain": [
       "   Entity1_Master_Id  Entity2_Master_Id Entity1_ID Entity2_ID  \\\n",
       "0                123                123       123A       123B   \n",
       "1                123                123       123A       123B   \n",
       "2                123                123       123A       123B   \n",
       "3                123                123       123A       123B   \n",
       "4                123                123       123A       123B   \n",
       "\n",
       "   Entity1_type_Id  Entity2_type_Id  Entity1_Id_Type  Entity2_Id_Type  \\\n",
       "0              123              123              123              123   \n",
       "1              123              123              123              123   \n",
       "2              123              123              123              123   \n",
       "3              123              123              123              123   \n",
       "4              123              123              123              123   \n",
       "\n",
       "  Entity1_Full_Name Entity2_Full_Name  Relationship_Atrribute_Id  \\\n",
       "0           Saurabh           Saurabh                        122   \n",
       "1            Pramod            Pramod                        152   \n",
       "2             Jyoti             Jyoti                        142   \n",
       "3            Harish            Harish                        126   \n",
       "4          Abhijeet          Abhijeet                        151   \n",
       "\n",
       "           Relationship_Source  Gross_Amount  Num_Of_Transaction  \\\n",
       "0  Transaction Based Relations     5168381.0                 613   \n",
       "1  Transaction Based Relations       87868.0                 127   \n",
       "2  Transaction Based Relations     7816409.0                 947   \n",
       "3  Transaction Based Relations     3601260.0                 186   \n",
       "4  Transaction Based Relations     6120425.0                 835   \n",
       "\n",
       "            Latest_Transaction             Last_Transaction  \n",
       "0  2022-01-06 09:02:37.1118080  2018-02-10 09:02:37.1118080  \n",
       "1  2022-01-06 09:02:37.1118520  2011-06-29 09:02:37.1118520  \n",
       "2  2022-01-06 09:02:37.1115980  2017-01-11 09:02:37.1115980  \n",
       "3  2022-01-06 09:02:37.1116320  2004-08-17 09:02:37.1116320  \n",
       "4  2022-01-06 09:02:37.1119530  1998-10-13 09:02:37.1119530  "
      ]
     },
     "execution_count": 5,
     "metadata": {},
     "output_type": "execute_result"
    }
   ],
   "source": [
    "tbt_df.head()"
   ]
  },
  {
   "cell_type": "code",
   "execution_count": 7,
   "metadata": {
    "ExecuteTime": {
     "end_time": "2022-01-06T10:45:47.452171Z",
     "start_time": "2022-01-06T10:45:47.438528Z"
    }
   },
   "outputs": [],
   "source": [
    "tbt_df['Num_Days'] = pd.to_datetime(tbt_df['Latest_Transaction']) - pd.to_datetime(tbt_df['Last_Transaction'])\n"
   ]
  },
  {
   "cell_type": "code",
   "execution_count": 8,
   "metadata": {
    "ExecuteTime": {
     "end_time": "2022-01-06T10:45:49.102917Z",
     "start_time": "2022-01-06T10:45:49.069185Z"
    }
   },
   "outputs": [],
   "source": [
    "tbt_df['Num_Days'] = tbt_df['Num_Days'].apply(lambda x:x.days) "
   ]
  },
  {
   "cell_type": "code",
   "execution_count": 9,
   "metadata": {
    "ExecuteTime": {
     "end_time": "2022-01-06T10:45:50.675091Z",
     "start_time": "2022-01-06T10:45:50.654389Z"
    }
   },
   "outputs": [],
   "source": [
    "tbt_df['Num_Month'] = tbt_df['Num_Days'] // 30\n",
    "tbt_df['Num_Year'] = tbt_df['Num_Days'] / 365"
   ]
  },
  {
   "cell_type": "code",
   "execution_count": 10,
   "metadata": {
    "ExecuteTime": {
     "end_time": "2022-01-06T10:45:52.002196Z",
     "start_time": "2022-01-06T10:45:51.980915Z"
    }
   },
   "outputs": [
    {
     "data": {
      "text/html": [
       "<div>\n",
       "<style scoped>\n",
       "    .dataframe tbody tr th:only-of-type {\n",
       "        vertical-align: middle;\n",
       "    }\n",
       "\n",
       "    .dataframe tbody tr th {\n",
       "        vertical-align: top;\n",
       "    }\n",
       "\n",
       "    .dataframe thead th {\n",
       "        text-align: right;\n",
       "    }\n",
       "</style>\n",
       "<table border=\"1\" class=\"dataframe\">\n",
       "  <thead>\n",
       "    <tr style=\"text-align: right;\">\n",
       "      <th></th>\n",
       "      <th>Entity1_Master_Id</th>\n",
       "      <th>Entity2_Master_Id</th>\n",
       "      <th>Entity1_ID</th>\n",
       "      <th>Entity2_ID</th>\n",
       "      <th>Entity1_type_Id</th>\n",
       "      <th>Entity2_type_Id</th>\n",
       "      <th>Entity1_Id_Type</th>\n",
       "      <th>Entity2_Id_Type</th>\n",
       "      <th>Entity1_Full_Name</th>\n",
       "      <th>Entity2_Full_Name</th>\n",
       "      <th>Relationship_Atrribute_Id</th>\n",
       "      <th>Relationship_Source</th>\n",
       "      <th>Gross_Amount</th>\n",
       "      <th>Num_Of_Transaction</th>\n",
       "      <th>Latest_Transaction</th>\n",
       "      <th>Last_Transaction</th>\n",
       "      <th>Num_Days</th>\n",
       "      <th>Num_Month</th>\n",
       "      <th>Num_Year</th>\n",
       "    </tr>\n",
       "  </thead>\n",
       "  <tbody>\n",
       "    <tr>\n",
       "      <td>0</td>\n",
       "      <td>123</td>\n",
       "      <td>123</td>\n",
       "      <td>123A</td>\n",
       "      <td>123B</td>\n",
       "      <td>123</td>\n",
       "      <td>123</td>\n",
       "      <td>123</td>\n",
       "      <td>123</td>\n",
       "      <td>Saurabh</td>\n",
       "      <td>Saurabh</td>\n",
       "      <td>122</td>\n",
       "      <td>Transaction Based Relations</td>\n",
       "      <td>5168381.0</td>\n",
       "      <td>613</td>\n",
       "      <td>2022-01-06 09:02:37.1118080</td>\n",
       "      <td>2018-02-10 09:02:37.1118080</td>\n",
       "      <td>1426</td>\n",
       "      <td>47</td>\n",
       "      <td>3.906849</td>\n",
       "    </tr>\n",
       "    <tr>\n",
       "      <td>1</td>\n",
       "      <td>123</td>\n",
       "      <td>123</td>\n",
       "      <td>123A</td>\n",
       "      <td>123B</td>\n",
       "      <td>123</td>\n",
       "      <td>123</td>\n",
       "      <td>123</td>\n",
       "      <td>123</td>\n",
       "      <td>Pramod</td>\n",
       "      <td>Pramod</td>\n",
       "      <td>152</td>\n",
       "      <td>Transaction Based Relations</td>\n",
       "      <td>87868.0</td>\n",
       "      <td>127</td>\n",
       "      <td>2022-01-06 09:02:37.1118520</td>\n",
       "      <td>2011-06-29 09:02:37.1118520</td>\n",
       "      <td>3844</td>\n",
       "      <td>128</td>\n",
       "      <td>10.531507</td>\n",
       "    </tr>\n",
       "    <tr>\n",
       "      <td>2</td>\n",
       "      <td>123</td>\n",
       "      <td>123</td>\n",
       "      <td>123A</td>\n",
       "      <td>123B</td>\n",
       "      <td>123</td>\n",
       "      <td>123</td>\n",
       "      <td>123</td>\n",
       "      <td>123</td>\n",
       "      <td>Jyoti</td>\n",
       "      <td>Jyoti</td>\n",
       "      <td>142</td>\n",
       "      <td>Transaction Based Relations</td>\n",
       "      <td>7816409.0</td>\n",
       "      <td>947</td>\n",
       "      <td>2022-01-06 09:02:37.1115980</td>\n",
       "      <td>2017-01-11 09:02:37.1115980</td>\n",
       "      <td>1821</td>\n",
       "      <td>60</td>\n",
       "      <td>4.989041</td>\n",
       "    </tr>\n",
       "    <tr>\n",
       "      <td>3</td>\n",
       "      <td>123</td>\n",
       "      <td>123</td>\n",
       "      <td>123A</td>\n",
       "      <td>123B</td>\n",
       "      <td>123</td>\n",
       "      <td>123</td>\n",
       "      <td>123</td>\n",
       "      <td>123</td>\n",
       "      <td>Harish</td>\n",
       "      <td>Harish</td>\n",
       "      <td>126</td>\n",
       "      <td>Transaction Based Relations</td>\n",
       "      <td>3601260.0</td>\n",
       "      <td>186</td>\n",
       "      <td>2022-01-06 09:02:37.1116320</td>\n",
       "      <td>2004-08-17 09:02:37.1116320</td>\n",
       "      <td>6351</td>\n",
       "      <td>211</td>\n",
       "      <td>17.400000</td>\n",
       "    </tr>\n",
       "    <tr>\n",
       "      <td>4</td>\n",
       "      <td>123</td>\n",
       "      <td>123</td>\n",
       "      <td>123A</td>\n",
       "      <td>123B</td>\n",
       "      <td>123</td>\n",
       "      <td>123</td>\n",
       "      <td>123</td>\n",
       "      <td>123</td>\n",
       "      <td>Abhijeet</td>\n",
       "      <td>Abhijeet</td>\n",
       "      <td>151</td>\n",
       "      <td>Transaction Based Relations</td>\n",
       "      <td>6120425.0</td>\n",
       "      <td>835</td>\n",
       "      <td>2022-01-06 09:02:37.1119530</td>\n",
       "      <td>1998-10-13 09:02:37.1119530</td>\n",
       "      <td>8486</td>\n",
       "      <td>282</td>\n",
       "      <td>23.249315</td>\n",
       "    </tr>\n",
       "  </tbody>\n",
       "</table>\n",
       "</div>"
      ],
      "text/plain": [
       "   Entity1_Master_Id  Entity2_Master_Id Entity1_ID Entity2_ID  \\\n",
       "0                123                123       123A       123B   \n",
       "1                123                123       123A       123B   \n",
       "2                123                123       123A       123B   \n",
       "3                123                123       123A       123B   \n",
       "4                123                123       123A       123B   \n",
       "\n",
       "   Entity1_type_Id  Entity2_type_Id  Entity1_Id_Type  Entity2_Id_Type  \\\n",
       "0              123              123              123              123   \n",
       "1              123              123              123              123   \n",
       "2              123              123              123              123   \n",
       "3              123              123              123              123   \n",
       "4              123              123              123              123   \n",
       "\n",
       "  Entity1_Full_Name Entity2_Full_Name  Relationship_Atrribute_Id  \\\n",
       "0           Saurabh           Saurabh                        122   \n",
       "1            Pramod            Pramod                        152   \n",
       "2             Jyoti             Jyoti                        142   \n",
       "3            Harish            Harish                        126   \n",
       "4          Abhijeet          Abhijeet                        151   \n",
       "\n",
       "           Relationship_Source  Gross_Amount  Num_Of_Transaction  \\\n",
       "0  Transaction Based Relations     5168381.0                 613   \n",
       "1  Transaction Based Relations       87868.0                 127   \n",
       "2  Transaction Based Relations     7816409.0                 947   \n",
       "3  Transaction Based Relations     3601260.0                 186   \n",
       "4  Transaction Based Relations     6120425.0                 835   \n",
       "\n",
       "            Latest_Transaction             Last_Transaction  Num_Days  \\\n",
       "0  2022-01-06 09:02:37.1118080  2018-02-10 09:02:37.1118080      1426   \n",
       "1  2022-01-06 09:02:37.1118520  2011-06-29 09:02:37.1118520      3844   \n",
       "2  2022-01-06 09:02:37.1115980  2017-01-11 09:02:37.1115980      1821   \n",
       "3  2022-01-06 09:02:37.1116320  2004-08-17 09:02:37.1116320      6351   \n",
       "4  2022-01-06 09:02:37.1119530  1998-10-13 09:02:37.1119530      8486   \n",
       "\n",
       "   Num_Month   Num_Year  \n",
       "0         47   3.906849  \n",
       "1        128  10.531507  \n",
       "2         60   4.989041  \n",
       "3        211  17.400000  \n",
       "4        282  23.249315  "
      ]
     },
     "execution_count": 10,
     "metadata": {},
     "output_type": "execute_result"
    }
   ],
   "source": [
    "tbt_df.head()"
   ]
  },
  {
   "cell_type": "code",
   "execution_count": 5,
   "metadata": {
    "ExecuteTime": {
     "end_time": "2022-01-06T07:50:57.483750Z",
     "start_time": "2022-01-06T07:50:57.480342Z"
    }
   },
   "outputs": [],
   "source": [
    "# df = pd.DataFrame()"
   ]
  },
  {
   "cell_type": "code",
   "execution_count": 96,
   "metadata": {
    "ExecuteTime": {
     "end_time": "2022-01-06T09:02:35.841395Z",
     "start_time": "2022-01-06T09:02:35.828517Z"
    }
   },
   "outputs": [],
   "source": [
    "# data = pd.read_csv(r\"/data/Summary_Synthetic_Dataset.csv\")"
   ]
  },
  {
   "cell_type": "code",
   "execution_count": 97,
   "metadata": {
    "ExecuteTime": {
     "end_time": "2022-01-06T09:02:36.484184Z",
     "start_time": "2022-01-06T09:02:36.479855Z"
    }
   },
   "outputs": [],
   "source": [
    "# samp_df = pd.DataFrame()"
   ]
  },
  {
   "cell_type": "code",
   "execution_count": 98,
   "metadata": {
    "ExecuteTime": {
     "end_time": "2022-01-06T09:02:37.114919Z",
     "start_time": "2022-01-06T09:02:37.073745Z"
    }
   },
   "outputs": [],
   "source": [
    "# samp_df['Entity1_Master_Id'] = [123 for i in range(data.shape[0])]\n",
    "# samp_df['Entity2_Master_Id'] = [123 for i in range(data.shape[0])]\n",
    "# samp_df['Entity1_ID'] = ['123A' for i in range(data.shape[0])]\n",
    "# samp_df['Entity2_ID'] = ['123B' for i in range(data.shape[0])]\n",
    "# samp_df['Entity1_type_Id'] = [123 for i in range(data.shape[0])]\n",
    "# samp_df['Entity2_type_Id'] = [123 for i in range(data.shape[0])]\n",
    "# samp_df['Entity1_Id_Type'] = [123 for i in range(data.shape[0])]\n",
    "# samp_df['Entity2_Id_Type'] = [123 for i in range(data.shape[0])]\n",
    "# samp_df['Entity1_Full_Name'] = data['Entity_Name']\n",
    "# samp_df['Entity2_Full_Name'] = data['Entity_Name']\n",
    "# samp_df['Relationship_Atrribute_Id'] = [random.choice([122,123,124,125,126,140,141,142,143,144,151,152,153,154,155]) for i in range(data.shape[0])]\n",
    "# samp_df['Relationship_Source'] = ['Transaction Based Relations' for i in range(data.shape[0])]\n",
    "# samp_df['Gross_Amount'] = data['Transaction_Amount']\n",
    "# samp_df['Num_Of_Transaction'] = [random.choice([5,9,3,76,34,17,61,56,3,10,23,45,7,21,41]) + random.randint(1,1000) for i in range(data.shape[0])]\n",
    "# samp_df['Latest_Transaction'] = [datetime.datetime.now() for i in range(data.shape[0])]"
   ]
  },
  {
   "cell_type": "code",
   "execution_count": 92,
   "metadata": {
    "ExecuteTime": {
     "end_time": "2022-01-06T09:01:16.488988Z",
     "start_time": "2022-01-06T09:01:16.482732Z"
    }
   },
   "outputs": [
    {
     "data": {
      "text/plain": [
       "Timestamp('2014-09-16 08:58:35.085627')"
      ]
     },
     "execution_count": 92,
     "metadata": {},
     "output_type": "execute_result"
    }
   ],
   "source": [
    "# new_d = samp_df['Latest_Transaction'][0]-datetime.timedelta(random.randint(1,10000))\n",
    "# new_d"
   ]
  },
  {
   "cell_type": "code",
   "execution_count": 99,
   "metadata": {
    "ExecuteTime": {
     "end_time": "2022-01-06T09:02:41.692207Z",
     "start_time": "2022-01-06T09:02:41.648742Z"
    }
   },
   "outputs": [],
   "source": [
    "# samp_df['Last_Transaction'] = samp_df['Latest_Transaction'].apply(lambda x:x-datetime.timedelta(random.randint(1,10000)))"
   ]
  },
  {
   "cell_type": "code",
   "execution_count": 100,
   "metadata": {
    "ExecuteTime": {
     "end_time": "2022-01-06T09:02:44.815642Z",
     "start_time": "2022-01-06T09:02:42.415527Z"
    }
   },
   "outputs": [],
   "source": [
    "# model.write_data(df=samp_df,database='FINCORE_DB',\n",
    "#     table='Transaction_Based_Relation_Score',\n",
    "#     schema='Fincore_Analytics',\n",
    "#     mode='append')"
   ]
  },
  {
   "cell_type": "code",
   "execution_count": 10,
   "metadata": {
    "ExecuteTime": {
     "end_time": "2022-01-05T11:24:32.066095Z",
     "start_time": "2022-01-05T11:24:32.012438Z"
    }
   },
   "outputs": [],
   "source": [
    "# df['Amount'] = data['Transaction_Amount']\n",
    "# df['Num_Of_Transaction'] = [random.choice([5,9,3,76,34,17,61,56,3,10,23,45,7,21,41]) + random.randint(1,1000) for i in range(data.shape[0])]"
   ]
  },
  {
   "cell_type": "code",
   "execution_count": 11,
   "metadata": {
    "ExecuteTime": {
     "end_time": "2022-01-05T11:24:32.123023Z",
     "start_time": "2022-01-05T11:24:32.068375Z"
    }
   },
   "outputs": [],
   "source": [
    "# df['Relationship_Attr_Id'] = [random.choice([122,123,124,125,126,140,141,142,143,144,151,152,153,154,155]) for i in range(data.shape[0])]"
   ]
  },
  {
   "cell_type": "code",
   "execution_count": 12,
   "metadata": {
    "ExecuteTime": {
     "end_time": "2022-01-05T11:24:32.670339Z",
     "start_time": "2022-01-05T11:24:32.124955Z"
    }
   },
   "outputs": [],
   "source": [
    "scaler = MinMaxScaler()\n",
    "X = scaler.fit_transform(tbt_df[['Gross_Amount','Num_Of_Transaction']])\n",
    "km = KMeans(n_clusters = 25).fit(X)\n",
    "tbt_df['Labels'] = km.labels_"
   ]
  },
  {
   "cell_type": "code",
   "execution_count": 13,
   "metadata": {
    "ExecuteTime": {
     "end_time": "2022-01-05T11:24:33.389432Z",
     "start_time": "2022-01-05T11:24:32.672148Z"
    }
   },
   "outputs": [],
   "source": [
    "distortions_ind = {}\n",
    "inertias_ind = {}\n",
    "n = 50\n",
    "distortions = {}\n",
    "inertias = {}\n",
    "for k in range(1,10):\n",
    "    \n",
    "    X = tbt_df[['Gross_Amount','Num_Of_Transaction']]\n",
    "    if len(X) < k:\n",
    "        continue\n",
    "    km = KMeans(n_clusters = k).fit(X)\n",
    "    distortions[k] = sum(np.min(cdist(X,km.cluster_centers_,'euclidean'),axis = 1)) / X.shape[0]\n",
    "    inertias[k] = km.inertia_\n",
    "#     del X,km\n",
    "    \n",
    "#     distortions_ind[k] = distortions\n",
    "#     inertias_ind[k] = inertias"
   ]
  },
  {
   "cell_type": "code",
   "execution_count": 14,
   "metadata": {
    "ExecuteTime": {
     "end_time": "2022-01-05T11:24:33.395430Z",
     "start_time": "2022-01-05T11:24:33.391688Z"
    }
   },
   "outputs": [],
   "source": [
    "# plt.plot(distortions.keys(),distortions.values())"
   ]
  },
  {
   "cell_type": "code",
   "execution_count": 15,
   "metadata": {
    "ExecuteTime": {
     "end_time": "2022-01-05T11:24:33.491199Z",
     "start_time": "2022-01-05T11:24:33.396954Z"
    }
   },
   "outputs": [
    {
     "data": {
      "text/plain": [
       "0.06471948941159353"
      ]
     },
     "execution_count": 15,
     "metadata": {},
     "output_type": "execute_result"
    }
   ],
   "source": [
    "X_test = [[700305,122]]\n",
    "X_test = scaler.transform(X_test)\n",
    "X_test[0][0]"
   ]
  },
  {
   "cell_type": "code",
   "execution_count": 16,
   "metadata": {
    "ExecuteTime": {
     "end_time": "2022-01-05T11:24:33.627585Z",
     "start_time": "2022-01-05T11:24:33.492835Z"
    }
   },
   "outputs": [
    {
     "data": {
      "text/plain": [
       "array([0], dtype=int32)"
      ]
     },
     "execution_count": 16,
     "metadata": {},
     "output_type": "execute_result"
    }
   ],
   "source": [
    "km.predict(X_test)\n"
   ]
  },
  {
   "cell_type": "code",
   "execution_count": 11,
   "metadata": {
    "ExecuteTime": {
     "end_time": "2022-01-06T10:46:10.278014Z",
     "start_time": "2022-01-06T10:46:10.269836Z"
    }
   },
   "outputs": [],
   "source": [
    "new_df = tbt_df[['Entity1_Master_Id','Entity2_Master_Id','Gross_Amount','Num_Of_Transaction','Relationship_Atrribute_Id','Num_Year']]"
   ]
  },
  {
   "cell_type": "code",
   "execution_count": 12,
   "metadata": {
    "ExecuteTime": {
     "end_time": "2022-01-06T10:46:12.441832Z",
     "start_time": "2022-01-06T10:46:12.429243Z"
    }
   },
   "outputs": [],
   "source": [
    "#separating the dataframe based on relationship types\n",
    "cbwt_df = new_df[new_df['Relationship_Atrribute_Id'].isin([125,143,154])]\n",
    "neft_rtgs_df = new_df[new_df['Relationship_Atrribute_Id'].isin([122,123,140,142,151,152])]\n",
    "imps_df = new_df[new_df['Relationship_Atrribute_Id'].isin([124,142,153])]\n",
    "upi_df = new_df[new_df['Relationship_Atrribute_Id'].isin([126,144,155])]"
   ]
  },
  {
   "cell_type": "code",
   "execution_count": 13,
   "metadata": {
    "ExecuteTime": {
     "end_time": "2022-01-06T10:46:15.158901Z",
     "start_time": "2022-01-06T10:46:15.086425Z"
    }
   },
   "outputs": [],
   "source": [
    "cbwt_df['Amount_Bin'] = pd.cut(new_df[new_df['Relationship_Atrribute_Id'].isin([125,143,154])]['Gross_Amount'],3,labels=[1,2,3])\n",
    "cbwt_df['Num_Of_Transaction_Bin'] = pd.cut(new_df[new_df['Relationship_Atrribute_Id'].isin([125,143,154])]['Num_Of_Transaction'],3,labels=[1,2,3])\n",
    "cbwt_df['Num_Year_Bin'] = pd.cut(new_df[new_df['Relationship_Atrribute_Id'].isin([125,143,154])]['Num_Year'],3,labels=[1,2,3])\n",
    "\n",
    "neft_rtgs_df['Amount_Bin'] = pd.cut(new_df[new_df['Relationship_Atrribute_Id'].isin([122,123,140,142,151,152])]['Gross_Amount'],3,labels=[1,2,3])\n",
    "neft_rtgs_df['Num_Of_Transaction_Bin'] = pd.cut(new_df[new_df['Relationship_Atrribute_Id'].isin([122,123,140,142,151,152])]['Num_Of_Transaction'],3,labels=[1,2,3])\n",
    "neft_rtgs_df['Num_Year_Bin'] = pd.cut(new_df[new_df['Relationship_Atrribute_Id'].isin([122,123,140,142,151,152])]['Num_Year'],3,labels=[1,2,3])\n",
    "                                  \n",
    "imps_df['Amount_Bin'] = pd.cut(new_df[new_df['Relationship_Atrribute_Id'].isin([124,142,153])]['Gross_Amount'],3,labels=[1,2,3])\n",
    "imps_df['Num_Of_Transaction_Bin'] = pd.cut(new_df[new_df['Relationship_Atrribute_Id'].isin([124,142,153])]['Num_Of_Transaction'],3,labels=[1,2,3])\n",
    "imps_df['Num_Year_Bin'] = pd.cut(new_df[new_df['Relationship_Atrribute_Id'].isin([124,142,153])]['Num_Year'],3,labels=[1,2,3])\n",
    "\n",
    "upi_df['Amount_Bin'] = pd.cut(new_df[new_df['Relationship_Atrribute_Id'].isin([126,144,155])]['Gross_Amount'],3,labels=[1,2,3])\n",
    "upi_df['Num_Of_Transaction_Bin'] = pd.cut(new_df[new_df['Relationship_Atrribute_Id'].isin([126,144,155])]['Num_Of_Transaction'],3,labels=[1,2,3])\n",
    "upi_df['Num_Year_Bin'] = pd.cut(new_df[new_df['Relationship_Atrribute_Id'].isin([126,144,155])]['Num_Year'],3,labels=[1,2,3])"
   ]
  },
  {
   "cell_type": "code",
   "execution_count": 14,
   "metadata": {
    "ExecuteTime": {
     "end_time": "2022-01-06T10:46:16.454657Z",
     "start_time": "2022-01-06T10:46:16.449342Z"
    },
    "code_folding": []
   },
   "outputs": [],
   "source": [
    "bin_dict = {}\n",
    "val = 0\n",
    "for i in range(1,4):\n",
    "    for j in range(1,4):\n",
    "        for k in range(1,4):\n",
    "            \n",
    "            val = val+0.1\n",
    "            if val >= 2.5:\n",
    "                val = 2.5\n",
    "            bin_dict[i,j,k] = round(val,1)\n",
    "            \n",
    "        \n",
    "        \n"
   ]
  },
  {
   "cell_type": "code",
   "execution_count": 15,
   "metadata": {
    "ExecuteTime": {
     "end_time": "2022-01-06T10:46:18.696580Z",
     "start_time": "2022-01-06T10:46:18.684178Z"
    }
   },
   "outputs": [
    {
     "data": {
      "text/plain": [
       "{(1, 1, 1): 0.1,\n",
       " (1, 1, 2): 0.2,\n",
       " (1, 1, 3): 0.3,\n",
       " (1, 2, 1): 0.4,\n",
       " (1, 2, 2): 0.5,\n",
       " (1, 2, 3): 0.6,\n",
       " (1, 3, 1): 0.7,\n",
       " (1, 3, 2): 0.8,\n",
       " (1, 3, 3): 0.9,\n",
       " (2, 1, 1): 1.0,\n",
       " (2, 1, 2): 1.1,\n",
       " (2, 1, 3): 1.2,\n",
       " (2, 2, 1): 1.3,\n",
       " (2, 2, 2): 1.4,\n",
       " (2, 2, 3): 1.5,\n",
       " (2, 3, 1): 1.6,\n",
       " (2, 3, 2): 1.7,\n",
       " (2, 3, 3): 1.8,\n",
       " (3, 1, 1): 1.9,\n",
       " (3, 1, 2): 2.0,\n",
       " (3, 1, 3): 2.1,\n",
       " (3, 2, 1): 2.2,\n",
       " (3, 2, 2): 2.3,\n",
       " (3, 2, 3): 2.4,\n",
       " (3, 3, 1): 2.5,\n",
       " (3, 3, 2): 2.5,\n",
       " (3, 3, 3): 2.5}"
      ]
     },
     "execution_count": 15,
     "metadata": {},
     "output_type": "execute_result"
    }
   ],
   "source": [
    "bin_dict"
   ]
  },
  {
   "cell_type": "code",
   "execution_count": 16,
   "metadata": {
    "ExecuteTime": {
     "end_time": "2022-01-06T10:46:21.713805Z",
     "start_time": "2022-01-06T10:46:21.709582Z"
    }
   },
   "outputs": [],
   "source": [
    "cbwt_wt = 1\n",
    "neft_rtgs_wt = 0.9\n",
    "imps_wt = 0.8\n",
    "upi_wt = 0.7"
   ]
  },
  {
   "cell_type": "code",
   "execution_count": 17,
   "metadata": {
    "ExecuteTime": {
     "end_time": "2022-01-06T10:46:23.431868Z",
     "start_time": "2022-01-06T10:46:22.988920Z"
    }
   },
   "outputs": [],
   "source": [
    "cbwt_df['Relationsip_Score'] = cbwt_df.apply(lambda row:cbwt_wt*bin_dict[row['Amount_Bin'],row['Num_Of_Transaction_Bin'],row['Num_Year_Bin']],axis=1)\n",
    "neft_rtgs_df['Relationsip_Score'] = neft_rtgs_df.apply(lambda row:neft_rtgs_wt*bin_dict[row['Amount_Bin'],row['Num_Of_Transaction_Bin'],row['Num_Year_Bin']],axis=1)\n",
    "imps_df['Relationsip_Score'] = imps_df.apply(lambda row:imps_wt*bin_dict[row['Amount_Bin'],row['Num_Of_Transaction_Bin'],row['Num_Year_Bin']],axis=1)\n",
    "upi_df['Relationsip_Score'] = upi_df.apply(lambda row:upi_wt*bin_dict[row['Amount_Bin'],row['Num_Of_Transaction_Bin'],row['Num_Year_Bin']],axis=1)"
   ]
  },
  {
   "cell_type": "code",
   "execution_count": 19,
   "metadata": {
    "ExecuteTime": {
     "end_time": "2022-01-06T10:50:07.830368Z",
     "start_time": "2022-01-06T10:50:07.814938Z"
    }
   },
   "outputs": [],
   "source": [
    "final_df = pd.DataFrame()\n",
    "final_df = pd.concat([cbwt_df,neft_rtgs_df,imps_df,upi_df],axis=0)"
   ]
  },
  {
   "cell_type": "code",
   "execution_count": 20,
   "metadata": {
    "ExecuteTime": {
     "end_time": "2022-01-06T10:50:09.422151Z",
     "start_time": "2022-01-06T10:50:09.389014Z"
    }
   },
   "outputs": [
    {
     "data": {
      "text/html": [
       "<div>\n",
       "<style scoped>\n",
       "    .dataframe tbody tr th:only-of-type {\n",
       "        vertical-align: middle;\n",
       "    }\n",
       "\n",
       "    .dataframe tbody tr th {\n",
       "        vertical-align: top;\n",
       "    }\n",
       "\n",
       "    .dataframe thead th {\n",
       "        text-align: right;\n",
       "    }\n",
       "</style>\n",
       "<table border=\"1\" class=\"dataframe\">\n",
       "  <thead>\n",
       "    <tr style=\"text-align: right;\">\n",
       "      <th></th>\n",
       "      <th>Entity1_Master_Id</th>\n",
       "      <th>Entity2_Master_Id</th>\n",
       "      <th>Gross_Amount</th>\n",
       "      <th>Num_Of_Transaction</th>\n",
       "      <th>Relationship_Atrribute_Id</th>\n",
       "      <th>Num_Year</th>\n",
       "      <th>Amount_Bin</th>\n",
       "      <th>Num_Of_Transaction_Bin</th>\n",
       "      <th>Num_Year_Bin</th>\n",
       "      <th>Relationsip_Score</th>\n",
       "    </tr>\n",
       "  </thead>\n",
       "  <tbody>\n",
       "    <tr>\n",
       "      <td>9</td>\n",
       "      <td>123</td>\n",
       "      <td>123</td>\n",
       "      <td>9268302.0</td>\n",
       "      <td>1029</td>\n",
       "      <td>125</td>\n",
       "      <td>21.375342</td>\n",
       "      <td>3</td>\n",
       "      <td>3</td>\n",
       "      <td>3</td>\n",
       "      <td>2.50</td>\n",
       "    </tr>\n",
       "    <tr>\n",
       "      <td>11</td>\n",
       "      <td>123</td>\n",
       "      <td>123</td>\n",
       "      <td>1276191.0</td>\n",
       "      <td>255</td>\n",
       "      <td>125</td>\n",
       "      <td>9.646575</td>\n",
       "      <td>1</td>\n",
       "      <td>1</td>\n",
       "      <td>2</td>\n",
       "      <td>0.20</td>\n",
       "    </tr>\n",
       "    <tr>\n",
       "      <td>12</td>\n",
       "      <td>123</td>\n",
       "      <td>123</td>\n",
       "      <td>1592781.0</td>\n",
       "      <td>49</td>\n",
       "      <td>143</td>\n",
       "      <td>7.868493</td>\n",
       "      <td>1</td>\n",
       "      <td>1</td>\n",
       "      <td>1</td>\n",
       "      <td>0.10</td>\n",
       "    </tr>\n",
       "    <tr>\n",
       "      <td>15</td>\n",
       "      <td>123</td>\n",
       "      <td>123</td>\n",
       "      <td>8267397.0</td>\n",
       "      <td>521</td>\n",
       "      <td>125</td>\n",
       "      <td>9.501370</td>\n",
       "      <td>3</td>\n",
       "      <td>2</td>\n",
       "      <td>2</td>\n",
       "      <td>2.30</td>\n",
       "    </tr>\n",
       "    <tr>\n",
       "      <td>18</td>\n",
       "      <td>123</td>\n",
       "      <td>123</td>\n",
       "      <td>9424800.0</td>\n",
       "      <td>502</td>\n",
       "      <td>154</td>\n",
       "      <td>7.400000</td>\n",
       "      <td>3</td>\n",
       "      <td>2</td>\n",
       "      <td>1</td>\n",
       "      <td>2.20</td>\n",
       "    </tr>\n",
       "    <tr>\n",
       "      <td>...</td>\n",
       "      <td>...</td>\n",
       "      <td>...</td>\n",
       "      <td>...</td>\n",
       "      <td>...</td>\n",
       "      <td>...</td>\n",
       "      <td>...</td>\n",
       "      <td>...</td>\n",
       "      <td>...</td>\n",
       "      <td>...</td>\n",
       "      <td>...</td>\n",
       "    </tr>\n",
       "    <tr>\n",
       "      <td>2975</td>\n",
       "      <td>123</td>\n",
       "      <td>123</td>\n",
       "      <td>4645903.0</td>\n",
       "      <td>118</td>\n",
       "      <td>144</td>\n",
       "      <td>20.268493</td>\n",
       "      <td>2</td>\n",
       "      <td>1</td>\n",
       "      <td>3</td>\n",
       "      <td>0.84</td>\n",
       "    </tr>\n",
       "    <tr>\n",
       "      <td>2988</td>\n",
       "      <td>123</td>\n",
       "      <td>123</td>\n",
       "      <td>7467549.0</td>\n",
       "      <td>643</td>\n",
       "      <td>126</td>\n",
       "      <td>25.369863</td>\n",
       "      <td>3</td>\n",
       "      <td>2</td>\n",
       "      <td>3</td>\n",
       "      <td>1.68</td>\n",
       "    </tr>\n",
       "    <tr>\n",
       "      <td>2989</td>\n",
       "      <td>123</td>\n",
       "      <td>123</td>\n",
       "      <td>4587542.0</td>\n",
       "      <td>508</td>\n",
       "      <td>126</td>\n",
       "      <td>14.539726</td>\n",
       "      <td>2</td>\n",
       "      <td>2</td>\n",
       "      <td>2</td>\n",
       "      <td>0.98</td>\n",
       "    </tr>\n",
       "    <tr>\n",
       "      <td>2990</td>\n",
       "      <td>123</td>\n",
       "      <td>123</td>\n",
       "      <td>7715003.0</td>\n",
       "      <td>441</td>\n",
       "      <td>155</td>\n",
       "      <td>2.238356</td>\n",
       "      <td>3</td>\n",
       "      <td>2</td>\n",
       "      <td>1</td>\n",
       "      <td>1.54</td>\n",
       "    </tr>\n",
       "    <tr>\n",
       "      <td>2996</td>\n",
       "      <td>123</td>\n",
       "      <td>123</td>\n",
       "      <td>5544117.0</td>\n",
       "      <td>793</td>\n",
       "      <td>155</td>\n",
       "      <td>10.101370</td>\n",
       "      <td>2</td>\n",
       "      <td>3</td>\n",
       "      <td>2</td>\n",
       "      <td>1.19</td>\n",
       "    </tr>\n",
       "  </tbody>\n",
       "</table>\n",
       "<p>2992 rows × 10 columns</p>\n",
       "</div>"
      ],
      "text/plain": [
       "      Entity1_Master_Id  Entity2_Master_Id  Gross_Amount  Num_Of_Transaction  \\\n",
       "9                   123                123     9268302.0                1029   \n",
       "11                  123                123     1276191.0                 255   \n",
       "12                  123                123     1592781.0                  49   \n",
       "15                  123                123     8267397.0                 521   \n",
       "18                  123                123     9424800.0                 502   \n",
       "...                 ...                ...           ...                 ...   \n",
       "2975                123                123     4645903.0                 118   \n",
       "2988                123                123     7467549.0                 643   \n",
       "2989                123                123     4587542.0                 508   \n",
       "2990                123                123     7715003.0                 441   \n",
       "2996                123                123     5544117.0                 793   \n",
       "\n",
       "      Relationship_Atrribute_Id   Num_Year Amount_Bin Num_Of_Transaction_Bin  \\\n",
       "9                           125  21.375342          3                      3   \n",
       "11                          125   9.646575          1                      1   \n",
       "12                          143   7.868493          1                      1   \n",
       "15                          125   9.501370          3                      2   \n",
       "18                          154   7.400000          3                      2   \n",
       "...                         ...        ...        ...                    ...   \n",
       "2975                        144  20.268493          2                      1   \n",
       "2988                        126  25.369863          3                      2   \n",
       "2989                        126  14.539726          2                      2   \n",
       "2990                        155   2.238356          3                      2   \n",
       "2996                        155  10.101370          2                      3   \n",
       "\n",
       "     Num_Year_Bin  Relationsip_Score  \n",
       "9               3               2.50  \n",
       "11              2               0.20  \n",
       "12              1               0.10  \n",
       "15              2               2.30  \n",
       "18              1               2.20  \n",
       "...           ...                ...  \n",
       "2975            3               0.84  \n",
       "2988            3               1.68  \n",
       "2989            2               0.98  \n",
       "2990            1               1.54  \n",
       "2996            2               1.19  \n",
       "\n",
       "[2992 rows x 10 columns]"
      ]
     },
     "execution_count": 20,
     "metadata": {},
     "output_type": "execute_result"
    }
   ],
   "source": [
    "final_df"
   ]
  },
  {
   "cell_type": "code",
   "execution_count": 21,
   "metadata": {
    "ExecuteTime": {
     "end_time": "2022-01-06T10:50:43.701652Z",
     "start_time": "2022-01-06T10:50:36.196384Z"
    }
   },
   "outputs": [],
   "source": [
    "df_to_write = pd.merge(tbt_df,final_df,on=['Entity1_Master_Id','Entity2_Master_Id'],how='inner')"
   ]
  },
  {
   "cell_type": "code",
   "execution_count": 1,
   "metadata": {
    "ExecuteTime": {
     "end_time": "2022-01-06T10:50:48.945775Z",
     "start_time": "2022-01-06T10:50:48.829249Z"
    }
   },
   "outputs": [
    {
     "ename": "NameError",
     "evalue": "name 'df_to_write' is not defined",
     "output_type": "error",
     "traceback": [
      "\u001b[0;31m---------------------------------------------------------------------------\u001b[0m",
      "\u001b[0;31mNameError\u001b[0m                                 Traceback (most recent call last)",
      "\u001b[0;32m<ipython-input-1-1c0fe5083633>\u001b[0m in \u001b[0;36m<module>\u001b[0;34m\u001b[0m\n\u001b[0;32m----> 1\u001b[0;31m \u001b[0mdf_to_write_copy\u001b[0m \u001b[0;34m=\u001b[0m \u001b[0mdf_to_write\u001b[0m\u001b[0;34m.\u001b[0m\u001b[0miloc\u001b[0m\u001b[0;34m[\u001b[0m\u001b[0;34m:\u001b[0m\u001b[0;36m10\u001b[0m\u001b[0;34m,\u001b[0m\u001b[0;34m:\u001b[0m\u001b[0;34m]\u001b[0m\u001b[0;34m\u001b[0m\u001b[0m\n\u001b[0m",
      "\u001b[0;31mNameError\u001b[0m: name 'df_to_write' is not defined"
     ]
    }
   ],
   "source": [
    "df_to_write_copy = df_to_write.iloc[:10,:]"
   ]
  },
  {
   "cell_type": "code",
   "execution_count": null,
   "metadata": {
    "ExecuteTime": {
     "start_time": "2022-01-06T09:56:33.638Z"
    }
   },
   "outputs": [],
   "source": [
    "df_to_write_copy['Relationship_Timestamp'] = [datetime.datetime.now() for i in range(len(df_to_write_copy))]\n",
    "df_to_write_copy['Resolved_Relationship_Id'] = [i for i in range(len(df_to_write_copy))]"
   ]
  },
  {
   "cell_type": "code",
   "execution_count": 27,
   "metadata": {
    "ExecuteTime": {
     "end_time": "2022-01-05T11:24:48.014919Z",
     "start_time": "2022-01-05T11:24:48.010115Z"
    }
   },
   "outputs": [
    {
     "data": {
      "text/plain": [
       "Index(['Entity1_Master_Id', 'Entity2_Master_Id', 'Entity1_ID', 'Entity2_ID',\n",
       "       'Entity1_type_Id', 'Entity2_type_Id', 'Entity1_Id_Type',\n",
       "       'Entity2_Id_Type', 'Entity1_Full_Name', 'Entity2_Full_Name',\n",
       "       'Relationship_Atrribute_Id_x', 'Relationship_Source', 'Gross_Amount_x',\n",
       "       'Num_Of_Transaction_x', 'Labels', 'Gross_Amount_y',\n",
       "       'Num_Of_Transaction_y', 'Relationship_Atrribute_Id_y', 'Amount_Bin',\n",
       "       'Num_Of_Transaction_Bin', 'Relationsip_Score', 'Relationship_Timestamp',\n",
       "       'Resolved_Relationship_Id'],\n",
       "      dtype='object')"
      ]
     },
     "execution_count": 27,
     "metadata": {},
     "output_type": "execute_result"
    }
   ],
   "source": [
    "df_to_write.columns"
   ]
  },
  {
   "cell_type": "code",
   "execution_count": 28,
   "metadata": {
    "ExecuteTime": {
     "end_time": "2022-01-05T11:24:48.108286Z",
     "start_time": "2022-01-05T11:24:48.016837Z"
    }
   },
   "outputs": [
    {
     "data": {
      "text/plain": [
       "['Entity1_Master_Id',\n",
       " 'Entity2_Master_Id',\n",
       " 'Entity1_ID',\n",
       " 'Entity2_ID',\n",
       " 'Entity1_type_Id',\n",
       " 'Entity2_type_Id',\n",
       " 'Entity1_Id_Type',\n",
       " 'Entity2_Id_Type',\n",
       " 'Entity1_Full_Name',\n",
       " 'Entity2_Full_Name',\n",
       " 'Relationship_Atrribute_Id_x',\n",
       " 'Relationship_Source',\n",
       " 'Gross_Amount_x',\n",
       " 'Num_Of_Transaction_x',\n",
       " 'Labels',\n",
       " 'Gross_Amount_y',\n",
       " 'Num_Of_Transaction_y',\n",
       " 'Relationship_Atrribute_Id_y',\n",
       " 'Amount_Bin',\n",
       " 'Num_Of_Transaction_Bin',\n",
       " 'Relationsip_Score',\n",
       " 'Relationship_Timestamp',\n",
       " 'Resolved_Relationship_Id']"
      ]
     },
     "execution_count": 28,
     "metadata": {},
     "output_type": "execute_result"
    }
   ],
   "source": [
    "df_to_write.columns.to_list()"
   ]
  },
  {
   "cell_type": "code",
   "execution_count": 29,
   "metadata": {
    "ExecuteTime": {
     "end_time": "2022-01-05T11:24:48.182109Z",
     "start_time": "2022-01-05T11:24:48.112315Z"
    }
   },
   "outputs": [
    {
     "data": {
      "text/plain": [
       "(8994001, 23)"
      ]
     },
     "execution_count": 29,
     "metadata": {},
     "output_type": "execute_result"
    }
   ],
   "source": [
    "df_to_write.shape"
   ]
  },
  {
   "cell_type": "code",
   "execution_count": 30,
   "metadata": {
    "ExecuteTime": {
     "end_time": "2022-01-05T11:24:48.237991Z",
     "start_time": "2022-01-05T11:24:48.184037Z"
    }
   },
   "outputs": [],
   "source": [
    "temp = df_to_write.iloc[:1,[0,1,2,3,4,5,6,7,8,9,10,11,20,21,22]]"
   ]
  },
  {
   "cell_type": "code",
   "execution_count": 31,
   "metadata": {
    "ExecuteTime": {
     "end_time": "2022-01-05T11:24:48.289548Z",
     "start_time": "2022-01-05T11:24:48.240009Z"
    },
    "scrolled": true
   },
   "outputs": [
    {
     "data": {
      "text/plain": [
       "Index(['Entity1_Master_Id', 'Entity2_Master_Id', 'Entity1_ID', 'Entity2_ID',\n",
       "       'Entity1_type_Id', 'Entity2_type_Id', 'Entity1_Id_Type',\n",
       "       'Entity2_Id_Type', 'Entity1_Full_Name', 'Entity2_Full_Name',\n",
       "       'Relationship_Atrribute_Id_x', 'Relationship_Source',\n",
       "       'Relationsip_Score', 'Relationship_Timestamp',\n",
       "       'Resolved_Relationship_Id'],\n",
       "      dtype='object')"
      ]
     },
     "execution_count": 31,
     "metadata": {},
     "output_type": "execute_result"
    }
   ],
   "source": [
    "temp.columns"
   ]
  },
  {
   "cell_type": "code",
   "execution_count": 32,
   "metadata": {
    "ExecuteTime": {
     "end_time": "2022-01-05T11:24:48.380236Z",
     "start_time": "2022-01-05T11:24:48.299470Z"
    }
   },
   "outputs": [],
   "source": [
    "temp.rename(columns={'Relationship_Atrribute_Id_x':'Relationship_Attributes_Id','Entity1_Full_Name':'Entity1_Name','Entity2_Full_Name':'Entity2_Name'},inplace=True)"
   ]
  },
  {
   "cell_type": "code",
   "execution_count": 33,
   "metadata": {
    "ExecuteTime": {
     "end_time": "2022-01-05T11:24:48.450407Z",
     "start_time": "2022-01-05T11:24:48.387138Z"
    }
   },
   "outputs": [],
   "source": [
    "temp['Update_Job_Id'] = ['das']\n",
    "temp['Create_Job_Id'] = ['das']"
   ]
  },
  {
   "cell_type": "code",
   "execution_count": 34,
   "metadata": {
    "ExecuteTime": {
     "end_time": "2022-01-05T11:28:31.583314Z",
     "start_time": "2022-01-05T11:28:31.573871Z"
    }
   },
   "outputs": [
    {
     "ename": "NameError",
     "evalue": "name 'model' is not defined",
     "output_type": "error",
     "traceback": [
      "\u001b[0;31m---------------------------------------------------------------------------\u001b[0m",
      "\u001b[0;31mNameError\u001b[0m                                 Traceback (most recent call last)",
      "\u001b[0;32m<ipython-input-34-cc3720968c1c>\u001b[0m in \u001b[0;36m<module>\u001b[0;34m\u001b[0m\n\u001b[0;32m----> 1\u001b[0;31m model.write_data(df=temp,\n\u001b[0m\u001b[1;32m      2\u001b[0m     \u001b[0mdatabase\u001b[0m\u001b[0;34m=\u001b[0m\u001b[0;34m'FINCORE_DB'\u001b[0m\u001b[0;34m,\u001b[0m\u001b[0;34m\u001b[0m\u001b[0m\n\u001b[1;32m      3\u001b[0m     \u001b[0mtable\u001b[0m\u001b[0;34m=\u001b[0m\u001b[0;34m'Resolved_Relationship'\u001b[0m\u001b[0;34m,\u001b[0m\u001b[0;34m\u001b[0m\u001b[0m\n\u001b[1;32m      4\u001b[0m     \u001b[0mschema\u001b[0m\u001b[0;34m=\u001b[0m\u001b[0;34m'Fincore'\u001b[0m\u001b[0;34m,\u001b[0m\u001b[0;34m\u001b[0m\u001b[0m\n\u001b[1;32m      5\u001b[0m     mode='append',)\n",
      "\u001b[0;31mNameError\u001b[0m: name 'model' is not defined"
     ]
    }
   ],
   "source": [
    "model.write_data(df=temp,\n",
    "    database='FINCORE_DB',\n",
    "    table='Resolved_Relationship',\n",
    "    schema='Fincore',\n",
    "    mode='append',)"
   ]
  }
 ],
 "metadata": {
  "hide_input": false,
  "kernelspec": {
   "display_name": "Python 3",
   "language": "python",
   "name": "python3"
  },
  "language_info": {
   "codemirror_mode": {
    "name": "ipython",
    "version": 3
   },
   "file_extension": ".py",
   "mimetype": "text/x-python",
   "name": "python",
   "nbconvert_exporter": "python",
   "pygments_lexer": "ipython3",
   "version": "3.6.2"
  },
  "toc": {
   "base_numbering": 1,
   "nav_menu": {},
   "number_sections": true,
   "sideBar": true,
   "skip_h1_title": false,
   "title_cell": "Table of Contents",
   "title_sidebar": "Contents",
   "toc_cell": false,
   "toc_position": {},
   "toc_section_display": true,
   "toc_window_display": false
  },
  "varInspector": {
   "cols": {
    "lenName": 16,
    "lenType": 16,
    "lenVar": 40
   },
   "kernels_config": {
    "python": {
     "delete_cmd_postfix": "",
     "delete_cmd_prefix": "del ",
     "library": "var_list.py",
     "varRefreshCmd": "print(var_dic_list())"
    },
    "r": {
     "delete_cmd_postfix": ") ",
     "delete_cmd_prefix": "rm(",
     "library": "var_list.r",
     "varRefreshCmd": "cat(var_dic_list()) "
    }
   },
   "types_to_exclude": [
    "module",
    "function",
    "builtin_function_or_method",
    "instance",
    "_Feature"
   ],
   "window_display": false
  }
 },
 "nbformat": 4,
 "nbformat_minor": 4
}
