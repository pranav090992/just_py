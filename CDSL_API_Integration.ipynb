{
 "cells": [
  {
   "cell_type": "code",
   "execution_count": null,
   "id": "76df2e86",
   "metadata": {},
   "outputs": [],
   "source": [
    "import rapidfuzz"
   ]
  },
  {
   "cell_type": "code",
   "execution_count": 51,
   "id": "1dda61e6",
   "metadata": {},
   "outputs": [
    {
     "name": "stdout",
     "output_type": "stream",
     "text": [
      "DRIVER={FreeTDS};SERVER=172.16.27.39;PORT=1433;DATABASE=FINCORE_DB;UID=Fincore_App_USR;PWD=FinApp@2022;TDS_Version=7.2;\n"
     ]
    }
   ],
   "source": [
    "### Import the Libraries\n",
    "# !pip install rapidfuzz\n",
    "# import rapidfuzz\n",
    "from OpenSSL import crypto\n",
    "import base64\n",
    "import json\n",
    "import numpy as np\n",
    "from datetime import datetime\n",
    "import datetime\n",
    "from tqdm import tqdm\n",
    "import string\n",
    "from Crypto.Cipher import AES\n",
    "from Crypto import Random\n",
    "from Crypto.Util.Padding import pad, unpad\n",
    "from Crypto.Random import get_random_bytes\n",
    "import warnings\n",
    "from decimal import Decimal\n",
    "warnings.filterwarnings(\"ignore\")\n",
    "import rsa\n",
    "import random\n",
    "import pandas as pd\n",
    "import pyodbc\n",
    "import requests\n",
    "\n",
    "###Read Configuration File\n",
    "\n",
    "from configparser import ConfigParser\n",
    "config = ConfigParser()\n",
    "config.read('Config.ini')\n",
    "config_data=config['SERVER']\n",
    "\n",
    "print(config_data['read'])\n",
    "\n"
   ]
  },
  {
   "cell_type": "code",
   "execution_count": 52,
   "id": "7e30d51e",
   "metadata": {},
   "outputs": [],
   "source": [
    "###Class for SQL Server Database Connectivity\n",
    "class  SQLConnect():\n",
    "    \n",
    "    conn=None\n",
    "    query=None\n",
    "    \n",
    "    def __init__(self):\n",
    "        pass\n",
    "    \n",
    "    \n",
    "    def connect(self, dbengine):\n",
    "        '''\n",
    "        This method gets the data from database.  \n",
    "        Parameters:\n",
    "        dbengine: It is the database engine. Values for dbengine can be SQL_SERVER\n",
    "        '''\n",
    "        if dbengine == 'SQL_SERVER':\n",
    "            self.conn = pyodbc.connect(config_data['read'])\n",
    "            return self.conn\n",
    "            logger.error(\"Error while connecting to database\")\n",
    "\n",
    "           \n",
    "            \n",
    "    def get_data(self, conn=None, objectname=None, query=None):\n",
    "        '''\n",
    "        This function loads the data from table or file to dataframe.\n",
    "        \n",
    "        Arguments-\n",
    "            conn - connection object\n",
    "            objectname - Object from which the data needs to be loaded\n",
    "            query - The query string which will be fired on database to get the data\n",
    "       \n",
    "        Return Type:\n",
    "            This method returns dataframe\n",
    "        '''\n",
    "        \n",
    "\n",
    "        if conn!=None:\n",
    "            self.query = query\n",
    "            dataset = pd.read_sql(query, conn)\n",
    "            return dataset\n",
    "\n",
    "    \n",
    "    def write_data(self,data, schema, tablename, mode='append', chunksize=200):\n",
    "        \"\"\"\n",
    "        This method writes data to the database in the tablename and schema name specified.\n",
    "        Parameters: \n",
    "            data - the data that needs to be written\n",
    "            schema - Schema to which data needs to be written\n",
    "            tablename - Table which needs to be loaded.\n",
    "            mode - The mode in which the value needs to be added in the tablename.\n",
    "                    Possible values are:\n",
    "                        append- Inserts the data in the exising tables\n",
    "                        replace - Drops and creates the table\n",
    "                        update - If data exist, it will update, else it will insert data in the table.\n",
    "        \"\"\"\n",
    "        #quoted = urllib.parse.quote_plus('DRIVER=FreeTDS;SERVER=172.16.33.27;PORT=1433;DATABASE=FINCORE_DB;UID=Fincore_App_USR;PWD=F!NCore@123;TDS_Version=7.2;')\n",
    "        #quoted = urllib.parse.quote_plus(\"DRIVER={SQL Server};SERVER=localhost\\SQLEXPRESS01;DATABASE=FINCORE_DB\")\n",
    "        #engine = sqlalchemy .create_engine('mssql+pyodbc:///?odbc_connect={}'.format(quoted))\n",
    "        #quoted = urllib.parse.quote_plus(\"DRIVER={SQL Server};SERVER=172.16.33.27;DATABASE=FINCORE_DB;UID=Fincore_App_USR;PWD=F!NCore@123\")\n",
    "        config_data=config[\"SERVER\"]\n",
    "        #print(config_data[\"connection\"])\n",
    "        quoted = urllib.parse.quote_plus(config_data[\"connection\"])\n",
    "        engine = sqlalchemy .create_engine('mssql+pyodbc:///?odbc_connect={}'.format(quoted))\n",
    "        conn = engine.connect()\n",
    "        data.to_sql(tablename, schema=schema, conn = engine, chunksize=chunksize, index=False, if_exists=mode)\n",
    "        conn.close()"
   ]
  },
  {
   "cell_type": "code",
   "execution_count": 53,
   "id": "35724eaf",
   "metadata": {},
   "outputs": [],
   "source": [
    "###Step 3: Generate AES Key and encrypt/Decrypt Function\n",
    "\n",
    "\n",
    "\n",
    "API_key =b'87vo4l2pp5mdsi71cz2wbnpz8wd6xa4a'\n",
    "\n",
    "iv=bytearray(16)\n",
    "\n",
    "\n",
    "def encrypt_AES_CBC(Key,data):\n",
    "    data = pad(data, AES.block_size)\n",
    "    cipher = AES.new(Key, AES.MODE_CBC ,iv=iv)\n",
    "    encrypted_text = cipher.encrypt(data)\n",
    "    return encrypted_text\n"
   ]
  },
  {
   "cell_type": "code",
   "execution_count": 54,
   "id": "0a9eab1c",
   "metadata": {},
   "outputs": [],
   "source": [
    "### Step 3: Decrypt for Testing\n",
    "def decrypt_AES_CBC (Key ,encrypted_text):\n",
    "    cipher = AES.new(Key, AES.MODE_CBC , iv=iv)\n",
    "    decrypted_text = unpad(cipher.decrypt(encrypted_text), AES.block_size)\n",
    "    return decrypted_text\n"
   ]
  },
  {
   "cell_type": "code",
   "execution_count": null,
   "id": "65e42d61",
   "metadata": {},
   "outputs": [],
   "source": []
  },
  {
   "cell_type": "code",
   "execution_count": 55,
   "id": "0761ff7b",
   "metadata": {},
   "outputs": [
    {
     "name": "stderr",
     "output_type": "stream",
     "text": [
      "2it [00:00,  3.73it/s]"
     ]
    },
    {
     "name": "stdout",
     "output_type": "stream",
     "text": [
      "{\"resAcctdtls\":\"8ZUJxsGdWQiTQsCTqBG6xFDC3b8aRtij1eVusc7Y8lc0dL45RplECDWGLNpLLyH3a09rmOx8y4FfIuJyHkObvHpCZiKQTbi6zSOGFrnE+3r2z+bE3j+/v3C4/j5XqZd8kzv1U2Pcrcxq9zjidGBt1rrib/zWQ0MZ5GlZnW6M68marMxq8GdK5OqjP8UfftIwaoor4Evbo211opek9jiQug==\"}\n",
      "{\"resAcctdtls\":\"8ZUJxsGdWQiTQsCTqBG6xFDC3b8aRtij1eVusc7Y8lfq6mMHuC/MGiNzdCn60IQMoEW2aY4PDGsyAlSYK6+xBzU08sRgsX4by79rco/x6+HOGu52LJyU9kcufL2Y4Y31qzSFzKE+ZNd7Pi2mCNq4NxE8ttLZD2wYT/BcYk/3Qp+ErVe5Gr4H6QbgdBXoesW74YmUh8Km0i6Qw/5B00LGhQ==\"}\n",
      "[[('success', '1'), ('seqid', '20230102707998'), ('pan', ''), ('ifsc', ''), ('bankaccountno', ''), ('Response', {'ErrorId': 'CERR005', 'ErrorMessage': 'Unauthorized access'})], [('success', '1'), ('seqid', '20230102921299'), ('pan', ''), ('ifsc', ''), ('bankaccountno', ''), ('Response', {'ErrorId': 'CERR005', 'ErrorMessage': 'Unauthorized access'})]]\n"
     ]
    },
    {
     "name": "stderr",
     "output_type": "stream",
     "text": [
      "\n"
     ]
    }
   ],
   "source": [
    "### Import CDSL Request Data to DataFrame\n",
    "SQLConn  = SQLConnect()\n",
    "conn = SQLConn.connect('SQL_SERVER')\n",
    "cursor = conn.cursor()\n",
    "status_code=[]\n",
    "output = []\n",
    "# new_dataframe=pd.DataFrame()\n",
    "\n",
    "REQ_Query='''SELECT [Seqid]\n",
    "      ,coalesce([Pan],'') as Pan\n",
    "      ,coalesce([Account_Number],'') as [Account_Number]\n",
    "      ,coalesce([Ifsc_Code],'') as [Ifsc_Code]\n",
    "  FROM [EXTL_DB].[CDSL].[Cdsl_Request_Input] where [Api_Request_Sent] IS NULL'''\n",
    "\n",
    "\n",
    "dataset = SQLConn.get_data(conn=conn,query=REQ_Query)\n",
    "\n",
    "\n",
    "for i,row in tqdm(dataset.iterrows()):\n",
    "    #print(row['Pan'])\n",
    "    text = {\"pan\":row['Pan'],\"ifsc\":row['Ifsc_Code'],\"bankaccountno\":row[\"Account_Number\"]}\n",
    "    text=bytes(json.dumps(text,separators=(',', ':')),'ASCII')\n",
    "#     print(text)\n",
    "    encrypted_text=encrypt_AES_CBC(API_key,text)\n",
    "#     print(encrypted_text)\n",
    "    EncryptedPayload=base64.b64encode(encrypted_text).decode('ascii')\n",
    "    Encrypted_body = json.dumps({'acctdtls':EncryptedPayload},separators=(',', ':'))\n",
    "#     print(Encrypted_body)\n",
    "    \n",
    "#     print(str(row['Seqid']))\n",
    "    \n",
    "    url = \"http://apiextappuat01.finnet2.local:8280/cdsl/1.0.0/FIUinq/getdetails\"\n",
    "    headers = {\n",
    "        'Content-Type':'application/json',\n",
    "        'seqid':str(row['Seqid']),\n",
    "        'userid':'fiuuser1',\n",
    "        'password':'K/Hfs9LLagBgpAuxYGQvvQ==', \n",
    "        'version':'1.0',\n",
    "        'Accept':'*/*',\n",
    "        'apikey':'eyJ4NXQiOiJNell4TW1Ga09HWXdNV0kwWldObU5EY3hOR1l3WW1NNFpUQTNNV0kyTkRBelpHUXpOR00wWkdSbE5qSmtPREZrWkRSaU9URmtNV0ZoTXpVMlpHVmxOZyIsImtpZCI6ImdhdGV3YXlfY2VydGlmaWNhdGVfYWxpYXMiLCJ0eXAiOiJKV1QiLCJhbGciOiJSUzI1NiJ9.eyJzdWIiOiJmaXVkZXYwMUBjYXJib24uc3VwZXIiLCJhcHBsaWNhdGlvbiI6eyJvd25lciI6ImZpdWRldjAxIiwidGllclF1b3RhVHlwZSI6bnVsbCwidGllciI6IlVubGltaXRlZCIsIm5hbWUiOiJFeHRlcm5hbC1DRFNMLUFwcGxpY2F0aW9uIiwiaWQiOjE4MiwidXVpZCI6ImMxOTllMzRmLWQyYWItNDZjOS05ZjNmLWYyZmY0NGQ4NzBkMSJ9LCJpc3MiOiJodHRwczpcL1wvd3NvMmFtLWFtLXVhdC5hcHBzLnN1cC5maW5uZXQyLmxvY2FsOjQ0M1wvb2F1dGgyXC90b2tlbiIsInRpZXJJbmZvIjp7IlVubGltaXRlZCI6eyJ0aWVyUXVvdGFUeXBlIjoicmVxdWVzdENvdW50IiwiZ3JhcGhRTE1heENvbXBsZXhpdHkiOjAsImdyYXBoUUxNYXhEZXB0aCI6MCwic3RvcE9uUXVvdGFSZWFjaCI6dHJ1ZSwic3Bpa2VBcnJlc3RMaW1pdCI6MCwic3Bpa2VBcnJlc3RVbml0IjpudWxsfX0sImtleXR5cGUiOiJQUk9EVUNUSU9OIiwicGVybWl0dGVkUmVmZXJlciI6IiIsInN1YnNjcmliZWRBUElzIjpbeyJzdWJzY3JpYmVyVGVuYW50RG9tYWluIjoiY2FyYm9uLnN1cGVyIiwibmFtZSI6IkV4dGVybmFsLUNEU0wiLCJjb250ZXh0IjoiXC9jZHNsXC8xLjAuMCIsInB1Ymxpc2hlciI6ImZpdWRldjAxIiwidmVyc2lvbiI6IjEuMC4wIiwic3Vic2NyaXB0aW9uVGllciI6IlVubGltaXRlZCJ9XSwicGVybWl0dGVkSVAiOiIiLCJpYXQiOjE2Njg3Njk5NTMsImp0aSI6ImY5ZjdiMmJmLWQ4ZjMtNDRlZS05MzM3LTcyNmI0ZTczMDM1ZSJ9.kSGVOFGfFS3j_PzBqWZyUMqLVu2_Hfy1juySIa2sJVUemBZZSkq6qecWNxin9mWSGKIJ2Pyra2_K7HRvUh2b9rbzicpUPlQ_LN1QVrgkO7vBum7U6fst4ioZV1KzdrhOYBFWm0ZKAEp4uI6rX-ldPIB4DyqzZWZKyzx9UgskcKU6dK2l0Bf1-xKZe2ZIKpDr-oOB1u2Q_ypOu41di2PmDztY-YnZVSWmNw4tnka3bswRxe5LlJcyxlN0IuWN2tJg4rRhP6Q4TjTeoPUNiVSWtMvam0CK4wJenlIfcPOPuVIOSIAmKDgiBKx6PoDCWoyADNs4WXHn-VpOaers7Y_qZw=='\n",
    "       }\n",
    "    data=json.loads(Encrypted_body)\n",
    "    response = requests.post(url, headers=headers , json=data)\n",
    "#     print(response.status_code)\n",
    "    status_code.append(response.status_code)\n",
    "    Encrypted_body=response.json()\n",
    "    print(Encrypted_body)\n",
    "    b64 = json.loads(Encrypted_body)\n",
    "#     print(b64)\n",
    "    encrypted_text=base64.b64decode(b64['resAcctdtls'])\n",
    "#     print(encrypted_text)\n",
    "    descryptedMsg=decrypt_AES_CBC(API_key,encrypted_text)\n",
    "#     print(descryptedMsg)\n",
    "    DecryptedJSON=json.loads(descryptedMsg)\n",
    "#     print(DecryptedJSON)\n",
    "    list1 = [(k, v) for k, v in DecryptedJSON.items()]\n",
    "    output.append(list1)\n",
    "print(output)\n"
   ]
  },
  {
   "cell_type": "code",
   "execution_count": 29,
   "id": "cec17c4f",
   "metadata": {},
   "outputs": [],
   "source": [
    "# config = ConfigParser()\n",
    "# config.read('Config.ini')\n",
    "# config_data=config['SERVER']\n",
    "# config_data[\"read\"]\n",
    "# print(config_data[\"read\"])\n",
    "# conn = pyodbc.connect(config_data[\"read\"])\n",
    "# cursor = conn.cursor()\n",
    "# cursor = conn.cursor()\n",
    "# df=pd.read_sql('SELECT  * FROM [EXTL_DB].[CDSL].[Cdsl_Request_Input]',conn)\n",
    "# df\n",
    "# config = ConfigParser()\n",
    "# config.read('er_config.ini')\n",
    "# config_data=config['SERVER']\n",
    "# config_data[\"connection\"]\n",
    "# conn = pyodbc.connect(config_data[\"connection\"])\n",
    "# cursor = conn.cursor()"
   ]
  },
  {
   "cell_type": "code",
   "execution_count": 30,
   "id": "b22c2ff1",
   "metadata": {},
   "outputs": [
    {
     "name": "stdout",
     "output_type": "stream",
     "text": [
      "   status_code success           seqid  \\\n",
      "0          200       1  20221101440272   \n",
      "1          200       1  20221101650473   \n",
      "2          200       1  20221101658912   \n",
      "3          200       1  20221101756647   \n",
      "4          200       1  20221101873275   \n",
      "5          200       1  20221101948112   \n",
      "6          200       1  20230102707998   \n",
      "7          200       1  20230102921299   \n",
      "\n",
      "                                         accountdtls  \n",
      "0  {'ErrorId': 'CERR005', 'ErrorMessage': 'Unauth...  \n",
      "1  {'ErrorId': 'CERR005', 'ErrorMessage': 'Unauth...  \n",
      "2  {'ErrorId': 'CERR005', 'ErrorMessage': 'Unauth...  \n",
      "3  {'ErrorId': 'CERR005', 'ErrorMessage': 'Unauth...  \n",
      "4  {'ErrorId': 'CERR005', 'ErrorMessage': 'Unauth...  \n",
      "5  {'ErrorId': 'CERR005', 'ErrorMessage': 'Unauth...  \n",
      "6  {'ErrorId': 'CERR005', 'ErrorMessage': 'Unauth...  \n",
      "7  {'ErrorId': 'CERR005', 'ErrorMessage': 'Unauth...  \n"
     ]
    }
   ],
   "source": [
    "df=pd.DataFrame(output)\n",
    "\n",
    "df['status_code']=status_code\n",
    "df['success'] = df[0].str[1]\n",
    "df['seqid'] = df[1].str[1]\n",
    "df['pan'] = df[2].str[1]\n",
    "df['ifsc'] = df[3].str[1]\n",
    "df['bankaccountno'] = df[4].str[1]\n",
    "df['accountdtls'] = df[5].str[1]\n",
    "df1=df.drop([0,1,2,3,4,5,'pan','ifsc','bankaccountno'], axis=1)\n",
    "print(df1)"
   ]
  },
  {
   "cell_type": "code",
   "execution_count": null,
   "id": "b4994348",
   "metadata": {},
   "outputs": [],
   "source": []
  },
  {
   "cell_type": "code",
   "execution_count": null,
   "id": "b2c5d735",
   "metadata": {},
   "outputs": [],
   "source": [
    "df2 =df1['accountdtls'].apply(lambda x: [[i['dematacctno'],i['pan'],i['ifsc'],i['bankaccountno'],i['date'],i['valuation']] for i in x]).explode().apply(pd.Series, index=['dematacctno','pan','ifsc','bankaccountno','date','valuation'])"
   ]
  },
  {
   "cell_type": "code",
   "execution_count": null,
   "id": "6697ae70",
   "metadata": {},
   "outputs": [],
   "source": [
    "result = pd.concat([df1, df2], axis=1)\n",
    "result=result.drop(['accountdtls'], axis=1)"
   ]
  },
  {
   "cell_type": "code",
   "execution_count": null,
   "id": "4c10266b",
   "metadata": {},
   "outputs": [],
   "source": [
    "result"
   ]
  },
  {
   "cell_type": "code",
   "execution_count": null,
   "id": "0d6afa75",
   "metadata": {},
   "outputs": [],
   "source": [
    "result.rename(columns = {'date':'valuation_date','dematacctno':'Demat_Account_Number','pan':'Pan','ifsc':'Ifsc_Code'}, inplace = True)"
   ]
  },
  {
   "cell_type": "code",
   "execution_count": null,
   "id": "24a90fa7",
   "metadata": {},
   "outputs": [],
   "source": [
    "now=datetime.datetime.now()\n",
    "result['Create_Date']=now\n",
    "result['Create_By']='API Code'\n",
    "result['Create_Job_Id']=1\n",
    "\n",
    "result=result.fillna(0)\n",
    "\n",
    "result['valuation_date'] =  pd.to_datetime(result['valuation_date'], format='%d%m%Y',errors='coerce')\n",
    "\n",
    "result.replace({np.nan: None}, inplace = True)\n",
    "result['Create_Date'] = pd.to_datetime(result['Create_Date'])"
   ]
  },
  {
   "cell_type": "code",
   "execution_count": null,
   "id": "b2e874b9",
   "metadata": {},
   "outputs": [],
   "source": []
  },
  {
   "cell_type": "code",
   "execution_count": null,
   "id": "094460c9",
   "metadata": {},
   "outputs": [],
   "source": [
    "# result['valuation_date']"
   ]
  },
  {
   "cell_type": "code",
   "execution_count": null,
   "id": "2eed6e3d",
   "metadata": {},
   "outputs": [],
   "source": []
  },
  {
   "cell_type": "code",
   "execution_count": null,
   "id": "e3a74035",
   "metadata": {},
   "outputs": [],
   "source": [
    "result.dtypes\n"
   ]
  },
  {
   "cell_type": "code",
   "execution_count": null,
   "id": "cd8be0a9",
   "metadata": {
    "scrolled": true
   },
   "outputs": [],
   "source": []
  },
  {
   "cell_type": "code",
   "execution_count": null,
   "id": "77a0aad2",
   "metadata": {},
   "outputs": [],
   "source": [
    "for row in tqdm(result.itertuples()):\n",
    "    cursor.execute('''INSERT INTO [EXTL_DB].[CDSL].[Cdsl_Response_Output] (Api_Response_Code,Api_Success_Flag,Seqid,Demat_Account_Number,Pan,Ifsc_Code,Account_Number,Valuation_Date,Valuation,Create_Date,Create_By,Create_Job_Id) \n",
    "    VALUES (?,?,?,?,?,?,?,?,?,?,?,?)''',row.status_code,row.success,row.seqid,row.Demat_Account_Number,row.Pan,row.Ifsc_Code,row.bankaccountno,row.valuation_date,row.valuation,row.Create_Date,row.Create_By,row.Create_Job_Id)\n",
    "    cursor.execute(f\"UPDATE [EXTL_DB].[CDSL].[Cdsl_Request_Input] SET Api_Request_Sent = 1 WHERE Seqid={row.seqid}\")\n",
    "conn.commit()"
   ]
  },
  {
   "cell_type": "code",
   "execution_count": null,
   "id": "7904c72d",
   "metadata": {
    "scrolled": true
   },
   "outputs": [],
   "source": [
    "#this is for updation of [EXTL_DB].[CDSL].[Cdsl_Request_Input] column Api_Request_Sent\n",
    "#for row in tqdm(result.itertuples()):\n",
    "# cursor.execute('''UPDATE [EXTL_DB].[CDSL].[Cdsl_Request_Input] SET Api_Request_Sent = 1''')\n",
    "# conn.commit()\n",
    "\n"
   ]
  }
 ],
 "metadata": {
  "kernelspec": {
   "display_name": "Python 3",
   "language": "python",
   "name": "python3"
  },
  "language_info": {
   "codemirror_mode": {
    "name": "ipython",
    "version": 3
   },
   "file_extension": ".py",
   "mimetype": "text/x-python",
   "name": "python",
   "nbconvert_exporter": "python",
   "pygments_lexer": "ipython3",
   "version": "3.6.15"
  }
 },
 "nbformat": 4,
 "nbformat_minor": 5
}
