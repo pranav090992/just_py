{
 "cells": [
  {
   "cell_type": "code",
   "execution_count": null,
   "metadata": {},
   "outputs": [],
   "source": [
    "from rapidfuzz import fuzz,process\n",
    "import pandas as pd\n",
    "import re\n",
    "import pandas as pd\n",
    "import numpy as np\n",
    "import sqlalchemy\n",
    "from sqlalchemy import create_engine\n",
    "from datetime import datetime\n",
    "from dateutil.relativedelta import relativedelta\n",
    "import os\n",
    "import ast\n",
    "import xlrd\n",
    "import ast\n",
    "import xlsxwriter\n",
    "from tqdm import tqdm\n",
    "import openpyxl"
   ]
  },
  {
   "cell_type": "code",
   "execution_count": null,
   "metadata": {},
   "outputs": [],
   "source": [
    "pd.set_option(\"display.max_columns\",None)\n",
    "pd.set_option(\"display.max_rows\",None)\n",
    "pd.set_option(\"display.max_colwidth\",None)"
   ]
  },
  {
   "cell_type": "code",
   "execution_count": null,
   "metadata": {},
   "outputs": [],
   "source": [
    "sheet=pd.read_excel(r'Z:\\FiNnet_2.0\\In Progress\\NPO\\Except JK Punjab\\CBDT NPO List except JK Punjab.xlsx',sheet_name='FCRA distinct')\n",
    "# sheet['RE_Master']=sheet['RE_Master'].str.replace('PVT','PRIVATE')\n",
    "# sheet['RE_Master']=sheet['RE_Master'].str.replace('LTD','LIMITED')\n",
    "# sheet['RE_Master']=sheet['RE_Master'].str.replace('LLP','LIMITED LIABILITY PARTNERSHIP')\n",
    "re_name=sheet['FCRA']\n",
    "re_name.to_list()\n",
    "# re_name=[str(y).upper() for y in re_name]\n",
    "# print(re_name)\n",
    "# re_name.to_list()\n",
    "# re_name.dropna()\n",
    "# print(re_name.tail())\n",
    "# print(re_name)\n",
    "# pd1=pd.DataFrame(re_name)\n",
    "\n",
    "payment_ent_name_sheet=pd.read_excel(r'Z:\\FiNnet_2.0\\In Progress\\NPO\\Except JK Punjab\\CBDT NPO List except JK Punjab.xlsx',sheet_name='CBDT distinct')\n",
    "# payment_ent_name_sheet.dropna()\n",
    "# payment_ent_name_sheet['Entity']=payment_ent_name_sheet['Entity'].str.replace('PVT','PRIVATE')\n",
    "# payment_ent_name_sheet['Entity']=payment_ent_name_sheet['Entity'].str.replace('LTD','LIMITED')\n",
    "# payment_ent_name_sheet['Entity']=payment_ent_name_sheet['Entity'].str.replace('LLP','LIMITED LIABILITY PARTNERSHIP')\n",
    "payment_ent_name_sheet_col=payment_ent_name_sheet['CBDT'].to_list()\n",
    "\n",
    "# print(payment_ent_name)\n",
    "\n",
    "# # pd2=pd.DataFrame(payment_ent_name)\n",
    "\n",
    "\n",
    "# residual=pd.read_csv(r'C:\\Users\\SAL001\\Desktop\\ffmc study\\residual.csv',engine='python')\n",
    "# # payment_ent_name_sheet.columns=['NAME']\n",
    "# residual.dropna()\n",
    "# # =payment_ent_name_sheet['name']\n",
    "# # payment_ent_name=df.columns.str.rstrip()\n",
    "# # print(payment_ent_name)\n",
    "# residual=residual['name'].to_list()"
   ]
  },
  {
   "cell_type": "code",
   "execution_count": null,
   "metadata": {},
   "outputs": [],
   "source": [
    "# match_ratio=fuzz.ratio(row['pandora_personaddress'],row['fiu_commaddress'])\n",
    "# matches_list=process.extractBests(one_string, list_of_strings ,scorer=fuzz.token_sort_ratio,score_cutoff=65)\n",
    "payment_ent_name_sheet_col"
   ]
  },
  {
   "cell_type": "code",
   "execution_count": null,
   "metadata": {},
   "outputs": [],
   "source": [
    "# matches_list=process.extractBests('pran', list2 ,scorer=fuzz.token_sort_ratio,score_cutoff=80)"
   ]
  },
  {
   "cell_type": "code",
   "execution_count": null,
   "metadata": {},
   "outputs": [],
   "source": [
    "# print(matches_list)\n",
    "# df=pd.DataFrame()\n",
    "# l1 = df.apply(lambda x:rapidfuzz.fuzz.ratio(payment_ent_name_sheet_col, re_name), axis=1)"
   ]
  },
  {
   "cell_type": "code",
   "execution_count": null,
   "metadata": {},
   "outputs": [],
   "source": [
    "# match_ratio=fuzz.ratio(list1,list2)\n",
    "l1"
   ]
  },
  {
   "cell_type": "code",
   "execution_count": null,
   "metadata": {},
   "outputs": [],
   "source": [
    "# # filter_re_name=re_name.dropna()\n",
    "#re_name=re_name.astype(str)\n",
    "# payment_ent_name=payment_ent_name.astype(str)\n",
    "# print(type(re_name))\n",
    "\n",
    "# re_name=[str(y).upper() for y in re_name]\n",
    "# re_name=[y.replace(',','') for y in re_name]\n",
    "# re_name=[y.replace('!','') for y in re_name]\n",
    "# re_name=[y.replace('LTD','LIMITED') for y in re_name]\n",
    "# re_name=[y.replace('PVT','PRIVATE') for y in re_name]\n",
    "# # filter_re_name=[''.join(e for e in f if e.isalpha())for f in filter_re_name]\n",
    "# # filter_re_name=[re.sub('[^A-Za-z0-9]+','',_)for _ in filter_re_name]\n",
    "# pd1\n",
    "# payment_ent_name=payment_ent_name.dropna()\n",
    "# payment_ent_name_sheet_col=[str(i) for i in payment_ent_name_sheet_col]\n",
    "# payment_ent_name_sheet_col=[q.upper() for q in payment_ent_name_sheet_col]\n",
    "# payment_ent_name_sheet_col=[q.replace(',','') for q in payment_ent_name_sheet_col]\n",
    "# payment_ent_name_sheet_col=[q.replace('!','') for q in payment_ent_name_sheet_col]\n",
    "# payment_ent_name_sheet=[q.replace('LTD','LIMITED') for q in payment_ent_name_sheet]\n",
    "# payment_ent_name_sheet=[q.replace('PVT','PRIVATE') for q in payment_ent_name_sheet]\n",
    "# pd2\n",
    "\n",
    "# payment_ent_name_sheet_col=[re.sub('[^A-Z ]','',i) for i in payment_ent_name_sheet_col]\n",
    "\n",
    "# residual=[re.sub('[^A-Z ]','',i) for i in residual]"
   ]
  },
  {
   "cell_type": "code",
   "execution_count": null,
   "metadata": {},
   "outputs": [],
   "source": [
    "# for j in payment_ent_name_sheet_col:\n",
    "#     print(j.upper())"
   ]
  },
  {
   "cell_type": "code",
   "execution_count": null,
   "metadata": {},
   "outputs": [],
   "source": [
    "# payment_ent_name_sheet['clean_name']=payment_ent_name_sheet_col"
   ]
  },
  {
   "cell_type": "code",
   "execution_count": null,
   "metadata": {},
   "outputs": [],
   "source": [
    "# payment_ent_name_sheet.to_csv(r'C:\\Users\\SAL005\\Desktop\\nto str\\name fuzzy\\check1.csv')"
   ]
  },
  {
   "cell_type": "code",
   "execution_count": null,
   "metadata": {},
   "outputs": [],
   "source": [
    "# re_name=[re.sub('[^A-Z ]','',i) for i in re_name] "
   ]
  },
  {
   "cell_type": "code",
   "execution_count": null,
   "metadata": {
    "scrolled": true
   },
   "outputs": [],
   "source": [
    "# print(re_name)\n",
    "#print(payment_ent_name_sheet)\n",
    "# print(payment_ent_name_sheet)"
   ]
  },
  {
   "cell_type": "code",
   "execution_count": null,
   "metadata": {},
   "outputs": [],
   "source": [
    "d={}\n",
    "test=[]\n",
    "for i in tqdm(payment_ent_name_sheet_col):\n",
    "    matches_list=process.extract(i, re_name ,scorer=fuzz.token_sort_ratio,score_cutoff=75)\n",
    "    if matches_list!=[]:\n",
    "        d[i]=matches_list\n",
    "    for i in matches_list:\n",
    "        if i in payment_ent_name_sheet_col:\n",
    "            payment_ent_name_sheet_col.remove(i)"
   ]
  },
  {
   "cell_type": "code",
   "execution_count": null,
   "metadata": {},
   "outputs": [],
   "source": [
    "d"
   ]
  },
  {
   "cell_type": "code",
   "execution_count": null,
   "metadata": {},
   "outputs": [],
   "source": [
    "\n",
    "df=pd.DataFrame(d.items(), columns=['Entity', 'Matching Entity'])\n",
    "q=df['Matching Entity'].to_list()\n",
    "l1=[]\n",
    "for i in q:\n",
    "    p=set(ast.literal_eval(str(i)))\n",
    "    print(p)\n",
    "    l1.append(p)\n",
    "df['no_dupos']=l1\n",
    "# df.to_excel(r'Z:\\Manas\\Casino\\final_match.xlsx')"
   ]
  },
  {
   "cell_type": "code",
   "execution_count": null,
   "metadata": {},
   "outputs": [],
   "source": [
    "def ss(i):\n",
    "    a=ast.literal_eval(i)\n",
    "    a=list(a)\n",
    "    max1=-100\n",
    "    max_index=0\n",
    "    for j in range(len(a)):\n",
    "        #print(a[j])\n",
    "        #print(a[j][1])\n",
    "        if a[j][1]>max1:\n",
    "            max1=a[j][1]\n",
    "            max_index=j\n",
    "    return a[max_index]"
   ]
  },
  {
   "cell_type": "code",
   "execution_count": null,
   "metadata": {},
   "outputs": [],
   "source": [
    "df1['max_match']=df1['no_dupos'].apply(ss)"
   ]
  },
  {
   "cell_type": "code",
   "execution_count": null,
   "metadata": {},
   "outputs": [],
   "source": [
    "df1.to_excel(r'C:\\Users\\SAL005\\Desktop\\misc_dup_max.xlsx')"
   ]
  },
  {
   "cell_type": "code",
   "execution_count": null,
   "metadata": {},
   "outputs": [],
   "source": [
    "df1=pd.read_excel(r'C:\\Users\\SAL005\\Desktop\\misc_dup2.xlsx')"
   ]
  },
  {
   "cell_type": "code",
   "execution_count": null,
   "metadata": {},
   "outputs": [],
   "source": [
    "# matched_items=list(d.items())\n",
    "# #to_csv(r'C:\\Users\\SAL001\\Desktop\\payment_study\\1.csv')\n",
    "# print(matched_items)\n",
    "df1"
   ]
  },
  {
   "cell_type": "code",
   "execution_count": null,
   "metadata": {},
   "outputs": [],
   "source": [
    "test=[]\n",
    "for k in matched_items:\n",
    "    test.append(k[0])\n",
    "print(list(set(test)))\n",
    "# final_list=[]\n",
    "# length =len(test)\n",
    "\n",
    "# for z in range(length):\n",
    "#     final_list.append(test[z][0])\n",
    "# print(set(final_list))\n",
    "# print(pd2)\n",
    "\n",
    "pd2=pd.DataFrame(test)\n",
    "pd2.to_csv(r'C:\\Users\\SAL001\\Desktop\\adhoc\\matched.csv')"
   ]
  },
  {
   "cell_type": "code",
   "execution_count": null,
   "metadata": {},
   "outputs": [],
   "source": [
    "pd2"
   ]
  },
  {
   "cell_type": "code",
   "execution_count": null,
   "metadata": {},
   "outputs": [],
   "source": [
    "# res1=list(set(tuple(sorted(i))for i in res))"
   ]
  },
  {
   "cell_type": "code",
   "execution_count": null,
   "metadata": {},
   "outputs": [],
   "source": [
    "# PO_file=pd.read_csv(r'C:\\Users\\SAL001\\Desktop\\payment_study\\PO_LIST_19-Apr-2022_rakesh.csv',engine='python')\n",
    "# PO_file.head()\n",
    "# fiureid=['BASCB00042']"
   ]
  },
  {
   "cell_type": "code",
   "execution_count": null,
   "metadata": {},
   "outputs": [],
   "source": [
    "# result=PO_file.loc[PO_file['FIUREID']==fiureid[0]]\n",
    "# df=pd.DataFrame(result)\n",
    "# df.to_csv(r'C:\\Users\\SAL001\\Desktop\\payment_study\\3.csv')"
   ]
  },
  {
   "cell_type": "code",
   "execution_count": null,
   "metadata": {},
   "outputs": [],
   "source": [
    "id_tuple=tuple(final_list)\n",
    "sql2=\"select * from fincorebackup1.re where entityname in {};\".format(id_tuple)\n",
    "results=sql_exec(sql2,local)\n",
    "point2=final_results_rpt.append(results)\n",
    "point2.head()"
   ]
  },
  {
   "cell_type": "code",
   "execution_count": null,
   "metadata": {},
   "outputs": [],
   "source": [
    "x=[1,2,3,4]\n",
    "y=[2]\n",
    "z=[item for item in x if item not in y]"
   ]
  },
  {
   "cell_type": "code",
   "execution_count": null,
   "metadata": {},
   "outputs": [],
   "source": [
    "print(z)"
   ]
  },
  {
   "cell_type": "code",
   "execution_count": null,
   "metadata": {},
   "outputs": [],
   "source": [
    "reads=pd.read_csv(r'C:\\Users\\SAL001\\Desktop\\ffmc study\\95_percent.csv',engine='python')\n",
    "matched_name=reads['name'].to_list()\n",
    "matched_name=[str(i) for i in matched_name]\n",
    "matched_name=[q.upper() for q in matched_name]\n",
    "matched_name=[q.replace(',','') for q in matched_name]\n",
    "matched_name=[q.replace('!','') for q in matched_name]\n",
    "matched_name=[q.replace('LTD','LIMITED') for q in matched_name]\n",
    "matched_name=[q.replace('PVT','PRIVATE') for q in matched_name]\n",
    "# pd2\n",
    "\n",
    "matched_name=[re.sub('[^A-Z ]','',i) for i in matched_name]\n",
    "\n",
    "print(len(matched_name))"
   ]
  },
  {
   "cell_type": "code",
   "execution_count": null,
   "metadata": {},
   "outputs": [],
   "source": [
    "payment_ent_name_sheet=pd.read_csv(r'C:\\Users\\SAL001\\Desktop\\ffmc study\\final FMMA LIST_copy.csv',engine='python')\n",
    "# payment_ent_name_sheet=[q.upper() for q in payment_ent_name_sheet]\n",
    "payment_ent_name_sheet=payment_ent_name_sheet['NAME'].to_list()\n",
    "payment_ent_name_sheet=[str(i) for i in payment_ent_name_sheet]\n",
    "payment_ent_name_sheet=[q.upper() for q in payment_ent_name_sheet]\n",
    "payment_ent_name_sheet=[q.replace(',','') for q in payment_ent_name_sheet]\n",
    "payment_ent_name_sheet=[q.replace('!','') for q in payment_ent_name_sheet]\n",
    "payment_ent_name_sheet=[q.replace('LTD','LIMITED') for q in payment_ent_name_sheet]\n",
    "payment_ent_name_sheet=[q.replace('PVT','PRIVATE') for q in payment_ent_name_sheet]\n",
    "# pd2\n",
    "\n",
    "payment_ent_name_sheet=[re.sub('[^A-Z ]','',i) for i in payment_ent_name_sheet]\n",
    "# print(payment_ent_name_sheet)\n",
    "\n",
    "\n",
    "print(len(payment_ent_name_sheet))"
   ]
  },
  {
   "cell_type": "code",
   "execution_count": null,
   "metadata": {},
   "outputs": [],
   "source": [
    "remaining=[item for item in payment_ent_name_sheet if item not in matched_name]\n",
    "print(len(remaining))"
   ]
  },
  {
   "cell_type": "code",
   "execution_count": null,
   "metadata": {},
   "outputs": [],
   "source": [
    "pd3=pd.DataFrame(remaining)\n",
    "pd3.to_csv(r'C:\\Users\\SAL001\\Desktop\\ffmc study\\residual.csv')"
   ]
  },
  {
   "cell_type": "code",
   "execution_count": null,
   "metadata": {},
   "outputs": [],
   "source": []
  }
 ],
 "metadata": {
  "kernelspec": {
   "display_name": "Python 3",
   "language": "python",
   "name": "python3"
  },
  "language_info": {
   "codemirror_mode": {
    "name": "ipython",
    "version": 3
   },
   "file_extension": ".py",
   "mimetype": "text/x-python",
   "name": "python",
   "nbconvert_exporter": "python",
   "pygments_lexer": "ipython3",
   "version": "3.8.5"
  }
 },
 "nbformat": 4,
 "nbformat_minor": 4
}
