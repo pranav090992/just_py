{
 "cells": [
  {
   "cell_type": "code",
   "execution_count": 1,
   "metadata": {},
   "outputs": [],
   "source": [
    "import sqlalchemy\n",
    "import pyodbc\n",
    "from urllib.parse import quote\n",
    "import pandas as pd\n",
    "from tqdm import tqdm\n",
    "engine=sqlalchemy.create_engine('mssql+pyodbc://SAL_USR:%s@172.16.20.46:1433/HDM_DB?driver=ODBC+Driver+17+for+SQL+Server' % quote('HDM@123_'))"
   ]
  },
  {
   "cell_type": "code",
   "execution_count": 2,
   "metadata": {},
   "outputs": [],
   "source": [
    "def chunks(lst, n):\n",
    "    \"\"\"Yield successive n-sized chunks from lst.\"\"\"\n",
    "    for i in range(0, len(lst), n):\n",
    "        yield lst[i:i + n]"
   ]
  },
  {
   "cell_type": "code",
   "execution_count": 3,
   "metadata": {},
   "outputs": [],
   "source": [
    "pans_list = ['ABJPA6843P','BGCPS0192L','ACNPP3358F','BCYPT2965A','ANEPW7396G','CAZPC7158J','DKJPR8881J','BPUPN9580E','ADPPH6281C','DDQPK1853M','BMNPA5597E','APOPG2789R']"
   ]
  },
  {
   "cell_type": "code",
   "execution_count": 4,
   "metadata": {},
   "outputs": [],
   "source": [
    "def remove_list_brackets(list_):\n",
    "    str_no_list = str(list_)\n",
    "    str_no_list = str_no_list.replace('[','(').replace(']',')')\n",
    "    return str_no_list"
   ]
  },
  {
   "cell_type": "code",
   "execution_count": 6,
   "metadata": {},
   "outputs": [],
   "source": [
    "import os"
   ]
  },
  {
   "cell_type": "code",
   "execution_count": 7,
   "metadata": {},
   "outputs": [
    {
     "name": "stderr",
     "output_type": "stream",
     "text": [
      "100%|████████████████████████████████████████████████████████████████████████████████████| 2/2 [01:47<00:00, 53.72s/it]\n"
     ]
    }
   ],
   "source": [
    "for chunk in tqdm(list(chunks(pans_list,10))):\n",
    "        pans = remove_list_brackets(chunk)\n",
    "        ctes = ['cte1','cte2','cte3','cte4']\n",
    "        for cte in ctes:\n",
    "            query = f'''with cte1 as (select batchid,fiureid from [FINCORE_BACKUP_CC].[BATCH] where batchid between 1804010000 and 2303319999 and reporttype='CTR' and reportformattype='ARF' and batchtype<>'D' and batchid not in (select distinct originalbatchid from [FINCORE_BACKUP_CC].[BATCH] where batchid between 1804010000 and 2303319999)),\n",
    "\n",
    "            cte2 as (select batchid, rptsernum, trim(accountnum) accountnum, pan, mobile,commstatecode from [FINCORE_BACKUP_CC].[ARFLPE]\n",
    "            where batchid in (select batchid from cte1) and pan in {pans}\n",
    "            union\n",
    "            select batchid, rptsernum, trim(accountnum) accountnum, pan, mobile,commstatecode from [FINCORE_BACKUP_CC].[ARFINP]\n",
    "            where batchid in (select batchid from cte1) and pan in {pans}),\n",
    "            cte3 as (select pan, batchid, rptsernum, accountnum,sum(case when debitcredit='C' then amount end)credit_amount,sum(case when debitcredit='D' then amount end)debit_amount from(\n",
    "            select pan, t.batchid,t.rptsernum,trim(t.accountnum)accountnum,debitcredit,amount from [FINCORE_BACKUP_CC].[ARFTRN] t inner join (select distinct pan, batchid, rptsernum,trim(accountnum)accountnum from cte2) i\n",
    "            on t.batchid=i.batchid and t.rptsernum=i.rptsernum and trim(t.accountnum)=trim(i.accountnum))z\n",
    "            group by pan, batchid, rptsernum, accountnum),\n",
    "            cte4 as (select pan, sum(credit_amount)credit_amount, sum(debit_amount)debit_amount from cte3 group by pan), \n",
    "            cte5 as ( select pan, b.batchid, b.rptsernum, trim(b.accountnum)accountnum,statecode from [FINCORE_BACKUP_CC].[ARFBRC] b inner join \n",
    "            (select distinct pan, batchid, rptsernum,trim(accountnum)accountnum from cte2) i on b.batchid=i.batchid and b.rptsernum=i.rptsernum and trim(b.accountnum)=trim(i.accountnum))\n",
    "            select * from {cte}'''\n",
    "            results = pd.read_sql(query,engine)\n",
    "            results.to_csv(f\"C:\\\\Users\\\\SAL007\\\\Desktop\\\\15-06-2023_CTR\\\\{cte}.csv\",index=False,mode='a',header= not os.path.exists(f\"C:\\\\Users\\\\SAL007\\\\Desktop\\\\15-06-2023_CTR\\\\{cte}.csv\")) "
   ]
  }
 ],
 "metadata": {
  "kernelspec": {
   "display_name": "Python 3",
   "language": "python",
   "name": "python3"
  },
  "language_info": {
   "codemirror_mode": {
    "name": "ipython",
    "version": 3
   },
   "file_extension": ".py",
   "mimetype": "text/x-python",
   "name": "python",
   "nbconvert_exporter": "python",
   "pygments_lexer": "ipython3",
   "version": "3.8.5"
  }
 },
 "nbformat": 4,
 "nbformat_minor": 4
}
