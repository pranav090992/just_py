{
 "cells": [
  {
   "cell_type": "code",
   "execution_count": 13,
   "metadata": {},
   "outputs": [],
   "source": [
    "import pandas as pd\n",
    "import glob\n",
    "\n",
    "paths = glob.glob(r\"Z:\\FiNnet_2.0\\In Progress\\CMS & Micro ATM\\CMS_Bank account statement - Copy\\ICICI\\Annexure 2\\Annexure 2.zip\\Annexure 2c\\*.xlsx\")\n",
    "path_save = r\"Z:\\FiNnet_2.0\\In Progress\\CMS & Micro ATM\\CMS_Bank account statement - Copy\\ICICI\\Annexure 2\\Annexure 2.zip\\Annexure 2c\\finished.xlsx\"\n",
    "\n",
    "df_lst = [pd.read_excel(path, sheet_name=None).values() for path in paths]\n",
    "df_lst = [y.transpose().reset_index().transpose() for x in df_lst for y in x]\n",
    "df_result = pd.concat(df_lst, ignore_index=True)\n",
    "df_result.to_excel(path_save, index=False, header=False)"
   ]
  },
  {
   "cell_type": "code",
   "execution_count": null,
   "metadata": {},
   "outputs": [],
   "source": []
  }
 ],
 "metadata": {
  "kernelspec": {
   "display_name": "Python 3",
   "language": "python",
   "name": "python3"
  },
  "language_info": {
   "codemirror_mode": {
    "name": "ipython",
    "version": 3
   },
   "file_extension": ".py",
   "mimetype": "text/x-python",
   "name": "python",
   "nbconvert_exporter": "python",
   "pygments_lexer": "ipython3",
   "version": "3.8.5"
  }
 },
 "nbformat": 4,
 "nbformat_minor": 4
}
