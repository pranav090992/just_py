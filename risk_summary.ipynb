{
 "cells": [
  {
   "cell_type": "code",
   "execution_count": 769,
   "id": "1c9c158b",
   "metadata": {},
   "outputs": [],
   "source": [
    "import pyodbc\n",
    "import pandas as pd\n",
    "from tqdm import tqdm as tqdm"
   ]
  },
  {
   "cell_type": "code",
   "execution_count": 179,
   "id": "74bf308a",
   "metadata": {},
   "outputs": [],
   "source": [
    "# pyodbc.drivers()\n",
    "# # conn = pyodbc.connect('DRIVER=SQL SERVER;SERVER=172.16.33.27;PORT=1433;DATABASE=FINCORE_DB;UID=Fincore_App_USR;PWD=F!NCore@123;TDS_Version=7.2;')\n",
    "# conn = pyodbc.connect('DRIVER=SQL SERVER;SERVER=172.16.34.15;PORT=1433;DATABASE=FINCORE_DB;UID=FINCORE_ANALYTICS_USR;PWD=F!NCore@123;TDS_Version=7.2;')\n",
    "# # conn = pyodbc.connect('DRIVER=SQL SERVER;SERVER=172.16.27.39;PORT=1433;DATABASE=HDM_FINCORE_DB;UID=FINC_HDM_USR;PWD=#DM@2022;TDS_Version=7.2;')\n",
    "# cursor = conn.cursor()"
   ]
  },
  {
   "cell_type": "code",
   "execution_count": 192,
   "id": "8fa330dc",
   "metadata": {},
   "outputs": [],
   "source": [
    "# case_entities = 'BA00000333'\n",
    "# cmid = case_entities"
   ]
  },
  {
   "cell_type": "code",
   "execution_count": 181,
   "id": "315437a7",
   "metadata": {},
   "outputs": [],
   "source": [
    "# case_entities = pd.read_sql_query(\"select Case_Master_Id,Entity_Master_Id,Is_Main_Entity_Flag from FINCORE_DB.Fincore.Case_Entity where Is_Active_Flag= 1 and Case_Master_Id = '{}'\".format(case_entities),conn)"
   ]
  },
  {
   "cell_type": "code",
   "execution_count": 182,
   "id": "31539a80",
   "metadata": {},
   "outputs": [],
   "source": [
    "# main_entity = case_entities[case_entities['Is_Main_Entity_Flag'] == 1]['Entity_Master_Id'].to_list()"
   ]
  },
  {
   "cell_type": "code",
   "execution_count": 183,
   "id": "5834518a",
   "metadata": {},
   "outputs": [],
   "source": [
    "# main_entity.append(12)"
   ]
  },
  {
   "cell_type": "code",
   "execution_count": 184,
   "id": "5bfb6682",
   "metadata": {},
   "outputs": [
    {
     "data": {
      "text/plain": [
       "[7, 12]"
      ]
     },
     "execution_count": 184,
     "metadata": {},
     "output_type": "execute_result"
    }
   ],
   "source": [
    "# main_entity"
   ]
  },
  {
   "cell_type": "code",
   "execution_count": 321,
   "id": "39bbbddc",
   "metadata": {},
   "outputs": [],
   "source": [
    "# other_entity = case_entities[case_entities['Is_Main_Entity_Flag'] == 0]['Entity_Master_Id'].to_list()"
   ]
  },
  {
   "cell_type": "code",
   "execution_count": 322,
   "id": "f1f57d89",
   "metadata": {},
   "outputs": [],
   "source": [
    "# other_entity = other_entity[0]"
   ]
  },
  {
   "cell_type": "code",
   "execution_count": 323,
   "id": "bcefc9a2",
   "metadata": {},
   "outputs": [],
   "source": [
    "# other_entity.append(10)"
   ]
  },
  {
   "cell_type": "code",
   "execution_count": 324,
   "id": "9eec032b",
   "metadata": {},
   "outputs": [
    {
     "data": {
      "text/plain": [
       "[8, 10]"
      ]
     },
     "execution_count": 324,
     "metadata": {},
     "output_type": "execute_result"
    }
   ],
   "source": [
    "# other_entity"
   ]
  },
  {
   "cell_type": "code",
   "execution_count": 325,
   "id": "bc4434cc",
   "metadata": {},
   "outputs": [],
   "source": [
    "# risk_person = pd.read_sql_query(\"SELECT * FROM FINCORE_ANALYTICS.RISK_PERSON\",conn)"
   ]
  },
  {
   "cell_type": "code",
   "execution_count": 326,
   "id": "52d354ae",
   "metadata": {},
   "outputs": [
    {
     "data": {
      "text/html": [
       "<div>\n",
       "<style scoped>\n",
       "    .dataframe tbody tr th:only-of-type {\n",
       "        vertical-align: middle;\n",
       "    }\n",
       "\n",
       "    .dataframe tbody tr th {\n",
       "        vertical-align: top;\n",
       "    }\n",
       "\n",
       "    .dataframe thead th {\n",
       "        text-align: right;\n",
       "    }\n",
       "</style>\n",
       "<table border=\"1\" class=\"dataframe\">\n",
       "  <thead>\n",
       "    <tr style=\"text-align: right;\">\n",
       "      <th></th>\n",
       "      <th>PERSON_MASTER_ID</th>\n",
       "      <th>PEER_GROUP_ID</th>\n",
       "      <th>RISK_SCORE</th>\n",
       "      <th>RISK_RULE_LIST</th>\n",
       "      <th>CREATE_DATE</th>\n",
       "    </tr>\n",
       "  </thead>\n",
       "  <tbody>\n",
       "    <tr>\n",
       "      <th>0</th>\n",
       "      <td>1</td>\n",
       "      <td>Others_0</td>\n",
       "      <td>2</td>\n",
       "      <td>P002001007_P002001008_P003001004_P003001009</td>\n",
       "      <td>2022-12-06 12:02:04.147</td>\n",
       "    </tr>\n",
       "    <tr>\n",
       "      <th>1</th>\n",
       "      <td>2</td>\n",
       "      <td>Others_0</td>\n",
       "      <td>0</td>\n",
       "      <td>P002001007_P003001004</td>\n",
       "      <td>2022-12-06 12:02:04.147</td>\n",
       "    </tr>\n",
       "    <tr>\n",
       "      <th>2</th>\n",
       "      <td>3</td>\n",
       "      <td>Others_0</td>\n",
       "      <td>0</td>\n",
       "      <td>P002001007_P003001004</td>\n",
       "      <td>2022-12-06 12:02:04.147</td>\n",
       "    </tr>\n",
       "    <tr>\n",
       "      <th>3</th>\n",
       "      <td>4</td>\n",
       "      <td>Others_0</td>\n",
       "      <td>0</td>\n",
       "      <td>P002001007_P003001004</td>\n",
       "      <td>2022-12-06 12:02:04.150</td>\n",
       "    </tr>\n",
       "    <tr>\n",
       "      <th>4</th>\n",
       "      <td>5</td>\n",
       "      <td>Others_0</td>\n",
       "      <td>0</td>\n",
       "      <td>P002001007_P002001008_P003001004</td>\n",
       "      <td>2022-12-06 12:02:04.150</td>\n",
       "    </tr>\n",
       "    <tr>\n",
       "      <th>5</th>\n",
       "      <td>6</td>\n",
       "      <td>Others_0</td>\n",
       "      <td>0</td>\n",
       "      <td>P002001007_P002001008_P003001009</td>\n",
       "      <td>2022-12-06 12:02:04.150</td>\n",
       "    </tr>\n",
       "    <tr>\n",
       "      <th>6</th>\n",
       "      <td>7</td>\n",
       "      <td>Others_0</td>\n",
       "      <td>1</td>\n",
       "      <td>P002001007_P002001008_P003001004_P003001009</td>\n",
       "      <td>2022-12-06 12:02:04.150</td>\n",
       "    </tr>\n",
       "    <tr>\n",
       "      <th>7</th>\n",
       "      <td>8</td>\n",
       "      <td>Others_0</td>\n",
       "      <td>1</td>\n",
       "      <td>P002001007_P002001008_P003001004_P003001009</td>\n",
       "      <td>2022-12-06 12:02:04.150</td>\n",
       "    </tr>\n",
       "    <tr>\n",
       "      <th>8</th>\n",
       "      <td>9</td>\n",
       "      <td>Others_0</td>\n",
       "      <td>1</td>\n",
       "      <td>P002001007_P002001008_P003001004_P003001009</td>\n",
       "      <td>2022-12-06 12:02:04.153</td>\n",
       "    </tr>\n",
       "    <tr>\n",
       "      <th>9</th>\n",
       "      <td>10</td>\n",
       "      <td>Others_0</td>\n",
       "      <td>0</td>\n",
       "      <td>P002001007_P002001008</td>\n",
       "      <td>2022-12-06 12:02:04.153</td>\n",
       "    </tr>\n",
       "    <tr>\n",
       "      <th>10</th>\n",
       "      <td>11</td>\n",
       "      <td>Others_0</td>\n",
       "      <td>0</td>\n",
       "      <td>P002001007_P002001008_P003001009</td>\n",
       "      <td>2022-12-06 12:02:04.153</td>\n",
       "    </tr>\n",
       "    <tr>\n",
       "      <th>11</th>\n",
       "      <td>12</td>\n",
       "      <td>Others_0</td>\n",
       "      <td>0</td>\n",
       "      <td>P002001007_P002001008_P003001009</td>\n",
       "      <td>2022-12-06 12:02:04.157</td>\n",
       "    </tr>\n",
       "    <tr>\n",
       "      <th>12</th>\n",
       "      <td>13</td>\n",
       "      <td>Others_0</td>\n",
       "      <td>0</td>\n",
       "      <td>P002001007_P002001008_P003001009</td>\n",
       "      <td>2022-12-06 12:02:04.157</td>\n",
       "    </tr>\n",
       "    <tr>\n",
       "      <th>13</th>\n",
       "      <td>14</td>\n",
       "      <td>Others_0</td>\n",
       "      <td>0</td>\n",
       "      <td>P002001007_P002001008_P003001009</td>\n",
       "      <td>2022-12-06 12:02:04.157</td>\n",
       "    </tr>\n",
       "    <tr>\n",
       "      <th>14</th>\n",
       "      <td>15</td>\n",
       "      <td>Others_0</td>\n",
       "      <td>0</td>\n",
       "      <td>P002001007_P002001008_P003001009</td>\n",
       "      <td>2022-12-06 12:02:04.157</td>\n",
       "    </tr>\n",
       "    <tr>\n",
       "      <th>15</th>\n",
       "      <td>16</td>\n",
       "      <td>Others_0</td>\n",
       "      <td>0</td>\n",
       "      <td>P002001007_P002001008_P003001009</td>\n",
       "      <td>2022-12-06 12:02:04.160</td>\n",
       "    </tr>\n",
       "    <tr>\n",
       "      <th>16</th>\n",
       "      <td>17</td>\n",
       "      <td>Others_0</td>\n",
       "      <td>0</td>\n",
       "      <td>P002001007_P002001008_P003001009</td>\n",
       "      <td>2022-12-06 12:02:04.160</td>\n",
       "    </tr>\n",
       "    <tr>\n",
       "      <th>17</th>\n",
       "      <td>18</td>\n",
       "      <td>Others_0</td>\n",
       "      <td>0</td>\n",
       "      <td>P002001007_P002001008_P003001009</td>\n",
       "      <td>2022-12-06 12:02:04.160</td>\n",
       "    </tr>\n",
       "    <tr>\n",
       "      <th>18</th>\n",
       "      <td>19</td>\n",
       "      <td>Others_0</td>\n",
       "      <td>0</td>\n",
       "      <td>P002001007_P002001008_P003001009</td>\n",
       "      <td>2022-12-06 12:02:04.160</td>\n",
       "    </tr>\n",
       "    <tr>\n",
       "      <th>19</th>\n",
       "      <td>20</td>\n",
       "      <td>Others_0</td>\n",
       "      <td>1</td>\n",
       "      <td>P002001007_P002001008_P003001004_P003001009</td>\n",
       "      <td>2022-12-06 12:02:04.163</td>\n",
       "    </tr>\n",
       "    <tr>\n",
       "      <th>20</th>\n",
       "      <td>21</td>\n",
       "      <td>Others_0</td>\n",
       "      <td>1</td>\n",
       "      <td>P002001007_P002001008_P003001004_P003001009</td>\n",
       "      <td>2022-12-06 12:02:04.163</td>\n",
       "    </tr>\n",
       "    <tr>\n",
       "      <th>21</th>\n",
       "      <td>22</td>\n",
       "      <td>Others_0</td>\n",
       "      <td>2</td>\n",
       "      <td>P002001007_P002001008_P003001004_P003001009</td>\n",
       "      <td>2022-12-06 12:02:04.167</td>\n",
       "    </tr>\n",
       "    <tr>\n",
       "      <th>22</th>\n",
       "      <td>23</td>\n",
       "      <td>Others_0</td>\n",
       "      <td>1</td>\n",
       "      <td>P002001007_P002001008_P003001009</td>\n",
       "      <td>2022-12-06 12:02:04.167</td>\n",
       "    </tr>\n",
       "    <tr>\n",
       "      <th>23</th>\n",
       "      <td>24</td>\n",
       "      <td>Others_0</td>\n",
       "      <td>2</td>\n",
       "      <td>P002001007_P002001008_P003001009</td>\n",
       "      <td>2022-12-06 12:02:04.167</td>\n",
       "    </tr>\n",
       "    <tr>\n",
       "      <th>24</th>\n",
       "      <td>25</td>\n",
       "      <td>Others_0</td>\n",
       "      <td>0</td>\n",
       "      <td>P002001007_P003001009</td>\n",
       "      <td>2022-12-06 12:02:04.170</td>\n",
       "    </tr>\n",
       "    <tr>\n",
       "      <th>25</th>\n",
       "      <td>26</td>\n",
       "      <td>Others_0</td>\n",
       "      <td>1</td>\n",
       "      <td>P002001007_P002001008_P003001009</td>\n",
       "      <td>2022-12-06 12:02:04.170</td>\n",
       "    </tr>\n",
       "    <tr>\n",
       "      <th>26</th>\n",
       "      <td>27</td>\n",
       "      <td>Others_0</td>\n",
       "      <td>1</td>\n",
       "      <td>P002001007_P002001008_P003001009</td>\n",
       "      <td>2022-12-06 12:02:04.170</td>\n",
       "    </tr>\n",
       "    <tr>\n",
       "      <th>27</th>\n",
       "      <td>28</td>\n",
       "      <td>Others_0</td>\n",
       "      <td>1</td>\n",
       "      <td>P002001007_P002001008_P003001009</td>\n",
       "      <td>2022-12-06 12:02:04.170</td>\n",
       "    </tr>\n",
       "    <tr>\n",
       "      <th>28</th>\n",
       "      <td>29</td>\n",
       "      <td>Others_0</td>\n",
       "      <td>1</td>\n",
       "      <td>P002001007_P002001008_P003001009</td>\n",
       "      <td>2022-12-06 12:02:04.173</td>\n",
       "    </tr>\n",
       "    <tr>\n",
       "      <th>29</th>\n",
       "      <td>30</td>\n",
       "      <td>Others_0</td>\n",
       "      <td>1</td>\n",
       "      <td>P002001007_P002001008_P003001009</td>\n",
       "      <td>2022-12-06 12:02:04.173</td>\n",
       "    </tr>\n",
       "    <tr>\n",
       "      <th>30</th>\n",
       "      <td>31</td>\n",
       "      <td>Others_0</td>\n",
       "      <td>3</td>\n",
       "      <td>P002001007_P002001008_P003001009</td>\n",
       "      <td>2022-12-06 12:02:04.173</td>\n",
       "    </tr>\n",
       "    <tr>\n",
       "      <th>31</th>\n",
       "      <td>32</td>\n",
       "      <td>Others_0</td>\n",
       "      <td>1</td>\n",
       "      <td>P002001007_P002001008_P003001009</td>\n",
       "      <td>2022-12-06 12:02:04.173</td>\n",
       "    </tr>\n",
       "    <tr>\n",
       "      <th>32</th>\n",
       "      <td>33</td>\n",
       "      <td>Others_0</td>\n",
       "      <td>1</td>\n",
       "      <td>P002001007_P002001008_P003001004_P003001009</td>\n",
       "      <td>2022-12-06 12:02:04.173</td>\n",
       "    </tr>\n",
       "    <tr>\n",
       "      <th>33</th>\n",
       "      <td>34</td>\n",
       "      <td>Others_0</td>\n",
       "      <td>1</td>\n",
       "      <td>P002001007_P003001004_P003001009</td>\n",
       "      <td>2022-12-06 12:02:04.177</td>\n",
       "    </tr>\n",
       "    <tr>\n",
       "      <th>34</th>\n",
       "      <td>35</td>\n",
       "      <td>Others_0</td>\n",
       "      <td>1</td>\n",
       "      <td>P002001007_P002001008_P003001009</td>\n",
       "      <td>2022-12-06 12:02:04.177</td>\n",
       "    </tr>\n",
       "    <tr>\n",
       "      <th>35</th>\n",
       "      <td>36</td>\n",
       "      <td>Others_0</td>\n",
       "      <td>1</td>\n",
       "      <td>P002001007_P002001008_P003001009</td>\n",
       "      <td>2022-12-06 12:02:04.177</td>\n",
       "    </tr>\n",
       "    <tr>\n",
       "      <th>36</th>\n",
       "      <td>37</td>\n",
       "      <td>Others_0</td>\n",
       "      <td>1</td>\n",
       "      <td>P002001007_P002001008_P003001009</td>\n",
       "      <td>2022-12-06 12:02:04.177</td>\n",
       "    </tr>\n",
       "    <tr>\n",
       "      <th>37</th>\n",
       "      <td>38</td>\n",
       "      <td>Others_0</td>\n",
       "      <td>1</td>\n",
       "      <td>P002001007_P002001008_P003001009</td>\n",
       "      <td>2022-12-06 12:02:04.180</td>\n",
       "    </tr>\n",
       "    <tr>\n",
       "      <th>38</th>\n",
       "      <td>39</td>\n",
       "      <td>Others_0</td>\n",
       "      <td>1</td>\n",
       "      <td>P002001007_P002001008_P003001009</td>\n",
       "      <td>2022-12-06 12:02:04.180</td>\n",
       "    </tr>\n",
       "    <tr>\n",
       "      <th>39</th>\n",
       "      <td>40</td>\n",
       "      <td>Others_0</td>\n",
       "      <td>1</td>\n",
       "      <td>P002001007_P002001008_P003001009</td>\n",
       "      <td>2022-12-06 12:02:04.180</td>\n",
       "    </tr>\n",
       "    <tr>\n",
       "      <th>40</th>\n",
       "      <td>41</td>\n",
       "      <td>Others_0</td>\n",
       "      <td>1</td>\n",
       "      <td>P002001007_P002001008_P003001009</td>\n",
       "      <td>2022-12-06 12:02:04.180</td>\n",
       "    </tr>\n",
       "    <tr>\n",
       "      <th>41</th>\n",
       "      <td>42</td>\n",
       "      <td>Others_0</td>\n",
       "      <td>3</td>\n",
       "      <td>P002001007_P002001008_P003001009</td>\n",
       "      <td>2022-12-06 12:02:04.183</td>\n",
       "    </tr>\n",
       "  </tbody>\n",
       "</table>\n",
       "</div>"
      ],
      "text/plain": [
       "    PERSON_MASTER_ID PEER_GROUP_ID  RISK_SCORE  \\\n",
       "0                  1      Others_0           2   \n",
       "1                  2      Others_0           0   \n",
       "2                  3      Others_0           0   \n",
       "3                  4      Others_0           0   \n",
       "4                  5      Others_0           0   \n",
       "5                  6      Others_0           0   \n",
       "6                  7      Others_0           1   \n",
       "7                  8      Others_0           1   \n",
       "8                  9      Others_0           1   \n",
       "9                 10      Others_0           0   \n",
       "10                11      Others_0           0   \n",
       "11                12      Others_0           0   \n",
       "12                13      Others_0           0   \n",
       "13                14      Others_0           0   \n",
       "14                15      Others_0           0   \n",
       "15                16      Others_0           0   \n",
       "16                17      Others_0           0   \n",
       "17                18      Others_0           0   \n",
       "18                19      Others_0           0   \n",
       "19                20      Others_0           1   \n",
       "20                21      Others_0           1   \n",
       "21                22      Others_0           2   \n",
       "22                23      Others_0           1   \n",
       "23                24      Others_0           2   \n",
       "24                25      Others_0           0   \n",
       "25                26      Others_0           1   \n",
       "26                27      Others_0           1   \n",
       "27                28      Others_0           1   \n",
       "28                29      Others_0           1   \n",
       "29                30      Others_0           1   \n",
       "30                31      Others_0           3   \n",
       "31                32      Others_0           1   \n",
       "32                33      Others_0           1   \n",
       "33                34      Others_0           1   \n",
       "34                35      Others_0           1   \n",
       "35                36      Others_0           1   \n",
       "36                37      Others_0           1   \n",
       "37                38      Others_0           1   \n",
       "38                39      Others_0           1   \n",
       "39                40      Others_0           1   \n",
       "40                41      Others_0           1   \n",
       "41                42      Others_0           3   \n",
       "\n",
       "                                 RISK_RULE_LIST             CREATE_DATE  \n",
       "0   P002001007_P002001008_P003001004_P003001009 2022-12-06 12:02:04.147  \n",
       "1                         P002001007_P003001004 2022-12-06 12:02:04.147  \n",
       "2                         P002001007_P003001004 2022-12-06 12:02:04.147  \n",
       "3                         P002001007_P003001004 2022-12-06 12:02:04.150  \n",
       "4              P002001007_P002001008_P003001004 2022-12-06 12:02:04.150  \n",
       "5              P002001007_P002001008_P003001009 2022-12-06 12:02:04.150  \n",
       "6   P002001007_P002001008_P003001004_P003001009 2022-12-06 12:02:04.150  \n",
       "7   P002001007_P002001008_P003001004_P003001009 2022-12-06 12:02:04.150  \n",
       "8   P002001007_P002001008_P003001004_P003001009 2022-12-06 12:02:04.153  \n",
       "9                         P002001007_P002001008 2022-12-06 12:02:04.153  \n",
       "10             P002001007_P002001008_P003001009 2022-12-06 12:02:04.153  \n",
       "11             P002001007_P002001008_P003001009 2022-12-06 12:02:04.157  \n",
       "12             P002001007_P002001008_P003001009 2022-12-06 12:02:04.157  \n",
       "13             P002001007_P002001008_P003001009 2022-12-06 12:02:04.157  \n",
       "14             P002001007_P002001008_P003001009 2022-12-06 12:02:04.157  \n",
       "15             P002001007_P002001008_P003001009 2022-12-06 12:02:04.160  \n",
       "16             P002001007_P002001008_P003001009 2022-12-06 12:02:04.160  \n",
       "17             P002001007_P002001008_P003001009 2022-12-06 12:02:04.160  \n",
       "18             P002001007_P002001008_P003001009 2022-12-06 12:02:04.160  \n",
       "19  P002001007_P002001008_P003001004_P003001009 2022-12-06 12:02:04.163  \n",
       "20  P002001007_P002001008_P003001004_P003001009 2022-12-06 12:02:04.163  \n",
       "21  P002001007_P002001008_P003001004_P003001009 2022-12-06 12:02:04.167  \n",
       "22             P002001007_P002001008_P003001009 2022-12-06 12:02:04.167  \n",
       "23             P002001007_P002001008_P003001009 2022-12-06 12:02:04.167  \n",
       "24                        P002001007_P003001009 2022-12-06 12:02:04.170  \n",
       "25             P002001007_P002001008_P003001009 2022-12-06 12:02:04.170  \n",
       "26             P002001007_P002001008_P003001009 2022-12-06 12:02:04.170  \n",
       "27             P002001007_P002001008_P003001009 2022-12-06 12:02:04.170  \n",
       "28             P002001007_P002001008_P003001009 2022-12-06 12:02:04.173  \n",
       "29             P002001007_P002001008_P003001009 2022-12-06 12:02:04.173  \n",
       "30             P002001007_P002001008_P003001009 2022-12-06 12:02:04.173  \n",
       "31             P002001007_P002001008_P003001009 2022-12-06 12:02:04.173  \n",
       "32  P002001007_P002001008_P003001004_P003001009 2022-12-06 12:02:04.173  \n",
       "33             P002001007_P003001004_P003001009 2022-12-06 12:02:04.177  \n",
       "34             P002001007_P002001008_P003001009 2022-12-06 12:02:04.177  \n",
       "35             P002001007_P002001008_P003001009 2022-12-06 12:02:04.177  \n",
       "36             P002001007_P002001008_P003001009 2022-12-06 12:02:04.177  \n",
       "37             P002001007_P002001008_P003001009 2022-12-06 12:02:04.180  \n",
       "38             P002001007_P002001008_P003001009 2022-12-06 12:02:04.180  \n",
       "39             P002001007_P002001008_P003001009 2022-12-06 12:02:04.180  \n",
       "40             P002001007_P002001008_P003001009 2022-12-06 12:02:04.180  \n",
       "41             P002001007_P002001008_P003001009 2022-12-06 12:02:04.183  "
      ]
     },
     "execution_count": 326,
     "metadata": {},
     "output_type": "execute_result"
    }
   ],
   "source": [
    "# risk_person "
   ]
  },
  {
   "cell_type": "code",
   "execution_count": 327,
   "id": "217ab406",
   "metadata": {},
   "outputs": [],
   "source": [
    "# auto_high_rules = pd.read_sql_query(\"Select * from fincore_analytics.risk_lkp_rules where   RISK_TYPE = 'Auto High Rules ' and IS_ACTIVE_FLAG = 1\",conn)"
   ]
  },
  {
   "cell_type": "code",
   "execution_count": 328,
   "id": "2887309e",
   "metadata": {},
   "outputs": [],
   "source": [
    "# auto_high_rules = auto_high_rules['RULE_NO'].to_list()"
   ]
  },
  {
   "cell_type": "code",
   "execution_count": 329,
   "id": "5d7387e7",
   "metadata": {},
   "outputs": [
    {
     "data": {
      "text/plain": [
       "['O001001000',\n",
       " 'O001003000',\n",
       " 'O001004000',\n",
       " 'O001005000',\n",
       " 'O001006000',\n",
       " 'O001007000',\n",
       " 'P001001000',\n",
       " 'P001003000',\n",
       " 'P001004000',\n",
       " 'P001006000']"
      ]
     },
     "execution_count": 329,
     "metadata": {},
     "output_type": "execute_result"
    }
   ],
   "source": [
    "# auto_high_rules"
   ]
  },
  {
   "cell_type": "code",
   "execution_count": 330,
   "id": "bd6ebd15",
   "metadata": {},
   "outputs": [],
   "source": [
    "# def rules_triggered(a,b):\n",
    "#     result = [i for i in a if i in b]\n",
    "#     return result"
   ]
  },
  {
   "cell_type": "code",
   "execution_count": 331,
   "id": "05195d75",
   "metadata": {},
   "outputs": [],
   "source": [
    "# auto_df = []\n",
    "# for ind,row in risk_person.iterrows():\n",
    "#         l = []\n",
    "#         l = list(row['RISK_RULE_LIST'].split('_'))\n",
    "#         auto = row['PERSON_MASTER_ID'],rules_triggered(l,auto_high_rules)\n",
    "#         auto = list(auto)\n",
    "#         auto_df.append(auto)\n",
    "        \n",
    "        "
   ]
  },
  {
   "cell_type": "code",
   "execution_count": 332,
   "id": "b6e1444e",
   "metadata": {},
   "outputs": [],
   "source": [
    "# auto_df = pd.DataFrame(auto_df,columns = ['PERSON_MASTER_ID','RULES_TRIGGERED'])"
   ]
  },
  {
   "cell_type": "code",
   "execution_count": 333,
   "id": "270a42cb",
   "metadata": {},
   "outputs": [
    {
     "data": {
      "text/html": [
       "<div>\n",
       "<style scoped>\n",
       "    .dataframe tbody tr th:only-of-type {\n",
       "        vertical-align: middle;\n",
       "    }\n",
       "\n",
       "    .dataframe tbody tr th {\n",
       "        vertical-align: top;\n",
       "    }\n",
       "\n",
       "    .dataframe thead th {\n",
       "        text-align: right;\n",
       "    }\n",
       "</style>\n",
       "<table border=\"1\" class=\"dataframe\">\n",
       "  <thead>\n",
       "    <tr style=\"text-align: right;\">\n",
       "      <th></th>\n",
       "      <th>PERSON_MASTER_ID</th>\n",
       "      <th>RULES_TRIGGERED</th>\n",
       "    </tr>\n",
       "  </thead>\n",
       "  <tbody>\n",
       "    <tr>\n",
       "      <th>0</th>\n",
       "      <td>1</td>\n",
       "      <td>[]</td>\n",
       "    </tr>\n",
       "    <tr>\n",
       "      <th>1</th>\n",
       "      <td>2</td>\n",
       "      <td>[]</td>\n",
       "    </tr>\n",
       "    <tr>\n",
       "      <th>2</th>\n",
       "      <td>3</td>\n",
       "      <td>[]</td>\n",
       "    </tr>\n",
       "    <tr>\n",
       "      <th>3</th>\n",
       "      <td>4</td>\n",
       "      <td>[]</td>\n",
       "    </tr>\n",
       "    <tr>\n",
       "      <th>4</th>\n",
       "      <td>5</td>\n",
       "      <td>[]</td>\n",
       "    </tr>\n",
       "    <tr>\n",
       "      <th>5</th>\n",
       "      <td>6</td>\n",
       "      <td>[]</td>\n",
       "    </tr>\n",
       "    <tr>\n",
       "      <th>6</th>\n",
       "      <td>7</td>\n",
       "      <td>[]</td>\n",
       "    </tr>\n",
       "    <tr>\n",
       "      <th>7</th>\n",
       "      <td>8</td>\n",
       "      <td>[]</td>\n",
       "    </tr>\n",
       "    <tr>\n",
       "      <th>8</th>\n",
       "      <td>9</td>\n",
       "      <td>[]</td>\n",
       "    </tr>\n",
       "    <tr>\n",
       "      <th>9</th>\n",
       "      <td>10</td>\n",
       "      <td>[]</td>\n",
       "    </tr>\n",
       "    <tr>\n",
       "      <th>10</th>\n",
       "      <td>11</td>\n",
       "      <td>[]</td>\n",
       "    </tr>\n",
       "    <tr>\n",
       "      <th>11</th>\n",
       "      <td>12</td>\n",
       "      <td>[]</td>\n",
       "    </tr>\n",
       "    <tr>\n",
       "      <th>12</th>\n",
       "      <td>13</td>\n",
       "      <td>[]</td>\n",
       "    </tr>\n",
       "    <tr>\n",
       "      <th>13</th>\n",
       "      <td>14</td>\n",
       "      <td>[]</td>\n",
       "    </tr>\n",
       "    <tr>\n",
       "      <th>14</th>\n",
       "      <td>15</td>\n",
       "      <td>[]</td>\n",
       "    </tr>\n",
       "    <tr>\n",
       "      <th>15</th>\n",
       "      <td>16</td>\n",
       "      <td>[]</td>\n",
       "    </tr>\n",
       "    <tr>\n",
       "      <th>16</th>\n",
       "      <td>17</td>\n",
       "      <td>[]</td>\n",
       "    </tr>\n",
       "    <tr>\n",
       "      <th>17</th>\n",
       "      <td>18</td>\n",
       "      <td>[]</td>\n",
       "    </tr>\n",
       "    <tr>\n",
       "      <th>18</th>\n",
       "      <td>19</td>\n",
       "      <td>[]</td>\n",
       "    </tr>\n",
       "    <tr>\n",
       "      <th>19</th>\n",
       "      <td>20</td>\n",
       "      <td>[]</td>\n",
       "    </tr>\n",
       "    <tr>\n",
       "      <th>20</th>\n",
       "      <td>21</td>\n",
       "      <td>[]</td>\n",
       "    </tr>\n",
       "    <tr>\n",
       "      <th>21</th>\n",
       "      <td>22</td>\n",
       "      <td>[]</td>\n",
       "    </tr>\n",
       "    <tr>\n",
       "      <th>22</th>\n",
       "      <td>23</td>\n",
       "      <td>[]</td>\n",
       "    </tr>\n",
       "    <tr>\n",
       "      <th>23</th>\n",
       "      <td>24</td>\n",
       "      <td>[]</td>\n",
       "    </tr>\n",
       "    <tr>\n",
       "      <th>24</th>\n",
       "      <td>25</td>\n",
       "      <td>[]</td>\n",
       "    </tr>\n",
       "    <tr>\n",
       "      <th>25</th>\n",
       "      <td>26</td>\n",
       "      <td>[]</td>\n",
       "    </tr>\n",
       "    <tr>\n",
       "      <th>26</th>\n",
       "      <td>27</td>\n",
       "      <td>[]</td>\n",
       "    </tr>\n",
       "    <tr>\n",
       "      <th>27</th>\n",
       "      <td>28</td>\n",
       "      <td>[]</td>\n",
       "    </tr>\n",
       "    <tr>\n",
       "      <th>28</th>\n",
       "      <td>29</td>\n",
       "      <td>[]</td>\n",
       "    </tr>\n",
       "    <tr>\n",
       "      <th>29</th>\n",
       "      <td>30</td>\n",
       "      <td>[]</td>\n",
       "    </tr>\n",
       "    <tr>\n",
       "      <th>30</th>\n",
       "      <td>31</td>\n",
       "      <td>[]</td>\n",
       "    </tr>\n",
       "    <tr>\n",
       "      <th>31</th>\n",
       "      <td>32</td>\n",
       "      <td>[]</td>\n",
       "    </tr>\n",
       "    <tr>\n",
       "      <th>32</th>\n",
       "      <td>33</td>\n",
       "      <td>[]</td>\n",
       "    </tr>\n",
       "    <tr>\n",
       "      <th>33</th>\n",
       "      <td>34</td>\n",
       "      <td>[]</td>\n",
       "    </tr>\n",
       "    <tr>\n",
       "      <th>34</th>\n",
       "      <td>35</td>\n",
       "      <td>[]</td>\n",
       "    </tr>\n",
       "    <tr>\n",
       "      <th>35</th>\n",
       "      <td>36</td>\n",
       "      <td>[]</td>\n",
       "    </tr>\n",
       "    <tr>\n",
       "      <th>36</th>\n",
       "      <td>37</td>\n",
       "      <td>[]</td>\n",
       "    </tr>\n",
       "    <tr>\n",
       "      <th>37</th>\n",
       "      <td>38</td>\n",
       "      <td>[]</td>\n",
       "    </tr>\n",
       "    <tr>\n",
       "      <th>38</th>\n",
       "      <td>39</td>\n",
       "      <td>[]</td>\n",
       "    </tr>\n",
       "    <tr>\n",
       "      <th>39</th>\n",
       "      <td>40</td>\n",
       "      <td>[]</td>\n",
       "    </tr>\n",
       "    <tr>\n",
       "      <th>40</th>\n",
       "      <td>41</td>\n",
       "      <td>[]</td>\n",
       "    </tr>\n",
       "    <tr>\n",
       "      <th>41</th>\n",
       "      <td>42</td>\n",
       "      <td>[]</td>\n",
       "    </tr>\n",
       "  </tbody>\n",
       "</table>\n",
       "</div>"
      ],
      "text/plain": [
       "    PERSON_MASTER_ID RULES_TRIGGERED\n",
       "0                  1              []\n",
       "1                  2              []\n",
       "2                  3              []\n",
       "3                  4              []\n",
       "4                  5              []\n",
       "5                  6              []\n",
       "6                  7              []\n",
       "7                  8              []\n",
       "8                  9              []\n",
       "9                 10              []\n",
       "10                11              []\n",
       "11                12              []\n",
       "12                13              []\n",
       "13                14              []\n",
       "14                15              []\n",
       "15                16              []\n",
       "16                17              []\n",
       "17                18              []\n",
       "18                19              []\n",
       "19                20              []\n",
       "20                21              []\n",
       "21                22              []\n",
       "22                23              []\n",
       "23                24              []\n",
       "24                25              []\n",
       "25                26              []\n",
       "26                27              []\n",
       "27                28              []\n",
       "28                29              []\n",
       "29                30              []\n",
       "30                31              []\n",
       "31                32              []\n",
       "32                33              []\n",
       "33                34              []\n",
       "34                35              []\n",
       "35                36              []\n",
       "36                37              []\n",
       "37                38              []\n",
       "38                39              []\n",
       "39                40              []\n",
       "40                41              []\n",
       "41                42              []"
      ]
     },
     "execution_count": 333,
     "metadata": {},
     "output_type": "execute_result"
    }
   ],
   "source": [
    "# auto_df"
   ]
  },
  {
   "cell_type": "code",
   "execution_count": 334,
   "id": "8fae981c",
   "metadata": {},
   "outputs": [],
   "source": [
    "# auto_df['RULES_TRIGGERED']=auto_df['RULES_TRIGGERED'].astype(str)\n",
    "# auto_df=auto_df[auto_df['RULES_TRIGGERED']!='[]']"
   ]
  },
  {
   "cell_type": "code",
   "execution_count": 335,
   "id": "a189f5f0",
   "metadata": {},
   "outputs": [
    {
     "name": "stderr",
     "output_type": "stream",
     "text": [
      "C:\\Users\\FIU\\anaconda3\\lib\\site-packages\\pandas\\core\\frame.py:4308: SettingWithCopyWarning: \n",
      "A value is trying to be set on a copy of a slice from a DataFrame\n",
      "\n",
      "See the caveats in the documentation: https://pandas.pydata.org/pandas-docs/stable/user_guide/indexing.html#returning-a-view-versus-a-copy\n",
      "  return super().drop(\n"
     ]
    }
   ],
   "source": [
    "# auto_df.reset_index(inplace = True)\n",
    "# auto_df.drop(columns = ['index'],inplace = True)"
   ]
  },
  {
   "cell_type": "code",
   "execution_count": 135,
   "id": "5b20c71b",
   "metadata": {},
   "outputs": [
    {
     "name": "stdout",
     "output_type": "stream",
     "text": [
      "<class 'pandas.core.frame.DataFrame'>\n",
      "RangeIndex: 0 entries\n",
      "Data columns (total 2 columns):\n",
      " #   Column            Non-Null Count  Dtype \n",
      "---  ------            --------------  ----- \n",
      " 0   PERSON_MASTER_ID  0 non-null      int64 \n",
      " 1   RULES_TRIGGERED   0 non-null      object\n",
      "dtypes: int64(1), object(1)\n",
      "memory usage: 124.0+ bytes\n"
     ]
    }
   ],
   "source": [
    "# auto_df.info()"
   ]
  },
  {
   "cell_type": "code",
   "execution_count": 337,
   "id": "a49e2747",
   "metadata": {},
   "outputs": [],
   "source": [
    "# for ind,row in auto_df.iterrows():\n",
    "#     auto_df['RULES_TRIGGERED'][ind] = auto_df['RULES_TRIGGERED'][ind].replace('[','')\n",
    "#     auto_df['RULES_TRIGGERED'][ind] = auto_df['RULES_TRIGGERED'][ind].replace(']','')\n",
    "#     auto_df['RULES_TRIGGERED'][ind] = auto_df['RULES_TRIGGERED'][ind].replace('\\'','')"
   ]
  },
  {
   "cell_type": "code",
   "execution_count": 134,
   "id": "715d5605",
   "metadata": {},
   "outputs": [
    {
     "data": {
      "text/plain": [
       "int"
      ]
     },
     "execution_count": 134,
     "metadata": {},
     "output_type": "execute_result"
    }
   ],
   "source": []
  },
  {
   "cell_type": "code",
   "execution_count": 341,
   "id": "557e6b27",
   "metadata": {},
   "outputs": [],
   "source": [
    "# auto_df = auto_df[auto_df['PERSON_MASTER_ID'].isin(main_entity)]"
   ]
  },
  {
   "cell_type": "code",
   "execution_count": 342,
   "id": "520e444b",
   "metadata": {},
   "outputs": [],
   "source": [
    "# auto_high_triggered_main = auto_df[auto_df['PERSON_MASTER_ID'].isin(main_entity)]"
   ]
  },
  {
   "cell_type": "code",
   "execution_count": 343,
   "id": "ad99079a",
   "metadata": {},
   "outputs": [
    {
     "data": {
      "text/html": [
       "<div>\n",
       "<style scoped>\n",
       "    .dataframe tbody tr th:only-of-type {\n",
       "        vertical-align: middle;\n",
       "    }\n",
       "\n",
       "    .dataframe tbody tr th {\n",
       "        vertical-align: top;\n",
       "    }\n",
       "\n",
       "    .dataframe thead th {\n",
       "        text-align: right;\n",
       "    }\n",
       "</style>\n",
       "<table border=\"1\" class=\"dataframe\">\n",
       "  <thead>\n",
       "    <tr style=\"text-align: right;\">\n",
       "      <th></th>\n",
       "      <th>PERSON_MASTER_ID</th>\n",
       "      <th>RULES_TRIGGERED</th>\n",
       "    </tr>\n",
       "  </thead>\n",
       "  <tbody>\n",
       "  </tbody>\n",
       "</table>\n",
       "</div>"
      ],
      "text/plain": [
       "Empty DataFrame\n",
       "Columns: [PERSON_MASTER_ID, RULES_TRIGGERED]\n",
       "Index: []"
      ]
     },
     "execution_count": 343,
     "metadata": {},
     "output_type": "execute_result"
    }
   ],
   "source": [
    "# auto_high_triggered_main"
   ]
  },
  {
   "cell_type": "code",
   "execution_count": 344,
   "id": "135abbe5",
   "metadata": {},
   "outputs": [],
   "source": [
    "# other_entity = [9,10]"
   ]
  },
  {
   "cell_type": "code",
   "execution_count": 345,
   "id": "626e26f4",
   "metadata": {},
   "outputs": [],
   "source": [
    "# auto_high_triggered_other = auto_df[auto_df['PERSON_MASTER_ID'].isin(other_entity) ]"
   ]
  },
  {
   "cell_type": "code",
   "execution_count": 346,
   "id": "6fe27ac3",
   "metadata": {},
   "outputs": [
    {
     "data": {
      "text/html": [
       "<div>\n",
       "<style scoped>\n",
       "    .dataframe tbody tr th:only-of-type {\n",
       "        vertical-align: middle;\n",
       "    }\n",
       "\n",
       "    .dataframe tbody tr th {\n",
       "        vertical-align: top;\n",
       "    }\n",
       "\n",
       "    .dataframe thead th {\n",
       "        text-align: right;\n",
       "    }\n",
       "</style>\n",
       "<table border=\"1\" class=\"dataframe\">\n",
       "  <thead>\n",
       "    <tr style=\"text-align: right;\">\n",
       "      <th></th>\n",
       "      <th>PERSON_MASTER_ID</th>\n",
       "      <th>RULES_TRIGGERED</th>\n",
       "    </tr>\n",
       "  </thead>\n",
       "  <tbody>\n",
       "  </tbody>\n",
       "</table>\n",
       "</div>"
      ],
      "text/plain": [
       "Empty DataFrame\n",
       "Columns: [PERSON_MASTER_ID, RULES_TRIGGERED]\n",
       "Index: []"
      ]
     },
     "execution_count": 346,
     "metadata": {},
     "output_type": "execute_result"
    }
   ],
   "source": [
    "# auto_high_triggered_other"
   ]
  },
  {
   "cell_type": "code",
   "execution_count": 347,
   "id": "98a5247d",
   "metadata": {},
   "outputs": [],
   "source": [
    "# watchlist = pd.read_sql_query(\"select PERSON_MASTER_ID,RULE_NO,string_agg(RULE_VALUE,',') within group (order by rule_no)  as rule_value from FINCORE_DB.Fincore_Analytics.RISK_PERSON_SUMMARY_STG_RULES where RULE_NO in ('P001001000', 'P001003000')group by PERSON_MASTER_ID,RULE_NO\",conn)"
   ]
  },
  {
   "cell_type": "code",
   "execution_count": 349,
   "id": "bb5792e4",
   "metadata": {},
   "outputs": [],
   "source": [
    "# main_entity_watchlist = watchlist[watchlist['PERSON_MASTER_ID'].isin(main_entity)]"
   ]
  },
  {
   "cell_type": "code",
   "execution_count": 351,
   "id": "446116db",
   "metadata": {},
   "outputs": [],
   "source": [
    "# other_entity_watchlist = watchlist[watchlist['PERSON_MASTER_ID'].isin(other_entity)]"
   ]
  },
  {
   "cell_type": "code",
   "execution_count": 352,
   "id": "f362d34e",
   "metadata": {},
   "outputs": [
    {
     "data": {
      "text/html": [
       "<div>\n",
       "<style scoped>\n",
       "    .dataframe tbody tr th:only-of-type {\n",
       "        vertical-align: middle;\n",
       "    }\n",
       "\n",
       "    .dataframe tbody tr th {\n",
       "        vertical-align: top;\n",
       "    }\n",
       "\n",
       "    .dataframe thead th {\n",
       "        text-align: right;\n",
       "    }\n",
       "</style>\n",
       "<table border=\"1\" class=\"dataframe\">\n",
       "  <thead>\n",
       "    <tr style=\"text-align: right;\">\n",
       "      <th></th>\n",
       "      <th>PERSON_MASTER_ID</th>\n",
       "      <th>RULE_NO</th>\n",
       "      <th>rule_value</th>\n",
       "    </tr>\n",
       "  </thead>\n",
       "  <tbody>\n",
       "  </tbody>\n",
       "</table>\n",
       "</div>"
      ],
      "text/plain": [
       "Empty DataFrame\n",
       "Columns: [PERSON_MASTER_ID, RULE_NO, rule_value]\n",
       "Index: []"
      ]
     },
     "execution_count": 352,
     "metadata": {},
     "output_type": "execute_result"
    }
   ],
   "source": []
  },
  {
   "cell_type": "code",
   "execution_count": null,
   "id": "b23892db",
   "metadata": {},
   "outputs": [],
   "source": []
  },
  {
   "cell_type": "code",
   "execution_count": null,
   "id": "fdcbb01c",
   "metadata": {},
   "outputs": [],
   "source": []
  },
  {
   "cell_type": "code",
   "execution_count": null,
   "id": "c7fa73c3",
   "metadata": {},
   "outputs": [],
   "source": []
  },
  {
   "cell_type": "code",
   "execution_count": null,
   "id": "65fe9ab2",
   "metadata": {},
   "outputs": [],
   "source": []
  },
  {
   "cell_type": "code",
   "execution_count": null,
   "id": "d01eff07",
   "metadata": {},
   "outputs": [],
   "source": []
  },
  {
   "cell_type": "code",
   "execution_count": null,
   "id": "c16dacc6",
   "metadata": {},
   "outputs": [],
   "source": []
  },
  {
   "cell_type": "code",
   "execution_count": null,
   "id": "55b57f9f",
   "metadata": {},
   "outputs": [],
   "source": []
  },
  {
   "cell_type": "code",
   "execution_count": 178,
   "id": "3aa44f4c",
   "metadata": {},
   "outputs": [],
   "source": [
    "# conn.close()"
   ]
  },
  {
   "cell_type": "code",
   "execution_count": null,
   "id": "99ec1745",
   "metadata": {},
   "outputs": [],
   "source": []
  },
  {
   "cell_type": "code",
   "execution_count": null,
   "id": "ff2e833f",
   "metadata": {},
   "outputs": [],
   "source": []
  },
  {
   "cell_type": "code",
   "execution_count": 174,
   "id": "4dbd6328",
   "metadata": {},
   "outputs": [],
   "source": [
    "# pyodbc.drivers()\n",
    "# # conn = pyodbc.connect('DRIVER=SQL SERVER;SERVER=172.16.33.27;PORT=1433;DATABASE=FINCORE_DB;UID=Fincore_App_USR;PWD=F!NCore@123;TDS_Version=7.2;')\n",
    "# conn = pyodbc.connect('DRIVER=SQL SERVER;SERVER=172.16.34.15;PORT=1433;DATABASE=FINCORE_DB;UID=FINCORE_ANALYTICS_USR;PWD=F!NCore@123;TDS_Version=7.2;')\n",
    "# # conn = pyodbc.connect('DRIVER=SQL SERVER;SERVER=172.16.27.39;PORT=1433;DATABASE=HDM_FINCORE_DB;UID=FINC_HDM_USR;PWD=#DM@2022;TDS_Version=7.2;')\n",
    "# cursor = conn.cursor()"
   ]
  },
  {
   "cell_type": "code",
   "execution_count": 193,
   "id": "c7d4340f",
   "metadata": {},
   "outputs": [],
   "source": [
    "# inherent_risk = pd.read_sql_query(\"select * from FINCORE_DB.Fincore_Analytics.RISK_LKP_RULES where person_type = 'Individual' and is_active_flag = 1 and RISK_TYPE = 'KYC profile/ Inherent risk based High Risk Indicators - Inherent Risk'\",conn)"
   ]
  },
  {
   "cell_type": "code",
   "execution_count": 194,
   "id": "4c7980fb",
   "metadata": {},
   "outputs": [],
   "source": [
    "# case_entities = pd.read_sql_query(\"select Case_Master_Id,Entity_Master_Id,Is_Main_Entity_Flag from FINCORE_DB.Fincore.Case_Entity where Is_Active_Flag= 1 and Case_Master_Id = '{}'\".format(case_entities),conn)"
   ]
  },
  {
   "cell_type": "code",
   "execution_count": 195,
   "id": "8b51b660",
   "metadata": {},
   "outputs": [],
   "source": [
    "# main_entity = case_entities[case_entities['Is_Main_Entity_Flag'] == 1]['Entity_Master_Id'].to_list()"
   ]
  },
  {
   "cell_type": "code",
   "execution_count": 196,
   "id": "016997ea",
   "metadata": {},
   "outputs": [
    {
     "data": {
      "text/plain": [
       "[7]"
      ]
     },
     "execution_count": 196,
     "metadata": {},
     "output_type": "execute_result"
    }
   ],
   "source": [
    "# main_entity"
   ]
  },
  {
   "cell_type": "code",
   "execution_count": 197,
   "id": "16eb96f2",
   "metadata": {},
   "outputs": [],
   "source": [
    "# other_entity = case_entities[case_entities['Is_Main_Entity_Flag'] == 0]['Entity_Master_Id'].to_list()"
   ]
  },
  {
   "cell_type": "code",
   "execution_count": 198,
   "id": "556b30d0",
   "metadata": {},
   "outputs": [],
   "source": [
    "# inherent_risk = inherent_risk['RULE_NO'].to_list()"
   ]
  },
  {
   "cell_type": "code",
   "execution_count": 199,
   "id": "cb8deabf",
   "metadata": {},
   "outputs": [],
   "source": [
    "# inherent_df = []\n",
    "# for ind,row in risk_person.iterrows():\n",
    "#         l = []\n",
    "#         l = list(row['RISK_RULE_LIST'].split('_'))\n",
    "#         inherent = row['PERSON_MASTER_ID'],rules_triggered(l,inherent_risk)\n",
    "#         inherent = list(inherent)\n",
    "#         inherent_df.append(inherent)"
   ]
  },
  {
   "cell_type": "code",
   "execution_count": 200,
   "id": "3602665c",
   "metadata": {},
   "outputs": [],
   "source": [
    "# inherent_df = pd.DataFrame(inherent_df,columns = ['PERSON_MASTER_ID','RULES_TRIGGERED'])"
   ]
  },
  {
   "cell_type": "code",
   "execution_count": 201,
   "id": "4109965b",
   "metadata": {},
   "outputs": [],
   "source": [
    "# inherent_df['RULES_TRIGGERED']=inherent_df['RULES_TRIGGERED'].astype(str)\n",
    "# inherent_df=inherent_df[inherent_df['RULES_TRIGGERED']!='[]']"
   ]
  },
  {
   "cell_type": "code",
   "execution_count": 202,
   "id": "d2d64ad5",
   "metadata": {},
   "outputs": [],
   "source": [
    "# inherent_df.reset_index(inplace = True)\n",
    "# inherent_df.drop(columns = ['index'],inplace = True)"
   ]
  },
  {
   "cell_type": "code",
   "execution_count": 203,
   "id": "fd5ef164",
   "metadata": {},
   "outputs": [
    {
     "name": "stderr",
     "output_type": "stream",
     "text": [
      "<ipython-input-203-cb23b8f70ad3>:2: SettingWithCopyWarning: \n",
      "A value is trying to be set on a copy of a slice from a DataFrame\n",
      "\n",
      "See the caveats in the documentation: https://pandas.pydata.org/pandas-docs/stable/user_guide/indexing.html#returning-a-view-versus-a-copy\n",
      "  inherent_df['RULES_TRIGGERED'][ind] = inherent_df['RULES_TRIGGERED'][ind].replace('[','')\n",
      "<ipython-input-203-cb23b8f70ad3>:3: SettingWithCopyWarning: \n",
      "A value is trying to be set on a copy of a slice from a DataFrame\n",
      "\n",
      "See the caveats in the documentation: https://pandas.pydata.org/pandas-docs/stable/user_guide/indexing.html#returning-a-view-versus-a-copy\n",
      "  inherent_df['RULES_TRIGGERED'][ind] = inherent_df['RULES_TRIGGERED'][ind].replace(']','')\n",
      "<ipython-input-203-cb23b8f70ad3>:4: SettingWithCopyWarning: \n",
      "A value is trying to be set on a copy of a slice from a DataFrame\n",
      "\n",
      "See the caveats in the documentation: https://pandas.pydata.org/pandas-docs/stable/user_guide/indexing.html#returning-a-view-versus-a-copy\n",
      "  inherent_df['RULES_TRIGGERED'][ind]=inherent_df['RULES_TRIGGERED'][ind].replace('\\'','')\n"
     ]
    }
   ],
   "source": [
    "# for ind,row in inherent_df.iterrows():\n",
    "#     inherent_df['RULES_TRIGGERED'][ind] = inherent_df['RULES_TRIGGERED'][ind].replace('[','')\n",
    "#     inherent_df['RULES_TRIGGERED'][ind] = inherent_df['RULES_TRIGGERED'][ind].replace(']','')\n",
    "#     inherent_df['RULES_TRIGGERED'][ind]=inherent_df['RULES_TRIGGERED'][ind].replace('\\'','')\n",
    "    \n",
    "    "
   ]
  },
  {
   "cell_type": "code",
   "execution_count": 204,
   "id": "f372ef70",
   "metadata": {},
   "outputs": [],
   "source": [
    "# inherent_risk_main = inherent_df[inherent_df['PERSON_MASTER_ID'].isin(main_entity)]"
   ]
  },
  {
   "cell_type": "code",
   "execution_count": 205,
   "id": "37ee807f",
   "metadata": {},
   "outputs": [],
   "source": [
    "# inherent_risk_main.reset_index(inplace = True)"
   ]
  },
  {
   "cell_type": "code",
   "execution_count": 206,
   "id": "ecbd6b70",
   "metadata": {},
   "outputs": [],
   "source": [
    "# inherent_risk_main = inherent_risk_main['RULES_TRIGGERED'].to_list()"
   ]
  },
  {
   "cell_type": "code",
   "execution_count": 207,
   "id": "e30d904d",
   "metadata": {},
   "outputs": [],
   "source": [
    "# inherent_risk_main = str(inherent_risk_main)"
   ]
  },
  {
   "cell_type": "code",
   "execution_count": 208,
   "id": "8cf52937",
   "metadata": {},
   "outputs": [],
   "source": [
    "# inherent_risk_main = inherent_risk_main.replace('\\'','')\n",
    "# inherent_risk_main = inherent_risk_main.replace('[','')\n",
    "# inherent_risk_main = inherent_risk_main.replace(']','')\n",
    "# inherent_risk_main = inherent_risk_main.replace(' ','')"
   ]
  },
  {
   "cell_type": "code",
   "execution_count": 209,
   "id": "09d53de0",
   "metadata": {},
   "outputs": [],
   "source": [
    "# inherent_risk_main = inherent_risk_main.split(',')"
   ]
  },
  {
   "cell_type": "code",
   "execution_count": 210,
   "id": "46cd484f",
   "metadata": {},
   "outputs": [],
   "source": [
    "# inherent_risk_main = [*set(inherent_risk_main)]"
   ]
  },
  {
   "cell_type": "code",
   "execution_count": 211,
   "id": "8877ece5",
   "metadata": {},
   "outputs": [],
   "source": [
    "# inherent_risk_other = inherent_df[inherent_df['PERSON_MASTER_ID'].isin(other_entity)]"
   ]
  },
  {
   "cell_type": "code",
   "execution_count": 212,
   "id": "2ea1082c",
   "metadata": {},
   "outputs": [],
   "source": [
    "# inherent_risk_other.reset_index(inplace = True)"
   ]
  },
  {
   "cell_type": "code",
   "execution_count": 213,
   "id": "769df38c",
   "metadata": {},
   "outputs": [],
   "source": [
    "# inherent_risk_other = inherent_risk_other['RULES_TRIGGERED'].to_list()"
   ]
  },
  {
   "cell_type": "code",
   "execution_count": 214,
   "id": "d4ceba92",
   "metadata": {},
   "outputs": [],
   "source": [
    "# inherent_risk_other = str(inherent_risk_other)"
   ]
  },
  {
   "cell_type": "code",
   "execution_count": 215,
   "id": "bb0b6421",
   "metadata": {},
   "outputs": [],
   "source": [
    "# inherent_risk_other = inherent_risk_other.replace('\\'','')\n",
    "# inherent_risk_other = inherent_risk_other.replace('[','')\n",
    "# inherent_risk_other = inherent_risk_other.replace(']','')\n",
    "# inherent_risk_other = inherent_risk_other.replace(' ','')"
   ]
  },
  {
   "cell_type": "code",
   "execution_count": 216,
   "id": "2e7758c0",
   "metadata": {},
   "outputs": [],
   "source": [
    "# inherent_risk_other = inherent_risk_other.split(',')"
   ]
  },
  {
   "cell_type": "code",
   "execution_count": 217,
   "id": "0761fd69",
   "metadata": {},
   "outputs": [],
   "source": [
    "# inherent_risk_other = [*set(inherent_risk_other)]"
   ]
  },
  {
   "cell_type": "code",
   "execution_count": 218,
   "id": "c87e364d",
   "metadata": {},
   "outputs": [
    {
     "data": {
      "text/plain": [
       "['P002001008', 'P002001007']"
      ]
     },
     "execution_count": 218,
     "metadata": {},
     "output_type": "execute_result"
    }
   ],
   "source": [
    "# inherent_risk_other"
   ]
  },
  {
   "cell_type": "code",
   "execution_count": 221,
   "id": "cb85a97f",
   "metadata": {},
   "outputs": [],
   "source": [
    "# rules_df = pd.read_sql_query(\"select * from FINCORE_DB.Fincore_Analytics.RISK_LKP_RULES where person_type = 'Individual' and is_active_flag = 1 and RISK_TYPE = 'KYC profile/ Inherent risk based High Risk Indicators - Inherent Risk'\",conn)"
   ]
  },
  {
   "cell_type": "code",
   "execution_count": 231,
   "id": "447212b1",
   "metadata": {},
   "outputs": [],
   "source": [
    "# inherent_risk_other = rules_df[rules_df['RULE_NO'].isin(inherent_risk_other)]['RULE_DESC'].to_list()"
   ]
  },
  {
   "cell_type": "code",
   "execution_count": null,
   "id": "11f5b50b",
   "metadata": {},
   "outputs": [],
   "source": []
  },
  {
   "cell_type": "code",
   "execution_count": null,
   "id": "0c48b73b",
   "metadata": {},
   "outputs": [],
   "source": []
  },
  {
   "cell_type": "code",
   "execution_count": 36,
   "id": "c38d71c7",
   "metadata": {},
   "outputs": [],
   "source": [
    "# conn.close()"
   ]
  },
  {
   "cell_type": "code",
   "execution_count": null,
   "id": "0b5480ef",
   "metadata": {},
   "outputs": [],
   "source": []
  },
  {
   "cell_type": "code",
   "execution_count": null,
   "id": "aa26e218",
   "metadata": {},
   "outputs": [],
   "source": []
  },
  {
   "cell_type": "code",
   "execution_count": null,
   "id": "7b81d777",
   "metadata": {},
   "outputs": [],
   "source": []
  },
  {
   "cell_type": "code",
   "execution_count": 26,
   "id": "bc5319e4",
   "metadata": {},
   "outputs": [],
   "source": [
    "# def rules_triggered(a,b):\n",
    "#     result = [i for i in a if i in b]\n",
    "#     return result"
   ]
  },
  {
   "cell_type": "code",
   "execution_count": 18,
   "id": "10e4259f",
   "metadata": {},
   "outputs": [],
   "source": [
    "# pyodbc.drivers()\n",
    "# # conn = pyodbc.connect('DRIVER=SQL SERVER;SERVER=172.16.33.27;PORT=1433;DATABASE=FINCORE_DB;UID=Fincore_App_USR;PWD=F!NCore@123;TDS_Version=7.2;')\n",
    "# conn = pyodbc.connect('DRIVER=SQL SERVER;SERVER=172.16.34.15;PORT=1433;DATABASE=FINCORE_DB;UID=FINCORE_ANALYTICS_USR;PWD=F!NCore@123;TDS_Version=7.2;')\n",
    "# # conn = pyodbc.connect('DRIVER=SQL SERVER;SERVER=172.16.27.39;PORT=1433;DATABASE=HDM_FINCORE_DB;UID=FINC_HDM_USR;PWD=#DM@2022;TDS_Version=7.2;')\n",
    "# cursor = conn.cursor()"
   ]
  },
  {
   "cell_type": "code",
   "execution_count": 19,
   "id": "4b513933",
   "metadata": {},
   "outputs": [],
   "source": [
    "# all_other_rule = pd.read_sql_query(\"select * from FINCORE_DB.Fincore_Analytics.RISK_LKP_RULES where person_type = 'Individual' and is_active_flag = 1 and RISK_TYPE  not in ('Auto High Rules ','KYC profile/ Inherent risk based High Risk Indicators - Inherent Risk')\",conn)"
   ]
  },
  {
   "cell_type": "code",
   "execution_count": 20,
   "id": "05d75b75",
   "metadata": {},
   "outputs": [],
   "source": [
    "# all_other_rule = all_other_rule['RULE_NO'].to_list()"
   ]
  },
  {
   "cell_type": "code",
   "execution_count": 21,
   "id": "94624bce",
   "metadata": {},
   "outputs": [
    {
     "data": {
      "text/plain": [
       "['P003001001',\n",
       " 'P003001004',\n",
       " 'P003001007',\n",
       " 'P003001008',\n",
       " 'P003001009',\n",
       " 'P003001010']"
      ]
     },
     "execution_count": 21,
     "metadata": {},
     "output_type": "execute_result"
    }
   ],
   "source": [
    "# all_other_rule"
   ]
  },
  {
   "cell_type": "code",
   "execution_count": 22,
   "id": "78418922",
   "metadata": {},
   "outputs": [],
   "source": [
    "# risk_person[risk_person['PERSON_MASTER_ID'] == 10]"
   ]
  },
  {
   "cell_type": "code",
   "execution_count": 23,
   "id": "b0c1d999",
   "metadata": {},
   "outputs": [],
   "source": [
    "# risk_person  = pd.read_sql_query(\"Select * from FINCORE_DB.Fincore_Analytics.risk_person\",conn)"
   ]
  },
  {
   "cell_type": "code",
   "execution_count": 27,
   "id": "ac4aaade",
   "metadata": {},
   "outputs": [
    {
     "name": "stderr",
     "output_type": "stream",
     "text": [
      "42it [00:00, 8423.10it/s]\n"
     ]
    }
   ],
   "source": [
    "# all_others_df = []\n",
    "# for ind,row in tqdm(risk_person.iterrows()):\n",
    "#         l = []\n",
    "#         l = list(row['RISK_RULE_LIST'].split('_'))\n",
    "#         all_other = row['PERSON_MASTER_ID'],rules_triggered(l,all_other_rule)\n",
    "#         all_other = list(all_other)\n",
    "#         all_others_df.append(all_other)"
   ]
  },
  {
   "cell_type": "code",
   "execution_count": 28,
   "id": "e071841e",
   "metadata": {},
   "outputs": [],
   "source": [
    "# all_others_df = pd.DataFrame(all_others_df,columns = ['PERSON_MASTER_ID','RULES_TRIGGERED'])"
   ]
  },
  {
   "cell_type": "code",
   "execution_count": 161,
   "id": "b345c6cc",
   "metadata": {},
   "outputs": [
    {
     "data": {
      "text/html": [
       "<div>\n",
       "<style scoped>\n",
       "    .dataframe tbody tr th:only-of-type {\n",
       "        vertical-align: middle;\n",
       "    }\n",
       "\n",
       "    .dataframe tbody tr th {\n",
       "        vertical-align: top;\n",
       "    }\n",
       "\n",
       "    .dataframe thead th {\n",
       "        text-align: right;\n",
       "    }\n",
       "</style>\n",
       "<table border=\"1\" class=\"dataframe\">\n",
       "  <thead>\n",
       "    <tr style=\"text-align: right;\">\n",
       "      <th></th>\n",
       "      <th>PERSON_MASTER_ID</th>\n",
       "      <th>RULES_TRIGGERED</th>\n",
       "    </tr>\n",
       "  </thead>\n",
       "  <tbody>\n",
       "    <tr>\n",
       "      <th>0</th>\n",
       "      <td>1</td>\n",
       "      <td>P003001004, P003001009</td>\n",
       "    </tr>\n",
       "    <tr>\n",
       "      <th>1</th>\n",
       "      <td>2</td>\n",
       "      <td>P003001004</td>\n",
       "    </tr>\n",
       "    <tr>\n",
       "      <th>2</th>\n",
       "      <td>3</td>\n",
       "      <td>P003001004</td>\n",
       "    </tr>\n",
       "    <tr>\n",
       "      <th>3</th>\n",
       "      <td>4</td>\n",
       "      <td>P003001004</td>\n",
       "    </tr>\n",
       "    <tr>\n",
       "      <th>4</th>\n",
       "      <td>5</td>\n",
       "      <td>P003001004</td>\n",
       "    </tr>\n",
       "    <tr>\n",
       "      <th>5</th>\n",
       "      <td>6</td>\n",
       "      <td>P003001009</td>\n",
       "    </tr>\n",
       "    <tr>\n",
       "      <th>6</th>\n",
       "      <td>7</td>\n",
       "      <td>P003001004, P003001009</td>\n",
       "    </tr>\n",
       "    <tr>\n",
       "      <th>7</th>\n",
       "      <td>8</td>\n",
       "      <td>P003001004, P003001009</td>\n",
       "    </tr>\n",
       "    <tr>\n",
       "      <th>8</th>\n",
       "      <td>9</td>\n",
       "      <td>P003001004, P003001009</td>\n",
       "    </tr>\n",
       "    <tr>\n",
       "      <th>9</th>\n",
       "      <td>11</td>\n",
       "      <td>P003001009</td>\n",
       "    </tr>\n",
       "    <tr>\n",
       "      <th>10</th>\n",
       "      <td>12</td>\n",
       "      <td>P003001009</td>\n",
       "    </tr>\n",
       "    <tr>\n",
       "      <th>11</th>\n",
       "      <td>13</td>\n",
       "      <td>P003001009</td>\n",
       "    </tr>\n",
       "    <tr>\n",
       "      <th>12</th>\n",
       "      <td>14</td>\n",
       "      <td>P003001009</td>\n",
       "    </tr>\n",
       "    <tr>\n",
       "      <th>13</th>\n",
       "      <td>15</td>\n",
       "      <td>P003001009</td>\n",
       "    </tr>\n",
       "    <tr>\n",
       "      <th>14</th>\n",
       "      <td>16</td>\n",
       "      <td>P003001009</td>\n",
       "    </tr>\n",
       "    <tr>\n",
       "      <th>15</th>\n",
       "      <td>17</td>\n",
       "      <td>P003001009</td>\n",
       "    </tr>\n",
       "    <tr>\n",
       "      <th>16</th>\n",
       "      <td>18</td>\n",
       "      <td>P003001009</td>\n",
       "    </tr>\n",
       "    <tr>\n",
       "      <th>17</th>\n",
       "      <td>19</td>\n",
       "      <td>P003001009</td>\n",
       "    </tr>\n",
       "    <tr>\n",
       "      <th>18</th>\n",
       "      <td>20</td>\n",
       "      <td>P003001004, P003001009</td>\n",
       "    </tr>\n",
       "    <tr>\n",
       "      <th>19</th>\n",
       "      <td>21</td>\n",
       "      <td>P003001004, P003001009</td>\n",
       "    </tr>\n",
       "    <tr>\n",
       "      <th>20</th>\n",
       "      <td>22</td>\n",
       "      <td>P003001004, P003001009</td>\n",
       "    </tr>\n",
       "    <tr>\n",
       "      <th>21</th>\n",
       "      <td>23</td>\n",
       "      <td>P003001009</td>\n",
       "    </tr>\n",
       "    <tr>\n",
       "      <th>22</th>\n",
       "      <td>24</td>\n",
       "      <td>P003001009</td>\n",
       "    </tr>\n",
       "    <tr>\n",
       "      <th>23</th>\n",
       "      <td>25</td>\n",
       "      <td>P003001009</td>\n",
       "    </tr>\n",
       "    <tr>\n",
       "      <th>24</th>\n",
       "      <td>26</td>\n",
       "      <td>P003001009</td>\n",
       "    </tr>\n",
       "    <tr>\n",
       "      <th>25</th>\n",
       "      <td>27</td>\n",
       "      <td>P003001009</td>\n",
       "    </tr>\n",
       "    <tr>\n",
       "      <th>26</th>\n",
       "      <td>28</td>\n",
       "      <td>P003001009</td>\n",
       "    </tr>\n",
       "    <tr>\n",
       "      <th>27</th>\n",
       "      <td>29</td>\n",
       "      <td>P003001009</td>\n",
       "    </tr>\n",
       "    <tr>\n",
       "      <th>28</th>\n",
       "      <td>30</td>\n",
       "      <td>P003001009</td>\n",
       "    </tr>\n",
       "    <tr>\n",
       "      <th>29</th>\n",
       "      <td>31</td>\n",
       "      <td>P003001009</td>\n",
       "    </tr>\n",
       "    <tr>\n",
       "      <th>30</th>\n",
       "      <td>32</td>\n",
       "      <td>P003001009</td>\n",
       "    </tr>\n",
       "    <tr>\n",
       "      <th>31</th>\n",
       "      <td>33</td>\n",
       "      <td>P003001004, P003001009</td>\n",
       "    </tr>\n",
       "    <tr>\n",
       "      <th>32</th>\n",
       "      <td>34</td>\n",
       "      <td>P003001004, P003001009</td>\n",
       "    </tr>\n",
       "    <tr>\n",
       "      <th>33</th>\n",
       "      <td>35</td>\n",
       "      <td>P003001009</td>\n",
       "    </tr>\n",
       "    <tr>\n",
       "      <th>34</th>\n",
       "      <td>36</td>\n",
       "      <td>P003001009</td>\n",
       "    </tr>\n",
       "    <tr>\n",
       "      <th>35</th>\n",
       "      <td>37</td>\n",
       "      <td>P003001009</td>\n",
       "    </tr>\n",
       "    <tr>\n",
       "      <th>36</th>\n",
       "      <td>38</td>\n",
       "      <td>P003001009</td>\n",
       "    </tr>\n",
       "    <tr>\n",
       "      <th>37</th>\n",
       "      <td>39</td>\n",
       "      <td>P003001009</td>\n",
       "    </tr>\n",
       "    <tr>\n",
       "      <th>38</th>\n",
       "      <td>40</td>\n",
       "      <td>P003001009</td>\n",
       "    </tr>\n",
       "    <tr>\n",
       "      <th>39</th>\n",
       "      <td>41</td>\n",
       "      <td>P003001009</td>\n",
       "    </tr>\n",
       "    <tr>\n",
       "      <th>40</th>\n",
       "      <td>42</td>\n",
       "      <td>P003001009</td>\n",
       "    </tr>\n",
       "  </tbody>\n",
       "</table>\n",
       "</div>"
      ],
      "text/plain": [
       "    PERSON_MASTER_ID         RULES_TRIGGERED\n",
       "0                  1  P003001004, P003001009\n",
       "1                  2              P003001004\n",
       "2                  3              P003001004\n",
       "3                  4              P003001004\n",
       "4                  5              P003001004\n",
       "5                  6              P003001009\n",
       "6                  7  P003001004, P003001009\n",
       "7                  8  P003001004, P003001009\n",
       "8                  9  P003001004, P003001009\n",
       "9                 11              P003001009\n",
       "10                12              P003001009\n",
       "11                13              P003001009\n",
       "12                14              P003001009\n",
       "13                15              P003001009\n",
       "14                16              P003001009\n",
       "15                17              P003001009\n",
       "16                18              P003001009\n",
       "17                19              P003001009\n",
       "18                20  P003001004, P003001009\n",
       "19                21  P003001004, P003001009\n",
       "20                22  P003001004, P003001009\n",
       "21                23              P003001009\n",
       "22                24              P003001009\n",
       "23                25              P003001009\n",
       "24                26              P003001009\n",
       "25                27              P003001009\n",
       "26                28              P003001009\n",
       "27                29              P003001009\n",
       "28                30              P003001009\n",
       "29                31              P003001009\n",
       "30                32              P003001009\n",
       "31                33  P003001004, P003001009\n",
       "32                34  P003001004, P003001009\n",
       "33                35              P003001009\n",
       "34                36              P003001009\n",
       "35                37              P003001009\n",
       "36                38              P003001009\n",
       "37                39              P003001009\n",
       "38                40              P003001009\n",
       "39                41              P003001009\n",
       "40                42              P003001009"
      ]
     },
     "execution_count": 161,
     "metadata": {},
     "output_type": "execute_result"
    }
   ],
   "source": [
    "# all_others_df"
   ]
  },
  {
   "cell_type": "code",
   "execution_count": 162,
   "id": "ca2067b1",
   "metadata": {},
   "outputs": [
    {
     "name": "stderr",
     "output_type": "stream",
     "text": [
      "<ipython-input-162-e1554c13fce4>:1: SettingWithCopyWarning: \n",
      "A value is trying to be set on a copy of a slice from a DataFrame.\n",
      "Try using .loc[row_indexer,col_indexer] = value instead\n",
      "\n",
      "See the caveats in the documentation: https://pandas.pydata.org/pandas-docs/stable/user_guide/indexing.html#returning-a-view-versus-a-copy\n",
      "  all_others_df['RULES_TRIGGERED']=all_others_df['RULES_TRIGGERED'].astype(str)\n"
     ]
    }
   ],
   "source": [
    "# all_others_df['RULES_TRIGGERED']=all_others_df['RULES_TRIGGERED'].astype(str)\n",
    "# all_others_df=all_others_df[all_others_df['RULES_TRIGGERED']!='[]']\n"
   ]
  },
  {
   "cell_type": "code",
   "execution_count": 163,
   "id": "97246c31",
   "metadata": {},
   "outputs": [],
   "source": [
    "# all_others_df.reset_index(inplace = True)\n",
    "# all_others_df.drop(columns = ['index'],inplace = True)"
   ]
  },
  {
   "cell_type": "code",
   "execution_count": 164,
   "id": "685d22e0",
   "metadata": {},
   "outputs": [
    {
     "name": "stderr",
     "output_type": "stream",
     "text": [
      "0it [00:00, ?it/s]<ipython-input-164-bd4cfd6c9280>:2: SettingWithCopyWarning: \n",
      "A value is trying to be set on a copy of a slice from a DataFrame\n",
      "\n",
      "See the caveats in the documentation: https://pandas.pydata.org/pandas-docs/stable/user_guide/indexing.html#returning-a-view-versus-a-copy\n",
      "  all_others_df['RULES_TRIGGERED'][ind] = all_others_df['RULES_TRIGGERED'][ind].replace('[','')\n",
      "<ipython-input-164-bd4cfd6c9280>:3: SettingWithCopyWarning: \n",
      "A value is trying to be set on a copy of a slice from a DataFrame\n",
      "\n",
      "See the caveats in the documentation: https://pandas.pydata.org/pandas-docs/stable/user_guide/indexing.html#returning-a-view-versus-a-copy\n",
      "  all_others_df['RULES_TRIGGERED'][ind] = all_others_df['RULES_TRIGGERED'][ind].replace(']','')\n",
      "<ipython-input-164-bd4cfd6c9280>:4: SettingWithCopyWarning: \n",
      "A value is trying to be set on a copy of a slice from a DataFrame\n",
      "\n",
      "See the caveats in the documentation: https://pandas.pydata.org/pandas-docs/stable/user_guide/indexing.html#returning-a-view-versus-a-copy\n",
      "  all_others_df['RULES_TRIGGERED'][ind]= all_others_df['RULES_TRIGGERED'][ind].replace('\\'','')\n",
      "41it [00:00, 775.31it/s]\n"
     ]
    }
   ],
   "source": [
    "# for ind,row in tqdm(all_others_df.iterrows()):\n",
    "#     all_others_df['RULES_TRIGGERED'][ind] = all_others_df['RULES_TRIGGERED'][ind].replace('[','')\n",
    "#     all_others_df['RULES_TRIGGERED'][ind] = all_others_df['RULES_TRIGGERED'][ind].replace(']','')\n",
    "#     all_others_df['RULES_TRIGGERED'][ind]= all_others_df['RULES_TRIGGERED'][ind].replace('\\'','')"
   ]
  },
  {
   "cell_type": "code",
   "execution_count": 169,
   "id": "fb1b4ebe",
   "metadata": {},
   "outputs": [],
   "source": [
    "# all_others_df_main = all_others_df[all_others_df['PERSON_MASTER_ID']== main_entity]['RULES_TRIGGERED'].to_list()"
   ]
  },
  {
   "cell_type": "code",
   "execution_count": null,
   "id": "7d65f0fe",
   "metadata": {},
   "outputs": [],
   "source": [
    "# all_others_df_other = all_others_df[all_others_df['PERSON_MASTER_ID']== other_entity]['RULES_TRIGGERED'].to_list()"
   ]
  },
  {
   "cell_type": "code",
   "execution_count": 170,
   "id": "c25541cf",
   "metadata": {},
   "outputs": [
    {
     "data": {
      "text/plain": [
       "['P003001004', ' P003001009']"
      ]
     },
     "execution_count": 170,
     "metadata": {},
     "output_type": "execute_result"
    }
   ],
   "source": [
    "# all_others_df['RULES_TRIGGERED'][0].split(',')"
   ]
  },
  {
   "cell_type": "code",
   "execution_count": null,
   "id": "7e77d109",
   "metadata": {},
   "outputs": [],
   "source": []
  },
  {
   "cell_type": "code",
   "execution_count": null,
   "id": "3407bbab",
   "metadata": {},
   "outputs": [],
   "source": []
  },
  {
   "cell_type": "code",
   "execution_count": null,
   "id": "77f2ad85",
   "metadata": {},
   "outputs": [],
   "source": []
  },
  {
   "cell_type": "code",
   "execution_count": null,
   "id": "9b616431",
   "metadata": {},
   "outputs": [],
   "source": []
  },
  {
   "cell_type": "code",
   "execution_count": null,
   "id": "dec24714",
   "metadata": {},
   "outputs": [],
   "source": []
  },
  {
   "cell_type": "code",
   "execution_count": null,
   "id": "8a7b9a7f",
   "metadata": {},
   "outputs": [],
   "source": []
  },
  {
   "cell_type": "code",
   "execution_count": null,
   "id": "f8ae3477",
   "metadata": {},
   "outputs": [],
   "source": []
  },
  {
   "cell_type": "code",
   "execution_count": null,
   "id": "250584ae",
   "metadata": {},
   "outputs": [],
   "source": []
  },
  {
   "cell_type": "code",
   "execution_count": null,
   "id": "c683a271",
   "metadata": {},
   "outputs": [],
   "source": []
  },
  {
   "cell_type": "code",
   "execution_count": null,
   "id": "13c4018e",
   "metadata": {},
   "outputs": [],
   "source": []
  },
  {
   "cell_type": "code",
   "execution_count": null,
   "id": "84b012e0",
   "metadata": {},
   "outputs": [],
   "source": []
  },
  {
   "cell_type": "code",
   "execution_count": null,
   "id": "6b238bff",
   "metadata": {},
   "outputs": [],
   "source": []
  },
  {
   "cell_type": "code",
   "execution_count": null,
   "id": "8ea731ad",
   "metadata": {},
   "outputs": [],
   "source": []
  },
  {
   "cell_type": "code",
   "execution_count": null,
   "id": "be2b1188",
   "metadata": {},
   "outputs": [],
   "source": []
  },
  {
   "cell_type": "code",
   "execution_count": null,
   "id": "706342e0",
   "metadata": {},
   "outputs": [],
   "source": []
  },
  {
   "cell_type": "code",
   "execution_count": null,
   "id": "484268ce",
   "metadata": {},
   "outputs": [],
   "source": []
  },
  {
   "cell_type": "code",
   "execution_count": null,
   "id": "65061613",
   "metadata": {},
   "outputs": [],
   "source": []
  },
  {
   "cell_type": "code",
   "execution_count": null,
   "id": "9a4ee903",
   "metadata": {},
   "outputs": [],
   "source": []
  },
  {
   "cell_type": "code",
   "execution_count": null,
   "id": "6f6c84bc",
   "metadata": {},
   "outputs": [],
   "source": []
  },
  {
   "cell_type": "code",
   "execution_count": null,
   "id": "7a686b0c",
   "metadata": {},
   "outputs": [],
   "source": []
  },
  {
   "cell_type": "code",
   "execution_count": null,
   "id": "05d453e9",
   "metadata": {},
   "outputs": [],
   "source": []
  },
  {
   "cell_type": "markdown",
   "id": "b599c311",
   "metadata": {},
   "source": [
    "# \tThis case has Number of Entities entities on the FIU or LEA watchlist. "
   ]
  },
  {
   "cell_type": "code",
   "execution_count": null,
   "id": "d84b1862",
   "metadata": {},
   "outputs": [],
   "source": []
  },
  {
   "cell_type": "code",
   "execution_count": 779,
   "id": "fed583fc",
   "metadata": {},
   "outputs": [],
   "source": [
    "# pyodbc.drivers()\n",
    "# # conn = pyodbc.connect('DRIVER=SQL SERVER;SERVER=172.16.33.27;PORT=1433;DATABASE=FINCORE_DB;UID=Fincore_App_USR;PWD=F!NCore@123;TDS_Version=7.2;')\n",
    "# conn = pyodbc.connect('DRIVER=SQL SERVER;SERVER=172.16.34.15;PORT=1433;DATABASE=FINCORE_DB;UID=FINCORE_ANALYTICS_USR;PWD=F!NCore@123;TDS_Version=7.2;')\n",
    "# # conn = pyodbc.connect('DRIVER=SQL SERVER;SERVER=172.16.27.39;PORT=1433;DATABASE=HDM_FINCORE_DB;UID=FINC_HDM_USR;PWD=#DM@2022;TDS_Version=7.2;')\n",
    "# cursor = conn.cursor()"
   ]
  },
  {
   "cell_type": "code",
   "execution_count": 780,
   "id": "bf4732b1",
   "metadata": {},
   "outputs": [],
   "source": [
    "# df = pd.read_sql_query(\"select * from Fincore_Analytics.RISK_PERSON_SUMMARY_STG_RULES\",conn)"
   ]
  },
  {
   "cell_type": "code",
   "execution_count": 781,
   "id": "b6ba4161",
   "metadata": {},
   "outputs": [
    {
     "data": {
      "text/html": [
       "<div>\n",
       "<style scoped>\n",
       "    .dataframe tbody tr th:only-of-type {\n",
       "        vertical-align: middle;\n",
       "    }\n",
       "\n",
       "    .dataframe tbody tr th {\n",
       "        vertical-align: top;\n",
       "    }\n",
       "\n",
       "    .dataframe thead th {\n",
       "        text-align: right;\n",
       "    }\n",
       "</style>\n",
       "<table border=\"1\" class=\"dataframe\">\n",
       "  <thead>\n",
       "    <tr style=\"text-align: right;\">\n",
       "      <th></th>\n",
       "      <th>PERSON_MASTER_ID</th>\n",
       "      <th>RULE_NO</th>\n",
       "      <th>RULE_VALUE</th>\n",
       "      <th>RISK_SCORE_STATIC</th>\n",
       "      <th>CREATE_DATE</th>\n",
       "    </tr>\n",
       "  </thead>\n",
       "  <tbody>\n",
       "    <tr>\n",
       "      <th>0</th>\n",
       "      <td>1</td>\n",
       "      <td>P002001007</td>\n",
       "      <td>4</td>\n",
       "      <td>NaN</td>\n",
       "      <td>2022-12-06</td>\n",
       "    </tr>\n",
       "    <tr>\n",
       "      <th>1</th>\n",
       "      <td>1</td>\n",
       "      <td>P002001008</td>\n",
       "      <td>1</td>\n",
       "      <td>NaN</td>\n",
       "      <td>2022-12-06</td>\n",
       "    </tr>\n",
       "    <tr>\n",
       "      <th>2</th>\n",
       "      <td>1</td>\n",
       "      <td>P003001001</td>\n",
       "      <td>Individual</td>\n",
       "      <td>0.0</td>\n",
       "      <td>2022-12-06</td>\n",
       "    </tr>\n",
       "    <tr>\n",
       "      <th>3</th>\n",
       "      <td>1</td>\n",
       "      <td>P003001004</td>\n",
       "      <td>Current Account</td>\n",
       "      <td>5.0</td>\n",
       "      <td>2022-12-06</td>\n",
       "    </tr>\n",
       "    <tr>\n",
       "      <th>4</th>\n",
       "      <td>1</td>\n",
       "      <td>P003001007</td>\n",
       "      <td>2022-11-15</td>\n",
       "      <td>0.0</td>\n",
       "      <td>2022-12-06</td>\n",
       "    </tr>\n",
       "    <tr>\n",
       "      <th>...</th>\n",
       "      <td>...</td>\n",
       "      <td>...</td>\n",
       "      <td>...</td>\n",
       "      <td>...</td>\n",
       "      <td>...</td>\n",
       "    </tr>\n",
       "    <tr>\n",
       "      <th>345</th>\n",
       "      <td>42</td>\n",
       "      <td>P003001010</td>\n",
       "      <td>7</td>\n",
       "      <td>NaN</td>\n",
       "      <td>2022-12-06</td>\n",
       "    </tr>\n",
       "    <tr>\n",
       "      <th>346</th>\n",
       "      <td>43</td>\n",
       "      <td>P003001008</td>\n",
       "      <td>High</td>\n",
       "      <td>6.0</td>\n",
       "      <td>2022-12-09</td>\n",
       "    </tr>\n",
       "    <tr>\n",
       "      <th>347</th>\n",
       "      <td>43</td>\n",
       "      <td>P003001010</td>\n",
       "      <td>2018-05-20</td>\n",
       "      <td>7.0</td>\n",
       "      <td>2022-12-06</td>\n",
       "    </tr>\n",
       "    <tr>\n",
       "      <th>348</th>\n",
       "      <td>44</td>\n",
       "      <td>P003001008</td>\n",
       "      <td>High</td>\n",
       "      <td>6.0</td>\n",
       "      <td>2022-12-09</td>\n",
       "    </tr>\n",
       "    <tr>\n",
       "      <th>349</th>\n",
       "      <td>44</td>\n",
       "      <td>P003001010</td>\n",
       "      <td>2018-02-20</td>\n",
       "      <td>7.0</td>\n",
       "      <td>2022-12-06</td>\n",
       "    </tr>\n",
       "  </tbody>\n",
       "</table>\n",
       "<p>350 rows × 5 columns</p>\n",
       "</div>"
      ],
      "text/plain": [
       "     PERSON_MASTER_ID     RULE_NO       RULE_VALUE  RISK_SCORE_STATIC  \\\n",
       "0                   1  P002001007                4                NaN   \n",
       "1                   1  P002001008                1                NaN   \n",
       "2                   1  P003001001       Individual                0.0   \n",
       "3                   1  P003001004  Current Account                5.0   \n",
       "4                   1  P003001007       2022-11-15                0.0   \n",
       "..                ...         ...              ...                ...   \n",
       "345                42  P003001010                7                NaN   \n",
       "346                43  P003001008             High                6.0   \n",
       "347                43  P003001010       2018-05-20                7.0   \n",
       "348                44  P003001008             High                6.0   \n",
       "349                44  P003001010       2018-02-20                7.0   \n",
       "\n",
       "    CREATE_DATE  \n",
       "0    2022-12-06  \n",
       "1    2022-12-06  \n",
       "2    2022-12-06  \n",
       "3    2022-12-06  \n",
       "4    2022-12-06  \n",
       "..          ...  \n",
       "345  2022-12-06  \n",
       "346  2022-12-09  \n",
       "347  2022-12-06  \n",
       "348  2022-12-09  \n",
       "349  2022-12-06  \n",
       "\n",
       "[350 rows x 5 columns]"
      ]
     },
     "execution_count": 781,
     "metadata": {},
     "output_type": "execute_result"
    }
   ],
   "source": [
    "# df"
   ]
  },
  {
   "cell_type": "code",
   "execution_count": 782,
   "id": "c7697030",
   "metadata": {},
   "outputs": [],
   "source": [
    "# flagged_person = df[df['RULE_NO'] == 'P001001000']['PERSON_MASTER_ID'].to_list()"
   ]
  },
  {
   "cell_type": "code",
   "execution_count": 783,
   "id": "521ad456",
   "metadata": {},
   "outputs": [
    {
     "data": {
      "text/plain": [
       "[]"
      ]
     },
     "execution_count": 783,
     "metadata": {},
     "output_type": "execute_result"
    }
   ],
   "source": [
    "# flagged_person"
   ]
  },
  {
   "cell_type": "code",
   "execution_count": 784,
   "id": "c4a120b3",
   "metadata": {},
   "outputs": [],
   "source": [
    "# flagged_person = [*set(flagged_person)]"
   ]
  },
  {
   "cell_type": "code",
   "execution_count": 785,
   "id": "c6f0bd1f",
   "metadata": {},
   "outputs": [],
   "source": [
    "# case_master_id = 'BA00000333'"
   ]
  },
  {
   "cell_type": "code",
   "execution_count": 786,
   "id": "542a934d",
   "metadata": {},
   "outputs": [],
   "source": [
    "# case_entities = pd.read_sql_query(\"select Case_Master_Id,Entity_Master_Id,Is_Main_Entity_Flag from FINCORE_DB.Fincore.Case_Entity where Is_Active_Flag= 1 and Case_Master_Id = '{}'\".format(case_master_id),conn)"
   ]
  },
  {
   "cell_type": "code",
   "execution_count": 787,
   "id": "ce042f21",
   "metadata": {},
   "outputs": [
    {
     "data": {
      "text/html": [
       "<div>\n",
       "<style scoped>\n",
       "    .dataframe tbody tr th:only-of-type {\n",
       "        vertical-align: middle;\n",
       "    }\n",
       "\n",
       "    .dataframe tbody tr th {\n",
       "        vertical-align: top;\n",
       "    }\n",
       "\n",
       "    .dataframe thead th {\n",
       "        text-align: right;\n",
       "    }\n",
       "</style>\n",
       "<table border=\"1\" class=\"dataframe\">\n",
       "  <thead>\n",
       "    <tr style=\"text-align: right;\">\n",
       "      <th></th>\n",
       "      <th>Case_Master_Id</th>\n",
       "      <th>Entity_Master_Id</th>\n",
       "      <th>Is_Main_Entity_Flag</th>\n",
       "    </tr>\n",
       "  </thead>\n",
       "  <tbody>\n",
       "    <tr>\n",
       "      <th>0</th>\n",
       "      <td>BA00000333</td>\n",
       "      <td>7</td>\n",
       "      <td>1</td>\n",
       "    </tr>\n",
       "    <tr>\n",
       "      <th>1</th>\n",
       "      <td>BA00000333</td>\n",
       "      <td>8</td>\n",
       "      <td>0</td>\n",
       "    </tr>\n",
       "  </tbody>\n",
       "</table>\n",
       "</div>"
      ],
      "text/plain": [
       "  Case_Master_Id  Entity_Master_Id  Is_Main_Entity_Flag\n",
       "0     BA00000333                 7                    1\n",
       "1     BA00000333                 8                    0"
      ]
     },
     "execution_count": 787,
     "metadata": {},
     "output_type": "execute_result"
    }
   ],
   "source": [
    "# case_entities"
   ]
  },
  {
   "cell_type": "code",
   "execution_count": 788,
   "id": "8d33171a",
   "metadata": {},
   "outputs": [],
   "source": [
    "# def intersection(case_entities,flagged_person):\n",
    "#     intersection = [value for value in case_entities if value in flagged_person]\n",
    "#     return intersection"
   ]
  },
  {
   "cell_type": "code",
   "execution_count": 789,
   "id": "495df7c4",
   "metadata": {},
   "outputs": [
    {
     "name": "stdout",
     "output_type": "stream",
     "text": [
      "0\n"
     ]
    }
   ],
   "source": [
    "#  no_of_sanctionedlen(intersection(case_entities,flagged_person))"
   ]
  },
  {
   "cell_type": "code",
   "execution_count": null,
   "id": "3002b53e",
   "metadata": {},
   "outputs": [],
   "source": []
  },
  {
   "cell_type": "code",
   "execution_count": null,
   "id": "c613d399",
   "metadata": {},
   "outputs": [],
   "source": []
  },
  {
   "cell_type": "code",
   "execution_count": null,
   "id": "9a7692ac",
   "metadata": {},
   "outputs": [],
   "source": []
  },
  {
   "cell_type": "code",
   "execution_count": null,
   "id": "c10f5ddb",
   "metadata": {},
   "outputs": [],
   "source": []
  },
  {
   "cell_type": "code",
   "execution_count": null,
   "id": "4cc285b5",
   "metadata": {},
   "outputs": [],
   "source": []
  },
  {
   "cell_type": "markdown",
   "id": "55c0d72f",
   "metadata": {},
   "source": [
    "# \tLEA Adhoc request has been previously raised on Number of Entities entities"
   ]
  },
  {
   "cell_type": "code",
   "execution_count": null,
   "id": "91f0635c",
   "metadata": {},
   "outputs": [],
   "source": []
  },
  {
   "cell_type": "code",
   "execution_count": 33,
   "id": "8393f398",
   "metadata": {},
   "outputs": [],
   "source": [
    "# flagged_person = df[df['RULE_NO'] == 'P001002000']['PERSON_MASTER_ID'].to_list()"
   ]
  },
  {
   "cell_type": "code",
   "execution_count": null,
   "id": "15125042",
   "metadata": {},
   "outputs": [],
   "source": [
    "# flagged_person = [*set(flagged_person)]"
   ]
  },
  {
   "cell_type": "code",
   "execution_count": null,
   "id": "e170e850",
   "metadata": {},
   "outputs": [],
   "source": [
    "# case_master_id = 'BA00000333'"
   ]
  },
  {
   "cell_type": "code",
   "execution_count": null,
   "id": "2b88affa",
   "metadata": {},
   "outputs": [],
   "source": [
    "# case_entities = pd.read_sql_query(\"select Case_Master_Id,Entity_Master_Id,Is_Main_Entity_Flag from FINCORE_DB.Fincore.Case_Entity where Is_Active_Flag= 1 and Case_Master_Id = '{}'\".format(case_master_id),conn)"
   ]
  },
  {
   "cell_type": "code",
   "execution_count": null,
   "id": "e32fe34b",
   "metadata": {},
   "outputs": [],
   "source": [
    "# def intersection(case_entities,flagged_person):\n",
    "#     intersection = [value for value in case_entities if value in flagged_person]\n",
    "#     return intersection"
   ]
  },
  {
   "cell_type": "code",
   "execution_count": null,
   "id": "8c9c8ea1",
   "metadata": {},
   "outputs": [],
   "source": [
    "# print(len(intersection(case_entities,flagged_person)))"
   ]
  },
  {
   "cell_type": "code",
   "execution_count": null,
   "id": "c529d749",
   "metadata": {},
   "outputs": [],
   "source": []
  },
  {
   "cell_type": "code",
   "execution_count": null,
   "id": "0e47179a",
   "metadata": {},
   "outputs": [],
   "source": []
  },
  {
   "cell_type": "code",
   "execution_count": null,
   "id": "6719576c",
   "metadata": {},
   "outputs": [],
   "source": []
  },
  {
   "cell_type": "markdown",
   "id": "cb611b64",
   "metadata": {},
   "source": [
    "# International sanction list."
   ]
  },
  {
   "cell_type": "code",
   "execution_count": 99,
   "id": "2c3496d8",
   "metadata": {},
   "outputs": [
    {
     "data": {
      "text/html": [
       "<div>\n",
       "<style scoped>\n",
       "    .dataframe tbody tr th:only-of-type {\n",
       "        vertical-align: middle;\n",
       "    }\n",
       "\n",
       "    .dataframe tbody tr th {\n",
       "        vertical-align: top;\n",
       "    }\n",
       "\n",
       "    .dataframe thead th {\n",
       "        text-align: right;\n",
       "    }\n",
       "</style>\n",
       "<table border=\"1\" class=\"dataframe\">\n",
       "  <thead>\n",
       "    <tr style=\"text-align: right;\">\n",
       "      <th></th>\n",
       "      <th>PERSON_MASTER_ID</th>\n",
       "      <th>RULE_NO</th>\n",
       "      <th>RULE_VALUE</th>\n",
       "      <th>RISK_SCORE_STATIC</th>\n",
       "      <th>CREATE_DATE</th>\n",
       "    </tr>\n",
       "  </thead>\n",
       "  <tbody>\n",
       "  </tbody>\n",
       "</table>\n",
       "</div>"
      ],
      "text/plain": [
       "Empty DataFrame\n",
       "Columns: [PERSON_MASTER_ID, RULE_NO, RULE_VALUE, RISK_SCORE_STATIC, CREATE_DATE]\n",
       "Index: []"
      ]
     },
     "execution_count": 99,
     "metadata": {},
     "output_type": "execute_result"
    }
   ],
   "source": [
    "#  df[df['RULE_NO'].isin(['O001003000','P001003000'])]"
   ]
  },
  {
   "cell_type": "code",
   "execution_count": 100,
   "id": "5c373047",
   "metadata": {},
   "outputs": [],
   "source": [
    "# flagged_person = df[df['RULE_NO'].isin(['O001003000','P001003000'])]['PERSON_MASTER_ID'].to_list()"
   ]
  },
  {
   "cell_type": "code",
   "execution_count": 101,
   "id": "c0346580",
   "metadata": {},
   "outputs": [
    {
     "data": {
      "text/plain": [
       "[]"
      ]
     },
     "execution_count": 101,
     "metadata": {},
     "output_type": "execute_result"
    }
   ],
   "source": [
    "# flagged_person"
   ]
  },
  {
   "cell_type": "code",
   "execution_count": null,
   "id": "9dcd0c21",
   "metadata": {},
   "outputs": [],
   "source": []
  },
  {
   "cell_type": "code",
   "execution_count": null,
   "id": "c4a35ca6",
   "metadata": {},
   "outputs": [],
   "source": []
  },
  {
   "cell_type": "code",
   "execution_count": null,
   "id": "ab7a6176",
   "metadata": {},
   "outputs": [],
   "source": []
  },
  {
   "cell_type": "code",
   "execution_count": null,
   "id": "412edd67",
   "metadata": {},
   "outputs": [],
   "source": []
  },
  {
   "cell_type": "code",
   "execution_count": null,
   "id": "d9a4bc6c",
   "metadata": {},
   "outputs": [],
   "source": []
  },
  {
   "cell_type": "code",
   "execution_count": null,
   "id": "653b215d",
   "metadata": {},
   "outputs": [],
   "source": []
  },
  {
   "cell_type": "code",
   "execution_count": null,
   "id": "62b24a1a",
   "metadata": {},
   "outputs": [],
   "source": []
  },
  {
   "cell_type": "code",
   "execution_count": null,
   "id": "c0da3ce3",
   "metadata": {},
   "outputs": [],
   "source": []
  },
  {
   "cell_type": "code",
   "execution_count": null,
   "id": "2951a43f",
   "metadata": {},
   "outputs": [],
   "source": []
  },
  {
   "cell_type": "code",
   "execution_count": null,
   "id": "63b1b363",
   "metadata": {},
   "outputs": [],
   "source": []
  },
  {
   "cell_type": "code",
   "execution_count": null,
   "id": "e8c52b7c",
   "metadata": {},
   "outputs": [],
   "source": []
  },
  {
   "cell_type": "code",
   "execution_count": null,
   "id": "299215b9",
   "metadata": {},
   "outputs": [],
   "source": []
  },
  {
   "cell_type": "code",
   "execution_count": null,
   "id": "974688a4",
   "metadata": {},
   "outputs": [],
   "source": []
  },
  {
   "cell_type": "markdown",
   "id": "e134c99e",
   "metadata": {},
   "source": [
    "# High risk Business\n"
   ]
  },
  {
   "cell_type": "code",
   "execution_count": null,
   "id": "a6a12ef1",
   "metadata": {},
   "outputs": [],
   "source": [
    "# select * from FINCORE_DB.Fincore_Analytics.RISK_LKP_RULES \n",
    "# where rule_no in ('P003001002','O003001002')"
   ]
  },
  {
   "cell_type": "code",
   "execution_count": null,
   "id": "b61576af",
   "metadata": {},
   "outputs": [],
   "source": []
  },
  {
   "cell_type": "code",
   "execution_count": null,
   "id": "ce5659b0",
   "metadata": {},
   "outputs": [],
   "source": []
  },
  {
   "cell_type": "code",
   "execution_count": null,
   "id": "93ec71d2",
   "metadata": {},
   "outputs": [],
   "source": []
  },
  {
   "cell_type": "code",
   "execution_count": null,
   "id": "136b6397",
   "metadata": {},
   "outputs": [],
   "source": []
  },
  {
   "cell_type": "code",
   "execution_count": null,
   "id": "68ce249d",
   "metadata": {},
   "outputs": [],
   "source": []
  },
  {
   "cell_type": "code",
   "execution_count": null,
   "id": "120da2cb",
   "metadata": {},
   "outputs": [],
   "source": []
  },
  {
   "cell_type": "code",
   "execution_count": null,
   "id": "f2159b70",
   "metadata": {},
   "outputs": [],
   "source": []
  },
  {
   "cell_type": "code",
   "execution_count": null,
   "id": "2e0dbe5b",
   "metadata": {},
   "outputs": [],
   "source": []
  },
  {
   "cell_type": "code",
   "execution_count": null,
   "id": "3eb375ee",
   "metadata": {},
   "outputs": [],
   "source": []
  },
  {
   "cell_type": "code",
   "execution_count": null,
   "id": "04d312da",
   "metadata": {},
   "outputs": [],
   "source": []
  },
  {
   "cell_type": "code",
   "execution_count": null,
   "id": "5b3e1fd2",
   "metadata": {},
   "outputs": [],
   "source": []
  },
  {
   "cell_type": "code",
   "execution_count": null,
   "id": "d7c814f7",
   "metadata": {},
   "outputs": [],
   "source": []
  },
  {
   "cell_type": "code",
   "execution_count": null,
   "id": "54dcca75",
   "metadata": {},
   "outputs": [],
   "source": []
  },
  {
   "cell_type": "code",
   "execution_count": null,
   "id": "9d6bb4a0",
   "metadata": {},
   "outputs": [],
   "source": []
  },
  {
   "cell_type": "code",
   "execution_count": null,
   "id": "66ba7b4b",
   "metadata": {},
   "outputs": [],
   "source": []
  },
  {
   "cell_type": "code",
   "execution_count": null,
   "id": "00506a91",
   "metadata": {},
   "outputs": [],
   "source": []
  },
  {
   "cell_type": "code",
   "execution_count": null,
   "id": "12576443",
   "metadata": {},
   "outputs": [],
   "source": []
  },
  {
   "cell_type": "code",
   "execution_count": null,
   "id": "3f65c7cb",
   "metadata": {},
   "outputs": [],
   "source": []
  },
  {
   "cell_type": "code",
   "execution_count": null,
   "id": "6e26a1a8",
   "metadata": {},
   "outputs": [],
   "source": []
  },
  {
   "cell_type": "code",
   "execution_count": null,
   "id": "a5e571b3",
   "metadata": {},
   "outputs": [],
   "source": []
  },
  {
   "cell_type": "code",
   "execution_count": null,
   "id": "4f59f041",
   "metadata": {},
   "outputs": [],
   "source": []
  },
  {
   "cell_type": "code",
   "execution_count": null,
   "id": "eadad79b",
   "metadata": {},
   "outputs": [],
   "source": []
  },
  {
   "cell_type": "code",
   "execution_count": null,
   "id": "bc6fe789",
   "metadata": {},
   "outputs": [],
   "source": []
  },
  {
   "cell_type": "code",
   "execution_count": null,
   "id": "67d24b1a",
   "metadata": {},
   "outputs": [],
   "source": []
  },
  {
   "cell_type": "code",
   "execution_count": null,
   "id": "a5525233",
   "metadata": {},
   "outputs": [],
   "source": []
  },
  {
   "cell_type": "code",
   "execution_count": null,
   "id": "b0885836",
   "metadata": {},
   "outputs": [],
   "source": []
  },
  {
   "cell_type": "code",
   "execution_count": null,
   "id": "def464ee",
   "metadata": {},
   "outputs": [],
   "source": []
  },
  {
   "cell_type": "code",
   "execution_count": null,
   "id": "141c9029",
   "metadata": {},
   "outputs": [],
   "source": []
  },
  {
   "cell_type": "code",
   "execution_count": null,
   "id": "f055f1ff",
   "metadata": {},
   "outputs": [],
   "source": []
  },
  {
   "cell_type": "code",
   "execution_count": null,
   "id": "c894eb6a",
   "metadata": {},
   "outputs": [],
   "source": []
  },
  {
   "cell_type": "code",
   "execution_count": null,
   "id": "2beb4066",
   "metadata": {},
   "outputs": [],
   "source": []
  },
  {
   "cell_type": "code",
   "execution_count": null,
   "id": "6d38aa35",
   "metadata": {},
   "outputs": [],
   "source": []
  },
  {
   "cell_type": "code",
   "execution_count": null,
   "id": "5c5bffa6",
   "metadata": {},
   "outputs": [],
   "source": []
  },
  {
   "cell_type": "code",
   "execution_count": null,
   "id": "9b0a305e",
   "metadata": {},
   "outputs": [],
   "source": []
  },
  {
   "cell_type": "code",
   "execution_count": null,
   "id": "06c1d8e5",
   "metadata": {},
   "outputs": [],
   "source": []
  },
  {
   "cell_type": "code",
   "execution_count": null,
   "id": "f1d6fcf2",
   "metadata": {},
   "outputs": [],
   "source": []
  },
  {
   "cell_type": "code",
   "execution_count": null,
   "id": "1ba9367e",
   "metadata": {},
   "outputs": [],
   "source": []
  },
  {
   "cell_type": "code",
   "execution_count": null,
   "id": "34731f60",
   "metadata": {},
   "outputs": [],
   "source": []
  },
  {
   "cell_type": "code",
   "execution_count": null,
   "id": "3d3478e6",
   "metadata": {},
   "outputs": [],
   "source": []
  },
  {
   "cell_type": "code",
   "execution_count": null,
   "id": "8c97f794",
   "metadata": {},
   "outputs": [],
   "source": []
  },
  {
   "cell_type": "code",
   "execution_count": null,
   "id": "8af2dd8b",
   "metadata": {},
   "outputs": [],
   "source": []
  },
  {
   "cell_type": "code",
   "execution_count": null,
   "id": "e28b05e0",
   "metadata": {},
   "outputs": [],
   "source": []
  },
  {
   "cell_type": "code",
   "execution_count": null,
   "id": "c88f9851",
   "metadata": {},
   "outputs": [],
   "source": []
  },
  {
   "cell_type": "code",
   "execution_count": null,
   "id": "74c1f802",
   "metadata": {},
   "outputs": [],
   "source": []
  },
  {
   "cell_type": "code",
   "execution_count": null,
   "id": "a4c5b95f",
   "metadata": {},
   "outputs": [],
   "source": []
  },
  {
   "cell_type": "code",
   "execution_count": null,
   "id": "eb8ab63d",
   "metadata": {},
   "outputs": [],
   "source": []
  },
  {
   "cell_type": "code",
   "execution_count": null,
   "id": "0614ed2a",
   "metadata": {},
   "outputs": [],
   "source": []
  },
  {
   "cell_type": "code",
   "execution_count": null,
   "id": "f36679f1",
   "metadata": {},
   "outputs": [],
   "source": []
  },
  {
   "cell_type": "code",
   "execution_count": null,
   "id": "fff1b668",
   "metadata": {},
   "outputs": [],
   "source": []
  },
  {
   "cell_type": "code",
   "execution_count": null,
   "id": "22c5af1c",
   "metadata": {},
   "outputs": [],
   "source": []
  },
  {
   "cell_type": "code",
   "execution_count": null,
   "id": "5ba033ca",
   "metadata": {},
   "outputs": [],
   "source": []
  },
  {
   "cell_type": "code",
   "execution_count": null,
   "id": "c909f52f",
   "metadata": {},
   "outputs": [],
   "source": []
  },
  {
   "cell_type": "code",
   "execution_count": null,
   "id": "6e256909",
   "metadata": {},
   "outputs": [],
   "source": []
  },
  {
   "cell_type": "code",
   "execution_count": null,
   "id": "b43dff7b",
   "metadata": {},
   "outputs": [],
   "source": []
  },
  {
   "cell_type": "code",
   "execution_count": 3,
   "id": "b13965f8",
   "metadata": {},
   "outputs": [],
   "source": [
    "# import pyodbc\n",
    "# import pandas as pd\n",
    "# from tqdm import tqdm as tqdm"
   ]
  },
  {
   "cell_type": "code",
   "execution_count": 4,
   "id": "dc6313f6",
   "metadata": {},
   "outputs": [],
   "source": [
    "\n",
    "# def rules_triggered(a,b):\n",
    "#     result = [i for i in a if i in b]\n",
    "#     return result\n"
   ]
  },
  {
   "cell_type": "code",
   "execution_count": 7,
   "id": "5b6e665f",
   "metadata": {},
   "outputs": [],
   "source": [
    "# pyodbc.drivers()\n",
    "# # conn = pyodbc.connect('DRIVER=SQL SERVER;SERVER=172.16.33.27;PORT=1433;DATABASE=FINCORE_DB;UID=Fincore_App_USR;PWD=F!NCore@123;TDS_Version=7.2;')\n",
    "# conn = pyodbc.connect('DRIVER=SQL SERVER;SERVER=172.16.34.15;PORT=1433;DATABASE=FINCORE_DB;UID=FINCORE_ANALYTICS_USR;PWD=F!NCore@123;TDS_Version=7.2;')\n",
    "# # conn = pyodbc.connect('DRIVER=SQL SERVER;SERVER=172.16.27.39;PORT=1433;DATABASE=HDM_FINCORE_DB;UID=FINC_HDM_USR;PWD=#DM@2022;TDS_Version=7.2;')\n",
    "# cursor = conn.cursor()"
   ]
  },
  {
   "cell_type": "code",
   "execution_count": 9,
   "id": "2999a281",
   "metadata": {},
   "outputs": [],
   "source": [
    "# rules_df = pd.read_sql_query(\"select * from FINCORE_DB.Fincore_Analytics.RISK_LKP_RULES where  is_active_flag = 1 \",conn)"
   ]
  },
  {
   "cell_type": "code",
   "execution_count": 10,
   "id": "9af9d059",
   "metadata": {},
   "outputs": [],
   "source": [
    "# cmid = 'BA00000020'"
   ]
  },
  {
   "cell_type": "code",
   "execution_count": 11,
   "id": "b18753c8",
   "metadata": {},
   "outputs": [],
   "source": [
    "# #Dictionary that maps gender with pronouns\n",
    "# gen_dict = {'Male':'His','Female':'Her'}\n",
    "\n",
    "# #creating a dataframe to store the case summary \n",
    "# case_data = pd.DataFrame()\n",
    "# #list to store the case summary of each case\n",
    "# summary_list = []\n",
    "# s = ''\n",
    "\n",
    "# #Creating an HTML file to store the HTML\n",
    "# html_file = open(r\"str(cmid)\"+\".html\",'w')\n",
    "# css = '''<!DOCTYPE html>\n",
    "#     <html>\n",
    "#     <head>\n",
    "#     <meta content=\"text/html; charset=utf-8\" http-equiv=\"Content-Type\"/>\n",
    "#     <style>\n",
    "#             ul{\n",
    "#                 list-style-type:disc;\n",
    "#             }\n",
    "#             body{\n",
    "#             font-family:\"Calibri, sans-serif\";\n",
    "#             word-wrap:break-word;\n",
    "#             margin-left: 20px;\n",
    "#             }\n",
    "#         </style>\n",
    "#     </head>\n",
    "#     <body lang=\"EN-US\">\n",
    "#     <div>\n",
    "#     '''\n",
    "# #Writing the CSS in the html file\n",
    "# html_file.write(css)\n",
    "# #beginign of unordered list\n",
    "# html_file.write(\"<ul>\")\n",
    "# print(cmid)\n",
    "    \n",
    "    \n",
    "    "
   ]
  },
  {
   "cell_type": "code",
   "execution_count": 13,
   "id": "d2eb1ed8",
   "metadata": {},
   "outputs": [],
   "source": [
    "\n",
    "\n",
    "# pyodbc.drivers()\n",
    "# conn = pyodbc.connect('DRIVER=SQL SERVER;SERVER=172.16.34.15;PORT=1433;DATABASE=FINCORE_DB;UID=FINCORE_ANALYTICS_USR;PWD=F!NCore@123;TDS_Version=7.2;')\n",
    "# cursor = conn.cursor()\n"
   ]
  },
  {
   "cell_type": "code",
   "execution_count": 14,
   "id": "5350eba1",
   "metadata": {},
   "outputs": [],
   "source": [
    "\n",
    "# case_entities = pd.read_sql_query(\"select Case_Master_Id,Entity_Master_Id,Is_Main_Entity_Flag from FINCORE_DB.Fincore.Case_Entity where Is_Active_Flag= 1 and Case_Master_Id = '{}'\".format(cmid),conn)\n",
    "# # "
   ]
  },
  {
   "cell_type": "code",
   "execution_count": null,
   "id": "5baa4c73",
   "metadata": {},
   "outputs": [],
   "source": []
  },
  {
   "cell_type": "code",
   "execution_count": 15,
   "id": "3596690e",
   "metadata": {},
   "outputs": [
    {
     "data": {
      "text/html": [
       "<div>\n",
       "<style scoped>\n",
       "    .dataframe tbody tr th:only-of-type {\n",
       "        vertical-align: middle;\n",
       "    }\n",
       "\n",
       "    .dataframe tbody tr th {\n",
       "        vertical-align: top;\n",
       "    }\n",
       "\n",
       "    .dataframe thead th {\n",
       "        text-align: right;\n",
       "    }\n",
       "</style>\n",
       "<table border=\"1\" class=\"dataframe\">\n",
       "  <thead>\n",
       "    <tr style=\"text-align: right;\">\n",
       "      <th></th>\n",
       "      <th>Case_Master_Id</th>\n",
       "      <th>Entity_Master_Id</th>\n",
       "      <th>Is_Main_Entity_Flag</th>\n",
       "    </tr>\n",
       "  </thead>\n",
       "  <tbody>\n",
       "    <tr>\n",
       "      <th>0</th>\n",
       "      <td>BA00000020</td>\n",
       "      <td>10</td>\n",
       "      <td>1</td>\n",
       "    </tr>\n",
       "    <tr>\n",
       "      <th>1</th>\n",
       "      <td>BA00000020</td>\n",
       "      <td>14</td>\n",
       "      <td>0</td>\n",
       "    </tr>\n",
       "  </tbody>\n",
       "</table>\n",
       "</div>"
      ],
      "text/plain": [
       "  Case_Master_Id  Entity_Master_Id  Is_Main_Entity_Flag\n",
       "0     BA00000020                10                    1\n",
       "1     BA00000020                14                    0"
      ]
     },
     "execution_count": 15,
     "metadata": {},
     "output_type": "execute_result"
    }
   ],
   "source": [
    "# case_entities"
   ]
  },
  {
   "cell_type": "code",
   "execution_count": 96,
   "id": "8602f9c5",
   "metadata": {},
   "outputs": [],
   "source": [
    "# all_entities = case_entities['Entity_Master_Id'].to_list()"
   ]
  },
  {
   "cell_type": "code",
   "execution_count": 97,
   "id": "8f910108",
   "metadata": {},
   "outputs": [
    {
     "data": {
      "text/plain": [
       "[10, 14]"
      ]
     },
     "execution_count": 97,
     "metadata": {},
     "output_type": "execute_result"
    }
   ],
   "source": [
    "# all_entities"
   ]
  },
  {
   "cell_type": "code",
   "execution_count": 16,
   "id": "025028c8",
   "metadata": {},
   "outputs": [],
   "source": [
    "\n",
    "\n",
    "\n",
    "# main_entity = case_entities[case_entities['Is_Main_Entity_Flag'] == 1]['Entity_Master_Id'].to_list()\n",
    "# other_entity = case_entities[case_entities['Is_Main_Entity_Flag'] == 0]['Entity_Master_Id'].to_list()\n",
    "    "
   ]
  },
  {
   "cell_type": "code",
   "execution_count": 17,
   "id": "1dda26f1",
   "metadata": {},
   "outputs": [
    {
     "data": {
      "text/plain": [
       "[10]"
      ]
     },
     "execution_count": 17,
     "metadata": {},
     "output_type": "execute_result"
    }
   ],
   "source": [
    "# main_entity"
   ]
  },
  {
   "cell_type": "code",
   "execution_count": 18,
   "id": "14ccff4d",
   "metadata": {},
   "outputs": [],
   "source": [
    "\n",
    "# risk_person = pd.read_sql_query(\"SELECT * FROM FINCORE_ANALYTICS.RISK_PERSON\",conn)\n",
    "# auto_high_rules = pd.read_sql_query(\"Select * from fincore_analytics.risk_lkp_rules where RISK_TYPE = 'Auto High Rules ' and IS_ACTIVE_FLAG = 1\",conn)\n",
    "# auto_high_rules = auto_high_rules['RULE_NO'].to_list()"
   ]
  },
  {
   "cell_type": "code",
   "execution_count": null,
   "id": "ea23264d",
   "metadata": {},
   "outputs": [],
   "source": []
  },
  {
   "cell_type": "code",
   "execution_count": 19,
   "id": "d31e0c4e",
   "metadata": {},
   "outputs": [],
   "source": [
    "\n",
    "\n",
    "\n",
    "# auto_df = []\n",
    "# for ind,row in risk_person.iterrows():\n",
    "#         l = []\n",
    "#         l = list(row['RISK_RULE_LIST'].split('_'))\n",
    "#         auto = row['PERSON_MASTER_ID'],rules_triggered(l,auto_high_rules)\n",
    "#         auto = list(auto)\n",
    "#         auto_df.append(auto)\n",
    "\n",
    "# auto_df = pd.DataFrame(auto_df,columns = ['PERSON_MASTER_ID','RULES_TRIGGERED'])\n",
    "# auto_df['RULES_TRIGGERED']=auto_df['RULES_TRIGGERED'].astype(str)\n",
    "# auto_df=auto_df[auto_df['RULES_TRIGGERED']!='[]']\n",
    "\n",
    "# auto_df.reset_index(inplace = True)\n",
    "# auto_df.drop(columns = ['index'],inplace = True)\n",
    "\n",
    "\n",
    "# for ind,row in auto_df.iterrows():\n",
    "#     auto_df['RULES_TRIGGERED'][ind] = auto_df['RULES_TRIGGERED'][ind].replace('[','')\n",
    "#     auto_df['RULES_TRIGGERED'][ind] = auto_df['RULES_TRIGGERED'][ind].replace(']','')\n",
    "#     auto_df['RULES_TRIGGERED'][ind] = auto_df['RULES_TRIGGERED'][ind].replace('\\'','')"
   ]
  },
  {
   "cell_type": "code",
   "execution_count": 20,
   "id": "867dfe5d",
   "metadata": {},
   "outputs": [],
   "source": [
    "\n",
    "\n",
    "# auto_df_main = auto_df[auto_df['PERSON_MASTER_ID'].isin(main_entity)]\n",
    "# auto_df_main.reset_index(inplace = True)\n",
    "# auto_df_main = auto_df_main['RULES_TRIGGERED'].to_list()\n",
    "# auto_df_main = str(auto_df_main)\n",
    "# auto_df_main = auto_df_main.replace('\\'','')\n",
    "# auto_df_main = auto_df_main.replace('[','')\n",
    "# auto_df_main = auto_df_main.replace(']','')\n",
    "# auto_df_main = auto_df_main.replace(' ','')\n",
    "# auto_df_main = auto_df_main.split(',')\n",
    "# auto_df_main = [*set(auto_df_main)]\n"
   ]
  },
  {
   "cell_type": "code",
   "execution_count": 21,
   "id": "e5ef7640",
   "metadata": {},
   "outputs": [],
   "source": [
    "# auto_df_main = rules_df[rules_df['RULE_NO'].isin(auto_df_main)]['RULE_DESC'].to_list()"
   ]
  },
  {
   "cell_type": "code",
   "execution_count": null,
   "id": "21ffd663",
   "metadata": {},
   "outputs": [],
   "source": []
  },
  {
   "cell_type": "code",
   "execution_count": 22,
   "id": "f608f536",
   "metadata": {},
   "outputs": [],
   "source": [
    "\n",
    "\n",
    "# auto_df_other = auto_df[auto_df['PERSON_MASTER_ID'].isin(other_entity)]\n",
    "# auto_df_other.reset_index(inplace = True)\n",
    "# auto_df_other = auto_df_other['RULES_TRIGGERED'].to_list()\n",
    "# auto_df_other = str(auto_df_other)\n",
    "# auto_df_other = auto_df_other.replace('\\'','')\n",
    "# auto_df_other = auto_df_other.replace('[','')\n",
    "# auto_df_other = auto_df_other.replace(']','')\n",
    "# auto_df_other = auto_df_other.replace(' ','')\n",
    "# auto_df_other = auto_df_other.split(',')\n",
    "# auto_df_other = [*set(auto_df_other)]\n",
    "\n",
    "# auto_df_other = rules_df[rules_df['RULE_NO'].isin(auto_df_other)]['RULE_DESC'].to_list()\n",
    "    \n",
    "    "
   ]
  },
  {
   "cell_type": "code",
   "execution_count": 23,
   "id": "81ab6233",
   "metadata": {},
   "outputs": [],
   "source": [
    "\n",
    "# watchlist = pd.read_sql_query(\"select PERSON_MASTER_ID,RULE_NO,string_agg(RULE_VALUE,',') within group (order by rule_no)  as rule_value from FINCORE_DB.Fincore_Analytics.RISK_PERSON_SUMMARY_STG_RULES where RULE_NO in ('P001001000', 'P001003000')group by PERSON_MASTER_ID,RULE_NO\",conn)"
   ]
  },
  {
   "cell_type": "code",
   "execution_count": 24,
   "id": "0be44c9e",
   "metadata": {},
   "outputs": [
    {
     "data": {
      "text/html": [
       "<div>\n",
       "<style scoped>\n",
       "    .dataframe tbody tr th:only-of-type {\n",
       "        vertical-align: middle;\n",
       "    }\n",
       "\n",
       "    .dataframe tbody tr th {\n",
       "        vertical-align: top;\n",
       "    }\n",
       "\n",
       "    .dataframe thead th {\n",
       "        text-align: right;\n",
       "    }\n",
       "</style>\n",
       "<table border=\"1\" class=\"dataframe\">\n",
       "  <thead>\n",
       "    <tr style=\"text-align: right;\">\n",
       "      <th></th>\n",
       "      <th>PERSON_MASTER_ID</th>\n",
       "      <th>RULE_NO</th>\n",
       "      <th>rule_value</th>\n",
       "    </tr>\n",
       "  </thead>\n",
       "  <tbody>\n",
       "  </tbody>\n",
       "</table>\n",
       "</div>"
      ],
      "text/plain": [
       "Empty DataFrame\n",
       "Columns: [PERSON_MASTER_ID, RULE_NO, rule_value]\n",
       "Index: []"
      ]
     },
     "execution_count": 24,
     "metadata": {},
     "output_type": "execute_result"
    }
   ],
   "source": [
    "# watchlist"
   ]
  },
  {
   "cell_type": "code",
   "execution_count": 25,
   "id": "4e9d1e95",
   "metadata": {},
   "outputs": [],
   "source": [
    "\n",
    "\n",
    "# main_entity_watchlist = watchlist[watchlist['PERSON_MASTER_ID'].isin(main_entity)]\n",
    "# main_entity_watchlist.reset_index(inplace = True)\n",
    "\n",
    "# main_entity_watchlist = main_entity_watchlist['RULE_NO'].to_list()\n",
    "# main_entity_watchlist = str(main_entity_watchlist)\n",
    "# main_entity_watchlist = main_entity_watchlist.replace('\\'','')\n",
    "# main_entity_watchlist = main_entity_watchlist.replace('[','')\n",
    "# main_entity_watchlist = main_entity_watchlist.replace(']','')\n",
    "# main_entity_watchlist = main_entity_watchlist.replace(' ','')\n",
    "# main_entity_watchlist = main_entity_watchlist.split(',')\n",
    "# main_entity_watchlist = [*set(main_entity_watchlist)]\n",
    "\n",
    "# other_entity_watchlist = watchlist[watchlist['PERSON_MASTER_ID'].isin(other_entity)]\n",
    "# other_entity_watchlist.reset_index(inplace = True)\n",
    "# other_entity_watchlist = other_entity_watchlist['RULE_NO'].to_list()\n",
    "# other_entity_watchlist = str(other_entity_watchlist)\n",
    "# other_entity_watchlist = other_entity_watchlist.replace('\\'','')\n",
    "# other_entity_watchlist = other_entity_watchlist.replace('[','')\n",
    "# other_entity_watchlist = other_entity_watchlist.replace(']','')\n",
    "# other_entity_watchlist = other_entity_watchlist.replace(' ','')\n",
    "# other_entity_watchlist = other_entity_watchlist.split(',')\n",
    "# other_entity_watchlist = [*set(other_entity_watchlist)]\n"
   ]
  },
  {
   "cell_type": "code",
   "execution_count": null,
   "id": "40aa2e57",
   "metadata": {},
   "outputs": [],
   "source": []
  },
  {
   "cell_type": "code",
   "execution_count": null,
   "id": "63972b0f",
   "metadata": {},
   "outputs": [],
   "source": []
  },
  {
   "cell_type": "code",
   "execution_count": 26,
   "id": "cec61050",
   "metadata": {},
   "outputs": [],
   "source": [
    "# inherent_risk = pd.read_sql_query(\"select * from FINCORE_DB.Fincore_Analytics.RISK_LKP_RULES where person_type = 'Individual' and is_active_flag = 1 and RISK_TYPE = 'KYC profile/ Inherent risk based High Risk Indicators - Inherent Risk'\",conn)\n"
   ]
  },
  {
   "cell_type": "code",
   "execution_count": 27,
   "id": "1e1f40e6",
   "metadata": {},
   "outputs": [
    {
     "data": {
      "text/html": [
       "<div>\n",
       "<style scoped>\n",
       "    .dataframe tbody tr th:only-of-type {\n",
       "        vertical-align: middle;\n",
       "    }\n",
       "\n",
       "    .dataframe tbody tr th {\n",
       "        vertical-align: top;\n",
       "    }\n",
       "\n",
       "    .dataframe thead th {\n",
       "        text-align: right;\n",
       "    }\n",
       "</style>\n",
       "<table border=\"1\" class=\"dataframe\">\n",
       "  <thead>\n",
       "    <tr style=\"text-align: right;\">\n",
       "      <th></th>\n",
       "      <th>RULE_ID</th>\n",
       "      <th>RULE_NO</th>\n",
       "      <th>RULE_DESC</th>\n",
       "      <th>PERSON_TYPE</th>\n",
       "      <th>RISK_TYPE</th>\n",
       "      <th>IS_ACTIVE_FLAG</th>\n",
       "      <th>CREATE_DATE</th>\n",
       "      <th>UPDATE_DATE</th>\n",
       "      <th>SOURCE_DATA_EXISTING_UNDRSTD</th>\n",
       "      <th>DEVELOPMENT_STATUS</th>\n",
       "      <th>CODE_REVIEW_STATUS</th>\n",
       "      <th>DEPENDENCY</th>\n",
       "      <th>WEIGHTAGE</th>\n",
       "      <th>PRIORITY_NO</th>\n",
       "      <th>Query</th>\n",
       "      <th>QUERY_TEMP</th>\n",
       "      <th>RISK_SCORE_STATIC_FLAG</th>\n",
       "    </tr>\n",
       "  </thead>\n",
       "  <tbody>\n",
       "    <tr>\n",
       "      <th>0</th>\n",
       "      <td>2.1.7</td>\n",
       "      <td>P002001007</td>\n",
       "      <td>Number of names/aliases reported across differ...</td>\n",
       "      <td>Individual</td>\n",
       "      <td>KYC profile/ Inherent risk based High Risk Ind...</td>\n",
       "      <td>1</td>\n",
       "      <td>2022-02-03</td>\n",
       "      <td>None</td>\n",
       "      <td>None</td>\n",
       "      <td>On-Hold</td>\n",
       "      <td>None</td>\n",
       "      <td>None</td>\n",
       "      <td>10</td>\n",
       "      <td>2</td>\n",
       "      <td>\\r\\n\\r\\n\\r\\n\\r\\n\\r\\n\\r\\n        MERGE INTO FI...</td>\n",
       "      <td>None</td>\n",
       "      <td>0</td>\n",
       "    </tr>\n",
       "    <tr>\n",
       "      <th>1</th>\n",
       "      <td>2.1.8</td>\n",
       "      <td>P002001008</td>\n",
       "      <td>Number of mobile Numbers</td>\n",
       "      <td>Individual</td>\n",
       "      <td>KYC profile/ Inherent risk based High Risk Ind...</td>\n",
       "      <td>1</td>\n",
       "      <td>2022-02-03</td>\n",
       "      <td>None</td>\n",
       "      <td>None</td>\n",
       "      <td>On-Hold</td>\n",
       "      <td>None</td>\n",
       "      <td>None</td>\n",
       "      <td>10</td>\n",
       "      <td>2</td>\n",
       "      <td>\\r\\n\\r\\n\\r\\n     MERGE INTO FINCORE_DB.Fincor...</td>\n",
       "      <td>None</td>\n",
       "      <td>0</td>\n",
       "    </tr>\n",
       "  </tbody>\n",
       "</table>\n",
       "</div>"
      ],
      "text/plain": [
       "  RULE_ID     RULE_NO                                          RULE_DESC  \\\n",
       "0   2.1.7  P002001007  Number of names/aliases reported across differ...   \n",
       "1   2.1.8  P002001008                           Number of mobile Numbers   \n",
       "\n",
       "  PERSON_TYPE                                          RISK_TYPE  \\\n",
       "0  Individual  KYC profile/ Inherent risk based High Risk Ind...   \n",
       "1  Individual  KYC profile/ Inherent risk based High Risk Ind...   \n",
       "\n",
       "   IS_ACTIVE_FLAG CREATE_DATE UPDATE_DATE SOURCE_DATA_EXISTING_UNDRSTD  \\\n",
       "0               1  2022-02-03        None                         None   \n",
       "1               1  2022-02-03        None                         None   \n",
       "\n",
       "  DEVELOPMENT_STATUS CODE_REVIEW_STATUS DEPENDENCY  WEIGHTAGE  PRIORITY_NO  \\\n",
       "0            On-Hold               None       None         10            2   \n",
       "1            On-Hold               None       None         10            2   \n",
       "\n",
       "                                               Query QUERY_TEMP  \\\n",
       "0   \\r\\n\\r\\n\\r\\n\\r\\n\\r\\n\\r\\n        MERGE INTO FI...       None   \n",
       "1   \\r\\n\\r\\n\\r\\n     MERGE INTO FINCORE_DB.Fincor...       None   \n",
       "\n",
       "   RISK_SCORE_STATIC_FLAG  \n",
       "0                       0  \n",
       "1                       0  "
      ]
     },
     "execution_count": 27,
     "metadata": {},
     "output_type": "execute_result"
    }
   ],
   "source": [
    "# inherent_risk"
   ]
  },
  {
   "cell_type": "code",
   "execution_count": 28,
   "id": "013e999c",
   "metadata": {},
   "outputs": [],
   "source": [
    "# main_entity = case_entities[case_entities['Is_Main_Entity_Flag'] == 1]['Entity_Master_Id'].to_list()\n",
    "# other_entity = case_entities[case_entities['Is_Main_Entity_Flag'] == 0]['Entity_Master_Id'].to_list()\n",
    "# inherent_risk = inherent_risk['RULE_NO'].to_list()"
   ]
  },
  {
   "cell_type": "code",
   "execution_count": null,
   "id": "8c58c865",
   "metadata": {},
   "outputs": [],
   "source": []
  },
  {
   "cell_type": "code",
   "execution_count": 29,
   "id": "e33c7818",
   "metadata": {},
   "outputs": [
    {
     "data": {
      "text/plain": [
       "[14]"
      ]
     },
     "execution_count": 29,
     "metadata": {},
     "output_type": "execute_result"
    }
   ],
   "source": [
    "# other_entity"
   ]
  },
  {
   "cell_type": "code",
   "execution_count": 30,
   "id": "d5d818ec",
   "metadata": {},
   "outputs": [],
   "source": [
    "# inherent_df = []\n",
    "# for ind,row in risk_person.iterrows():\n",
    "#         l = []\n",
    "#         l = list(row['RISK_RULE_LIST'].split('_'))\n",
    "#         inherent = row['PERSON_MASTER_ID'],rules_triggered(l,inherent_risk)\n",
    "#         inherent = list(inherent)\n",
    "#         inherent_df.append(inherent)"
   ]
  },
  {
   "cell_type": "code",
   "execution_count": 31,
   "id": "ac9d3715",
   "metadata": {},
   "outputs": [],
   "source": [
    "\n",
    "\n",
    "# inherent_df = pd.DataFrame(inherent_df,columns = ['PERSON_MASTER_ID','RULES_TRIGGERED'])\n",
    "# inherent_df['RULES_TRIGGERED']=inherent_df['RULES_TRIGGERED'].astype(str)\n",
    "# inherent_df=inherent_df[inherent_df['RULES_TRIGGERED']!='[]']\n",
    "# inherent_df.reset_index(inplace = True)\n",
    "# inherent_df.drop(columns = ['index'],inplace = True)"
   ]
  },
  {
   "cell_type": "code",
   "execution_count": 32,
   "id": "a08e358f",
   "metadata": {},
   "outputs": [
    {
     "name": "stderr",
     "output_type": "stream",
     "text": [
      "<ipython-input-32-fd66be8abb83>:2: SettingWithCopyWarning: \n",
      "A value is trying to be set on a copy of a slice from a DataFrame\n",
      "\n",
      "See the caveats in the documentation: https://pandas.pydata.org/pandas-docs/stable/user_guide/indexing.html#returning-a-view-versus-a-copy\n",
      "  inherent_df['RULES_TRIGGERED'][ind] = inherent_df['RULES_TRIGGERED'][ind].replace('[','')\n",
      "<ipython-input-32-fd66be8abb83>:3: SettingWithCopyWarning: \n",
      "A value is trying to be set on a copy of a slice from a DataFrame\n",
      "\n",
      "See the caveats in the documentation: https://pandas.pydata.org/pandas-docs/stable/user_guide/indexing.html#returning-a-view-versus-a-copy\n",
      "  inherent_df['RULES_TRIGGERED'][ind] = inherent_df['RULES_TRIGGERED'][ind].replace(']','')\n",
      "<ipython-input-32-fd66be8abb83>:4: SettingWithCopyWarning: \n",
      "A value is trying to be set on a copy of a slice from a DataFrame\n",
      "\n",
      "See the caveats in the documentation: https://pandas.pydata.org/pandas-docs/stable/user_guide/indexing.html#returning-a-view-versus-a-copy\n",
      "  inherent_df['RULES_TRIGGERED'][ind]=inherent_df['RULES_TRIGGERED'][ind].replace('\\'','')\n"
     ]
    }
   ],
   "source": [
    "\n",
    "# for ind,row in inherent_df.iterrows():\n",
    "#     inherent_df['RULES_TRIGGERED'][ind] = inherent_df['RULES_TRIGGERED'][ind].replace('[','')\n",
    "#     inherent_df['RULES_TRIGGERED'][ind] = inherent_df['RULES_TRIGGERED'][ind].replace(']','')\n",
    "#     inherent_df['RULES_TRIGGERED'][ind]=inherent_df['RULES_TRIGGERED'][ind].replace('\\'','')"
   ]
  },
  {
   "cell_type": "code",
   "execution_count": 33,
   "id": "418160b8",
   "metadata": {},
   "outputs": [
    {
     "data": {
      "text/html": [
       "<div>\n",
       "<style scoped>\n",
       "    .dataframe tbody tr th:only-of-type {\n",
       "        vertical-align: middle;\n",
       "    }\n",
       "\n",
       "    .dataframe tbody tr th {\n",
       "        vertical-align: top;\n",
       "    }\n",
       "\n",
       "    .dataframe thead th {\n",
       "        text-align: right;\n",
       "    }\n",
       "</style>\n",
       "<table border=\"1\" class=\"dataframe\">\n",
       "  <thead>\n",
       "    <tr style=\"text-align: right;\">\n",
       "      <th></th>\n",
       "      <th>PERSON_MASTER_ID</th>\n",
       "      <th>RULES_TRIGGERED</th>\n",
       "    </tr>\n",
       "  </thead>\n",
       "  <tbody>\n",
       "    <tr>\n",
       "      <th>0</th>\n",
       "      <td>1</td>\n",
       "      <td>P002001007, P002001008</td>\n",
       "    </tr>\n",
       "    <tr>\n",
       "      <th>1</th>\n",
       "      <td>2</td>\n",
       "      <td>P002001007</td>\n",
       "    </tr>\n",
       "    <tr>\n",
       "      <th>2</th>\n",
       "      <td>3</td>\n",
       "      <td>P002001007</td>\n",
       "    </tr>\n",
       "    <tr>\n",
       "      <th>3</th>\n",
       "      <td>4</td>\n",
       "      <td>P002001007</td>\n",
       "    </tr>\n",
       "    <tr>\n",
       "      <th>4</th>\n",
       "      <td>5</td>\n",
       "      <td>P002001007, P002001008</td>\n",
       "    </tr>\n",
       "    <tr>\n",
       "      <th>5</th>\n",
       "      <td>6</td>\n",
       "      <td>P002001007, P002001008</td>\n",
       "    </tr>\n",
       "    <tr>\n",
       "      <th>6</th>\n",
       "      <td>7</td>\n",
       "      <td>P002001007, P002001008</td>\n",
       "    </tr>\n",
       "    <tr>\n",
       "      <th>7</th>\n",
       "      <td>8</td>\n",
       "      <td>P002001007, P002001008</td>\n",
       "    </tr>\n",
       "    <tr>\n",
       "      <th>8</th>\n",
       "      <td>9</td>\n",
       "      <td>P002001007, P002001008</td>\n",
       "    </tr>\n",
       "    <tr>\n",
       "      <th>9</th>\n",
       "      <td>10</td>\n",
       "      <td>P002001007, P002001008</td>\n",
       "    </tr>\n",
       "    <tr>\n",
       "      <th>10</th>\n",
       "      <td>11</td>\n",
       "      <td>P002001007, P002001008</td>\n",
       "    </tr>\n",
       "    <tr>\n",
       "      <th>11</th>\n",
       "      <td>12</td>\n",
       "      <td>P002001007, P002001008</td>\n",
       "    </tr>\n",
       "    <tr>\n",
       "      <th>12</th>\n",
       "      <td>13</td>\n",
       "      <td>P002001007, P002001008</td>\n",
       "    </tr>\n",
       "    <tr>\n",
       "      <th>13</th>\n",
       "      <td>14</td>\n",
       "      <td>P002001007, P002001008</td>\n",
       "    </tr>\n",
       "    <tr>\n",
       "      <th>14</th>\n",
       "      <td>15</td>\n",
       "      <td>P002001007, P002001008</td>\n",
       "    </tr>\n",
       "    <tr>\n",
       "      <th>15</th>\n",
       "      <td>16</td>\n",
       "      <td>P002001007, P002001008</td>\n",
       "    </tr>\n",
       "    <tr>\n",
       "      <th>16</th>\n",
       "      <td>17</td>\n",
       "      <td>P002001007, P002001008</td>\n",
       "    </tr>\n",
       "    <tr>\n",
       "      <th>17</th>\n",
       "      <td>18</td>\n",
       "      <td>P002001007, P002001008</td>\n",
       "    </tr>\n",
       "    <tr>\n",
       "      <th>18</th>\n",
       "      <td>19</td>\n",
       "      <td>P002001007, P002001008</td>\n",
       "    </tr>\n",
       "    <tr>\n",
       "      <th>19</th>\n",
       "      <td>20</td>\n",
       "      <td>P002001007, P002001008</td>\n",
       "    </tr>\n",
       "    <tr>\n",
       "      <th>20</th>\n",
       "      <td>21</td>\n",
       "      <td>P002001007, P002001008</td>\n",
       "    </tr>\n",
       "    <tr>\n",
       "      <th>21</th>\n",
       "      <td>22</td>\n",
       "      <td>P002001007, P002001008</td>\n",
       "    </tr>\n",
       "    <tr>\n",
       "      <th>22</th>\n",
       "      <td>23</td>\n",
       "      <td>P002001007, P002001008</td>\n",
       "    </tr>\n",
       "    <tr>\n",
       "      <th>23</th>\n",
       "      <td>24</td>\n",
       "      <td>P002001007, P002001008</td>\n",
       "    </tr>\n",
       "    <tr>\n",
       "      <th>24</th>\n",
       "      <td>25</td>\n",
       "      <td>P002001007</td>\n",
       "    </tr>\n",
       "    <tr>\n",
       "      <th>25</th>\n",
       "      <td>26</td>\n",
       "      <td>P002001007, P002001008</td>\n",
       "    </tr>\n",
       "    <tr>\n",
       "      <th>26</th>\n",
       "      <td>27</td>\n",
       "      <td>P002001007, P002001008</td>\n",
       "    </tr>\n",
       "    <tr>\n",
       "      <th>27</th>\n",
       "      <td>28</td>\n",
       "      <td>P002001007, P002001008</td>\n",
       "    </tr>\n",
       "    <tr>\n",
       "      <th>28</th>\n",
       "      <td>29</td>\n",
       "      <td>P002001007, P002001008</td>\n",
       "    </tr>\n",
       "    <tr>\n",
       "      <th>29</th>\n",
       "      <td>31</td>\n",
       "      <td>P002001007, P002001008</td>\n",
       "    </tr>\n",
       "    <tr>\n",
       "      <th>30</th>\n",
       "      <td>32</td>\n",
       "      <td>P002001007, P002001008</td>\n",
       "    </tr>\n",
       "    <tr>\n",
       "      <th>31</th>\n",
       "      <td>33</td>\n",
       "      <td>P002001007, P002001008</td>\n",
       "    </tr>\n",
       "    <tr>\n",
       "      <th>32</th>\n",
       "      <td>34</td>\n",
       "      <td>P002001007</td>\n",
       "    </tr>\n",
       "    <tr>\n",
       "      <th>33</th>\n",
       "      <td>37</td>\n",
       "      <td>P002001007, P002001008</td>\n",
       "    </tr>\n",
       "    <tr>\n",
       "      <th>34</th>\n",
       "      <td>42</td>\n",
       "      <td>P002001007, P002001008</td>\n",
       "    </tr>\n",
       "    <tr>\n",
       "      <th>35</th>\n",
       "      <td>43</td>\n",
       "      <td>P002001007, P002001008</td>\n",
       "    </tr>\n",
       "    <tr>\n",
       "      <th>36</th>\n",
       "      <td>44</td>\n",
       "      <td>P002001007, P002001008</td>\n",
       "    </tr>\n",
       "    <tr>\n",
       "      <th>37</th>\n",
       "      <td>45</td>\n",
       "      <td>P002001007, P002001008</td>\n",
       "    </tr>\n",
       "    <tr>\n",
       "      <th>38</th>\n",
       "      <td>46</td>\n",
       "      <td>P002001007, P002001008</td>\n",
       "    </tr>\n",
       "    <tr>\n",
       "      <th>39</th>\n",
       "      <td>47</td>\n",
       "      <td>P002001007, P002001008</td>\n",
       "    </tr>\n",
       "    <tr>\n",
       "      <th>40</th>\n",
       "      <td>48</td>\n",
       "      <td>P002001007, P002001008</td>\n",
       "    </tr>\n",
       "    <tr>\n",
       "      <th>41</th>\n",
       "      <td>49</td>\n",
       "      <td>P002001007</td>\n",
       "    </tr>\n",
       "    <tr>\n",
       "      <th>42</th>\n",
       "      <td>50</td>\n",
       "      <td>P002001007, P002001008</td>\n",
       "    </tr>\n",
       "    <tr>\n",
       "      <th>43</th>\n",
       "      <td>51</td>\n",
       "      <td>P002001007, P002001008</td>\n",
       "    </tr>\n",
       "    <tr>\n",
       "      <th>44</th>\n",
       "      <td>52</td>\n",
       "      <td>P002001007, P002001008</td>\n",
       "    </tr>\n",
       "    <tr>\n",
       "      <th>45</th>\n",
       "      <td>53</td>\n",
       "      <td>P002001007, P002001008</td>\n",
       "    </tr>\n",
       "    <tr>\n",
       "      <th>46</th>\n",
       "      <td>54</td>\n",
       "      <td>P002001007</td>\n",
       "    </tr>\n",
       "    <tr>\n",
       "      <th>47</th>\n",
       "      <td>55</td>\n",
       "      <td>P002001007</td>\n",
       "    </tr>\n",
       "    <tr>\n",
       "      <th>48</th>\n",
       "      <td>56</td>\n",
       "      <td>P002001007, P002001008</td>\n",
       "    </tr>\n",
       "  </tbody>\n",
       "</table>\n",
       "</div>"
      ],
      "text/plain": [
       "    PERSON_MASTER_ID         RULES_TRIGGERED\n",
       "0                  1  P002001007, P002001008\n",
       "1                  2              P002001007\n",
       "2                  3              P002001007\n",
       "3                  4              P002001007\n",
       "4                  5  P002001007, P002001008\n",
       "5                  6  P002001007, P002001008\n",
       "6                  7  P002001007, P002001008\n",
       "7                  8  P002001007, P002001008\n",
       "8                  9  P002001007, P002001008\n",
       "9                 10  P002001007, P002001008\n",
       "10                11  P002001007, P002001008\n",
       "11                12  P002001007, P002001008\n",
       "12                13  P002001007, P002001008\n",
       "13                14  P002001007, P002001008\n",
       "14                15  P002001007, P002001008\n",
       "15                16  P002001007, P002001008\n",
       "16                17  P002001007, P002001008\n",
       "17                18  P002001007, P002001008\n",
       "18                19  P002001007, P002001008\n",
       "19                20  P002001007, P002001008\n",
       "20                21  P002001007, P002001008\n",
       "21                22  P002001007, P002001008\n",
       "22                23  P002001007, P002001008\n",
       "23                24  P002001007, P002001008\n",
       "24                25              P002001007\n",
       "25                26  P002001007, P002001008\n",
       "26                27  P002001007, P002001008\n",
       "27                28  P002001007, P002001008\n",
       "28                29  P002001007, P002001008\n",
       "29                31  P002001007, P002001008\n",
       "30                32  P002001007, P002001008\n",
       "31                33  P002001007, P002001008\n",
       "32                34              P002001007\n",
       "33                37  P002001007, P002001008\n",
       "34                42  P002001007, P002001008\n",
       "35                43  P002001007, P002001008\n",
       "36                44  P002001007, P002001008\n",
       "37                45  P002001007, P002001008\n",
       "38                46  P002001007, P002001008\n",
       "39                47  P002001007, P002001008\n",
       "40                48  P002001007, P002001008\n",
       "41                49              P002001007\n",
       "42                50  P002001007, P002001008\n",
       "43                51  P002001007, P002001008\n",
       "44                52  P002001007, P002001008\n",
       "45                53  P002001007, P002001008\n",
       "46                54              P002001007\n",
       "47                55              P002001007\n",
       "48                56  P002001007, P002001008"
      ]
     },
     "execution_count": 33,
     "metadata": {},
     "output_type": "execute_result"
    }
   ],
   "source": [
    "# inherent_df"
   ]
  },
  {
   "cell_type": "code",
   "execution_count": 34,
   "id": "9a2e9e89",
   "metadata": {},
   "outputs": [],
   "source": [
    "\n",
    "# inherent_risk_main = inherent_df[inherent_df['PERSON_MASTER_ID'].isin(main_entity)]\n",
    "# inherent_risk_main.reset_index(inplace = True)\n",
    "# inherent_risk_main = inherent_risk_main['RULES_TRIGGERED'].to_list()\n",
    "# inherent_risk_main = str(inherent_risk_main)\n",
    "# inherent_risk_main = inherent_risk_main.replace('\\'','')\n",
    "# inherent_risk_main = inherent_risk_main.replace('[','')\n",
    "# inherent_risk_main = inherent_risk_main.replace(']','')\n",
    "# inherent_risk_main = inherent_risk_main.replace(' ','')\n",
    "# inherent_risk_main = inherent_risk_main.split(',')\n",
    "# inherent_risk_main = [*set(inherent_risk_main)]"
   ]
  },
  {
   "cell_type": "code",
   "execution_count": 35,
   "id": "7066faf7",
   "metadata": {},
   "outputs": [
    {
     "data": {
      "text/plain": [
       "['P002001007', 'P002001008']"
      ]
     },
     "execution_count": 35,
     "metadata": {},
     "output_type": "execute_result"
    }
   ],
   "source": [
    "# inherent_risk_main"
   ]
  },
  {
   "cell_type": "code",
   "execution_count": 36,
   "id": "ed35e67c",
   "metadata": {},
   "outputs": [],
   "source": [
    "# inherent_risk_main = rules_df[rules_df['RULE_NO'].isin(inherent_risk_main)]['RULE_DESC'].to_list()"
   ]
  },
  {
   "cell_type": "code",
   "execution_count": 37,
   "id": "6776028f",
   "metadata": {},
   "outputs": [
    {
     "data": {
      "text/plain": [
       "['Number of names/aliases reported across different REs',\n",
       " 'Number of mobile Numbers']"
      ]
     },
     "execution_count": 37,
     "metadata": {},
     "output_type": "execute_result"
    }
   ],
   "source": [
    "# inherent_risk_main"
   ]
  },
  {
   "cell_type": "code",
   "execution_count": 38,
   "id": "c8ad91c4",
   "metadata": {},
   "outputs": [],
   "source": [
    "\n",
    "# inherent_risk_other = inherent_df[inherent_df['PERSON_MASTER_ID'].isin(other_entity)]\n",
    "# inherent_risk_other.reset_index(inplace = True)\n",
    "# inherent_risk_other = inherent_risk_other['RULES_TRIGGERED'].to_list()\n",
    "# inherent_risk_other = str(inherent_risk_other)\n",
    "# inherent_risk_other = inherent_risk_other.replace('\\'','')\n",
    "# inherent_risk_other = inherent_risk_other.replace('[','')\n",
    "# inherent_risk_other = inherent_risk_other.replace(']','')\n",
    "# inherent_risk_other = inherent_risk_other.replace(' ','')\n",
    "# inherent_risk_other = inherent_risk_other.split(',')\n",
    "# inherent_risk_other = [*set(inherent_risk_other)]\n"
   ]
  },
  {
   "cell_type": "code",
   "execution_count": 39,
   "id": "c5ec6fc0",
   "metadata": {},
   "outputs": [],
   "source": [
    "# inherent_risk_other = rules_df[rules_df['RULE_NO'].isin(inherent_risk_other)]['RULE_DESC'].to_list()"
   ]
  },
  {
   "cell_type": "code",
   "execution_count": 40,
   "id": "8802cb62",
   "metadata": {},
   "outputs": [
    {
     "data": {
      "text/plain": [
       "['Number of names/aliases reported across different REs',\n",
       " 'Number of mobile Numbers']"
      ]
     },
     "execution_count": 40,
     "metadata": {},
     "output_type": "execute_result"
    }
   ],
   "source": []
  },
  {
   "cell_type": "code",
   "execution_count": null,
   "id": "bfe0eb98",
   "metadata": {},
   "outputs": [],
   "source": []
  },
  {
   "cell_type": "code",
   "execution_count": 41,
   "id": "2714f1af",
   "metadata": {},
   "outputs": [],
   "source": [
    "# all_other_rule = pd.read_sql_query(\"select * from FINCORE_DB.Fincore_Analytics.RISK_LKP_RULES where person_type = 'Individual' and is_active_flag = 1 and RISK_TYPE  not in ('Auto High Rules ','KYC profile/ Inherent risk based High Risk Indicators - Inherent Risk')\",conn)"
   ]
  },
  {
   "cell_type": "code",
   "execution_count": 42,
   "id": "2af989da",
   "metadata": {},
   "outputs": [
    {
     "data": {
      "text/html": [
       "<div>\n",
       "<style scoped>\n",
       "    .dataframe tbody tr th:only-of-type {\n",
       "        vertical-align: middle;\n",
       "    }\n",
       "\n",
       "    .dataframe tbody tr th {\n",
       "        vertical-align: top;\n",
       "    }\n",
       "\n",
       "    .dataframe thead th {\n",
       "        text-align: right;\n",
       "    }\n",
       "</style>\n",
       "<table border=\"1\" class=\"dataframe\">\n",
       "  <thead>\n",
       "    <tr style=\"text-align: right;\">\n",
       "      <th></th>\n",
       "      <th>RULE_ID</th>\n",
       "      <th>RULE_NO</th>\n",
       "      <th>RULE_DESC</th>\n",
       "      <th>PERSON_TYPE</th>\n",
       "      <th>RISK_TYPE</th>\n",
       "      <th>IS_ACTIVE_FLAG</th>\n",
       "      <th>CREATE_DATE</th>\n",
       "      <th>UPDATE_DATE</th>\n",
       "      <th>SOURCE_DATA_EXISTING_UNDRSTD</th>\n",
       "      <th>DEVELOPMENT_STATUS</th>\n",
       "      <th>CODE_REVIEW_STATUS</th>\n",
       "      <th>DEPENDENCY</th>\n",
       "      <th>WEIGHTAGE</th>\n",
       "      <th>PRIORITY_NO</th>\n",
       "      <th>Query</th>\n",
       "      <th>QUERY_TEMP</th>\n",
       "      <th>RISK_SCORE_STATIC_FLAG</th>\n",
       "    </tr>\n",
       "  </thead>\n",
       "  <tbody>\n",
       "    <tr>\n",
       "      <th>0</th>\n",
       "      <td>3.1.4</td>\n",
       "      <td>P003001004</td>\n",
       "      <td>Type of accounts held</td>\n",
       "      <td>Individual</td>\n",
       "      <td>KYC profile based Risk - Inherent Risk</td>\n",
       "      <td>1</td>\n",
       "      <td>2022-07-19</td>\n",
       "      <td>None</td>\n",
       "      <td>None</td>\n",
       "      <td>complete</td>\n",
       "      <td>None</td>\n",
       "      <td>None</td>\n",
       "      <td>10</td>\n",
       "      <td>2</td>\n",
       "      <td>\\r\\n\\r\\n\\r\\n\\t\\t \\r\\n\\r\\n    MERGE INTO FINCO...</td>\n",
       "      <td>None</td>\n",
       "      <td>1</td>\n",
       "    </tr>\n",
       "    <tr>\n",
       "      <th>1</th>\n",
       "      <td>3.1.7</td>\n",
       "      <td>P003001007</td>\n",
       "      <td>Ageing of Reports Filed (STR, CTR, CBWTR, CCR,...</td>\n",
       "      <td>Individual</td>\n",
       "      <td>KYC profile based Risk</td>\n",
       "      <td>1</td>\n",
       "      <td>2022-02-03</td>\n",
       "      <td>None</td>\n",
       "      <td>None</td>\n",
       "      <td>complete</td>\n",
       "      <td>None</td>\n",
       "      <td>None</td>\n",
       "      <td>10</td>\n",
       "      <td>2</td>\n",
       "      <td>\\r\\n\\r\\n\\r\\n\\t\\t \\r\\n\\t\\t                 MER...</td>\n",
       "      <td>None</td>\n",
       "      <td>1</td>\n",
       "    </tr>\n",
       "    <tr>\n",
       "      <th>2</th>\n",
       "      <td>3.1.8</td>\n",
       "      <td>P003001008</td>\n",
       "      <td>Individual risk given by RE</td>\n",
       "      <td>Individual</td>\n",
       "      <td>KYC profile based Risk</td>\n",
       "      <td>1</td>\n",
       "      <td>2022-02-03</td>\n",
       "      <td>None</td>\n",
       "      <td>None</td>\n",
       "      <td>complete</td>\n",
       "      <td>None</td>\n",
       "      <td>FUNCTIONAL CLARITY|Need Inputs from Functional...</td>\n",
       "      <td>10</td>\n",
       "      <td>2</td>\n",
       "      <td>\\r\\n\\r\\n    MERGE INTO FINCORE_DB.Fincore_Ana...</td>\n",
       "      <td>None</td>\n",
       "      <td>1</td>\n",
       "    </tr>\n",
       "    <tr>\n",
       "      <th>3</th>\n",
       "      <td>3.1.9</td>\n",
       "      <td>P003001009</td>\n",
       "      <td>Client onboarding date</td>\n",
       "      <td>Individual</td>\n",
       "      <td>KYC profile based Risk</td>\n",
       "      <td>1</td>\n",
       "      <td>2022-02-03</td>\n",
       "      <td>None</td>\n",
       "      <td>None</td>\n",
       "      <td>complete</td>\n",
       "      <td>None</td>\n",
       "      <td>None</td>\n",
       "      <td>10</td>\n",
       "      <td>2</td>\n",
       "      <td>\\r\\n\\r\\n\\t      MERGE INTO [FINCORE_DB].[Finc...</td>\n",
       "      <td>None</td>\n",
       "      <td>1</td>\n",
       "    </tr>\n",
       "  </tbody>\n",
       "</table>\n",
       "</div>"
      ],
      "text/plain": [
       "  RULE_ID     RULE_NO                                          RULE_DESC  \\\n",
       "0   3.1.4  P003001004                              Type of accounts held   \n",
       "1   3.1.7  P003001007  Ageing of Reports Filed (STR, CTR, CBWTR, CCR,...   \n",
       "2   3.1.8  P003001008                       Individual risk given by RE    \n",
       "3   3.1.9  P003001009                             Client onboarding date   \n",
       "\n",
       "  PERSON_TYPE                               RISK_TYPE  IS_ACTIVE_FLAG  \\\n",
       "0  Individual  KYC profile based Risk - Inherent Risk               1   \n",
       "1  Individual                  KYC profile based Risk               1   \n",
       "2  Individual                  KYC profile based Risk               1   \n",
       "3  Individual                  KYC profile based Risk               1   \n",
       "\n",
       "  CREATE_DATE UPDATE_DATE SOURCE_DATA_EXISTING_UNDRSTD DEVELOPMENT_STATUS  \\\n",
       "0  2022-07-19        None                         None           complete   \n",
       "1  2022-02-03        None                         None           complete   \n",
       "2  2022-02-03        None                         None           complete   \n",
       "3  2022-02-03        None                         None           complete   \n",
       "\n",
       "  CODE_REVIEW_STATUS                                         DEPENDENCY  \\\n",
       "0               None                                               None   \n",
       "1               None                                               None   \n",
       "2               None  FUNCTIONAL CLARITY|Need Inputs from Functional...   \n",
       "3               None                                               None   \n",
       "\n",
       "   WEIGHTAGE  PRIORITY_NO                                              Query  \\\n",
       "0         10            2   \\r\\n\\r\\n\\r\\n\\t\\t \\r\\n\\r\\n    MERGE INTO FINCO...   \n",
       "1         10            2   \\r\\n\\r\\n\\r\\n\\t\\t \\r\\n\\t\\t                 MER...   \n",
       "2         10            2   \\r\\n\\r\\n    MERGE INTO FINCORE_DB.Fincore_Ana...   \n",
       "3         10            2   \\r\\n\\r\\n\\t      MERGE INTO [FINCORE_DB].[Finc...   \n",
       "\n",
       "  QUERY_TEMP  RISK_SCORE_STATIC_FLAG  \n",
       "0       None                       1  \n",
       "1       None                       1  \n",
       "2       None                       1  \n",
       "3       None                       1  "
      ]
     },
     "execution_count": 42,
     "metadata": {},
     "output_type": "execute_result"
    }
   ],
   "source": []
  },
  {
   "cell_type": "code",
   "execution_count": 43,
   "id": "73efc443",
   "metadata": {},
   "outputs": [
    {
     "name": "stderr",
     "output_type": "stream",
     "text": [
      "49it [00:00, 3781.99it/s]\n"
     ]
    }
   ],
   "source": [
    "\n",
    "# all_other_rule = all_other_rule['RULE_NO'].to_list()\n",
    "# all_others_df = []\n",
    "# for ind,row in tqdm(risk_person.iterrows()):\n",
    "#     l = []\n",
    "#     l = list(row['RISK_RULE_LIST'].split('_'))\n",
    "#     all_other = row['PERSON_MASTER_ID'],rules_triggered(l,all_other_rule)\n",
    "#     all_other = list(all_other)\n",
    "#     all_others_df.append(all_other)"
   ]
  },
  {
   "cell_type": "code",
   "execution_count": 44,
   "id": "fd5a66f0",
   "metadata": {},
   "outputs": [
    {
     "name": "stderr",
     "output_type": "stream",
     "text": [
      "0it [00:00, ?it/s]<ipython-input-44-365aa0eb5374>:7: SettingWithCopyWarning: \n",
      "A value is trying to be set on a copy of a slice from a DataFrame\n",
      "\n",
      "See the caveats in the documentation: https://pandas.pydata.org/pandas-docs/stable/user_guide/indexing.html#returning-a-view-versus-a-copy\n",
      "  all_others_df['RULES_TRIGGERED'][ind] = all_others_df['RULES_TRIGGERED'][ind].replace('[','')\n",
      "<ipython-input-44-365aa0eb5374>:8: SettingWithCopyWarning: \n",
      "A value is trying to be set on a copy of a slice from a DataFrame\n",
      "\n",
      "See the caveats in the documentation: https://pandas.pydata.org/pandas-docs/stable/user_guide/indexing.html#returning-a-view-versus-a-copy\n",
      "  all_others_df['RULES_TRIGGERED'][ind] = all_others_df['RULES_TRIGGERED'][ind].replace(']','')\n",
      "<ipython-input-44-365aa0eb5374>:9: SettingWithCopyWarning: \n",
      "A value is trying to be set on a copy of a slice from a DataFrame\n",
      "\n",
      "See the caveats in the documentation: https://pandas.pydata.org/pandas-docs/stable/user_guide/indexing.html#returning-a-view-versus-a-copy\n",
      "  all_others_df['RULES_TRIGGERED'][ind]= all_others_df['RULES_TRIGGERED'][ind].replace('\\'','')\n",
      "45it [00:00, 791.11it/s]\n"
     ]
    }
   ],
   "source": [
    "\n",
    "# all_others_df = pd.DataFrame(all_others_df,columns = ['PERSON_MASTER_ID','RULES_TRIGGERED'])\n",
    "# all_others_df['RULES_TRIGGERED']=all_others_df['RULES_TRIGGERED'].astype(str)\n",
    "# all_others_df=all_others_df[all_others_df['RULES_TRIGGERED']!='[]']\n",
    "# all_others_df.reset_index(inplace = True)\n",
    "# all_others_df.drop(columns = ['index'],inplace = True)\n",
    "# for ind,row in tqdm(all_others_df.iterrows()):\n",
    "#     all_others_df['RULES_TRIGGERED'][ind] = all_others_df['RULES_TRIGGERED'][ind].replace('[','')\n",
    "#     all_others_df['RULES_TRIGGERED'][ind] = all_others_df['RULES_TRIGGERED'][ind].replace(']','')\n",
    "#     all_others_df['RULES_TRIGGERED'][ind]= all_others_df['RULES_TRIGGERED'][ind].replace('\\'','')"
   ]
  },
  {
   "cell_type": "code",
   "execution_count": 45,
   "id": "1831d10f",
   "metadata": {},
   "outputs": [
    {
     "data": {
      "text/html": [
       "<div>\n",
       "<style scoped>\n",
       "    .dataframe tbody tr th:only-of-type {\n",
       "        vertical-align: middle;\n",
       "    }\n",
       "\n",
       "    .dataframe tbody tr th {\n",
       "        vertical-align: top;\n",
       "    }\n",
       "\n",
       "    .dataframe thead th {\n",
       "        text-align: right;\n",
       "    }\n",
       "</style>\n",
       "<table border=\"1\" class=\"dataframe\">\n",
       "  <thead>\n",
       "    <tr style=\"text-align: right;\">\n",
       "      <th></th>\n",
       "      <th>PERSON_MASTER_ID</th>\n",
       "      <th>RULES_TRIGGERED</th>\n",
       "    </tr>\n",
       "  </thead>\n",
       "  <tbody>\n",
       "    <tr>\n",
       "      <th>0</th>\n",
       "      <td>1</td>\n",
       "      <td>P003001004, P003001008, P003001009</td>\n",
       "    </tr>\n",
       "    <tr>\n",
       "      <th>1</th>\n",
       "      <td>2</td>\n",
       "      <td>P003001004, P003001008</td>\n",
       "    </tr>\n",
       "    <tr>\n",
       "      <th>2</th>\n",
       "      <td>3</td>\n",
       "      <td>P003001004, P003001008</td>\n",
       "    </tr>\n",
       "    <tr>\n",
       "      <th>3</th>\n",
       "      <td>4</td>\n",
       "      <td>P003001004, P003001008</td>\n",
       "    </tr>\n",
       "    <tr>\n",
       "      <th>4</th>\n",
       "      <td>5</td>\n",
       "      <td>P003001004, P003001008</td>\n",
       "    </tr>\n",
       "    <tr>\n",
       "      <th>5</th>\n",
       "      <td>6</td>\n",
       "      <td>P003001008, P003001009</td>\n",
       "    </tr>\n",
       "    <tr>\n",
       "      <th>6</th>\n",
       "      <td>7</td>\n",
       "      <td>P003001004, P003001008, P003001009</td>\n",
       "    </tr>\n",
       "    <tr>\n",
       "      <th>7</th>\n",
       "      <td>8</td>\n",
       "      <td>P003001004, P003001008, P003001009</td>\n",
       "    </tr>\n",
       "    <tr>\n",
       "      <th>8</th>\n",
       "      <td>9</td>\n",
       "      <td>P003001004, P003001008, P003001009</td>\n",
       "    </tr>\n",
       "    <tr>\n",
       "      <th>9</th>\n",
       "      <td>10</td>\n",
       "      <td>P003001008</td>\n",
       "    </tr>\n",
       "    <tr>\n",
       "      <th>10</th>\n",
       "      <td>11</td>\n",
       "      <td>P003001008, P003001009</td>\n",
       "    </tr>\n",
       "    <tr>\n",
       "      <th>11</th>\n",
       "      <td>12</td>\n",
       "      <td>P003001008, P003001009</td>\n",
       "    </tr>\n",
       "    <tr>\n",
       "      <th>12</th>\n",
       "      <td>13</td>\n",
       "      <td>P003001008, P003001009</td>\n",
       "    </tr>\n",
       "    <tr>\n",
       "      <th>13</th>\n",
       "      <td>14</td>\n",
       "      <td>P003001008, P003001009</td>\n",
       "    </tr>\n",
       "    <tr>\n",
       "      <th>14</th>\n",
       "      <td>15</td>\n",
       "      <td>P003001008, P003001009</td>\n",
       "    </tr>\n",
       "    <tr>\n",
       "      <th>15</th>\n",
       "      <td>16</td>\n",
       "      <td>P003001008, P003001009</td>\n",
       "    </tr>\n",
       "    <tr>\n",
       "      <th>16</th>\n",
       "      <td>17</td>\n",
       "      <td>P003001008, P003001009</td>\n",
       "    </tr>\n",
       "    <tr>\n",
       "      <th>17</th>\n",
       "      <td>18</td>\n",
       "      <td>P003001008, P003001009</td>\n",
       "    </tr>\n",
       "    <tr>\n",
       "      <th>18</th>\n",
       "      <td>19</td>\n",
       "      <td>P003001008, P003001009</td>\n",
       "    </tr>\n",
       "    <tr>\n",
       "      <th>19</th>\n",
       "      <td>20</td>\n",
       "      <td>P003001004, P003001008, P003001009</td>\n",
       "    </tr>\n",
       "    <tr>\n",
       "      <th>20</th>\n",
       "      <td>21</td>\n",
       "      <td>P003001004, P003001008, P003001009</td>\n",
       "    </tr>\n",
       "    <tr>\n",
       "      <th>21</th>\n",
       "      <td>22</td>\n",
       "      <td>P003001004, P003001008, P003001009</td>\n",
       "    </tr>\n",
       "    <tr>\n",
       "      <th>22</th>\n",
       "      <td>23</td>\n",
       "      <td>P003001008, P003001009</td>\n",
       "    </tr>\n",
       "    <tr>\n",
       "      <th>23</th>\n",
       "      <td>24</td>\n",
       "      <td>P003001008, P003001009</td>\n",
       "    </tr>\n",
       "    <tr>\n",
       "      <th>24</th>\n",
       "      <td>25</td>\n",
       "      <td>P003001008, P003001009</td>\n",
       "    </tr>\n",
       "    <tr>\n",
       "      <th>25</th>\n",
       "      <td>26</td>\n",
       "      <td>P003001008, P003001009</td>\n",
       "    </tr>\n",
       "    <tr>\n",
       "      <th>26</th>\n",
       "      <td>27</td>\n",
       "      <td>P003001004, P003001008, P003001009</td>\n",
       "    </tr>\n",
       "    <tr>\n",
       "      <th>27</th>\n",
       "      <td>28</td>\n",
       "      <td>P003001008, P003001009</td>\n",
       "    </tr>\n",
       "    <tr>\n",
       "      <th>28</th>\n",
       "      <td>29</td>\n",
       "      <td>P003001008, P003001009</td>\n",
       "    </tr>\n",
       "    <tr>\n",
       "      <th>29</th>\n",
       "      <td>31</td>\n",
       "      <td>P003001008, P003001009</td>\n",
       "    </tr>\n",
       "    <tr>\n",
       "      <th>30</th>\n",
       "      <td>32</td>\n",
       "      <td>P003001008, P003001009</td>\n",
       "    </tr>\n",
       "    <tr>\n",
       "      <th>31</th>\n",
       "      <td>33</td>\n",
       "      <td>P003001004, P003001008, P003001009</td>\n",
       "    </tr>\n",
       "    <tr>\n",
       "      <th>32</th>\n",
       "      <td>34</td>\n",
       "      <td>P003001004, P003001008, P003001009</td>\n",
       "    </tr>\n",
       "    <tr>\n",
       "      <th>33</th>\n",
       "      <td>37</td>\n",
       "      <td>P003001008, P003001009</td>\n",
       "    </tr>\n",
       "    <tr>\n",
       "      <th>34</th>\n",
       "      <td>42</td>\n",
       "      <td>P003001008, P003001009</td>\n",
       "    </tr>\n",
       "    <tr>\n",
       "      <th>35</th>\n",
       "      <td>43</td>\n",
       "      <td>P003001008, P003001009</td>\n",
       "    </tr>\n",
       "    <tr>\n",
       "      <th>36</th>\n",
       "      <td>44</td>\n",
       "      <td>P003001008, P003001009</td>\n",
       "    </tr>\n",
       "    <tr>\n",
       "      <th>37</th>\n",
       "      <td>45</td>\n",
       "      <td>P003001008, P003001009</td>\n",
       "    </tr>\n",
       "    <tr>\n",
       "      <th>38</th>\n",
       "      <td>48</td>\n",
       "      <td>P003001004</td>\n",
       "    </tr>\n",
       "    <tr>\n",
       "      <th>39</th>\n",
       "      <td>50</td>\n",
       "      <td>P003001008, P003001009</td>\n",
       "    </tr>\n",
       "    <tr>\n",
       "      <th>40</th>\n",
       "      <td>51</td>\n",
       "      <td>P003001008, P003001009</td>\n",
       "    </tr>\n",
       "    <tr>\n",
       "      <th>41</th>\n",
       "      <td>52</td>\n",
       "      <td>P003001008, P003001009</td>\n",
       "    </tr>\n",
       "    <tr>\n",
       "      <th>42</th>\n",
       "      <td>53</td>\n",
       "      <td>P003001004, P003001008, P003001009</td>\n",
       "    </tr>\n",
       "    <tr>\n",
       "      <th>43</th>\n",
       "      <td>54</td>\n",
       "      <td>P003001008</td>\n",
       "    </tr>\n",
       "    <tr>\n",
       "      <th>44</th>\n",
       "      <td>56</td>\n",
       "      <td>P003001008, P003001009</td>\n",
       "    </tr>\n",
       "  </tbody>\n",
       "</table>\n",
       "</div>"
      ],
      "text/plain": [
       "    PERSON_MASTER_ID                     RULES_TRIGGERED\n",
       "0                  1  P003001004, P003001008, P003001009\n",
       "1                  2              P003001004, P003001008\n",
       "2                  3              P003001004, P003001008\n",
       "3                  4              P003001004, P003001008\n",
       "4                  5              P003001004, P003001008\n",
       "5                  6              P003001008, P003001009\n",
       "6                  7  P003001004, P003001008, P003001009\n",
       "7                  8  P003001004, P003001008, P003001009\n",
       "8                  9  P003001004, P003001008, P003001009\n",
       "9                 10                          P003001008\n",
       "10                11              P003001008, P003001009\n",
       "11                12              P003001008, P003001009\n",
       "12                13              P003001008, P003001009\n",
       "13                14              P003001008, P003001009\n",
       "14                15              P003001008, P003001009\n",
       "15                16              P003001008, P003001009\n",
       "16                17              P003001008, P003001009\n",
       "17                18              P003001008, P003001009\n",
       "18                19              P003001008, P003001009\n",
       "19                20  P003001004, P003001008, P003001009\n",
       "20                21  P003001004, P003001008, P003001009\n",
       "21                22  P003001004, P003001008, P003001009\n",
       "22                23              P003001008, P003001009\n",
       "23                24              P003001008, P003001009\n",
       "24                25              P003001008, P003001009\n",
       "25                26              P003001008, P003001009\n",
       "26                27  P003001004, P003001008, P003001009\n",
       "27                28              P003001008, P003001009\n",
       "28                29              P003001008, P003001009\n",
       "29                31              P003001008, P003001009\n",
       "30                32              P003001008, P003001009\n",
       "31                33  P003001004, P003001008, P003001009\n",
       "32                34  P003001004, P003001008, P003001009\n",
       "33                37              P003001008, P003001009\n",
       "34                42              P003001008, P003001009\n",
       "35                43              P003001008, P003001009\n",
       "36                44              P003001008, P003001009\n",
       "37                45              P003001008, P003001009\n",
       "38                48                          P003001004\n",
       "39                50              P003001008, P003001009\n",
       "40                51              P003001008, P003001009\n",
       "41                52              P003001008, P003001009\n",
       "42                53  P003001004, P003001008, P003001009\n",
       "43                54                          P003001008\n",
       "44                56              P003001008, P003001009"
      ]
     },
     "execution_count": 45,
     "metadata": {},
     "output_type": "execute_result"
    }
   ],
   "source": [
    "# all_others_df"
   ]
  },
  {
   "cell_type": "code",
   "execution_count": 46,
   "id": "341dcbff",
   "metadata": {},
   "outputs": [],
   "source": [
    "# all_others_df_main = all_others_df[all_others_df['PERSON_MASTER_ID'].isin(main_entity)]\n",
    "# all_others_df_main.reset_index(inplace = True)\n",
    "# all_others_df_main = all_others_df_main['RULES_TRIGGERED'].to_list()\n",
    "# all_others_df_main = str(all_others_df_main)\n",
    "# all_others_df_main = all_others_df_main.replace('\\'','')\n",
    "# all_others_df_main = all_others_df_main.replace('[','')\n",
    "# all_others_df_main = all_others_df_main.replace(']','')\n",
    "# all_others_df_main = all_others_df_main.replace(' ','')\n",
    "# all_others_df_main = all_others_df_main.split(',')\n",
    "# all_others_df_main = [*set(all_others_df_main)]"
   ]
  },
  {
   "cell_type": "code",
   "execution_count": 47,
   "id": "1a8ce4c4",
   "metadata": {},
   "outputs": [],
   "source": [
    "# all_others_df_main = rules_df[rules_df['RULE_NO'].isin(all_others_df_main)]['RULE_DESC'].to_list()"
   ]
  },
  {
   "cell_type": "code",
   "execution_count": 48,
   "id": "634b1a7f",
   "metadata": {},
   "outputs": [
    {
     "data": {
      "text/html": [
       "<div>\n",
       "<style scoped>\n",
       "    .dataframe tbody tr th:only-of-type {\n",
       "        vertical-align: middle;\n",
       "    }\n",
       "\n",
       "    .dataframe tbody tr th {\n",
       "        vertical-align: top;\n",
       "    }\n",
       "\n",
       "    .dataframe thead th {\n",
       "        text-align: right;\n",
       "    }\n",
       "</style>\n",
       "<table border=\"1\" class=\"dataframe\">\n",
       "  <thead>\n",
       "    <tr style=\"text-align: right;\">\n",
       "      <th></th>\n",
       "      <th>RULE_ID</th>\n",
       "      <th>RULE_NO</th>\n",
       "      <th>RULE_DESC</th>\n",
       "      <th>PERSON_TYPE</th>\n",
       "      <th>RISK_TYPE</th>\n",
       "      <th>IS_ACTIVE_FLAG</th>\n",
       "      <th>CREATE_DATE</th>\n",
       "      <th>UPDATE_DATE</th>\n",
       "      <th>SOURCE_DATA_EXISTING_UNDRSTD</th>\n",
       "      <th>DEVELOPMENT_STATUS</th>\n",
       "      <th>CODE_REVIEW_STATUS</th>\n",
       "      <th>DEPENDENCY</th>\n",
       "      <th>WEIGHTAGE</th>\n",
       "      <th>PRIORITY_NO</th>\n",
       "      <th>Query</th>\n",
       "      <th>QUERY_TEMP</th>\n",
       "      <th>RISK_SCORE_STATIC_FLAG</th>\n",
       "    </tr>\n",
       "  </thead>\n",
       "  <tbody>\n",
       "    <tr>\n",
       "      <th>0</th>\n",
       "      <td>1.1</td>\n",
       "      <td>O001001000</td>\n",
       "      <td>Entity/ its parent entity/ holding company/ re...</td>\n",
       "      <td>Organization</td>\n",
       "      <td>Auto High Rules</td>\n",
       "      <td>1</td>\n",
       "      <td>2022-02-03</td>\n",
       "      <td>None</td>\n",
       "      <td>None</td>\n",
       "      <td>On-Hold</td>\n",
       "      <td>None</td>\n",
       "      <td>EXTERNAL DATA|Watchlist Information to be main...</td>\n",
       "      <td>10</td>\n",
       "      <td>1</td>\n",
       "      <td>\\r\\n\\t\\t\\tMERGE INTO FINCORE_DB.Fincore_Analyt...</td>\n",
       "      <td>None</td>\n",
       "      <td>0.0</td>\n",
       "    </tr>\n",
       "    <tr>\n",
       "      <th>1</th>\n",
       "      <td>1.3</td>\n",
       "      <td>O001003000</td>\n",
       "      <td>Entity/ its parent entity/ holding company/ re...</td>\n",
       "      <td>Organization</td>\n",
       "      <td>Auto High Rules</td>\n",
       "      <td>1</td>\n",
       "      <td>2022-02-03</td>\n",
       "      <td>None</td>\n",
       "      <td>None</td>\n",
       "      <td>On-Hold</td>\n",
       "      <td>None</td>\n",
       "      <td>None</td>\n",
       "      <td>10</td>\n",
       "      <td>1</td>\n",
       "      <td>\\r\\n\\t\\t\\t\\r\\n\\r\\n\\t\\t\\t\\t\\t\\t     MERGE INTO ...</td>\n",
       "      <td>None</td>\n",
       "      <td>0.0</td>\n",
       "    </tr>\n",
       "    <tr>\n",
       "      <th>2</th>\n",
       "      <td>1.4</td>\n",
       "      <td>O001004000</td>\n",
       "      <td>Adverse Media Screening reported</td>\n",
       "      <td>Organization</td>\n",
       "      <td>Auto High Rules</td>\n",
       "      <td>1</td>\n",
       "      <td>2022-02-03</td>\n",
       "      <td>None</td>\n",
       "      <td>None</td>\n",
       "      <td>On-Hold</td>\n",
       "      <td>None</td>\n",
       "      <td>None</td>\n",
       "      <td>10</td>\n",
       "      <td>1</td>\n",
       "      <td>\\r\\n\\t\\t\\t\\r\\n\\r\\n\\t\\t                    MERG...</td>\n",
       "      <td>None</td>\n",
       "      <td>0.0</td>\n",
       "    </tr>\n",
       "    <tr>\n",
       "      <th>3</th>\n",
       "      <td>1.5</td>\n",
       "      <td>O001005000</td>\n",
       "      <td>Organization has been struck-off</td>\n",
       "      <td>Organization</td>\n",
       "      <td>Auto High Rules</td>\n",
       "      <td>1</td>\n",
       "      <td>2022-02-03</td>\n",
       "      <td>None</td>\n",
       "      <td>None</td>\n",
       "      <td>On-Hold</td>\n",
       "      <td>None</td>\n",
       "      <td>EXTERNAL_DATA|Data not received from MCA</td>\n",
       "      <td>10</td>\n",
       "      <td>1</td>\n",
       "      <td>\\r\\n\\t\\t\\t\\r\\n\\r\\n\\t\\t\\t\\t\\t\\t\\tMERGE INTO [FI...</td>\n",
       "      <td>None</td>\n",
       "      <td>0.0</td>\n",
       "    </tr>\n",
       "    <tr>\n",
       "      <th>4</th>\n",
       "      <td>1.7</td>\n",
       "      <td>O001007000</td>\n",
       "      <td>Invalid or Wrong PAN/ DIN/ DPIN/ TAN/ IEC numb...</td>\n",
       "      <td>Organization</td>\n",
       "      <td>Auto High Rules</td>\n",
       "      <td>1</td>\n",
       "      <td>2022-02-03</td>\n",
       "      <td>None</td>\n",
       "      <td>None</td>\n",
       "      <td>On-Hold</td>\n",
       "      <td>None</td>\n",
       "      <td>None</td>\n",
       "      <td>10</td>\n",
       "      <td>1</td>\n",
       "      <td>\\r\\n\\r\\n     MERGE INTO FINCORE_DB.Fincore_Ana...</td>\n",
       "      <td>None</td>\n",
       "      <td>0.0</td>\n",
       "    </tr>\n",
       "    <tr>\n",
       "      <th>...</th>\n",
       "      <td>...</td>\n",
       "      <td>...</td>\n",
       "      <td>...</td>\n",
       "      <td>...</td>\n",
       "      <td>...</td>\n",
       "      <td>...</td>\n",
       "      <td>...</td>\n",
       "      <td>...</td>\n",
       "      <td>...</td>\n",
       "      <td>...</td>\n",
       "      <td>...</td>\n",
       "      <td>...</td>\n",
       "      <td>...</td>\n",
       "      <td>...</td>\n",
       "      <td>...</td>\n",
       "      <td>...</td>\n",
       "      <td>...</td>\n",
       "    </tr>\n",
       "    <tr>\n",
       "      <th>58</th>\n",
       "      <td>2.1.28</td>\n",
       "      <td>O002001028</td>\n",
       "      <td>No of Low Risk CTRs filed</td>\n",
       "      <td>Organization</td>\n",
       "      <td>KYC profile/ Inherent risk based High Risk Ind...</td>\n",
       "      <td>1</td>\n",
       "      <td>2022-02-03</td>\n",
       "      <td>None</td>\n",
       "      <td>None</td>\n",
       "      <td>On-Hold</td>\n",
       "      <td>None</td>\n",
       "      <td>None</td>\n",
       "      <td>10</td>\n",
       "      <td>2</td>\n",
       "      <td>\\r\\n   MERGE INTO FINCORE_DB.Fincore_Analytics...</td>\n",
       "      <td>None</td>\n",
       "      <td>0.0</td>\n",
       "    </tr>\n",
       "    <tr>\n",
       "      <th>59</th>\n",
       "      <td>3.2.3</td>\n",
       "      <td>T003003003_W</td>\n",
       "      <td>Cash at Branch_Value Risk (Withdrawal)</td>\n",
       "      <td>TC2_Value_Withdrawal</td>\n",
       "      <td>Transaction Risk</td>\n",
       "      <td>1</td>\n",
       "      <td>2022-02-03</td>\n",
       "      <td>None</td>\n",
       "      <td>None</td>\n",
       "      <td>COMPLETED</td>\n",
       "      <td>None</td>\n",
       "      <td>None</td>\n",
       "      <td>10</td>\n",
       "      <td>4</td>\n",
       "      <td>Select 1 from FINCORE_DB.Fincore_Analytics.RIS...</td>\n",
       "      <td>None</td>\n",
       "      <td>0.0</td>\n",
       "    </tr>\n",
       "    <tr>\n",
       "      <th>60</th>\n",
       "      <td>3.2.4</td>\n",
       "      <td>T003003004_W</td>\n",
       "      <td>Cash at Branch_Volume Risk(Withdrawal)</td>\n",
       "      <td>TC2_Volume_Withdrawal</td>\n",
       "      <td>Transaction Risk</td>\n",
       "      <td>1</td>\n",
       "      <td>2022-02-03</td>\n",
       "      <td>None</td>\n",
       "      <td>None</td>\n",
       "      <td>COMPLETED</td>\n",
       "      <td>None</td>\n",
       "      <td>None</td>\n",
       "      <td>10</td>\n",
       "      <td>4</td>\n",
       "      <td>Select 1 from FINCORE_DB.Fincore_Analytics.RIS...</td>\n",
       "      <td>None</td>\n",
       "      <td>0.0</td>\n",
       "    </tr>\n",
       "    <tr>\n",
       "      <th>61</th>\n",
       "      <td>3.2.7</td>\n",
       "      <td>T003003007_W</td>\n",
       "      <td>Cash at ATM_Value Risk (Withdrawal)</td>\n",
       "      <td>TC1_Value_Withdrawal</td>\n",
       "      <td>Transaction Risk</td>\n",
       "      <td>1</td>\n",
       "      <td>2022-02-03</td>\n",
       "      <td>None</td>\n",
       "      <td>None</td>\n",
       "      <td>COMPLETED</td>\n",
       "      <td>None</td>\n",
       "      <td>None</td>\n",
       "      <td>10</td>\n",
       "      <td>4</td>\n",
       "      <td>Select 1 from FINCORE_DB.Fincore_Analytics.RIS...</td>\n",
       "      <td>None</td>\n",
       "      <td>0.0</td>\n",
       "    </tr>\n",
       "    <tr>\n",
       "      <th>62</th>\n",
       "      <td>3.2.8</td>\n",
       "      <td>T003003008_W</td>\n",
       "      <td>Cash at ATM_Volume Risk(Withdrawal)</td>\n",
       "      <td>TC1_Volume_Withdrawal</td>\n",
       "      <td>Transaction Risk</td>\n",
       "      <td>1</td>\n",
       "      <td>2022-02-03</td>\n",
       "      <td>None</td>\n",
       "      <td>None</td>\n",
       "      <td>COMPLETED</td>\n",
       "      <td>None</td>\n",
       "      <td>None</td>\n",
       "      <td>10</td>\n",
       "      <td>4</td>\n",
       "      <td>Select 1 from FINCORE_DB.Fincore_Analytics.RIS...</td>\n",
       "      <td>None</td>\n",
       "      <td>0.0</td>\n",
       "    </tr>\n",
       "  </tbody>\n",
       "</table>\n",
       "<p>63 rows × 17 columns</p>\n",
       "</div>"
      ],
      "text/plain": [
       "   RULE_ID       RULE_NO                                          RULE_DESC  \\\n",
       "0      1.1    O001001000  Entity/ its parent entity/ holding company/ re...   \n",
       "1      1.3    O001003000  Entity/ its parent entity/ holding company/ re...   \n",
       "2      1.4    O001004000                   Adverse Media Screening reported   \n",
       "3      1.5    O001005000                   Organization has been struck-off   \n",
       "4      1.7    O001007000  Invalid or Wrong PAN/ DIN/ DPIN/ TAN/ IEC numb...   \n",
       "..     ...           ...                                                ...   \n",
       "58  2.1.28    O002001028                          No of Low Risk CTRs filed   \n",
       "59   3.2.3  T003003003_W             Cash at Branch_Value Risk (Withdrawal)   \n",
       "60   3.2.4  T003003004_W             Cash at Branch_Volume Risk(Withdrawal)   \n",
       "61   3.2.7  T003003007_W                Cash at ATM_Value Risk (Withdrawal)   \n",
       "62   3.2.8  T003003008_W                Cash at ATM_Volume Risk(Withdrawal)   \n",
       "\n",
       "              PERSON_TYPE                                          RISK_TYPE  \\\n",
       "0            Organization                                   Auto High Rules    \n",
       "1            Organization                                   Auto High Rules    \n",
       "2            Organization                                   Auto High Rules    \n",
       "3            Organization                                   Auto High Rules    \n",
       "4            Organization                                   Auto High Rules    \n",
       "..                    ...                                                ...   \n",
       "58           Organization  KYC profile/ Inherent risk based High Risk Ind...   \n",
       "59   TC2_Value_Withdrawal                                   Transaction Risk   \n",
       "60  TC2_Volume_Withdrawal                                   Transaction Risk   \n",
       "61   TC1_Value_Withdrawal                                   Transaction Risk   \n",
       "62  TC1_Volume_Withdrawal                                   Transaction Risk   \n",
       "\n",
       "    IS_ACTIVE_FLAG CREATE_DATE UPDATE_DATE SOURCE_DATA_EXISTING_UNDRSTD  \\\n",
       "0                1  2022-02-03        None                         None   \n",
       "1                1  2022-02-03        None                         None   \n",
       "2                1  2022-02-03        None                         None   \n",
       "3                1  2022-02-03        None                         None   \n",
       "4                1  2022-02-03        None                         None   \n",
       "..             ...         ...         ...                          ...   \n",
       "58               1  2022-02-03        None                         None   \n",
       "59               1  2022-02-03        None                         None   \n",
       "60               1  2022-02-03        None                         None   \n",
       "61               1  2022-02-03        None                         None   \n",
       "62               1  2022-02-03        None                         None   \n",
       "\n",
       "   DEVELOPMENT_STATUS CODE_REVIEW_STATUS  \\\n",
       "0             On-Hold               None   \n",
       "1             On-Hold               None   \n",
       "2             On-Hold               None   \n",
       "3             On-Hold               None   \n",
       "4             On-Hold               None   \n",
       "..                ...                ...   \n",
       "58            On-Hold               None   \n",
       "59          COMPLETED               None   \n",
       "60          COMPLETED               None   \n",
       "61          COMPLETED               None   \n",
       "62          COMPLETED               None   \n",
       "\n",
       "                                           DEPENDENCY  WEIGHTAGE  PRIORITY_NO  \\\n",
       "0   EXTERNAL DATA|Watchlist Information to be main...         10            1   \n",
       "1                                                None         10            1   \n",
       "2                                                None         10            1   \n",
       "3            EXTERNAL_DATA|Data not received from MCA         10            1   \n",
       "4                                                None         10            1   \n",
       "..                                                ...        ...          ...   \n",
       "58                                               None         10            2   \n",
       "59                                               None         10            4   \n",
       "60                                               None         10            4   \n",
       "61                                               None         10            4   \n",
       "62                                               None         10            4   \n",
       "\n",
       "                                                Query QUERY_TEMP  \\\n",
       "0   \\r\\n\\t\\t\\tMERGE INTO FINCORE_DB.Fincore_Analyt...       None   \n",
       "1   \\r\\n\\t\\t\\t\\r\\n\\r\\n\\t\\t\\t\\t\\t\\t     MERGE INTO ...       None   \n",
       "2   \\r\\n\\t\\t\\t\\r\\n\\r\\n\\t\\t                    MERG...       None   \n",
       "3   \\r\\n\\t\\t\\t\\r\\n\\r\\n\\t\\t\\t\\t\\t\\t\\tMERGE INTO [FI...       None   \n",
       "4   \\r\\n\\r\\n     MERGE INTO FINCORE_DB.Fincore_Ana...       None   \n",
       "..                                                ...        ...   \n",
       "58  \\r\\n   MERGE INTO FINCORE_DB.Fincore_Analytics...       None   \n",
       "59  Select 1 from FINCORE_DB.Fincore_Analytics.RIS...       None   \n",
       "60  Select 1 from FINCORE_DB.Fincore_Analytics.RIS...       None   \n",
       "61  Select 1 from FINCORE_DB.Fincore_Analytics.RIS...       None   \n",
       "62  Select 1 from FINCORE_DB.Fincore_Analytics.RIS...       None   \n",
       "\n",
       "    RISK_SCORE_STATIC_FLAG  \n",
       "0                      0.0  \n",
       "1                      0.0  \n",
       "2                      0.0  \n",
       "3                      0.0  \n",
       "4                      0.0  \n",
       "..                     ...  \n",
       "58                     0.0  \n",
       "59                     0.0  \n",
       "60                     0.0  \n",
       "61                     0.0  \n",
       "62                     0.0  \n",
       "\n",
       "[63 rows x 17 columns]"
      ]
     },
     "execution_count": 48,
     "metadata": {},
     "output_type": "execute_result"
    }
   ],
   "source": [
    "# rules_df"
   ]
  },
  {
   "cell_type": "code",
   "execution_count": 49,
   "id": "cb8fe9f3",
   "metadata": {},
   "outputs": [],
   "source": [
    "\n",
    "\n",
    "# all_others_df_other = all_others_df[all_others_df['PERSON_MASTER_ID'].isin(other_entity)]\n",
    "# all_others_df_other.reset_index(inplace = True)\n",
    "# all_others_df_other = all_others_df_other['RULES_TRIGGERED'].to_list()\n",
    "# all_others_df_other = str(all_others_df_other)\n",
    "# all_others_df_other = all_others_df_other.replace('\\'','')\n",
    "# all_others_df_other = all_others_df_other.replace('[','')\n",
    "# all_others_df_other = all_others_df_other.replace(']','')\n",
    "# all_others_df_other = all_others_df_other.replace(' ','')\n",
    "# all_others_df_other = all_others_df_other.split(',')\n",
    "# all_others_df_other = [*set(all_others_df_other)]\n"
   ]
  },
  {
   "cell_type": "code",
   "execution_count": 50,
   "id": "6227f2ea",
   "metadata": {},
   "outputs": [],
   "source": [
    "# all_others_df_other = rules_df[rules_df['RULE_NO'].isin(all_others_df_other)]['RULE_DESC'].to_list()"
   ]
  },
  {
   "cell_type": "code",
   "execution_count": 51,
   "id": "c8a0981d",
   "metadata": {},
   "outputs": [
    {
     "data": {
      "text/plain": [
       "['Individual risk given by RE ', 'Client onboarding date']"
      ]
     },
     "execution_count": 51,
     "metadata": {},
     "output_type": "execute_result"
    }
   ],
   "source": [
    "# all_others_df_other"
   ]
  },
  {
   "cell_type": "code",
   "execution_count": 52,
   "id": "b536edc1",
   "metadata": {},
   "outputs": [],
   "source": [
    "\n",
    "# case_entities = pd.read_sql_query(\"select Case_Master_Id,Entity_Master_Id,Is_Main_Entity_Flag from FINCORE_DB.Fincore.Case_Entity where Is_Active_Flag= 1 and Case_Master_Id = '{}'\".format(cmid),conn)\n",
    "\n",
    "# main_entity = case_entities[case_entities['Is_Main_Entity_Flag'] == 1]['Entity_Master_Id'].to_list()\n",
    "# other_entity = case_entities[case_entities['Is_Main_Entity_Flag'] == 0]['Entity_Master_Id'].to_list()"
   ]
  },
  {
   "cell_type": "code",
   "execution_count": 81,
   "id": "2ddd7578",
   "metadata": {},
   "outputs": [],
   "source": [
    "# s = ''"
   ]
  },
  {
   "cell_type": "code",
   "execution_count": 82,
   "id": "7d969449",
   "metadata": {},
   "outputs": [],
   "source": [
    "# s = '<html>'"
   ]
  },
  {
   "cell_type": "code",
   "execution_count": 83,
   "id": "4920aafd",
   "metadata": {},
   "outputs": [
    {
     "data": {
      "text/plain": [
       "['Number of names/aliases reported across different REs',\n",
       " 'Number of mobile Numbers']"
      ]
     },
     "execution_count": 83,
     "metadata": {},
     "output_type": "execute_result"
    }
   ],
   "source": [
    "# inherent_risk_main"
   ]
  },
  {
   "cell_type": "code",
   "execution_count": 84,
   "id": "8f019633",
   "metadata": {},
   "outputs": [
    {
     "name": "stdout",
     "output_type": "stream",
     "text": [
      "<html> The main entities has <b> 0 </b> auto high rules triggered and is reported on the <b>no </b> watchlist.<br><ol> The Main entity has <b>['Number of names/aliases reported across different REs', 'Number of mobile Numbers'] </b>.<br> The Main entity has <b>['Individual risk given by RE ']</b>.\n"
     ]
    }
   ],
   "source": [
    "\n",
    "\n",
    "# if (len(main_entity) > 0):\n",
    "#     if (auto_df_main == []):\n",
    "        \n",
    "#         s = s+\" The main entities has <b> 0 </b> auto high rules triggered and is reported on the <b>no </b> watchlist.\"\n",
    "        \n",
    "        \n",
    "#         if (len(main_entity) == 1):\n",
    "#             if (inherent_risk_main == []):\n",
    "#                 pass\n",
    "#             else:\n",
    "#                 s = s + \"<br><ol> The Main entity has <b>\" + str(inherent_risk_main) +\" </b>.\"\n",
    "#             if (all_others_df_main == []):\n",
    "#                 pass\n",
    "#             else:\n",
    "#                 s = s + \"<br> The Main entity has <b>\" + str(all_others_df_main) +\"</b>.\"\n",
    "                \n",
    "#             print(s)\n",
    "        \n",
    "#         else:\n",
    "#             if(inherent_risk_main == []):\n",
    "#                 pass\n",
    "#             else:\n",
    "#                 s = s + \"<br><ol> The Main entities have\" + str(inherent_risk_main) +\".\"\n",
    "                        \n",
    "#             if (all_others_df_main == []):\n",
    "#                 pass  \n",
    "#             else:\n",
    "#                 s = s + \"<br> The Main entities have <b>\" + str(all_others_df_main) +\"</b>.\"\n",
    "#             print(s)\n",
    "\n",
    "\n",
    "\n",
    "#     else:\n",
    "#         if (len(main_entity) == 1):\n",
    "#             s = s+\"<br></ol> The main entity has <b>\"+ str(auto_df_main) + \" </b>and is reported on the <b>\" + str(main_entity_watchlist)+\"</b>watchlist.\"\n",
    "\n",
    "#         elif(len(main_entity) > 1):\n",
    "#             s = s+\"<br></ol> The main entities have <b>\"+ str(auto_df_main) + \"</b>and are reported on the <b>\" + str(main_entity_watchlist)+\"</b>watchlist.\"\n",
    "\n",
    "\n",
    "# else:\n",
    "#     s = s+\"<br></ol> There is no main entity\""
   ]
  },
  {
   "cell_type": "code",
   "execution_count": 85,
   "id": "86706b0e",
   "metadata": {},
   "outputs": [
    {
     "data": {
      "text/plain": [
       "\"<html> The main entities has <b> 0 </b> auto high rules triggered and is reported on the <b>no </b> watchlist.<br><ol> The Main entity has <b>['Number of names/aliases reported across different REs', 'Number of mobile Numbers'] </b>.<br> The Main entity has <b>['Individual risk given by RE ']</b>.\""
      ]
     },
     "execution_count": 85,
     "metadata": {},
     "output_type": "execute_result"
    }
   ],
   "source": [
    "# s"
   ]
  },
  {
   "cell_type": "code",
   "execution_count": 86,
   "id": "55cce1c4",
   "metadata": {},
   "outputs": [],
   "source": [
    "\n",
    "# if (len(other_entity) > 0):\n",
    "\n",
    "#     if (auto_df_other == []):\n",
    "#         s = s+\"<br></ol> The other case entities has <b>0</b>auto high rules triggered and is reported on the <b>no</b> watchlist.\"\n",
    "        \n",
    "#         if (len(other_entity) == 1):\n",
    "#             if (inherent_risk_other == []):\n",
    "#                 pass\n",
    "#             else:\n",
    "#                 s = s + \"<ol> The Other case entity has <b>\" + str(inherent_risk_other) +\"</b>.\"\n",
    "            \n",
    "#             if (all_others_df_other == []):\n",
    "#                 pass\n",
    "#             else:\n",
    "#                 s = s + \"<br> The Other case entity has <b>\" + str(all_others_df_other) +\"</b>.\"\n",
    "            \n",
    "#         else:\n",
    "#             if(inherent_risk_other == []):\n",
    "#                 pass\n",
    "#             else:\n",
    "#                 s = s + \"<ol> The Other case entities have <b>\" + str(inherent_risk_other) +\"</b>.\"\n",
    "#             if (all_others_df_other == []):\n",
    "#                 pass\n",
    "#             else:\n",
    "#                 s = s + \"<br> The Other case entities have <b> \" + str(all_others_df_other) +\"</b>.\"\n",
    "            \n",
    "\n",
    "#     else:\n",
    "#         if (len(other_entity) == 1):\n",
    "#             s = s+\"<br></ol> The Other case  entity has <b>\"+ str(auto_df_other) + \" </b>and is reported on the <b>\" + str(other_entity_watchlist)+\"</b>watchlist.\"\n",
    "            \n",
    "\n",
    "#         elif(len(other_entity) > 1):\n",
    "#             s = s+\"<br></ol> The Other case  entities have <b>\"+ str(auto_df_other) + \"</b>and are reported on the <b>\" + str(other_entity_watchlist)+\"</b>watchlist.\"\n",
    "            \n",
    "            \n",
    "            \n",
    "# else:\n",
    "#      s = s+\"<br></ol> There is no other case entity\"\n",
    "        \n",
    "        \n",
    "\n",
    "\n"
   ]
  },
  {
   "cell_type": "code",
   "execution_count": 87,
   "id": "4dd3708f",
   "metadata": {},
   "outputs": [],
   "source": [
    "# def intersection(case_entities,flagged_person):\n",
    "#     intersection = [value for value in case_entities if value in flagged_person]\n",
    "#     return intersection"
   ]
  },
  {
   "cell_type": "code",
   "execution_count": null,
   "id": "b6b7e6ff",
   "metadata": {},
   "outputs": [],
   "source": [
    "# case_entities = pd.read_sql_query(\"select Case_Master_Id,Entity_Master_Id,Is_Main_Entity_Flag from FINCORE_DB.Fincore.Case_Entity where Is_Active_Flag= 1 and Case_Master_Id = '{}'\".format(cmid),conn)\\\\\n",
    "# df = pd.read_sql_query(\"select * from Fincore_Analytics.RISK_PERSON_SUMMARY_STG_RULES\",conn)"
   ]
  },
  {
   "cell_type": "code",
   "execution_count": 88,
   "id": "96ea0847",
   "metadata": {},
   "outputs": [],
   "source": [
    "\n",
    "# df = pd.read_sql_query(\"select * from Fincore_Analytics.RISK_PERSON_SUMMARY_STG_RULES\",conn)\n",
    "# flagged_person = df[df['RULE_NO'] == 'P001001000']['PERSON_MASTER_ID'].to_list()\n",
    "# flagged_person = [*set(flagged_person)]\n",
    "# no_of_sanctioned_id = len(intersection(case_entities,flagged_person))\n",
    "# s = s+ \"<br></ol>This case has <b>\"+ str(no_of_sanctioned_id) + \"</b> entities on the FIU or LEA watchlist.\""
   ]
  },
  {
   "cell_type": "code",
   "execution_count": 89,
   "id": "ff90aede",
   "metadata": {},
   "outputs": [],
   "source": [
    "# flagged_person = df[df['RULE_NO'] == 'P001002000']['PERSON_MASTER_ID'].to_list()\n",
    "# flagged_person = [*set(flagged_person)]\n",
    "# lea_adhoc = len(intersection(case_entities,flagged_person))\n",
    "# s = s+ \"<br></ol>LEA Adhoc request has been previously raised on <b> \"+ str(lea_adhoc) + \"</b> entities.\""
   ]
  },
  {
   "cell_type": "code",
   "execution_count": 90,
   "id": "abdcb357",
   "metadata": {},
   "outputs": [],
   "source": [
    "# flagged_person = df[df['RULE_NO'] == 'P001003000']['PERSON_MASTER_ID'].to_list()\n",
    "# flagged_person = [*set(flagged_person)]\n",
    "# international_sanction_list = len(intersection(case_entities,flagged_person))\n"
   ]
  },
  {
   "cell_type": "code",
   "execution_count": 91,
   "id": "2a8e69b9",
   "metadata": {},
   "outputs": [
    {
     "data": {
      "text/plain": [
       "0"
      ]
     },
     "execution_count": 91,
     "metadata": {},
     "output_type": "execute_result"
    }
   ],
   "source": [
    "# international_sanction_list"
   ]
  },
  {
   "cell_type": "code",
   "execution_count": null,
   "id": "bb6e36f2",
   "metadata": {},
   "outputs": [],
   "source": []
  },
  {
   "cell_type": "code",
   "execution_count": null,
   "id": "f0226776",
   "metadata": {},
   "outputs": [],
   "source": []
  },
  {
   "cell_type": "code",
   "execution_count": null,
   "id": "c1431f72",
   "metadata": {},
   "outputs": [],
   "source": []
  },
  {
   "cell_type": "code",
   "execution_count": 92,
   "id": "3e017738",
   "metadata": {},
   "outputs": [],
   "source": [
    "# s= s+'</html>'"
   ]
  },
  {
   "cell_type": "code",
   "execution_count": 93,
   "id": "2a189a60",
   "metadata": {},
   "outputs": [],
   "source": [
    "#  s = s.replace('\\'','')"
   ]
  },
  {
   "cell_type": "code",
   "execution_count": 123,
   "id": "5dbe7eaf",
   "metadata": {},
   "outputs": [
    {
     "data": {
      "text/plain": [
       "'<html> The main entities has <b> 0 </b> auto high rules triggered and is reported on the <b>no </b> watchlist.<br><ol> The Main entity has <b>[Number of names/aliases reported across different REs, Number of mobile Numbers] </b>.<br> The Main entity has <b>[Individual risk given by RE ]</b>.<br></ol> The other case entities has <b>0</b>auto high rules triggered and is reported on the <b>no</b> watchlist.<ol> The Other case entity has <b>[Number of names/aliases reported across different REs, Number of mobile Numbers]</b>.<br> The Other case entity has <b>[Individual risk given by RE , Client onboarding date]</b>.<br></ol>This case has <b>0</b> entities on the FIU or LEA watchlist.<br></ol>LEA Adhoc request has been previously raised on <b> 0</b> entities.</html>'"
      ]
     },
     "execution_count": 123,
     "metadata": {},
     "output_type": "execute_result"
    }
   ],
   "source": [
    "# s"
   ]
  },
  {
   "cell_type": "code",
   "execution_count": 130,
   "id": "dab94762",
   "metadata": {},
   "outputs": [],
   "source": [
    "# update_risk_summary = '''Insert into FINCORE_DB.Fincore_Analytics.risk_summary \n",
    "# VALUES ('{}','{}',GETDATE(),GETDATE())''' .format(cmid,s)\n"
   ]
  },
  {
   "cell_type": "code",
   "execution_count": null,
   "id": "7f97eaf2",
   "metadata": {},
   "outputs": [],
   "source": []
  },
  {
   "cell_type": "code",
   "execution_count": null,
   "id": "cf8ca175",
   "metadata": {},
   "outputs": [],
   "source": []
  },
  {
   "cell_type": "code",
   "execution_count": null,
   "id": "31f81b51",
   "metadata": {},
   "outputs": [],
   "source": []
  },
  {
   "cell_type": "code",
   "execution_count": null,
   "id": "d761ba48",
   "metadata": {},
   "outputs": [],
   "source": []
  },
  {
   "cell_type": "code",
   "execution_count": null,
   "id": "41d9bd4e",
   "metadata": {},
   "outputs": [],
   "source": []
  },
  {
   "cell_type": "code",
   "execution_count": null,
   "id": "1dbae4ec",
   "metadata": {},
   "outputs": [],
   "source": []
  },
  {
   "cell_type": "code",
   "execution_count": null,
   "id": "12263b52",
   "metadata": {},
   "outputs": [],
   "source": []
  },
  {
   "cell_type": "code",
   "execution_count": null,
   "id": "865b963d",
   "metadata": {},
   "outputs": [],
   "source": []
  },
  {
   "cell_type": "code",
   "execution_count": null,
   "id": "00ef84a9",
   "metadata": {},
   "outputs": [],
   "source": []
  },
  {
   "cell_type": "code",
   "execution_count": null,
   "id": "76bb2079",
   "metadata": {},
   "outputs": [],
   "source": []
  },
  {
   "cell_type": "code",
   "execution_count": null,
   "id": "d03b7360",
   "metadata": {},
   "outputs": [],
   "source": []
  },
  {
   "cell_type": "code",
   "execution_count": null,
   "id": "551e1a03",
   "metadata": {},
   "outputs": [],
   "source": []
  },
  {
   "cell_type": "code",
   "execution_count": null,
   "id": "1e3aec58",
   "metadata": {},
   "outputs": [],
   "source": []
  },
  {
   "cell_type": "code",
   "execution_count": null,
   "id": "22f1b276",
   "metadata": {},
   "outputs": [],
   "source": []
  },
  {
   "cell_type": "code",
   "execution_count": null,
   "id": "1533902c",
   "metadata": {},
   "outputs": [],
   "source": []
  },
  {
   "cell_type": "code",
   "execution_count": null,
   "id": "a2998632",
   "metadata": {},
   "outputs": [],
   "source": []
  },
  {
   "cell_type": "code",
   "execution_count": null,
   "id": "9ca40e43",
   "metadata": {},
   "outputs": [],
   "source": []
  },
  {
   "cell_type": "code",
   "execution_count": null,
   "id": "d6513571",
   "metadata": {},
   "outputs": [],
   "source": []
  },
  {
   "cell_type": "code",
   "execution_count": 104,
   "id": "425e7ef4",
   "metadata": {},
   "outputs": [],
   "source": [
    "# import pyodbc\n",
    "# import pandas as pd\n",
    "# from tqdm import tqdm as tqdm\n",
    "\n",
    "\n",
    "# def rules_triggered(a,b):\n",
    "#     result = [i for i in a if i in b]\n",
    "#     return result\n",
    "\n",
    "\n",
    "# def intersection(case_entities,flagged_person):\n",
    "#     intersection = [value for value in case_entities if value in flagged_person]\n",
    "#     return intersection\n",
    "\n",
    "\n",
    "# pyodbc.drivers()\n",
    "# # conn = pyodbc.connect('DRIVER=SQL SERVER;SERVER=172.16.33.27;PORT=1433;DATABASE=FINCORE_DB;UID=Fincore_App_USR;PWD=F!NCore@123;TDS_Version=7.2;')\n",
    "# conn = pyodbc.connect('DRIVER=SQL SERVER;SERVER=172.16.34.15;PORT=1433;DATABASE=FINCORE_DB;UID=FINCORE_ANALYTICS_USR;PWD=F!NCore@123;TDS_Version=7.2;')\n",
    "# # conn = pyodbc.connect('DRIVER=SQL SERVER;SERVER=172.16.27.39;PORT=1433;DATABASE=HDM_FINCORE_DB;UID=FINC_HDM_USR;PWD=#DM@2022;TDS_Version=7.2;')\n",
    "# cursor = conn.cursor()\n",
    "\n",
    "# rules_df = pd.read_sql_query(\"select * from FINCORE_DB.Fincore_Analytics.RISK_LKP_RULES where  is_active_flag = 1 \",conn)\n",
    "\n",
    "# cmid = 'BA00000020'\n",
    "\n",
    "# # cmids = pd.read_sql_query(\"Select Case_Master_Id from FINCORE_DB.Fincore.Case_master where is_active_flag = 1\",conn)\n",
    "# # for cmid in cmids:\n",
    "\n",
    "# case_entities = pd.read_sql_query(\"select Case_Master_Id,Entity_Master_Id,Is_Main_Entity_Flag from FINCORE_DB.Fincore.Case_Entity where Is_Active_Flag= 1 and Case_Master_Id = '{}'\".format(cmid),conn)\n",
    "\n",
    "# all_entities = case_entities['Entity_Master_Id'].to_list()\n",
    "\n",
    "\n",
    "# main_entity = case_entities[case_entities['Is_Main_Entity_Flag'] == 1]['Entity_Master_Id'].to_list()\n",
    "# other_entity = case_entities[case_entities['Is_Main_Entity_Flag'] == 0]['Entity_Master_Id'].to_list()\n",
    "\n",
    "\n",
    "# risk_person = pd.read_sql_query(\"SELECT * FROM FINCORE_ANALYTICS.RISK_PERSON\",conn)\n"
   ]
  },
  {
   "cell_type": "code",
   "execution_count": 105,
   "id": "486f8837",
   "metadata": {},
   "outputs": [
    {
     "data": {
      "text/plain": [
       "[10]"
      ]
     },
     "execution_count": 105,
     "metadata": {},
     "output_type": "execute_result"
    }
   ],
   "source": [
    "# main_entity"
   ]
  },
  {
   "cell_type": "code",
   "execution_count": 116,
   "id": "edc9cd41",
   "metadata": {},
   "outputs": [],
   "source": [
    "# RISK_SCORE = risk_person[risk_person['PERSON_MASTER_ID'].isin(main_entity) ]['RISK_SCORE'].to_list()"
   ]
  },
  {
   "cell_type": "code",
   "execution_count": 117,
   "id": "816bbed7",
   "metadata": {},
   "outputs": [
    {
     "data": {
      "text/plain": [
       "[]"
      ]
     },
     "execution_count": 117,
     "metadata": {},
     "output_type": "execute_result"
    }
   ],
   "source": [
    "# RISK_SCORE"
   ]
  },
  {
   "cell_type": "code",
   "execution_count": 118,
   "id": "b420f64c",
   "metadata": {},
   "outputs": [
    {
     "ename": "IndexError",
     "evalue": "list index out of range",
     "output_type": "error",
     "traceback": [
      "\u001b[1;31m---------------------------------------------------------------------------\u001b[0m",
      "\u001b[1;31mIndexError\u001b[0m                                Traceback (most recent call last)",
      "\u001b[1;32m<ipython-input-118-8d8a7be4f1f6>\u001b[0m in \u001b[0;36m<module>\u001b[1;34m\u001b[0m\n\u001b[1;32m----> 1\u001b[1;33m \u001b[0mrisk_score_main_entity\u001b[0m \u001b[1;33m=\u001b[0m \u001b[0mRISK_SCORE\u001b[0m\u001b[1;33m[\u001b[0m\u001b[1;36m0\u001b[0m\u001b[1;33m]\u001b[0m\u001b[1;33m\u001b[0m\u001b[1;33m\u001b[0m\u001b[0m\n\u001b[0m",
      "\u001b[1;31mIndexError\u001b[0m: list index out of range"
     ]
    }
   ],
   "source": [
    "# risk_score_main_entity = RISK_SCORE[0]"
   ]
  },
  {
   "cell_type": "code",
   "execution_count": 115,
   "id": "8e12bcd8",
   "metadata": {},
   "outputs": [
    {
     "data": {
      "text/plain": [
       "0"
      ]
     },
     "execution_count": 115,
     "metadata": {},
     "output_type": "execute_result"
    }
   ],
   "source": [
    "# risk_score_main_entity"
   ]
  },
  {
   "cell_type": "code",
   "execution_count": null,
   "id": "23eace4a",
   "metadata": {},
   "outputs": [],
   "source": []
  },
  {
   "cell_type": "code",
   "execution_count": null,
   "id": "c658f7ff",
   "metadata": {},
   "outputs": [],
   "source": []
  },
  {
   "cell_type": "code",
   "execution_count": null,
   "id": "7afdc889",
   "metadata": {},
   "outputs": [],
   "source": []
  },
  {
   "cell_type": "code",
   "execution_count": null,
   "id": "a4994841",
   "metadata": {},
   "outputs": [],
   "source": []
  },
  {
   "cell_type": "code",
   "execution_count": null,
   "id": "f54c095c",
   "metadata": {},
   "outputs": [],
   "source": []
  },
  {
   "cell_type": "code",
   "execution_count": null,
   "id": "873979cc",
   "metadata": {},
   "outputs": [],
   "source": []
  },
  {
   "cell_type": "code",
   "execution_count": 149,
   "id": "23879cf9",
   "metadata": {},
   "outputs": [],
   "source": [
    "\n",
    "import pyodbc\n",
    "import pandas as pd\n",
    "from tqdm import tqdm as tqdm"
   ]
  },
  {
   "cell_type": "code",
   "execution_count": 134,
   "id": "072c6c9a",
   "metadata": {},
   "outputs": [],
   "source": [
    "\n",
    "def rules_triggered(a,b):\n",
    "    result = [i for i in a if i in b]\n",
    "    return result\n",
    "\n",
    "\n",
    "def intersection(case_entities,flagged_person):\n",
    "    intersection = [value for value in case_entities if value in flagged_person]\n",
    "    return intersection"
   ]
  },
  {
   "cell_type": "code",
   "execution_count": 148,
   "id": "52ccade6",
   "metadata": {},
   "outputs": [],
   "source": [
    "\n",
    "\n",
    "\n",
    "pyodbc.drivers()\n",
    "# conn = pyodbc.connect('DRIVER=SQL SERVER;SERVER=172.16.33.27;PORT=1433;DATABASE=FINCORE_DB;UID=Fincore_App_USR;PWD=F!NCore@123;TDS_Version=7.2;')\n",
    "conn = pyodbc.connect('DRIVER=SQL SERVER;SERVER=172.16.34.15;PORT=1433;DATABASE=FINCORE_DB;UID=FINCORE_ANALYTICS_USR;PWD=F!NCore@123;TDS_Version=7.2;')\n",
    "# conn = pyodbc.connect('DRIVER=SQL SERVER;SERVER=172.16.27.39;PORT=1433;DATABASE=HDM_FINCORE_DB;UID=FINC_HDM_USR;PWD=#DM@2022;TDS_Version=7.2;')\n",
    "cursor = conn.cursor()"
   ]
  },
  {
   "cell_type": "code",
   "execution_count": 147,
   "id": "969042f6",
   "metadata": {},
   "outputs": [
    {
     "name": "stderr",
     "output_type": "stream",
     "text": [
      "46it [00:00, 9275.42it/s]\n",
      "0it [00:00, ?it/s]<ipython-input-147-2cbf1382b423>:213: SettingWithCopyWarning: \n",
      "A value is trying to be set on a copy of a slice from a DataFrame\n",
      "\n",
      "See the caveats in the documentation: https://pandas.pydata.org/pandas-docs/stable/user_guide/indexing.html#returning-a-view-versus-a-copy\n",
      "  all_others_df['RULES_TRIGGERED'][ind] = all_others_df['RULES_TRIGGERED'][ind].replace('[','')\n",
      "<ipython-input-147-2cbf1382b423>:214: SettingWithCopyWarning: \n",
      "A value is trying to be set on a copy of a slice from a DataFrame\n",
      "\n",
      "See the caveats in the documentation: https://pandas.pydata.org/pandas-docs/stable/user_guide/indexing.html#returning-a-view-versus-a-copy\n",
      "  all_others_df['RULES_TRIGGERED'][ind] = all_others_df['RULES_TRIGGERED'][ind].replace(']','')\n",
      "<ipython-input-147-2cbf1382b423>:215: SettingWithCopyWarning: \n",
      "A value is trying to be set on a copy of a slice from a DataFrame\n",
      "\n",
      "See the caveats in the documentation: https://pandas.pydata.org/pandas-docs/stable/user_guide/indexing.html#returning-a-view-versus-a-copy\n",
      "  all_others_df['RULES_TRIGGERED'][ind]= all_others_df['RULES_TRIGGERED'][ind].replace('\\'','')\n",
      "40it [00:00, 786.44it/s]"
     ]
    },
    {
     "name": "stdout",
     "output_type": "stream",
     "text": [
      "[1] [1]\n",
      "['Client onboarding date']\n",
      "<html><br>The Main entity has <b>[Client onboarding date]</b>.<br> The Other case entity has <b>[Client onboarding date]</b>.</html>\n"
     ]
    },
    {
     "name": "stderr",
     "output_type": "stream",
     "text": [
      "\n"
     ]
    }
   ],
   "source": [
    "\n",
    "\n",
    "rules_df = pd.read_sql_query(\"select * from FINCORE_DB.Fincore_Analytics.RISK_LKP_RULES where  is_active_flag = 1 \",conn)\n",
    "\n",
    "case_master_id = ['BA00000020']\n",
    "\n",
    "\n",
    "# cmids = pd.read_sql_query(\"Select Case_Master_Id from FINCORE_DB.Fincore.Case_master where is_active_flag = 1\",conn)\n",
    "for cmid in case_master_id:\n",
    "#     print(cmid)\n",
    "    s = ''\n",
    "\n",
    "    case_entities = pd.read_sql_query(\"select Case_Master_Id,Entity_Master_Id,Is_Main_Entity_Flag from FINCORE_DB.Fincore.Case_Entity where Is_Active_Flag= 1 and Case_Master_Id = '{}'\".format(cmid),conn)\n",
    "\n",
    "    all_entities = case_entities['Entity_Master_Id'].to_list()\n",
    "\n",
    "\n",
    "    main_entity = case_entities[case_entities['Is_Main_Entity_Flag'] == 1]['Entity_Master_Id'].to_list()\n",
    "    other_entity = case_entities[case_entities['Is_Main_Entity_Flag'] == 0]['Entity_Master_Id'].to_list()\n",
    "    \n",
    "    if (len(other_entity) > 5):\n",
    "        risk_person_top_5 = pd.read_sql_query(\"SELECT top 5 * FROM FINCORE_ANALYTICS.RISK_PERSON where person_master_id in  {} order by risk_score \".format(str(tuple(other_entity))),conn)\n",
    "        other_entity = risk_person_top_5['PERSON_MASTER_ID'].to_list()\n",
    "        \n",
    "\n",
    "\n",
    "\n",
    "    risk_person = pd.read_sql_query(\"SELECT * FROM FINCORE_ANALYTICS.RISK_PERSON\",conn)\n",
    "    \n",
    "    \n",
    "    RISK_SCORE = risk_person[risk_person['PERSON_MASTER_ID'].isin(main_entity) ]['RISK_SCORE'].to_list()\n",
    "    \n",
    "    try:\n",
    "        risk_score_main_entity = RISK_SCORE[0]\n",
    "    except IndexError:\n",
    "        risk_score_main_entity = 0\n",
    "        \n",
    "    \n",
    "        \n",
    "    if risk_score_main_entity < 5:\n",
    "        s = s+'<html> The Entity associated with this case has low Risk </html>'\n",
    "        \n",
    "\n",
    "    \n",
    "    else:\n",
    "    \n",
    "        auto_high_rules = pd.read_sql_query(\"Select * from fincore_analytics.risk_lkp_rules where RISK_TYPE = 'Auto High Rules ' and IS_ACTIVE_FLAG = 1\",conn)\n",
    "        auto_high_rules = auto_high_rules['RULE_NO'].to_list()\n",
    "\n",
    "\n",
    "        auto_df = []\n",
    "        for ind,row in risk_person.iterrows():\n",
    "                l = []\n",
    "                l = list(row['RISK_RULE_LIST'].split('_'))\n",
    "                auto = row['PERSON_MASTER_ID'],rules_triggered(l,auto_high_rules)\n",
    "                auto = list(auto)\n",
    "                auto_df.append(auto)\n",
    "\n",
    "        auto_df = pd.DataFrame(auto_df,columns = ['PERSON_MASTER_ID','RULES_TRIGGERED'])\n",
    "        auto_df['RULES_TRIGGERED']=auto_df['RULES_TRIGGERED'].astype(str)\n",
    "        auto_df=auto_df[auto_df['RULES_TRIGGERED']!='[]']\n",
    "\n",
    "        auto_df.reset_index(inplace = True)\n",
    "        auto_df.drop(columns = ['index'],inplace = True)\n",
    "\n",
    "\n",
    "        for ind,row in auto_df.iterrows():\n",
    "            auto_df['RULES_TRIGGERED'][ind] = auto_df['RULES_TRIGGERED'][ind].replace('[','')\n",
    "            auto_df['RULES_TRIGGERED'][ind] = auto_df['RULES_TRIGGERED'][ind].replace(']','')\n",
    "            auto_df['RULES_TRIGGERED'][ind] = auto_df['RULES_TRIGGERED'][ind].replace('\\'','')\n",
    "\n",
    "\n",
    "\n",
    "        auto_df_main = auto_df[auto_df['PERSON_MASTER_ID'].isin(main_entity)]\n",
    "        auto_df_main.reset_index(inplace = True)\n",
    "        auto_df_main = auto_df_main['RULES_TRIGGERED'].to_list()\n",
    "        auto_df_main = str(auto_df_main)\n",
    "        auto_df_main = auto_df_main.replace('\\'','')\n",
    "        auto_df_main = auto_df_main.replace('[','')\n",
    "        auto_df_main = auto_df_main.replace(']','')\n",
    "        auto_df_main = auto_df_main.replace(' ','')\n",
    "        auto_df_main = auto_df_main.split(',')\n",
    "        auto_df_main = [*set(auto_df_main)]\n",
    "\n",
    "\n",
    "        auto_df_main = rules_df[rules_df['RULE_NO'].isin(auto_df_main)]['RULE_DESC'].to_list()\n",
    "\n",
    "\n",
    "        auto_df_other = auto_df[auto_df['PERSON_MASTER_ID'].isin(other_entity)]\n",
    "        auto_df_other.reset_index(inplace = True)\n",
    "        auto_df_other = auto_df_other['RULES_TRIGGERED'].to_list()\n",
    "        auto_df_other = str(auto_df_other)\n",
    "        auto_df_other = auto_df_other.replace('\\'','')\n",
    "        auto_df_other = auto_df_other.replace('[','')\n",
    "        auto_df_other = auto_df_other.replace(']','')\n",
    "        auto_df_other = auto_df_other.replace(' ','')\n",
    "        auto_df_other = auto_df_other.split(',')\n",
    "        auto_df_other = [*set(auto_df_other)]\n",
    "\n",
    "        auto_df_other = rules_df[rules_df['RULE_NO'].isin(auto_df_other)]['RULE_DESC'].to_list()\n",
    "\n",
    "        watchlist = pd.read_sql_query(\"select PERSON_MASTER_ID,RULE_NO,string_agg(RULE_VALUE,',') within group (order by rule_no)  as rule_value from FINCORE_DB.Fincore_Analytics.RISK_PERSON_SUMMARY_STG_RULES where RULE_NO in ('P001001000', 'P001003000')group by PERSON_MASTER_ID,RULE_NO\",conn)\n",
    "\n",
    "        main_entity_watchlist = watchlist[watchlist['PERSON_MASTER_ID'].isin(main_entity)]\n",
    "        main_entity_watchlist.reset_index(inplace = True)\n",
    "\n",
    "        main_entity_watchlist = main_entity_watchlist['RULE_NO'].to_list()\n",
    "        main_entity_watchlist = str(main_entity_watchlist)\n",
    "        main_entity_watchlist = main_entity_watchlist.replace('\\'','')\n",
    "        main_entity_watchlist = main_entity_watchlist.replace('[','')\n",
    "        main_entity_watchlist = main_entity_watchlist.replace(']','')\n",
    "        main_entity_watchlist = main_entity_watchlist.replace(' ','')\n",
    "        main_entity_watchlist = main_entity_watchlist.split(',')\n",
    "        main_entity_watchlist = [*set(main_entity_watchlist)]\n",
    "\n",
    "        other_entity_watchlist = watchlist[watchlist['PERSON_MASTER_ID'].isin(other_entity)]\n",
    "        other_entity_watchlist.reset_index(inplace = True)\n",
    "        other_entity_watchlist = other_entity_watchlist['RULE_NO'].to_list()\n",
    "        other_entity_watchlist = str(other_entity_watchlist)\n",
    "        other_entity_watchlist = other_entity_watchlist.replace('\\'','')\n",
    "        other_entity_watchlist = other_entity_watchlist.replace('[','')\n",
    "        other_entity_watchlist = other_entity_watchlist.replace(']','')\n",
    "        other_entity_watchlist = other_entity_watchlist.replace(' ','')\n",
    "        other_entity_watchlist = other_entity_watchlist.split(',')\n",
    "        other_entity_watchlist = [*set(other_entity_watchlist)]\n",
    "\n",
    "\n",
    "        inherent_risk = pd.read_sql_query(\"select * from FINCORE_DB.Fincore_Analytics.RISK_LKP_RULES where person_type = 'Individual' and is_active_flag = 1 and RISK_TYPE = 'KYC profile/ Inherent risk based High Risk Indicators - Inherent Risk'\",conn)\n",
    "\n",
    "\n",
    "        inherent_risk = inherent_risk['RULE_NO'].to_list()\n",
    "\n",
    "\n",
    "\n",
    "        inherent_df = []\n",
    "        for ind,row in risk_person.iterrows():\n",
    "                l = []\n",
    "                l = list(row['RISK_RULE_LIST'].split('_'))\n",
    "                inherent = row['PERSON_MASTER_ID'],rules_triggered(l,inherent_risk)\n",
    "                inherent = list(inherent)\n",
    "                inherent_df.append(inherent)\n",
    "\n",
    "\n",
    "\n",
    "        inherent_df = pd.DataFrame(inherent_df,columns = ['PERSON_MASTER_ID','RULES_TRIGGERED'])\n",
    "        inherent_df['RULES_TRIGGERED']=inherent_df['RULES_TRIGGERED'].astype(str)\n",
    "        inherent_df=inherent_df[inherent_df['RULES_TRIGGERED']!='[]']\n",
    "        inherent_df.reset_index(inplace = True)\n",
    "        inherent_df.drop(columns = ['index'],inplace = True)\n",
    "\n",
    "\n",
    "        for ind,row in inherent_df.iterrows():\n",
    "            inherent_df['RULES_TRIGGERED'][ind] = inherent_df['RULES_TRIGGERED'][ind].replace('[','')\n",
    "            inherent_df['RULES_TRIGGERED'][ind] = inherent_df['RULES_TRIGGERED'][ind].replace(']','')\n",
    "            inherent_df['RULES_TRIGGERED'][ind]=inherent_df['RULES_TRIGGERED'][ind].replace('\\'','')\n",
    "\n",
    "\n",
    "\n",
    "        inherent_risk_main = inherent_df[inherent_df['PERSON_MASTER_ID'].isin(main_entity)]\n",
    "        inherent_risk_main.reset_index(inplace = True)\n",
    "        inherent_risk_main = inherent_risk_main['RULES_TRIGGERED'].to_list()\n",
    "        inherent_risk_main = str(inherent_risk_main)\n",
    "        inherent_risk_main = inherent_risk_main.replace('\\'','')\n",
    "        inherent_risk_main = inherent_risk_main.replace('[','')\n",
    "        inherent_risk_main = inherent_risk_main.replace(']','')\n",
    "        inherent_risk_main = inherent_risk_main.replace(' ','')\n",
    "        inherent_risk_main = inherent_risk_main.split(',')\n",
    "        inherent_risk_main = [*set(inherent_risk_main)]\n",
    "\n",
    "\n",
    "        inherent_risk_main = rules_df[rules_df['RULE_NO'].isin(inherent_risk_main)]['RULE_DESC'].to_list()\n",
    "\n",
    "        inherent_risk_other = inherent_df[inherent_df['PERSON_MASTER_ID'].isin(other_entity)]\n",
    "        inherent_risk_other.reset_index(inplace = True)\n",
    "        inherent_risk_other = inherent_risk_other['RULES_TRIGGERED'].to_list()\n",
    "        inherent_risk_other = str(inherent_risk_other)\n",
    "        inherent_risk_other = inherent_risk_other.replace('\\'','')\n",
    "        inherent_risk_other = inherent_risk_other.replace('[','')\n",
    "        inherent_risk_other = inherent_risk_other.replace(']','')\n",
    "        inherent_risk_other = inherent_risk_other.replace(' ','')\n",
    "        inherent_risk_other = inherent_risk_other.split(',')\n",
    "        inherent_risk_other = [*set(inherent_risk_other)]\n",
    "\n",
    "\n",
    "        inherent_risk_other = rules_df[rules_df['RULE_NO'].isin(inherent_risk_other)]['RULE_DESC'].to_list()\n",
    "\n",
    "\n",
    "        all_other_rule = pd.read_sql_query(\"select * from FINCORE_DB.Fincore_Analytics.RISK_LKP_RULES where person_type = 'Individual' and is_active_flag = 1 and RISK_TYPE  not in ('Auto High Rules ','KYC profile/ Inherent risk based High Risk Indicators - Inherent Risk')\",conn)\n",
    "\n",
    "\n",
    "        all_other_rule = all_other_rule['RULE_NO'].to_list()\n",
    "        all_others_df = []\n",
    "        for ind,row in tqdm(risk_person.iterrows()):\n",
    "            l = []\n",
    "            l = list(row['RISK_RULE_LIST'].split('_'))\n",
    "            all_other = row['PERSON_MASTER_ID'],rules_triggered(l,all_other_rule)\n",
    "            all_other = list(all_other)\n",
    "            all_others_df.append(all_other)\n",
    "\n",
    "\n",
    "        all_others_df = pd.DataFrame(all_others_df,columns = ['PERSON_MASTER_ID','RULES_TRIGGERED'])\n",
    "        all_others_df['RULES_TRIGGERED']=all_others_df['RULES_TRIGGERED'].astype(str)\n",
    "        all_others_df=all_others_df[all_others_df['RULES_TRIGGERED']!='[]']\n",
    "        all_others_df.reset_index(inplace = True)\n",
    "        all_others_df.drop(columns = ['index'],inplace = True)\n",
    "        for ind,row in tqdm(all_others_df.iterrows()):\n",
    "            all_others_df['RULES_TRIGGERED'][ind] = all_others_df['RULES_TRIGGERED'][ind].replace('[','')\n",
    "            all_others_df['RULES_TRIGGERED'][ind] = all_others_df['RULES_TRIGGERED'][ind].replace(']','')\n",
    "            all_others_df['RULES_TRIGGERED'][ind]= all_others_df['RULES_TRIGGERED'][ind].replace('\\'','')\n",
    "\n",
    "\n",
    "        all_others_df_main = all_others_df[all_others_df['PERSON_MASTER_ID'].isin(main_entity)]\n",
    "        all_others_df_main.reset_index(inplace = True)\n",
    "        all_others_df_main = all_others_df_main['RULES_TRIGGERED'].to_list()\n",
    "        all_others_df_main = str(all_others_df_main)\n",
    "        all_others_df_main = all_others_df_main.replace('\\'','')\n",
    "        all_others_df_main = all_others_df_main.replace('[','')\n",
    "        all_others_df_main = all_others_df_main.replace(']','')\n",
    "        all_others_df_main = all_others_df_main.replace(' ','')\n",
    "        all_others_df_main = all_others_df_main.split(',')\n",
    "        all_others_df_main = [*set(all_others_df_main)]\n",
    "\n",
    "        all_others_df_main = rules_df[rules_df['RULE_NO'].isin(all_others_df_main)]['RULE_DESC'].to_list()\n",
    "\n",
    "\n",
    "        all_others_df_other = all_others_df[all_others_df['PERSON_MASTER_ID'].isin(other_entity)]\n",
    "        all_others_df_other.reset_index(inplace = True)\n",
    "        all_others_df_other = all_others_df_other['RULES_TRIGGERED'].to_list()\n",
    "        all_others_df_other = str(all_others_df_other)\n",
    "        all_others_df_other = all_others_df_other.replace('\\'','')\n",
    "        all_others_df_other = all_others_df_other.replace('[','')\n",
    "        all_others_df_other = all_others_df_other.replace(']','')\n",
    "        all_others_df_other = all_others_df_other.replace(' ','')\n",
    "        all_others_df_other = all_others_df_other.split(',')\n",
    "        all_others_df_other = [*set(all_others_df_other)]\n",
    "\n",
    "\n",
    "        all_others_df_other = rules_df[rules_df['RULE_NO'].isin(all_others_df_other)]['RULE_DESC'].to_list()\n",
    "\n",
    "\n",
    "\n",
    "\n",
    "#         case_entities = pd.read_sql_query(\"select Case_Master_Id,Entity_Master_Id,Is_Main_Entity_Flag from FINCORE_DB.Fincore.Case_Entity where Is_Active_Flag= 1 and Case_Master_Id = '{}'\".format(cmid),conn)\n",
    "\n",
    "\n",
    "\n",
    "        s = '<html>'\n",
    "\n",
    "        print(all_others_df_main)\n",
    "\n",
    "        if (len(main_entity) > 0):\n",
    "            if (auto_df_main == []):\n",
    "\n",
    "                if (len(main_entity) == 1):\n",
    "                    if (inherent_risk_main == []):\n",
    "                        pass\n",
    "                    else:\n",
    "                        s = s + \"<br><ol> The Main entity has <b>\" + str(inherent_risk_main) +\" </b>.\"\n",
    "                    if (all_others_df_main == []):\n",
    "                        pass\n",
    "                    else:\n",
    "                        s = s + \"<br>The Main entity has <b>\" + str(all_others_df_main) +\"</b>.\"\n",
    "\n",
    "                else:\n",
    "                    if(inherent_risk_main == []):\n",
    "                        pass\n",
    "                    else:\n",
    "                        s = s + \"<br><ol> The Main entities have\" + str(inherent_risk_main) +\".\"\n",
    "\n",
    "                    if (all_others_df_main == []):\n",
    "                        pass  \n",
    "                    else:\n",
    "                        s = s + \"<br> The Main entities have <b>\" + str(all_others_df_main) +\"</b>.\"\n",
    "                    print(s)\n",
    "\n",
    "\n",
    "\n",
    "            else:\n",
    "                if (len(main_entity) == 1):\n",
    "                    s = s+\"<br></ol> The main entity has <b>\"+ str(auto_df_main) + \" </b>and is reported on the <b>\" + str(main_entity_watchlist)+\"</b>watchlist.\"\n",
    "\n",
    "                elif(len(main_entity) > 1):\n",
    "                    s = s+\"<br></ol> The main entities have <b>\"+ str(auto_df_main) + \"</b>and are reported on the <b>\" + str(main_entity_watchlist)+\"</b>watchlist.\"\n",
    "\n",
    "\n",
    "        else:\n",
    "            s = s+\"<br></ol> There is no main entity\"\n",
    "\n",
    "\n",
    "\n",
    "        if (len(other_entity) > 0):\n",
    "\n",
    "            if (auto_df_other == []):\n",
    "\n",
    "                if (len(other_entity) == 1):\n",
    "                    if (inherent_risk_other == []):\n",
    "                        pass\n",
    "                    else:\n",
    "                        s = s + \"<ol> The Other case entity has <b>\" + str(inherent_risk_other) +\"</b>.\"\n",
    "\n",
    "                    if (all_others_df_other == []):\n",
    "                        pass\n",
    "                    else:\n",
    "                        s = s + \"<br> The Other case entity has <b>\" + str(all_others_df_other) +\"</b>.\"\n",
    "\n",
    "                else:\n",
    "                    if(inherent_risk_other == []):\n",
    "                        pass\n",
    "                    else:\n",
    "                        s = s + \"<ol> The Other case entities have <b>\" + str(inherent_risk_other) +\"</b>.\"\n",
    "                    if (all_others_df_other == []):\n",
    "                        pass\n",
    "                    else:\n",
    "                        s = s + \"<br> The Other case entities have <b> \" + str(all_others_df_other) +\"</b>.\"\n",
    "\n",
    "\n",
    "            else:\n",
    "                if (len(other_entity) == 1):\n",
    "                    s = s+\"<br></ol> The Other case  entity has <b>\"+ str(auto_df_other) + \" </b>and is reported on the <b>\" + str(other_entity_watchlist)+\"</b>watchlist.\"\n",
    "\n",
    "\n",
    "                elif(len(other_entity) > 1):\n",
    "                    s = s+\"<br></ol> The Other case  entities have <b>\"+ str(auto_df_other) + \"</b>and are reported on the <b>\" + str(other_entity_watchlist)+\"</b>watchlist.\"\n",
    "\n",
    "\n",
    "\n",
    "        else:\n",
    "             s = s+\"<br></ol> There is no other case entity\"\n",
    "\n",
    "\n",
    "\n",
    "        case_entities = pd.read_sql_query(\"select Case_Master_Id,Entity_Master_Id,Is_Main_Entity_Flag from FINCORE_DB.Fincore.Case_Entity where Is_Active_Flag= 1 and Case_Master_Id = '{}'\".format(cmid),conn)\n",
    "        df = pd.read_sql_query(\"select * from Fincore_Analytics.RISK_PERSON_SUMMARY_STG_RULES\",conn)\n",
    "\n",
    "\n",
    "        flagged_person = df[df['RULE_NO'] == 'P001001000']['PERSON_MASTER_ID'].to_list()\n",
    "        flagged_person = [*set(flagged_person)]\n",
    "        no_of_sanctioned_id = len(intersection(case_entities,flagged_person))\n",
    "        if (no_of_sanctioned_id == 0):\n",
    "            pass\n",
    "        else:\n",
    "            s = s+ \"<br></ol>This case has <b>\"+ str(no_of_sanctioned_id) + \"</b> entities on the FIU or LEA watchlist.\"\n",
    "\n",
    "        flagged_person = df[df['RULE_NO'] == 'P001002000']['PERSON_MASTER_ID'].to_list()\n",
    "        flagged_person = [*set(flagged_person)]\n",
    "        lea_adhoc = len(intersection(case_entities,flagged_person))\n",
    "        \n",
    "        if (lea_adhoc == 0):\n",
    "            pass\n",
    "        else:\n",
    "            s = s+ \"<br></ol>LEA Adhoc request has been previously raised on <b> \"+ str(lea_adhoc) + \"</b> entities.\"\n",
    "\n",
    "        flagged_person = df[df['RULE_NO'] == 'P001003000']['PERSON_MASTER_ID'].to_list()\n",
    "        flagged_person = [*set(flagged_person)]\n",
    "        international_sanction_list = len(intersection(case_entities,flagged_person))\n",
    "        \n",
    "        if (international_sanction_list == 0):\n",
    "            pass\n",
    "        else:\n",
    "            s = s +'<b></ol>'+ str(international_sanction_list) +'</b>entities are flagged in the international sanctions lists.'\n",
    "        \n",
    "        flagged_person = df[df['RULE_NO'] == 'P001004000']['PERSON_MASTER_ID'].to_list()\n",
    "        flagged_person = [*set(flagged_person)]\n",
    "        adverse_media_screening = len(intersection(case_entities,flagged_person))\n",
    "        \n",
    "        if (adverse_media_screening == 0):\n",
    "            pass\n",
    "        else:\n",
    "            s = s +'</ol>Adverse Media Screening reveals auto high-risk tags on <b>'+ str(adverse_media_screening) +'</b>entities.'\n",
    "        \n",
    "        \n",
    "        \n",
    "        \n",
    "        flagged_person = df[df['RULE_NO'] == 'P001006000']['PERSON_MASTER_ID'].to_list()\n",
    "        flagged_person = [*set(flagged_person)]\n",
    "        multiple_pan_din = len(intersection(case_entities,flagged_person))\n",
    "        \n",
    "        if (multiple_pan_din == 0):\n",
    "            pass\n",
    "        else:\n",
    "            s = s +'</ol>Multiple, invalid or wrong PAN/DIN/ DPIN/TAN/IEC number(s) has been reported on <b>'+ str(multiple_pan_din) +'</b>entities.'\n",
    "        \n",
    "        \n",
    "        \n",
    "        \n",
    "        \n",
    "        \n",
    "        \n",
    "        \n",
    "        s= s+'</html>'\n",
    "\n",
    "        s = s.replace('\\'','')\n",
    "\n",
    "\n",
    "#         update_risk_summary = '''Insert into FINCORE_DB.Fincore_Analytics.risk_summary \n",
    "#         VALUES ('{}','{}',GETDATE(),GETDATE())''' .format(cmid,s)\n",
    "    print(s)\n",
    "        \n",
    "\n"
   ]
  },
  {
   "cell_type": "code",
   "execution_count": null,
   "id": "947c44d3",
   "metadata": {},
   "outputs": [],
   "source": []
  }
 ],
 "metadata": {
  "kernelspec": {
   "display_name": "Python 3",
   "language": "python",
   "name": "python3"
  },
  "language_info": {
   "codemirror_mode": {
    "name": "ipython",
    "version": 3
   },
   "file_extension": ".py",
   "mimetype": "text/x-python",
   "name": "python",
   "nbconvert_exporter": "python",
   "pygments_lexer": "ipython3",
   "version": "3.8.8"
  }
 },
 "nbformat": 4,
 "nbformat_minor": 5
}
